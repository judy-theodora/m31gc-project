{
 "cells": [
  {
   "cell_type": "code",
   "execution_count": 1,
   "id": "534f3087",
   "metadata": {},
   "outputs": [],
   "source": [
    "import matplotlib.pyplot as plt\n",
    "import pandas as pd\n",
    "import numpy as np\n",
    "import pickle\n",
    "import astropy.coordinates as coord\n",
    "import astropy.units as u\n",
    "from astropy.io import ascii"
   ]
  },
  {
   "cell_type": "code",
   "execution_count": 71,
   "id": "f02583b5",
   "metadata": {},
   "outputs": [],
   "source": [
    "# select most recent training data\n",
    "train_file = 'training_data_0802.pk' # training data with 3 classes\n",
    "train_file = 'training_data_1702.pk' # training data with only gcs and galaxies\n",
    "#train_file = 'training_data_1902_with_stars.pk' # training data with gcs galaxies and stars, classed as 'gc' and 'non-gc'\n",
    "\n",
    "# load training data and filter out stars\n",
    "with open(f'./pickle/training_data/{train_file}','rb') as f:\n",
    "    training_data = pickle.load(f)"
   ]
  },
  {
   "cell_type": "code",
   "execution_count": 24,
   "id": "224d920b",
   "metadata": {},
   "outputs": [],
   "source": [
    "bounds = pickle.load(open('./pickle/bounds.pk','rb'))\n",
    "master_cat = pd.read_csv('./catdata/master_catalog_jan_2023.csv') #2184 objects long\n",
    "cat_files = ['cat1_50.pk','cat51_100.pk','cat101_150.pk','cat151_200.pk','cat201_235.pk',\n",
    "             'cat236_257.pk','cat258_279.pk','cat280_320.pk','cat321_360.pk','cat361_406.pk']\n",
    "def load_cat(field): # change to match-case\n",
    "    bounds = [50,100,150,200,235,257,279,320,360,406]\n",
    "    for b in range(len(bounds)):\n",
    "        if field <= bounds[b]:\n",
    "            to_load = cat_files[b]\n",
    "            break\n",
    "    with open(f'./pickle/{to_load}','rb') as f:\n",
    "        catalogue = pickle.load(f)\n",
    "    return catalogue[field] # 26/02 changed to return only the selected field"
   ]
  },
  {
   "cell_type": "markdown",
   "id": "27a3ba58",
   "metadata": {},
   "source": [
    "## 26/02/23 Defining useful functions\n",
    "Functions for finding mid points of fields etc. to help with catalog matching"
   ]
  },
  {
   "cell_type": "code",
   "execution_count": 70,
   "id": "19301477",
   "metadata": {},
   "outputs": [],
   "source": [
    "# find the mid point of a given field (returns a 2-tuple of coordinates)\n",
    "# note: bounds file has already taken into account the 0 RA issue and holds negative values, rather than e.g. RA=358\n",
    "def find_middle(field: int) -> tuple:\n",
    "    field_bounds = bounds[field]\n",
    "    ra_width = abs( field_bounds[0]-field_bounds[1] )/2\n",
    "    dec_width = abs( field_bounds[2]-field_bounds[3] )/2\n",
    "    ra_mid = field_bounds[1]+ra_width\n",
    "    dec_mid = field_bounds[2]+dec_width\n",
    "    return (ra_mid,dec_mid)"
   ]
  },
  {
   "cell_type": "code",
   "execution_count": 45,
   "id": "cee00d74",
   "metadata": {},
   "outputs": [],
   "source": [
    "# returns true if a given point is found to be within a specified field\n",
    "# takes a 2-tuple: (ra,dec) in degrees\n",
    "def is_in_field(field: int, point: tuple) -> bool:\n",
    "    ra1,ra2,dec1,dec2 = bounds[field]\n",
    "    ra,dec=point\n",
    "    return ra2<ra<ra1 and dec1<dec<dec2"
   ]
  },
  {
   "cell_type": "markdown",
   "id": "b90290c1",
   "metadata": {},
   "source": [
    "### Get list of required fields to get 2MASS data in"
   ]
  },
  {
   "cell_type": "code",
   "execution_count": 112,
   "id": "7008a828",
   "metadata": {},
   "outputs": [],
   "source": [
    "req_fields = set(training_data['field'])"
   ]
  },
  {
   "cell_type": "code",
   "execution_count": 115,
   "id": "29502a81",
   "metadata": {},
   "outputs": [],
   "source": [
    "middles=[]\n",
    "for f in req_fields:\n",
    "    middles.append((f,find_middle(f)))"
   ]
  },
  {
   "cell_type": "code",
   "execution_count": 119,
   "id": "63ab57b9",
   "metadata": {},
   "outputs": [
    {
     "data": {
      "text/plain": [
       "[(5, (23.464899999999997, 28.6629625)),\n",
       " (11, (11.761116666666664, 29.352430555555557)),\n",
       " (13, (24.56057291666666, 29.64395)),\n",
       " (14, (23.461756249999997, 29.662684722222224)),\n",
       " (20, (13.460004166666668, 30.31201527777778)),\n",
       " (22, (11.260622916666664, 30.35194166666667)),\n",
       " (24, (24.561662499999997, 30.643506944444447)),\n",
       " (25, (25.658972916666663, 30.67221111111111)),\n",
       " (33, (16.56076458333333, 31.229052777777774)),\n",
       " (35, (14.561231249999999, 31.292294444444444)),\n",
       " (37, (11.211985416666666, 31.34112916666667)),\n",
       " (43, (23.90592291666666, 31.363145833333334)),\n",
       " (52, (16.811329166666667, 32.200918055555555)),\n",
       " (58, (24.008899999999997, 32.29212916666667)),\n",
       " (62, (11.017320833333333, 32.343831944444446)),\n",
       " (70, (18.89793125, 33.096337500000004)),\n",
       " (80, (13.178737499999997, 33.29931666666667)),\n",
       " (82, (12.0115625, 33.31777777777778)),\n",
       " (84, (10.837060416666667, 33.324225000000006)),\n",
       " (85, (19.83953958333333, 33.50277222222222)),\n",
       " (91, (17.753181249999997, 34.104534722222226)),\n",
       " (92, (3.542420833333333, 34.15677916666667)),\n",
       " (94, (16.579291666666663, 34.16679027777778)),\n",
       " (95, (2.3461145833333337, 34.18143333333333)),\n",
       " (97, (15.402624999999997, 34.216572222222226)),\n",
       " (102, (13.034164583333332, 34.283698611111106)),\n",
       " (111, (19.99919791666666, 35.05180138888889)),\n",
       " (124, (12.885858333333331, 35.27564027777778)),\n",
       " (125, (9.271533333333334, 35.287686111111114)),\n",
       " (126, (11.68032083333333, 35.291736111111106)),\n",
       " (138, (16.38123958333333, 36.15170833333333)),\n",
       " (139, (5.402324999999999, 36.182249999999996)),\n",
       " (142, (6.631672916666666, 36.21744166666667)),\n",
       " (146, (9.069099999999999, 36.27486805555556)),\n",
       " (148, (10.291868749999999, 36.28626388888888)),\n",
       " (153, (19.996449999999996, 36.86435555555556)),\n",
       " (162, (15.04692708333333, 37.199730555555554)),\n",
       " (165, (7.635658333333332, 37.25462638888889)),\n",
       " (167, (8.859024999999999, 37.2671875)),\n",
       " (169, (10.097910416666666, 37.27910138888889)),\n",
       " (173, (22.07121458333333, 37.765705555555556)),\n",
       " (180, (3.593404166666666, 38.0975375)),\n",
       " (183, (7.284239583333333, 38.19593333333333)),\n",
       " (184, (9.729414583333332, 38.203277777777785)),\n",
       " (185, (8.511241666666665, 38.203270833333335)),\n",
       " (186, (10.957899999999999, 38.207523611111114)),\n",
       " (187, (14.586797916666665, 38.20899583333333)),\n",
       " (188, (12.13344375, 38.2105375)),\n",
       " (189, (6.101902083333332, 38.211286111111114)),\n",
       " (196, (19.635199999999998, 38.88231666666667)),\n",
       " (204, (14.823741666666667, 39.17829444444444)),\n",
       " (205, (7.12280625, 39.19275)),\n",
       " (207, (8.393675, 39.200162500000005)),\n",
       " (208, (12.267085416666664, 39.20362222222222)),\n",
       " (209, (10.9691625, 39.203788888888894)),\n",
       " (210, (9.676318749999998, 39.20565833333333)),\n",
       " (211, (13.541635416666665, 39.22078333333333)),\n",
       " (212, (8.821852083333331, 39.37247222222222)),\n",
       " (214, (11.348922916666666, 39.622795833333335)),\n",
       " (223, (17.30498958333333, 40.04962361111111)),\n",
       " (224, (2.9899375, 40.06035138888889)),\n",
       " (225, (16.012760416666666, 40.108787500000005)),\n",
       " (227, (14.688075, 40.179602777777774)),\n",
       " (228, (10.791262499999998, 40.18552777777778)),\n",
       " (229, (6.86823125, 40.18604444444444)),\n",
       " (231, (8.163679166666666, 40.19309027777778)),\n",
       " (232, (12.107504166666665, 40.19289305555555)),\n",
       " (233, (9.478475, 40.19886666666666)),\n",
       " (235, (12.0158875, 40.57257222222223)),\n",
       " (238, (357.18181875000005, 40.634484722222226)),\n",
       " (240, (22.29134375, 40.72391944444445)),\n",
       " (243, (0.9934437500000001, 40.87153472222222)),\n",
       " (248, (11.06150625, 41.08177777777779)),\n",
       " (249, (9.866772916666665, 41.08129444444445)),\n",
       " (253, (7.4563749999999995, 41.17584166666666)),\n",
       " (254, (8.753779166666668, 41.17663055555555)),\n",
       " (255, (6.125170833333334, 41.18398194444444)),\n",
       " (256, (13.228852083333333, 41.228461111111116)),\n",
       " (257, (12.159291666666666, 41.565574999999995)),\n",
       " (261, (21.00220625, 41.705193055555554)),\n",
       " (263, (180.00001458333335, 41.74741111111111)),\n",
       " (265, (9.845424999999999, 41.84594583333333)),\n",
       " (266, (11.074939583333334, 41.85508472222222)),\n",
       " (268, (2.150125, 41.96208055555556)),\n",
       " (269, (18.48495625, 41.97810833333334)),\n",
       " (274, (14.825447916666665, 42.16334166666667)),\n",
       " (275, (13.489139583333333, 42.16435277777778)),\n",
       " (276, (8.7084375, 42.171683333333334)),\n",
       " (277, (7.374808333333333, 42.17505833333333)),\n",
       " (278, (6.0384416666666665, 42.17953333333333)),\n",
       " (279, (12.16948125, 42.56006944444444)),\n",
       " (280, (23.64171875, 42.567176388888896)),\n",
       " (282, (21.07585833333333, 42.69976944444444)),\n",
       " (285, (10.881079166666664, 42.76019166666667)),\n",
       " (286, (9.536356249999999, 42.763111111111115)),\n",
       " (293, (4.191833333333333, 43.11412916666667)),\n",
       " (294, (16.1964875, 43.12460277777778)),\n",
       " (296, (13.51275833333333, 43.15924722222222)),\n",
       " (297, (8.192191666666666, 43.16660555555555)),\n",
       " (301, (12.178381249999997, 43.55604583333333)),\n",
       " (303, (22.562381249999994, 43.68714166666666)),\n",
       " (304, (21.208493749999995, 43.689880555555554)),\n",
       " (306, (10.888695833333331, 43.755473611111114)),\n",
       " (307, (9.53588125, 43.75934305555556)),\n",
       " (316, (14.88608958333333, 44.145809722222225)),\n",
       " (317, (13.533156249999998, 44.15410416666667)),\n",
       " (319, (6.823443750000001, 44.164431944444445)),\n",
       " (321, (23.932449999999996, 44.5355625)),\n",
       " (327, (10.892214583333333, 44.75157083333333)),\n",
       " (328, (9.529627083333331, 44.75442222222222)),\n",
       " (333, (2.777056250000001, 45.02348611111111)),\n",
       " (334, (17.611185416666665, 45.08225277777778)),\n",
       " (335, (4.101714583333333, 45.097790277777776)),\n",
       " (338, (13.550245833333332, 45.142922222222225)),\n",
       " (340, (8.167168749999998, 45.15702638888889)),\n",
       " (341, (5.4341583333333325, 45.15938333333333)),\n",
       " (342, (22.939683333333335, 45.537955555555556)),\n",
       " (351, (18.989585416666664, 45.9827375)),\n",
       " (362, (21.714722916666663, 46.65091527777778)),\n",
       " (368, (1.333485416666667, 46.911204166666664)),\n",
       " (375, (13.594060416666665, 47.131523611111106)),\n",
       " (390, (5.179245833333331, 48.085679166666665)),\n",
       " (392, (15.004610416666665, 48.13070555555555)),\n",
       " (395, (8.123316666666666, 48.145398611111105)),\n",
       " (398, (9.52049375, 48.74355416666667)),\n",
       " (402, (8.122583333333333, 49.145583333333335))]"
      ]
     },
     "execution_count": 119,
     "metadata": {},
     "output_type": "execute_result"
    }
   ],
   "source": [
    "middles"
   ]
  },
  {
   "cell_type": "code",
   "execution_count": 121,
   "id": "1b46083a",
   "metadata": {},
   "outputs": [],
   "source": [
    "with open('./pickle/middles.txt','w') as f:\n",
    "    for i in middles:\n",
    "        f.writelines(str(i)+'\\n')"
   ]
  },
  {
   "cell_type": "markdown",
   "id": "ad507c0d",
   "metadata": {},
   "source": [
    "## #####"
   ]
  },
  {
   "cell_type": "code",
   "execution_count": 35,
   "id": "a54c714e",
   "metadata": {},
   "outputs": [
    {
     "data": {
      "text/html": [
       "<div>\n",
       "<style scoped>\n",
       "    .dataframe tbody tr th:only-of-type {\n",
       "        vertical-align: middle;\n",
       "    }\n",
       "\n",
       "    .dataframe tbody tr th {\n",
       "        vertical-align: top;\n",
       "    }\n",
       "\n",
       "    .dataframe thead th {\n",
       "        text-align: right;\n",
       "    }\n",
       "</style>\n",
       "<table border=\"1\" class=\"dataframe\">\n",
       "  <thead>\n",
       "    <tr style=\"text-align: right;\">\n",
       "      <th></th>\n",
       "      <th>ID</th>\n",
       "      <th>RADEG</th>\n",
       "      <th>DECDEG</th>\n",
       "      <th>CLASS</th>\n",
       "      <th>DATATABLE</th>\n",
       "    </tr>\n",
       "  </thead>\n",
       "  <tbody>\n",
       "    <tr>\n",
       "      <th>1</th>\n",
       "      <td>2M034</td>\n",
       "      <td>0.508375</td>\n",
       "      <td>51.606722</td>\n",
       "      <td>4.0</td>\n",
       "      <td>m31rbcV5</td>\n",
       "    </tr>\n",
       "    <tr>\n",
       "      <th>2</th>\n",
       "      <td>PAndAS-03</td>\n",
       "      <td>0.985042</td>\n",
       "      <td>40.888667</td>\n",
       "      <td>1.0</td>\n",
       "      <td>huxor14_table1</td>\n",
       "    </tr>\n",
       "    <tr>\n",
       "      <th>3</th>\n",
       "      <td>PAndAS-04</td>\n",
       "      <td>1.178875</td>\n",
       "      <td>47.361797</td>\n",
       "      <td>1.0</td>\n",
       "      <td>huxor14_table1</td>\n",
       "    </tr>\n",
       "    <tr>\n",
       "      <th>4</th>\n",
       "      <td>PAndAS-05</td>\n",
       "      <td>1.350625</td>\n",
       "      <td>43.926583</td>\n",
       "      <td>1.0</td>\n",
       "      <td>huxor14_table1</td>\n",
       "    </tr>\n",
       "    <tr>\n",
       "      <th>5</th>\n",
       "      <td>2M035</td>\n",
       "      <td>1.549625</td>\n",
       "      <td>41.503722</td>\n",
       "      <td>4.0</td>\n",
       "      <td>m31rbcV5</td>\n",
       "    </tr>\n",
       "    <tr>\n",
       "      <th>...</th>\n",
       "      <td>...</td>\n",
       "      <td>...</td>\n",
       "      <td>...</td>\n",
       "      <td>...</td>\n",
       "      <td>...</td>\n",
       "    </tr>\n",
       "    <tr>\n",
       "      <th>2658</th>\n",
       "      <td>LAMOST-C19</td>\n",
       "      <td>26.137480</td>\n",
       "      <td>30.748610</td>\n",
       "      <td>4.0</td>\n",
       "      <td>NaN</td>\n",
       "    </tr>\n",
       "    <tr>\n",
       "      <th>2661</th>\n",
       "      <td>SDSS17a</td>\n",
       "      <td>355.458333</td>\n",
       "      <td>44.835278</td>\n",
       "      <td>1.0</td>\n",
       "      <td>di_tullio_zinn_13_table1</td>\n",
       "    </tr>\n",
       "    <tr>\n",
       "      <th>2665</th>\n",
       "      <td>SDSS18</td>\n",
       "      <td>357.290417</td>\n",
       "      <td>40.458333</td>\n",
       "      <td>4.0</td>\n",
       "      <td>di_tullio_zinn_13_table1</td>\n",
       "    </tr>\n",
       "    <tr>\n",
       "      <th>2666</th>\n",
       "      <td>PAndAS-01</td>\n",
       "      <td>359.300125</td>\n",
       "      <td>43.552300</td>\n",
       "      <td>1.0</td>\n",
       "      <td>huxor14_table1</td>\n",
       "    </tr>\n",
       "    <tr>\n",
       "      <th>2667</th>\n",
       "      <td>PAndAS-02</td>\n",
       "      <td>359.482042</td>\n",
       "      <td>41.780347</td>\n",
       "      <td>1.0</td>\n",
       "      <td>huxor14_table1</td>\n",
       "    </tr>\n",
       "  </tbody>\n",
       "</table>\n",
       "<p>1630 rows × 5 columns</p>\n",
       "</div>"
      ],
      "text/plain": [
       "              ID       RADEG     DECDEG  CLASS                 DATATABLE\n",
       "1          2M034    0.508375  51.606722    4.0                  m31rbcV5\n",
       "2      PAndAS-03    0.985042  40.888667    1.0            huxor14_table1\n",
       "3      PAndAS-04    1.178875  47.361797    1.0            huxor14_table1\n",
       "4      PAndAS-05    1.350625  43.926583    1.0            huxor14_table1\n",
       "5          2M035    1.549625  41.503722    4.0                  m31rbcV5\n",
       "...          ...         ...        ...    ...                       ...\n",
       "2658  LAMOST-C19   26.137480  30.748610    4.0                       NaN\n",
       "2661     SDSS17a  355.458333  44.835278    1.0  di_tullio_zinn_13_table1\n",
       "2665      SDSS18  357.290417  40.458333    4.0  di_tullio_zinn_13_table1\n",
       "2666   PAndAS-01  359.300125  43.552300    1.0            huxor14_table1\n",
       "2667   PAndAS-02  359.482042  41.780347    1.0            huxor14_table1\n",
       "\n",
       "[1630 rows x 5 columns]"
      ]
     },
     "execution_count": 35,
     "metadata": {},
     "output_type": "execute_result"
    }
   ],
   "source": [
    "master_cat[master_cat['CLASS'].isin([1,4,8])] # GCs, galaxies, and extended clusters"
   ]
  },
  {
   "cell_type": "code",
   "execution_count": 123,
   "id": "453e3e0a",
   "metadata": {},
   "outputs": [],
   "source": [
    "cat5 = load_cat(5)"
   ]
  },
  {
   "cell_type": "code",
   "execution_count": 157,
   "id": "aa359990",
   "metadata": {},
   "outputs": [],
   "source": [
    "field=5\n",
    "_2MASS_table = ascii.read(f'./catdata/2mass/{field}.tbl', format='ipac')"
   ]
  },
  {
   "cell_type": "code",
   "execution_count": 158,
   "id": "9322397a",
   "metadata": {},
   "outputs": [
    {
     "data": {
      "text/plain": [
       "<matplotlib.collections.PathCollection at 0x1a290630220>"
      ]
     },
     "execution_count": 158,
     "metadata": {},
     "output_type": "execute_result"
    },
    {
     "data": {
      "image/png": "[encoded data removed]",
      "text/plain": [
       "<Figure size 640x480 with 1 Axes>"
      ]
     },
     "metadata": {},
     "output_type": "display_data"
    }
   ],
   "source": [
    "plt.scatter(cat5[::500]['RA'],cat5[::500]['Dec'],c='#2211ee',s=5)\n",
    "plt.scatter(training_data[training_data['field']==5]['ra'],training_data[training_data['field']==5]['dec'],c='#ee0000',s=10)\n",
    "plt.scatter(_2MASS_table['ra'],_2MASS_table['dec'],c='#32de11',s=1)"
   ]
  },
  {
   "cell_type": "markdown",
   "id": "827234f3",
   "metadata": {},
   "source": [
    "# 2MASS Catalogue matching"
   ]
  },
  {
   "cell_type": "code",
   "execution_count": 1,
   "id": "a161a994",
   "metadata": {},
   "outputs": [],
   "source": [
    "# match objects from 2MASS to pandas\n",
    "# take ra dec from 2mass and match to ra dec in pandas\n",
    "# find all close matches (<0.01deg??)\n",
    "# add chosen filter to data\n",
    "def match_2mass_pandas():\n",
    "    return 0"
   ]
  },
  {
   "cell_type": "code",
   "execution_count": null,
   "id": "7befd6d2",
   "metadata": {},
   "outputs": [],
   "source": [
    "# match 2mass to master nbc cat\n",
    "def match_2mass_master(tbl_2mass):\n",
    "    \n",
    "    return 0"
   ]
  },
  {
   "cell_type": "code",
   "execution_count": null,
   "id": "41cfb12e",
   "metadata": {},
   "outputs": [],
   "source": [
    "# match objects in CAT[n] to the ones in master_cat\n",
    "# matches every object from CAT[n] so the resulting arrays are len(CAT[n]) long\n",
    "def match_objs(cat_no: int) -> (np.ndarray, np.ndarray):\n",
    "    d1 = CAT[cat_no]\n",
    "    ra_obs, dec_obs = d1['RA'], d1['Dec']\n",
    "    d2 = master_cat\n",
    "    ra_qry, dec_qry = d2['RADEG'], d2['DECDEG']\n",
    "\n",
    "    c1 = coord.SkyCoord(ra_obs, dec_obs, unit=(u.degree, u.degree))\n",
    "    c2 = coord.SkyCoord(ra_qry, dec_qry, unit=(u.degree, u.degree))\n",
    "    idx, d2d, _ = c1.match_to_catalog_sky(c2)\n",
    "    return idx,d2d #idx: the index of the object in RBC, d2d: distance to that object from CAT"
   ]
  }
 ],
 "metadata": {
  "kernelspec": {
   "display_name": "Python 3 (ipykernel)",
   "language": "python",
   "name": "python3"
  },
  "language_info": {
   "codemirror_mode": {
    "name": "ipython",
    "version": 3
   },
   "file_extension": ".py",
   "mimetype": "text/x-python",
   "name": "python",
   "nbconvert_exporter": "python",
   "pygments_lexer": "ipython3",
   "version": "3.9.13"
  }
 },
 "nbformat": 4,
 "nbformat_minor": 5
}
