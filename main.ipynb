{
 "cells": [
  {
   "cell_type": "markdown",
   "id": "a9280b13",
   "metadata": {},
   "source": [
    "# Machine Learning For Identifying Globular Cluster Candidates\n",
    "\n",
    "## Contents\n",
    "+ [1. Imports](#imports)\n",
    "+ [2. Catalogue File Processing](#cat_proc)\n",
    "+ [3. Catalogue Matching](#cat_match)\n",
    "+ [4. Models](#models)\n",
    "    + [4.1 Random Forest](#models_rf)\n",
    "    + [4.2 Multi-layer Perceptron](#models_mlp)\n",
    "+ [5. ](#)\n",
    "+ [6. ](#)"
   ]
  },
  {
   "cell_type": "markdown",
   "id": "749f65f0",
   "metadata": {},
   "source": [
    "<a id='imports'></a>\n",
    "# Imports"
   ]
  },
  {
   "cell_type": "code",
   "execution_count": 327,
   "id": "b62a1fdd",
   "metadata": {},
   "outputs": [],
   "source": [
    "import matplotlib.pyplot as plt\n",
    "import pandas as pd\n",
    "import numpy as np\n",
    "import pickle\n",
    "import astropy.coordinates as coord\n",
    "import astropy.units as u\n",
    "\n",
    "from sklearn.ensemble import RandomForestClassifier\n",
    "from sklearn.linear_model import LogisticRegression\n",
    "from sklearn.svm import LinearSVC #???????????????//\n",
    "from sklearn.neural_network import MLPClassifier\n",
    "\n",
    "from sklearn.metrics import mean_squared_error, r2_score, confusion_matrix\n",
    "from sklearn import preprocessing\n",
    "from sklearn.model_selection import train_test_split\n",
    "\n",
    "from astropy.table import QTable, join\n",
    "from astropy.io import ascii\n",
    "from itertools import permutations, product\n",
    "from time import time\n",
    "from pathlib import Path"
   ]
  },
  {
   "cell_type": "code",
   "execution_count": 328,
   "id": "e2ecc66c",
   "metadata": {},
   "outputs": [],
   "source": [
    "# select most recent training data\n",
    "train_file = 'training_data_2704.pk'\n",
    "\n",
    "with open(f'./pickle/training_data/{train_file}','rb') as f:\n",
    "    training_data = pickle.load(f)"
   ]
  },
  {
   "cell_type": "code",
   "execution_count": 329,
   "id": "2a214542",
   "metadata": {},
   "outputs": [],
   "source": [
    "bounds = pickle.load(open('./pickle/bounds.pk','rb'))\n",
    "master_cat = pd.read_csv('./catdata/master_catalog_jan_2023.csv') #2184 objects long\n",
    "master_cat = master_cat.drop_duplicates(ignore_index=True)\n",
    "cat_files = ['cat1_50.pk','cat51_100.pk','cat101_150.pk','cat151_200.pk','cat201_235.pk',\n",
    "             'cat236_257.pk','cat258_279.pk','cat280_320.pk','cat321_360.pk','cat361_406.pk']\n",
    "# note: although we load the entire range of fields to only return a single one, pickle will hold the whole file in memory\n",
    "# so subsequent field loads (assuming they are consecutive) will not actually re-load the file and will instead\n",
    "# take it from memory\n",
    "def load_cat(field):\n",
    "    bounds = [50,100,150,200,235,257,279,320,360,406]\n",
    "    for b in range(len(bounds)):\n",
    "        if field <= bounds[b]:\n",
    "            to_load = cat_files[b]\n",
    "            break\n",
    "    with open(f'./pickle/{to_load}','rb') as f:\n",
    "        catalogue = pickle.load(f)\n",
    "    return catalogue[field] # return only the requested field table\n",
    "\n",
    "\n",
    "#for the sake of this demo code, we will only load the single catalogue file\n",
    "#as they are far too large to include them all here\n",
    "def load_cat(field):\n",
    "    with open(f'./pickle/cat229.pk','rb') as f:\n",
    "        catalogue = pickle.load(f)\n",
    "    if field!=229: return {field:[]} # return an empty dictionary for any other field\n",
    "    return catalogue[field]"
   ]
  },
  {
   "cell_type": "markdown",
   "id": "1876cb96",
   "metadata": {},
   "source": [
    "<a id='cat_proc'></a>\n",
    "# Catalogue File Processing"
   ]
  },
  {
   "cell_type": "code",
   "execution_count": 330,
   "id": "b4289fe9",
   "metadata": {},
   "outputs": [],
   "source": [
    "def read_cat(c: range) -> dict:\n",
    "    columns = ['RA', 'Dec','iccd','xg','yg','g','dg','ig','xi','yi','i','di','ii','ia','field']\n",
    "    CAT = {}\n",
    "    for a in c:\n",
    "        print(f'\\nReading {a:03d}')\n",
    "        CAT[a] = ascii.read(f'./catdata/cats/m{a:03d}p.ascd', guess=False, header_start=0, names=columns, format='commented_header')\n",
    "        print('Converting RA/Dec')\n",
    "        CAT[a]['RA'] = coord.Angle(CAT[a]['RA'],u.h).deg\n",
    "        CAT[a]['Dec'] = coord.Angle(CAT[a]['Dec'],u.deg).deg\n",
    "        print('Centering RA values')\n",
    "        # correct for fields that cross over the RightAscension = 0 boundary\n",
    "        CAT[a]['RA'] = [(a+20)%360-20 for a in CAT[a]['RA']]\n",
    "        print('Saving...')\n",
    "    return CAT"
   ]
  },
  {
   "cell_type": "markdown",
   "id": "46b55538",
   "metadata": {},
   "source": [
    "Any range of catalogue files can be read in and saved. Here we will use field 229 as an example."
   ]
  },
  {
   "cell_type": "code",
   "execution_count": 331,
   "id": "acc23434",
   "metadata": {},
   "outputs": [
    {
     "name": "stdout",
     "output_type": "stream",
     "text": [
      "\n",
      "Reading 229\n",
      "Converting RA/Dec\n"
     ]
    },
    {
     "ename": "KeyboardInterrupt",
     "evalue": "",
     "output_type": "error",
     "traceback": [
      "\u001b[1;31m---------------------------------------------------------------------------\u001b[0m",
      "\u001b[1;31mKeyboardInterrupt\u001b[0m                         Traceback (most recent call last)",
      "\u001b[1;32m~\\AppData\\Local\\Temp\\ipykernel_31536\\1073791573.py\u001b[0m in \u001b[0;36m<module>\u001b[1;34m\u001b[0m\n\u001b[1;32m----> 1\u001b[1;33m \u001b[0mCAT229\u001b[0m \u001b[1;33m=\u001b[0m \u001b[0mread_cat\u001b[0m\u001b[1;33m(\u001b[0m\u001b[0mrange\u001b[0m\u001b[1;33m(\u001b[0m\u001b[1;36m229\u001b[0m\u001b[1;33m,\u001b[0m\u001b[1;36m230\u001b[0m\u001b[1;33m)\u001b[0m\u001b[1;33m)\u001b[0m\u001b[1;33m\u001b[0m\u001b[1;33m\u001b[0m\u001b[0m\n\u001b[0m\u001b[0;32m      2\u001b[0m \u001b[1;32mwith\u001b[0m \u001b[0mopen\u001b[0m\u001b[1;33m(\u001b[0m\u001b[1;34m'./pickle/cat229.pk'\u001b[0m\u001b[1;33m,\u001b[0m\u001b[1;34m'wb'\u001b[0m\u001b[1;33m)\u001b[0m \u001b[1;32mas\u001b[0m \u001b[0mf\u001b[0m\u001b[1;33m:\u001b[0m\u001b[1;33m\u001b[0m\u001b[1;33m\u001b[0m\u001b[0m\n\u001b[0;32m      3\u001b[0m     \u001b[0mpickle\u001b[0m\u001b[1;33m.\u001b[0m\u001b[0mdump\u001b[0m\u001b[1;33m(\u001b[0m\u001b[0mCAT229\u001b[0m\u001b[1;33m,\u001b[0m\u001b[0mf\u001b[0m\u001b[1;33m)\u001b[0m\u001b[1;33m\u001b[0m\u001b[1;33m\u001b[0m\u001b[0m\n",
      "\u001b[1;32m~\\AppData\\Local\\Temp\\ipykernel_31536\\3758919678.py\u001b[0m in \u001b[0;36mread_cat\u001b[1;34m(c)\u001b[0m\n\u001b[0;32m      6\u001b[0m         \u001b[0mCAT\u001b[0m\u001b[1;33m[\u001b[0m\u001b[0ma\u001b[0m\u001b[1;33m]\u001b[0m \u001b[1;33m=\u001b[0m \u001b[0mascii\u001b[0m\u001b[1;33m.\u001b[0m\u001b[0mread\u001b[0m\u001b[1;33m(\u001b[0m\u001b[1;34mf'./catdata/cats/m{a:03d}p.ascd'\u001b[0m\u001b[1;33m,\u001b[0m \u001b[0mguess\u001b[0m\u001b[1;33m=\u001b[0m\u001b[1;32mFalse\u001b[0m\u001b[1;33m,\u001b[0m \u001b[0mheader_start\u001b[0m\u001b[1;33m=\u001b[0m\u001b[1;36m0\u001b[0m\u001b[1;33m,\u001b[0m \u001b[0mnames\u001b[0m\u001b[1;33m=\u001b[0m\u001b[0mcolumns\u001b[0m\u001b[1;33m,\u001b[0m \u001b[0mformat\u001b[0m\u001b[1;33m=\u001b[0m\u001b[1;34m'commented_header'\u001b[0m\u001b[1;33m)\u001b[0m\u001b[1;33m\u001b[0m\u001b[1;33m\u001b[0m\u001b[0m\n\u001b[0;32m      7\u001b[0m         \u001b[0mprint\u001b[0m\u001b[1;33m(\u001b[0m\u001b[1;34m'Converting RA/Dec'\u001b[0m\u001b[1;33m)\u001b[0m\u001b[1;33m\u001b[0m\u001b[1;33m\u001b[0m\u001b[0m\n\u001b[1;32m----> 8\u001b[1;33m         \u001b[0mCAT\u001b[0m\u001b[1;33m[\u001b[0m\u001b[0ma\u001b[0m\u001b[1;33m]\u001b[0m\u001b[1;33m[\u001b[0m\u001b[1;34m'RA'\u001b[0m\u001b[1;33m]\u001b[0m \u001b[1;33m=\u001b[0m \u001b[0mcoord\u001b[0m\u001b[1;33m.\u001b[0m\u001b[0mAngle\u001b[0m\u001b[1;33m(\u001b[0m\u001b[0mCAT\u001b[0m\u001b[1;33m[\u001b[0m\u001b[0ma\u001b[0m\u001b[1;33m]\u001b[0m\u001b[1;33m[\u001b[0m\u001b[1;34m'RA'\u001b[0m\u001b[1;33m]\u001b[0m\u001b[1;33m,\u001b[0m\u001b[0mu\u001b[0m\u001b[1;33m.\u001b[0m\u001b[0mh\u001b[0m\u001b[1;33m)\u001b[0m\u001b[1;33m.\u001b[0m\u001b[0mdeg\u001b[0m\u001b[1;33m\u001b[0m\u001b[1;33m\u001b[0m\u001b[0m\n\u001b[0m\u001b[0;32m      9\u001b[0m         \u001b[0mCAT\u001b[0m\u001b[1;33m[\u001b[0m\u001b[0ma\u001b[0m\u001b[1;33m]\u001b[0m\u001b[1;33m[\u001b[0m\u001b[1;34m'Dec'\u001b[0m\u001b[1;33m]\u001b[0m \u001b[1;33m=\u001b[0m \u001b[0mcoord\u001b[0m\u001b[1;33m.\u001b[0m\u001b[0mAngle\u001b[0m\u001b[1;33m(\u001b[0m\u001b[0mCAT\u001b[0m\u001b[1;33m[\u001b[0m\u001b[0ma\u001b[0m\u001b[1;33m]\u001b[0m\u001b[1;33m[\u001b[0m\u001b[1;34m'Dec'\u001b[0m\u001b[1;33m]\u001b[0m\u001b[1;33m,\u001b[0m\u001b[0mu\u001b[0m\u001b[1;33m.\u001b[0m\u001b[0mdeg\u001b[0m\u001b[1;33m)\u001b[0m\u001b[1;33m.\u001b[0m\u001b[0mdeg\u001b[0m\u001b[1;33m\u001b[0m\u001b[1;33m\u001b[0m\u001b[0m\n\u001b[0;32m     10\u001b[0m         \u001b[0mprint\u001b[0m\u001b[1;33m(\u001b[0m\u001b[1;34m'Centering RA values'\u001b[0m\u001b[1;33m)\u001b[0m\u001b[1;33m\u001b[0m\u001b[1;33m\u001b[0m\u001b[0m\n",
      "\u001b[1;32m~\\anaconda3\\lib\\site-packages\\astropy\\coordinates\\angles.py\u001b[0m in \u001b[0;36m__new__\u001b[1;34m(cls, angle, unit, dtype, copy, **kwargs)\u001b[0m\n\u001b[0;32m    138\u001b[0m                   not (isinstance(angle, np.ndarray) and\n\u001b[0;32m    139\u001b[0m                        angle.dtype.kind not in 'SUVO')):\n\u001b[1;32m--> 140\u001b[1;33m                 \u001b[0mangle\u001b[0m \u001b[1;33m=\u001b[0m \u001b[1;33m[\u001b[0m\u001b[0mAngle\u001b[0m\u001b[1;33m(\u001b[0m\u001b[0mx\u001b[0m\u001b[1;33m,\u001b[0m \u001b[0munit\u001b[0m\u001b[1;33m,\u001b[0m \u001b[0mcopy\u001b[0m\u001b[1;33m=\u001b[0m\u001b[1;32mFalse\u001b[0m\u001b[1;33m)\u001b[0m \u001b[1;32mfor\u001b[0m \u001b[0mx\u001b[0m \u001b[1;32min\u001b[0m \u001b[0mangle\u001b[0m\u001b[1;33m]\u001b[0m\u001b[1;33m\u001b[0m\u001b[1;33m\u001b[0m\u001b[0m\n\u001b[0m\u001b[0;32m    141\u001b[0m \u001b[1;33m\u001b[0m\u001b[0m\n\u001b[0;32m    142\u001b[0m         return super().__new__(cls, angle, unit, dtype=dtype, copy=copy,\n",
      "\u001b[1;32m~\\anaconda3\\lib\\site-packages\\astropy\\coordinates\\angles.py\u001b[0m in \u001b[0;36m<listcomp>\u001b[1;34m(.0)\u001b[0m\n\u001b[0;32m    138\u001b[0m                   not (isinstance(angle, np.ndarray) and\n\u001b[0;32m    139\u001b[0m                        angle.dtype.kind not in 'SUVO')):\n\u001b[1;32m--> 140\u001b[1;33m                 \u001b[0mangle\u001b[0m \u001b[1;33m=\u001b[0m \u001b[1;33m[\u001b[0m\u001b[0mAngle\u001b[0m\u001b[1;33m(\u001b[0m\u001b[0mx\u001b[0m\u001b[1;33m,\u001b[0m \u001b[0munit\u001b[0m\u001b[1;33m,\u001b[0m \u001b[0mcopy\u001b[0m\u001b[1;33m=\u001b[0m\u001b[1;32mFalse\u001b[0m\u001b[1;33m)\u001b[0m \u001b[1;32mfor\u001b[0m \u001b[0mx\u001b[0m \u001b[1;32min\u001b[0m \u001b[0mangle\u001b[0m\u001b[1;33m]\u001b[0m\u001b[1;33m\u001b[0m\u001b[1;33m\u001b[0m\u001b[0m\n\u001b[0m\u001b[0;32m    141\u001b[0m \u001b[1;33m\u001b[0m\u001b[0m\n\u001b[0;32m    142\u001b[0m         return super().__new__(cls, angle, unit, dtype=dtype, copy=copy,\n",
      "\u001b[1;32m~\\anaconda3\\lib\\site-packages\\astropy\\coordinates\\angles.py\u001b[0m in \u001b[0;36m__new__\u001b[1;34m(cls, angle, unit, dtype, copy, **kwargs)\u001b[0m\n\u001b[0;32m    123\u001b[0m                     \u001b[1;32mif\u001b[0m \u001b[0mangle_unit\u001b[0m \u001b[1;33m==\u001b[0m \u001b[0mu\u001b[0m\u001b[1;33m.\u001b[0m\u001b[0mhourangle\u001b[0m\u001b[1;33m:\u001b[0m\u001b[1;33m\u001b[0m\u001b[1;33m\u001b[0m\u001b[0m\n\u001b[0;32m    124\u001b[0m                         \u001b[0mform\u001b[0m\u001b[1;33m.\u001b[0m\u001b[0m_check_hour_range\u001b[0m\u001b[1;33m(\u001b[0m\u001b[0mangle\u001b[0m\u001b[1;33m[\u001b[0m\u001b[1;36m0\u001b[0m\u001b[1;33m]\u001b[0m\u001b[1;33m)\u001b[0m\u001b[1;33m\u001b[0m\u001b[1;33m\u001b[0m\u001b[0m\n\u001b[1;32m--> 125\u001b[1;33m                     \u001b[0mform\u001b[0m\u001b[1;33m.\u001b[0m\u001b[0m_check_minute_range\u001b[0m\u001b[1;33m(\u001b[0m\u001b[0mangle\u001b[0m\u001b[1;33m[\u001b[0m\u001b[1;36m1\u001b[0m\u001b[1;33m]\u001b[0m\u001b[1;33m)\u001b[0m\u001b[1;33m\u001b[0m\u001b[1;33m\u001b[0m\u001b[0m\n\u001b[0m\u001b[0;32m    126\u001b[0m                     \u001b[0ma\u001b[0m \u001b[1;33m=\u001b[0m \u001b[0mnp\u001b[0m\u001b[1;33m.\u001b[0m\u001b[0mabs\u001b[0m\u001b[1;33m(\u001b[0m\u001b[0mangle\u001b[0m\u001b[1;33m[\u001b[0m\u001b[1;36m0\u001b[0m\u001b[1;33m]\u001b[0m\u001b[1;33m)\u001b[0m \u001b[1;33m+\u001b[0m \u001b[0mangle\u001b[0m\u001b[1;33m[\u001b[0m\u001b[1;36m1\u001b[0m\u001b[1;33m]\u001b[0m \u001b[1;33m/\u001b[0m \u001b[1;36m60.\u001b[0m\u001b[1;33m\u001b[0m\u001b[1;33m\u001b[0m\u001b[0m\n\u001b[0;32m    127\u001b[0m                     \u001b[1;32mif\u001b[0m \u001b[0mlen\u001b[0m\u001b[1;33m(\u001b[0m\u001b[0mangle\u001b[0m\u001b[1;33m)\u001b[0m \u001b[1;33m==\u001b[0m \u001b[1;36m3\u001b[0m\u001b[1;33m:\u001b[0m\u001b[1;33m\u001b[0m\u001b[1;33m\u001b[0m\u001b[0m\n",
      "\u001b[1;32m~\\anaconda3\\lib\\site-packages\\astropy\\coordinates\\angle_formats.py\u001b[0m in \u001b[0;36m_check_minute_range\u001b[1;34m(m)\u001b[0m\n\u001b[0;32m    331\u001b[0m     \u001b[1;32mis\u001b[0m \u001b[0mequal\u001b[0m \u001b[0mto\u001b[0m \u001b[1;36m60\u001b[0m\u001b[1;33m,\u001b[0m \u001b[0mthen\u001b[0m \u001b[0ma\u001b[0m \u001b[0mwarning\u001b[0m \u001b[1;32mis\u001b[0m \u001b[0mraised\u001b[0m\u001b[1;33m.\u001b[0m\u001b[1;33m\u001b[0m\u001b[1;33m\u001b[0m\u001b[0m\n\u001b[0;32m    332\u001b[0m     \"\"\"\n\u001b[1;32m--> 333\u001b[1;33m     \u001b[1;32mif\u001b[0m \u001b[0mnp\u001b[0m\u001b[1;33m.\u001b[0m\u001b[0many\u001b[0m\u001b[1;33m(\u001b[0m\u001b[0mm\u001b[0m \u001b[1;33m==\u001b[0m \u001b[1;36m60.\u001b[0m\u001b[1;33m)\u001b[0m\u001b[1;33m:\u001b[0m\u001b[1;33m\u001b[0m\u001b[1;33m\u001b[0m\u001b[0m\n\u001b[0m\u001b[0;32m    334\u001b[0m         \u001b[0mwarn\u001b[0m\u001b[1;33m(\u001b[0m\u001b[0mIllegalMinuteWarning\u001b[0m\u001b[1;33m(\u001b[0m\u001b[0mm\u001b[0m\u001b[1;33m,\u001b[0m \u001b[1;34m'Treating as 0 min, +1 hr/deg'\u001b[0m\u001b[1;33m)\u001b[0m\u001b[1;33m)\u001b[0m\u001b[1;33m\u001b[0m\u001b[1;33m\u001b[0m\u001b[0m\n\u001b[0;32m    335\u001b[0m     \u001b[1;32melif\u001b[0m \u001b[0mnp\u001b[0m\u001b[1;33m.\u001b[0m\u001b[0many\u001b[0m\u001b[1;33m(\u001b[0m\u001b[0mm\u001b[0m \u001b[1;33m<\u001b[0m \u001b[1;33m-\u001b[0m\u001b[1;36m60.\u001b[0m\u001b[1;33m)\u001b[0m \u001b[1;32mor\u001b[0m \u001b[0mnp\u001b[0m\u001b[1;33m.\u001b[0m\u001b[0many\u001b[0m\u001b[1;33m(\u001b[0m\u001b[0mm\u001b[0m \u001b[1;33m>\u001b[0m \u001b[1;36m60.\u001b[0m\u001b[1;33m)\u001b[0m\u001b[1;33m:\u001b[0m\u001b[1;33m\u001b[0m\u001b[1;33m\u001b[0m\u001b[0m\n",
      "\u001b[1;32m<__array_function__ internals>\u001b[0m in \u001b[0;36many\u001b[1;34m(*args, **kwargs)\u001b[0m\n",
      "\u001b[1;32m~\\anaconda3\\lib\\site-packages\\numpy\\core\\fromnumeric.py\u001b[0m in \u001b[0;36many\u001b[1;34m(a, axis, out, keepdims, where)\u001b[0m\n\u001b[0;32m   2356\u001b[0m \u001b[1;33m\u001b[0m\u001b[0m\n\u001b[0;32m   2357\u001b[0m     \"\"\"\n\u001b[1;32m-> 2358\u001b[1;33m     return _wrapreduction(a, np.logical_or, 'any', axis, None, out,\n\u001b[0m\u001b[0;32m   2359\u001b[0m                           keepdims=keepdims, where=where)\n\u001b[0;32m   2360\u001b[0m \u001b[1;33m\u001b[0m\u001b[0m\n",
      "\u001b[1;31mKeyboardInterrupt\u001b[0m: "
     ]
    }
   ],
   "source": [
    "CAT229 = read_cat(range(229,230))\n",
    "with open('./pickle/cat229.pk','wb') as f:\n",
    "    pickle.dump(CAT229,f)"
   ]
  },
  {
   "cell_type": "markdown",
   "id": "0aeab631",
   "metadata": {},
   "source": [
    "Printed below is the data table for this field:"
   ]
  },
  {
   "cell_type": "code",
   "execution_count": 286,
   "id": "03f2e472",
   "metadata": {},
   "outputs": [
    {
     "data": {
      "text/html": [
       "<div><i>Table length=221274</i>\n",
       "<table id=\"table2807581083536\" class=\"table-striped table-bordered table-condensed\">\n",
       "<thead><tr><th>RA</th><th>Dec</th><th>iccd</th><th>xg</th><th>yg</th><th>g</th><th>dg</th><th>ig</th><th>xi</th><th>yi</th><th>i</th><th>di</th><th>ii</th><th>ia</th><th>field</th></tr></thead>\n",
       "<thead><tr><th>float64</th><th>float64</th><th>int32</th><th>float64</th><th>float64</th><th>float64</th><th>float64</th><th>int32</th><th>float64</th><th>float64</th><th>float64</th><th>float64</th><th>int32</th><th>int32</th><th>int32</th></tr></thead>\n",
       "<tr><td>7.500345833333334</td><td>40.60864166666667</td><td>1</td><td>1914.42</td><td>1443.22</td><td>13.8</td><td>0.001</td><td>-9</td><td>1901.33</td><td>1472.02</td><td>12.902</td><td>0.001</td><td>-9</td><td>0</td><td>229</td></tr>\n",
       "<tr><td>7.4668458333333305</td><td>40.669066666666666</td><td>1</td><td>1419.09</td><td>265.96</td><td>13.809</td><td>0.001</td><td>-9</td><td>1405.77</td><td>295.07</td><td>13.024</td><td>0.001</td><td>-9</td><td>0</td><td>229</td></tr>\n",
       "<tr><td>7.498791666666666</td><td>40.57726666666667</td><td>1</td><td>1889.88</td><td>2057.81</td><td>13.828</td><td>0.001</td><td>-9</td><td>1876.98</td><td>2086.37</td><td>12.976</td><td>0.001</td><td>-9</td><td>0</td><td>229</td></tr>\n",
       "<tr><td>7.502395833333331</td><td>40.56137222222222</td><td>1</td><td>1943.03</td><td>2367.7</td><td>13.837</td><td>0.001</td><td>-9</td><td>1930.21</td><td>2396.21</td><td>13.007</td><td>0.001</td><td>-9</td><td>0</td><td>229</td></tr>\n",
       "<tr><td>7.3778958333333335</td><td>40.60429722222222</td><td>1</td><td>93.89</td><td>1555.33</td><td>14.157</td><td>0.001</td><td>-9</td><td>81.3</td><td>1583.81</td><td>13.463</td><td>0.001</td><td>-9</td><td>0</td><td>229</td></tr>\n",
       "<tr><td>7.3790916666666675</td><td>40.47244722222222</td><td>1</td><td>108.84</td><td>4124.51</td><td>14.186</td><td>0.001</td><td>-9</td><td>97.0</td><td>4152.19</td><td>13.45</td><td>0.001</td><td>-9</td><td>0</td><td>229</td></tr>\n",
       "<tr><td>7.4124333333333325</td><td>40.556999999999995</td><td>1</td><td>604.61</td><td>2472.22</td><td>14.209</td><td>0.001</td><td>-9</td><td>592.16</td><td>2500.49</td><td>13.525</td><td>0.001</td><td>-9</td><td>0</td><td>229</td></tr>\n",
       "<tr><td>7.482308333333332</td><td>40.50189722222222</td><td>1</td><td>1642.59</td><td>3532.5</td><td>14.253</td><td>0.001</td><td>-9</td><td>1630.19</td><td>3560.61</td><td>13.339</td><td>0.001</td><td>-9</td><td>0</td><td>229</td></tr>\n",
       "<tr><td>7.462433333333333</td><td>40.560919444444444</td><td>1</td><td>1347.88</td><td>2385.37</td><td>14.34</td><td>0.001</td><td>-9</td><td>1335.21</td><td>2413.79</td><td>13.663</td><td>0.001</td><td>-9</td><td>0</td><td>229</td></tr>\n",
       "<tr><td>7.508645833333333</td><td>40.45770277777778</td><td>1</td><td>2035.17</td><td>4387.5</td><td>14.489</td><td>0.001</td><td>-9</td><td>2022.93</td><td>4415.41</td><td>13.835</td><td>0.001</td><td>-9</td><td>0</td><td>229</td></tr>\n",
       "<tr><td>...</td><td>...</td><td>...</td><td>...</td><td>...</td><td>...</td><td>...</td><td>...</td><td>...</td><td>...</td><td>...</td><td>...</td><td>...</td><td>...</td><td>...</td></tr>\n",
       "<tr><td>6.258745833333332</td><td>39.816205555555555</td><td>36</td><td>1689.42</td><td>2595.6</td><td>35.35</td><td>7.531</td><td>0</td><td>1701.41</td><td>2566.05</td><td>23.838</td><td>0.082</td><td>-1</td><td>0</td><td>229</td></tr>\n",
       "<tr><td>6.361274999999999</td><td>39.709575</td><td>36</td><td>176.49</td><td>512.16</td><td>35.348</td><td>7.531</td><td>0</td><td>188.04</td><td>482.43</td><td>23.975</td><td>0.093</td><td>-1</td><td>0</td><td>229</td></tr>\n",
       "<tr><td>6.369654166666667</td><td>39.691155555555554</td><td>36</td><td>55.5</td><td>150.9</td><td>35.346</td><td>7.531</td><td>0</td><td>66.97</td><td>121.12</td><td>26.275</td><td>0.595</td><td>0</td><td>0</td><td>229</td></tr>\n",
       "<tr><td>6.369954166666666</td><td>39.690438888888885</td><td>36</td><td>51.22</td><td>136.87</td><td>35.345</td><td>7.531</td><td>0</td><td>62.69</td><td>107.09</td><td>34.855</td><td>8.238</td><td>0</td><td>0</td><td>229</td></tr>\n",
       "<tr><td>6.3699041666666645</td><td>39.68942777777777</td><td>36</td><td>52.26</td><td>116.95</td><td>35.346</td><td>7.531</td><td>0</td><td>63.72</td><td>87.17</td><td>34.855</td><td>8.238</td><td>0</td><td>0</td><td>229</td></tr>\n",
       "<tr><td>6.370079166666667</td><td>39.6881</td><td>36</td><td>49.97</td><td>90.9</td><td>35.346</td><td>7.531</td><td>0</td><td>61.43</td><td>61.16</td><td>28.046</td><td>1.686</td><td>0</td><td>0</td><td>229</td></tr>\n",
       "<tr><td>6.366783333333331</td><td>39.689252777777774</td><td>36</td><td>99.26</td><td>113.3</td><td>35.346</td><td>7.531</td><td>0</td><td>110.73</td><td>83.57</td><td>34.856</td><td>8.238</td><td>0</td><td>0</td><td>229</td></tr>\n",
       "<tr><td>6.271245833333332</td><td>39.754266666666666</td><td>36</td><td>1519.62</td><td>1383.82</td><td>35.343</td><td>7.531</td><td>0</td><td>1531.34</td><td>1354.35</td><td>24.251</td><td>0.117</td><td>-1</td><td>0</td><td>229</td></tr>\n",
       "<tr><td>6.362712500000001</td><td>39.686588888888885</td><td>36</td><td>161.37</td><td>60.67</td><td>35.344</td><td>7.531</td><td>0</td><td>172.82</td><td>30.95</td><td>34.856</td><td>8.238</td><td>0</td><td>0</td><td>229</td></tr>\n",
       "<tr><td>6.272187500000001</td><td>39.709500000000006</td><td>36</td><td>1519.72</td><td>504.98</td><td>35.335</td><td>7.531</td><td>0</td><td>1531.26</td><td>475.51</td><td>24.306</td><td>0.123</td><td>-1</td><td>0</td><td>229</td></tr>\n",
       "</table></div>"
      ],
      "text/plain": [
       "<Table length=221274>\n",
       "        RA                Dec          iccd    xg   ...   ii    ia  field\n",
       "     float64            float64       int32 float64 ... int32 int32 int32\n",
       "------------------ ------------------ ----- ------- ... ----- ----- -----\n",
       " 7.500345833333334  40.60864166666667     1 1914.42 ...    -9     0   229\n",
       "7.4668458333333305 40.669066666666666     1 1419.09 ...    -9     0   229\n",
       " 7.498791666666666  40.57726666666667     1 1889.88 ...    -9     0   229\n",
       " 7.502395833333331  40.56137222222222     1 1943.03 ...    -9     0   229\n",
       "7.3778958333333335  40.60429722222222     1   93.89 ...    -9     0   229\n",
       "7.3790916666666675  40.47244722222222     1  108.84 ...    -9     0   229\n",
       "7.4124333333333325 40.556999999999995     1  604.61 ...    -9     0   229\n",
       " 7.482308333333332  40.50189722222222     1 1642.59 ...    -9     0   229\n",
       " 7.462433333333333 40.560919444444444     1 1347.88 ...    -9     0   229\n",
       " 7.508645833333333  40.45770277777778     1 2035.17 ...    -9     0   229\n",
       "               ...                ...   ...     ... ...   ...   ...   ...\n",
       " 6.258745833333332 39.816205555555555    36 1689.42 ...    -1     0   229\n",
       " 6.361274999999999          39.709575    36  176.49 ...    -1     0   229\n",
       " 6.369654166666667 39.691155555555554    36    55.5 ...     0     0   229\n",
       " 6.369954166666666 39.690438888888885    36   51.22 ...     0     0   229\n",
       "6.3699041666666645  39.68942777777777    36   52.26 ...     0     0   229\n",
       " 6.370079166666667            39.6881    36   49.97 ...     0     0   229\n",
       " 6.366783333333331 39.689252777777774    36   99.26 ...     0     0   229\n",
       " 6.271245833333332 39.754266666666666    36 1519.62 ...    -1     0   229\n",
       " 6.362712500000001 39.686588888888885    36  161.37 ...     0     0   229\n",
       " 6.272187500000001 39.709500000000006    36 1519.72 ...    -1     0   229"
      ]
     },
     "execution_count": 286,
     "metadata": {},
     "output_type": "execute_result"
    }
   ],
   "source": [
    "CAT229[229]"
   ]
  },
  {
   "cell_type": "markdown",
   "id": "d538f91c",
   "metadata": {},
   "source": [
    "<a id='cat_match'></a>\n",
    "# Catalog Matching\n",
    "Run all the function definitions."
   ]
  },
  {
   "cell_type": "code",
   "execution_count": 332,
   "id": "786916fe",
   "metadata": {},
   "outputs": [],
   "source": [
    "# match objects in CAT[n] to the ones in master_cat\n",
    "# matches every object from CAT[n] so the resulting arrays are len(CAT[n]) long\n",
    "def match_objs(cat_no: int) -> (np.ndarray, np.ndarray):\n",
    "    d1 = CAT[cat_no]\n",
    "    ra_obs, dec_obs = d1['RA'], d1['Dec']\n",
    "    d2 = master_cat\n",
    "    ra_qry, dec_qry = d2['RADEG'], d2['DECDEG']\n",
    "\n",
    "    c1 = coord.SkyCoord(ra_obs, dec_obs, unit=(u.degree, u.degree))\n",
    "    c2 = coord.SkyCoord(ra_qry, dec_qry, unit=(u.degree, u.degree))\n",
    "    idx, d2d, _ = c1.match_to_catalog_sky(c2)\n",
    "    return idx,d2d #idx: the index of the object in RBC, d2d: distance to that object from CAT\n",
    "\n",
    "# find a list of all objects from match_objs that are actually contained within a given field\n",
    "# as the returned objects of match_objs contains ones from master_cat which are outside of the given field\n",
    "#   __________\n",
    "#  |   *     |   *  <-- remove points like this\n",
    "#  |      *  |\n",
    "#  |  *    * |\n",
    "#  |_____*___|\n",
    "#\n",
    "def find_objs_in_field(cat_no: int, objs: list) -> list:\n",
    "    in_field = []\n",
    "    for o in objs:\n",
    "        ra = master_cat.loc[o]['RADEG']\n",
    "        dec = master_cat.loc[o]['DECDEG']\n",
    "        x0,x1,y0,y1 = bounds[cat_no]\n",
    "        if ( ra<x0 and ra>x1 and dec>y0 and dec<y1 ):\n",
    "            in_field.append(master_cat.loc[o])\n",
    "    return in_field\n",
    "\n",
    "# find the closest match(es) for each object in the master_list, that is in a given field\n",
    "# returns a list of 3-tuples of the format (CAT index, master_cat index, nearby obj count)\n",
    "def find_closest_match(in_field: list, delta: float) -> list:\n",
    "    ret = []\n",
    "    \n",
    "    for obj in in_field:\n",
    "        idx = obj.name #obj.name is the position/index of the object in master_cat\n",
    "        delta_filter = d2d_idx_df[d2d_idx_df['idx']==idx]['d2d'] < delta\n",
    "        obj_delta = d2d_idx_df[d2d_idx_df['idx']==idx][delta_filter] # returns list of objects within delta of the position from master_cat\n",
    "        \n",
    "        # filter matches by dg/di values\n",
    "        closest_obj_idx = -1\n",
    "        for i in obj_delta.sort_values('d2d').index:\n",
    "            if CAT[c][i]['di'] > 0.05 or CAT[c][i]['dg'] > 0.05: # filter out sources with uncertain magnitudes\n",
    "                continue\n",
    "            elif (obj_delta[obj_delta.index==i]['d2d'] < 0.0005).bool(): #ensure the point is nearby (1.8 arcsec)\n",
    "                closest_obj_idx = i # if the dg/di is in the right range (and close enough to true position) then use that index\n",
    "                break\n",
    "        if closest_obj_idx == -1: # if no matches were found in the above for loop\n",
    "            continue # skip this object as there are no reasonable matches\n",
    "        \n",
    "        out = (closest_obj_idx, idx, len(obj_delta)) # return index of object in CAT[n], index in master_cat, and number of nearby objects(for crowding analysis)\n",
    "        ret.append(out)\n",
    "    return ret"
   ]
  },
  {
   "cell_type": "markdown",
   "id": "6741b438",
   "metadata": {},
   "source": [
    "### Matching PAndAS catalogue files to master_cat"
   ]
  },
  {
   "cell_type": "code",
   "execution_count": 333,
   "id": "0e1bbcae",
   "metadata": {},
   "outputs": [
    {
     "name": "stdout",
     "output_type": "stream",
     "text": [
      "\n",
      "cat229.pk\n",
      "Loaded...\n",
      "Done!\n"
     ]
    }
   ],
   "source": [
    "matches = {}\n",
    "\n",
    "#cat_files = ['cat1_50.pk','cat51_100.pk','cat101_150.pk','cat151_200.pk','cat201_235.pk',\n",
    "#             'cat236_257.pk','cat258_279.pk','cat280_320.pk','cat321_360.pk','cat361_406.pk']\n",
    "\n",
    "#for the sake of this demo code we use just one of the groups of catalogues\n",
    "cat_files = ['cat229.pk']\n",
    "\n",
    "for f in cat_files:\n",
    "    print(f'\\n{f}')\n",
    "    CAT = pickle.load(open(f'./pickle/{f}','rb'))\n",
    "    print('Loaded...')\n",
    "    for c in CAT:\n",
    "        idx,d2d = match_objs(c)\n",
    "        objs = set(idx)\n",
    "        d2d = d2d.degree\n",
    "        \n",
    "        d2d_idx_tuples = [(d2d[i],idx[i]) for i in range(len(d2d))]\n",
    "        \n",
    "        d2d_idx_df = pd.DataFrame(d2d_idx_tuples, columns=['d2d','idx'])\n",
    "        \n",
    "        # get the list of all obj from master_cat which are in the field CAT[c]\n",
    "        in_field = find_objs_in_field(c,objs)\n",
    "        delta = 0.005 # the size of the region in which to determine crowding (0.006 deg = 21.6 arcsec)\n",
    "        matches[c] = find_closest_match(in_field, delta=delta)\n",
    "        \n",
    "        \n",
    "print('Done!')\n",
    "\n",
    "\n",
    "# remove crowded objects and empty fields\n",
    "empty_fields = []\n",
    "for c in range(1,407):\n",
    "    try:\n",
    "        if matches[c] == []:\n",
    "            empty_fields.append(c)\n",
    "            matches.pop(c,None)\n",
    "    except: continue\n",
    "\n",
    "with open('./pickle/matches/matches.pk','wb') as f:\n",
    "    pickle.dump(matches,f)"
   ]
  },
  {
   "cell_type": "code",
   "execution_count": 334,
   "id": "d3afc2e1",
   "metadata": {},
   "outputs": [
    {
     "name": "stdout",
     "output_type": "stream",
     "text": [
      "{229: [(198028, 34, 74), (137396, 39, 17), (131289, 40, 60), (215894, 27, 66), (179619, 41, 80)]}\n"
     ]
    }
   ],
   "source": [
    "print(matches)"
   ]
  },
  {
   "cell_type": "markdown",
   "id": "3e567abf",
   "metadata": {},
   "source": [
    "============================\n",
    "\n",
    "The code above returns a dictionary where each entry represents a field (in this case field 229). Each entry is a list, composed of 3-tuples of the format:\n",
    "\n",
    "    (index in PAndAS catalogue, index in master catalogue, number of sources within 18arcsec)\n",
    "    \n",
    "Here, we got five matches in the field, corresponding to the following four globular clusters, and one galaxy:"
   ]
  },
  {
   "cell_type": "code",
   "execution_count": 66,
   "id": "a464b787",
   "metadata": {},
   "outputs": [
    {
     "data": {
      "text/html": [
       "<div>\n",
       "<style scoped>\n",
       "    .dataframe tbody tr th:only-of-type {\n",
       "        vertical-align: middle;\n",
       "    }\n",
       "\n",
       "    .dataframe tbody tr th {\n",
       "        vertical-align: top;\n",
       "    }\n",
       "\n",
       "    .dataframe thead th {\n",
       "        text-align: right;\n",
       "    }\n",
       "</style>\n",
       "<table border=\"1\" class=\"dataframe\">\n",
       "  <thead>\n",
       "    <tr style=\"text-align: right;\">\n",
       "      <th></th>\n",
       "      <th>ID</th>\n",
       "      <th>RADEG</th>\n",
       "      <th>DECDEG</th>\n",
       "      <th>CLASS</th>\n",
       "      <th>DATATABLE</th>\n",
       "    </tr>\n",
       "  </thead>\n",
       "  <tbody>\n",
       "    <tr>\n",
       "      <th>34</th>\n",
       "      <td>MCGC1</td>\n",
       "      <td>6.698708</td>\n",
       "      <td>39.746194</td>\n",
       "      <td>1.0</td>\n",
       "      <td>m31rbcV5</td>\n",
       "    </tr>\n",
       "    <tr>\n",
       "      <th>39</th>\n",
       "      <td>2M019</td>\n",
       "      <td>6.879125</td>\n",
       "      <td>40.133750</td>\n",
       "      <td>4.0</td>\n",
       "      <td>m31rbcV5</td>\n",
       "    </tr>\n",
       "    <tr>\n",
       "      <th>40</th>\n",
       "      <td>H2</td>\n",
       "      <td>7.013583</td>\n",
       "      <td>40.048692</td>\n",
       "      <td>1.0</td>\n",
       "      <td>m31rbcV5</td>\n",
       "    </tr>\n",
       "    <tr>\n",
       "      <th>27</th>\n",
       "      <td>PAndAS-16</td>\n",
       "      <td>6.249667</td>\n",
       "      <td>39.703642</td>\n",
       "      <td>1.0</td>\n",
       "      <td>huxor14_table1</td>\n",
       "    </tr>\n",
       "    <tr>\n",
       "      <th>41</th>\n",
       "      <td>PAndAS-18</td>\n",
       "      <td>7.096917</td>\n",
       "      <td>39.918017</td>\n",
       "      <td>1.0</td>\n",
       "      <td>huxor14_table1</td>\n",
       "    </tr>\n",
       "  </tbody>\n",
       "</table>\n",
       "</div>"
      ],
      "text/plain": [
       "           ID     RADEG     DECDEG  CLASS       DATATABLE\n",
       "34      MCGC1  6.698708  39.746194    1.0        m31rbcV5\n",
       "39      2M019  6.879125  40.133750    4.0        m31rbcV5\n",
       "40         H2  7.013583  40.048692    1.0        m31rbcV5\n",
       "27  PAndAS-16  6.249667  39.703642    1.0  huxor14_table1\n",
       "41  PAndAS-18  7.096917  39.918017    1.0  huxor14_table1"
      ]
     },
     "execution_count": 66,
     "metadata": {},
     "output_type": "execute_result"
    }
   ],
   "source": [
    "master_cat.loc[[t[1] for t in matches[229]]]"
   ]
  },
  {
   "cell_type": "markdown",
   "id": "5f99c112",
   "metadata": {},
   "source": [
    "# Building Training Dataset"
   ]
  },
  {
   "cell_type": "code",
   "execution_count": 335,
   "id": "cecc837b",
   "metadata": {},
   "outputs": [],
   "source": [
    "object_matches = pickle.load(open('./pickle/matches/matches.pk','rb'))"
   ]
  },
  {
   "cell_type": "code",
   "execution_count": 336,
   "id": "e53d5da5",
   "metadata": {},
   "outputs": [],
   "source": [
    "def generate_training_data(matches, crowding=300) -> pd.DataFrame:\n",
    "    cat = load_cat(1)\n",
    "    \n",
    "    columns = ['obj_id','class','i','g','di','dg','ra','dec','field','pdidx']\n",
    "    values = []\n",
    "    object_ids = []\n",
    "    \n",
    "    #TEMP\n",
    "    crowded_objects = []\n",
    "    \n",
    "    \n",
    "    for field in matches: # iterate through each field ID\n",
    "        cat = load_cat(field)\n",
    "        print(f'Working on {field}')\n",
    "        working_field = matches[field] # take the list of matches e.g. working_field = [(166727, 2642), (159637, 2646)]\n",
    "        \n",
    "        for m in working_field: # iterate through each match (a tuple) and grab values from catalogues\n",
    "            \n",
    "            if m[2] > crowding: # testing\n",
    "                crowded_objects.append(m[1:])\n",
    "                continue\n",
    "            \n",
    "            obj_id = master_cat.loc[m[1]].ID\n",
    "            class_ = master_cat.loc[m[1]].CLASS\n",
    "            \n",
    "            if obj_id in object_ids: continue # if we've already added the object then skip\n",
    "            else: object_ids.append(obj_id)   # else add it to the list of ids\n",
    "            \n",
    "            if class_ == 1: class_str = 'gc' # convert class numbers into strings\n",
    "            elif class_ == 4: class_str = 'galaxy'\n",
    "            elif class_ == 6: class_str = 'star'\n",
    "            else: continue # skip non-gc/gal/stars\n",
    "            \n",
    "            # collect required data\n",
    "            row = cat[m[0]]\n",
    "            ra = row['RA']\n",
    "            dec = row['Dec']\n",
    "            g = row['g']\n",
    "            i = row['i']\n",
    "            dg = row['dg']\n",
    "            di = row['di']\n",
    "            \n",
    "            values.append([obj_id,class_str,i,g,di,dg,ra,dec,field,m[0]])\n",
    "    \n",
    "    training_data_dict = dict(zip(columns,zip(*values))) # zip values and columns together into a dict (columns as keys)\n",
    "    training_data_df = pd.DataFrame(training_data_dict) # put into pd Dataframe\n",
    "    return training_data_df, crowded_objects"
   ]
  },
  {
   "cell_type": "markdown",
   "id": "c89cfb1b",
   "metadata": {},
   "source": [
    "We execute the above function on our matches:"
   ]
  },
  {
   "cell_type": "code",
   "execution_count": 337,
   "id": "de04865d",
   "metadata": {
    "scrolled": true
   },
   "outputs": [
    {
     "name": "stdout",
     "output_type": "stream",
     "text": [
      "Working on 229\n"
     ]
    }
   ],
   "source": [
    "training_data,crowded_objects = generate_training_data(object_matches)"
   ]
  },
  {
   "cell_type": "markdown",
   "id": "f27c7593",
   "metadata": {},
   "source": [
    "And gain the following training data set with the required values:"
   ]
  },
  {
   "cell_type": "code",
   "execution_count": 338,
   "id": "f9300bfe",
   "metadata": {},
   "outputs": [
    {
     "data": {
      "text/html": [
       "<div>\n",
       "<style scoped>\n",
       "    .dataframe tbody tr th:only-of-type {\n",
       "        vertical-align: middle;\n",
       "    }\n",
       "\n",
       "    .dataframe tbody tr th {\n",
       "        vertical-align: top;\n",
       "    }\n",
       "\n",
       "    .dataframe thead th {\n",
       "        text-align: right;\n",
       "    }\n",
       "</style>\n",
       "<table border=\"1\" class=\"dataframe\">\n",
       "  <thead>\n",
       "    <tr style=\"text-align: right;\">\n",
       "      <th></th>\n",
       "      <th>obj_id</th>\n",
       "      <th>class</th>\n",
       "      <th>i</th>\n",
       "      <th>g</th>\n",
       "      <th>di</th>\n",
       "      <th>dg</th>\n",
       "      <th>ra</th>\n",
       "      <th>dec</th>\n",
       "      <th>field</th>\n",
       "      <th>pdidx</th>\n",
       "    </tr>\n",
       "  </thead>\n",
       "  <tbody>\n",
       "    <tr>\n",
       "      <th>0</th>\n",
       "      <td>MCGC1</td>\n",
       "      <td>gc</td>\n",
       "      <td>14.693</td>\n",
       "      <td>15.711</td>\n",
       "      <td>0.001</td>\n",
       "      <td>0.001</td>\n",
       "      <td>6.698988</td>\n",
       "      <td>39.746158</td>\n",
       "      <td>229</td>\n",
       "      <td>198028</td>\n",
       "    </tr>\n",
       "    <tr>\n",
       "      <th>1</th>\n",
       "      <td>2M019</td>\n",
       "      <td>galaxy</td>\n",
       "      <td>17.761</td>\n",
       "      <td>18.982</td>\n",
       "      <td>0.001</td>\n",
       "      <td>0.001</td>\n",
       "      <td>6.878996</td>\n",
       "      <td>40.133711</td>\n",
       "      <td>229</td>\n",
       "      <td>137396</td>\n",
       "    </tr>\n",
       "    <tr>\n",
       "      <th>2</th>\n",
       "      <td>H2</td>\n",
       "      <td>gc</td>\n",
       "      <td>17.725</td>\n",
       "      <td>18.414</td>\n",
       "      <td>0.001</td>\n",
       "      <td>0.001</td>\n",
       "      <td>7.013483</td>\n",
       "      <td>40.048756</td>\n",
       "      <td>229</td>\n",
       "      <td>131289</td>\n",
       "    </tr>\n",
       "    <tr>\n",
       "      <th>3</th>\n",
       "      <td>PAndAS-16</td>\n",
       "      <td>gc</td>\n",
       "      <td>16.901</td>\n",
       "      <td>17.605</td>\n",
       "      <td>0.001</td>\n",
       "      <td>0.001</td>\n",
       "      <td>6.249696</td>\n",
       "      <td>39.703656</td>\n",
       "      <td>229</td>\n",
       "      <td>215894</td>\n",
       "    </tr>\n",
       "    <tr>\n",
       "      <th>4</th>\n",
       "      <td>PAndAS-18</td>\n",
       "      <td>gc</td>\n",
       "      <td>22.520</td>\n",
       "      <td>23.375</td>\n",
       "      <td>0.026</td>\n",
       "      <td>0.021</td>\n",
       "      <td>7.097300</td>\n",
       "      <td>39.917811</td>\n",
       "      <td>229</td>\n",
       "      <td>179619</td>\n",
       "    </tr>\n",
       "  </tbody>\n",
       "</table>\n",
       "</div>"
      ],
      "text/plain": [
       "      obj_id   class       i       g     di     dg        ra        dec  \\\n",
       "0      MCGC1      gc  14.693  15.711  0.001  0.001  6.698988  39.746158   \n",
       "1      2M019  galaxy  17.761  18.982  0.001  0.001  6.878996  40.133711   \n",
       "2         H2      gc  17.725  18.414  0.001  0.001  7.013483  40.048756   \n",
       "3  PAndAS-16      gc  16.901  17.605  0.001  0.001  6.249696  39.703656   \n",
       "4  PAndAS-18      gc  22.520  23.375  0.026  0.021  7.097300  39.917811   \n",
       "\n",
       "   field   pdidx  \n",
       "0    229  198028  \n",
       "1    229  137396  \n",
       "2    229  131289  \n",
       "3    229  215894  \n",
       "4    229  179619  "
      ]
     },
     "execution_count": 338,
     "metadata": {},
     "output_type": "execute_result"
    }
   ],
   "source": [
    "training_data"
   ]
  },
  {
   "cell_type": "markdown",
   "id": "194e87ee",
   "metadata": {},
   "source": [
    "Of course, every field was considered for the full project and so we load in the full training set later."
   ]
  },
  {
   "cell_type": "markdown",
   "id": "bb0d716d",
   "metadata": {},
   "source": [
    "### Adding 2MASS Data To Training\n",
    "Here we add the tables from 2MASS (again, only using 229 as an example)"
   ]
  },
  {
   "cell_type": "code",
   "execution_count": 339,
   "id": "e7688e5c",
   "metadata": {},
   "outputs": [],
   "source": [
    "# match 2mass to objects in training_data\n",
    "# returns a list of indexes in 2MASS which correspond to each item in the training_data\n",
    "def match_2mass_train(field, tbl_2mass):\n",
    "    d1 = tbl_2mass\n",
    "    ra_obs, dec_obs = d1['ra'], d1['dec']\n",
    "    d2 = training_data[training_data['field']==field]\n",
    "    ra_qry, dec_qry = d2['ra'], d2['dec']\n",
    "\n",
    "    c1 = coord.SkyCoord(ra_obs, dec_obs, unit=(u.degree, u.degree))\n",
    "    c2 = coord.SkyCoord(ra_qry, dec_qry, unit=(u.degree, u.degree))\n",
    "    idx, d2d, _ = c2.match_to_catalog_sky(c1)\n",
    "    d2d = d2d.degree\n",
    "    in_range = [d2d[i]<=0.001 for i in range(len(idx))]\n",
    "    return idx, in_range #idx: the index of the object in 2MASS, d2d: distance to that object\n",
    "\n",
    "def get_filtered_2mass(field:int):\n",
    "    ABC = [''.join(p) for p in product('ABC','ABC','ABC')] # all permutations of A,B,C quality results\n",
    "    filtered_table = ascii.read(f'./catdata/2mass/{field}.tbl', format='ipac').to_pandas()\n",
    "    filtered_table = filtered_table[filtered_table['ph_qual'].isin(ABC)].reset_index()\n",
    "    return filtered_table"
   ]
  },
  {
   "cell_type": "code",
   "execution_count": 340,
   "id": "e8b2ceba",
   "metadata": {},
   "outputs": [],
   "source": [
    "# iterate fields and add 2MASS data to the training set\n",
    "for f in [229]:\n",
    "    cat = load_cat(f)\n",
    "    _2MASS_table = get_filtered_2mass(f)\n",
    "    idx,in_range = match_2mass_train(f,_2MASS_table)\n",
    "    training_data_indexes = training_data[training_data['field']==f].index\n",
    "    for i in range(len(idx)):\n",
    "        training_data.loc[training_data_indexes[i],'j'] = _2MASS_table.loc[idx[i],'j_m']\n",
    "        training_data.loc[training_data_indexes[i],'h'] = _2MASS_table.loc[idx[i],'h_m']\n",
    "        training_data.loc[training_data_indexes[i],'k'] = _2MASS_table.loc[idx[i],'k_m']\n",
    "        training_data.loc[training_data_indexes[i],'ph_qual'] = _2MASS_table.loc[idx[i],'ph_qual']\n",
    "        training_data.loc[training_data_indexes[i],'2mass_acc'] = in_range[i]"
   ]
  },
  {
   "cell_type": "markdown",
   "id": "243507dc",
   "metadata": {},
   "source": [
    "Now we have 2MASS data added to the training data set as shown below:"
   ]
  },
  {
   "cell_type": "code",
   "execution_count": 341,
   "id": "62ac62cd",
   "metadata": {},
   "outputs": [
    {
     "data": {
      "text/html": [
       "<div>\n",
       "<style scoped>\n",
       "    .dataframe tbody tr th:only-of-type {\n",
       "        vertical-align: middle;\n",
       "    }\n",
       "\n",
       "    .dataframe tbody tr th {\n",
       "        vertical-align: top;\n",
       "    }\n",
       "\n",
       "    .dataframe thead th {\n",
       "        text-align: right;\n",
       "    }\n",
       "</style>\n",
       "<table border=\"1\" class=\"dataframe\">\n",
       "  <thead>\n",
       "    <tr style=\"text-align: right;\">\n",
       "      <th></th>\n",
       "      <th>obj_id</th>\n",
       "      <th>class</th>\n",
       "      <th>i</th>\n",
       "      <th>g</th>\n",
       "      <th>di</th>\n",
       "      <th>dg</th>\n",
       "      <th>ra</th>\n",
       "      <th>dec</th>\n",
       "      <th>field</th>\n",
       "      <th>pdidx</th>\n",
       "      <th>j</th>\n",
       "      <th>h</th>\n",
       "      <th>k</th>\n",
       "      <th>ph_qual</th>\n",
       "      <th>2mass_acc</th>\n",
       "    </tr>\n",
       "  </thead>\n",
       "  <tbody>\n",
       "    <tr>\n",
       "      <th>0</th>\n",
       "      <td>MCGC1</td>\n",
       "      <td>gc</td>\n",
       "      <td>14.693</td>\n",
       "      <td>15.711</td>\n",
       "      <td>0.001</td>\n",
       "      <td>0.001</td>\n",
       "      <td>6.698988</td>\n",
       "      <td>39.746158</td>\n",
       "      <td>229</td>\n",
       "      <td>198028</td>\n",
       "      <td>14.727</td>\n",
       "      <td>14.166</td>\n",
       "      <td>14.072</td>\n",
       "      <td>AAA</td>\n",
       "      <td>True</td>\n",
       "    </tr>\n",
       "    <tr>\n",
       "      <th>1</th>\n",
       "      <td>2M019</td>\n",
       "      <td>galaxy</td>\n",
       "      <td>17.761</td>\n",
       "      <td>18.982</td>\n",
       "      <td>0.001</td>\n",
       "      <td>0.001</td>\n",
       "      <td>6.878996</td>\n",
       "      <td>40.133711</td>\n",
       "      <td>229</td>\n",
       "      <td>137396</td>\n",
       "      <td>15.522</td>\n",
       "      <td>14.946</td>\n",
       "      <td>14.501</td>\n",
       "      <td>AAB</td>\n",
       "      <td>True</td>\n",
       "    </tr>\n",
       "    <tr>\n",
       "      <th>2</th>\n",
       "      <td>H2</td>\n",
       "      <td>gc</td>\n",
       "      <td>17.725</td>\n",
       "      <td>18.414</td>\n",
       "      <td>0.001</td>\n",
       "      <td>0.001</td>\n",
       "      <td>7.013483</td>\n",
       "      <td>40.048756</td>\n",
       "      <td>229</td>\n",
       "      <td>131289</td>\n",
       "      <td>16.191</td>\n",
       "      <td>15.632</td>\n",
       "      <td>15.295</td>\n",
       "      <td>BCB</td>\n",
       "      <td>True</td>\n",
       "    </tr>\n",
       "    <tr>\n",
       "      <th>3</th>\n",
       "      <td>PAndAS-16</td>\n",
       "      <td>gc</td>\n",
       "      <td>16.901</td>\n",
       "      <td>17.605</td>\n",
       "      <td>0.001</td>\n",
       "      <td>0.001</td>\n",
       "      <td>6.249696</td>\n",
       "      <td>39.703656</td>\n",
       "      <td>229</td>\n",
       "      <td>215894</td>\n",
       "      <td>15.058</td>\n",
       "      <td>14.482</td>\n",
       "      <td>14.531</td>\n",
       "      <td>AAB</td>\n",
       "      <td>True</td>\n",
       "    </tr>\n",
       "    <tr>\n",
       "      <th>4</th>\n",
       "      <td>PAndAS-18</td>\n",
       "      <td>gc</td>\n",
       "      <td>22.520</td>\n",
       "      <td>23.375</td>\n",
       "      <td>0.026</td>\n",
       "      <td>0.021</td>\n",
       "      <td>7.097300</td>\n",
       "      <td>39.917811</td>\n",
       "      <td>229</td>\n",
       "      <td>179619</td>\n",
       "      <td>16.313</td>\n",
       "      <td>16.047</td>\n",
       "      <td>15.676</td>\n",
       "      <td>BCC</td>\n",
       "      <td>False</td>\n",
       "    </tr>\n",
       "  </tbody>\n",
       "</table>\n",
       "</div>"
      ],
      "text/plain": [
       "      obj_id   class       i       g     di     dg        ra        dec  \\\n",
       "0      MCGC1      gc  14.693  15.711  0.001  0.001  6.698988  39.746158   \n",
       "1      2M019  galaxy  17.761  18.982  0.001  0.001  6.878996  40.133711   \n",
       "2         H2      gc  17.725  18.414  0.001  0.001  7.013483  40.048756   \n",
       "3  PAndAS-16      gc  16.901  17.605  0.001  0.001  6.249696  39.703656   \n",
       "4  PAndAS-18      gc  22.520  23.375  0.026  0.021  7.097300  39.917811   \n",
       "\n",
       "   field   pdidx       j       h       k ph_qual 2mass_acc  \n",
       "0    229  198028  14.727  14.166  14.072     AAA      True  \n",
       "1    229  137396  15.522  14.946  14.501     AAB      True  \n",
       "2    229  131289  16.191  15.632  15.295     BCB      True  \n",
       "3    229  215894  15.058  14.482  14.531     AAB      True  \n",
       "4    229  179619  16.313  16.047  15.676     BCC     False  "
      ]
     },
     "execution_count": 341,
     "metadata": {},
     "output_type": "execute_result"
    }
   ],
   "source": [
    "training_data"
   ]
  },
  {
   "cell_type": "markdown",
   "id": "1ed00fb1",
   "metadata": {},
   "source": [
    "<a id='models'></a>\n",
    "# Models"
   ]
  },
  {
   "cell_type": "markdown",
   "id": "beea3eff",
   "metadata": {},
   "source": [
    "Here we will load in the true full training data set"
   ]
  },
  {
   "cell_type": "code",
   "execution_count": 342,
   "id": "281f6129",
   "metadata": {},
   "outputs": [],
   "source": [
    "# select most recent training data\n",
    "train_file = 'training_data_2704.pk' \n",
    "\n",
    "with open(f'./pickle/training_data/{train_file}','rb') as f:\n",
    "    training_data = pickle.load(f)"
   ]
  },
  {
   "cell_type": "code",
   "execution_count": 343,
   "id": "25aac7c5",
   "metadata": {},
   "outputs": [
    {
     "data": {
      "text/html": [
       "<div>\n",
       "<style scoped>\n",
       "    .dataframe tbody tr th:only-of-type {\n",
       "        vertical-align: middle;\n",
       "    }\n",
       "\n",
       "    .dataframe tbody tr th {\n",
       "        vertical-align: top;\n",
       "    }\n",
       "\n",
       "    .dataframe thead th {\n",
       "        text-align: right;\n",
       "    }\n",
       "</style>\n",
       "<table border=\"1\" class=\"dataframe\">\n",
       "  <thead>\n",
       "    <tr style=\"text-align: right;\">\n",
       "      <th></th>\n",
       "      <th>obj_id</th>\n",
       "      <th>class</th>\n",
       "      <th>i</th>\n",
       "      <th>g</th>\n",
       "      <th>g-i</th>\n",
       "      <th>di</th>\n",
       "      <th>dg</th>\n",
       "      <th>ra</th>\n",
       "      <th>dec</th>\n",
       "      <th>field</th>\n",
       "      <th>pdidx</th>\n",
       "      <th>rbcidx</th>\n",
       "      <th>nearby</th>\n",
       "      <th>j</th>\n",
       "      <th>h</th>\n",
       "      <th>k</th>\n",
       "      <th>ph_qual</th>\n",
       "      <th>2mass_acc</th>\n",
       "      <th>i-j</th>\n",
       "    </tr>\n",
       "  </thead>\n",
       "  <tbody>\n",
       "    <tr>\n",
       "      <th>0</th>\n",
       "      <td>HM33-A</td>\n",
       "      <td>gc</td>\n",
       "      <td>22.424000</td>\n",
       "      <td>22.940001</td>\n",
       "      <td>0.516001</td>\n",
       "      <td>0.026</td>\n",
       "      <td>0.017</td>\n",
       "      <td>23.923733</td>\n",
       "      <td>28.821186</td>\n",
       "      <td>5</td>\n",
       "      <td>39800</td>\n",
       "      <td>2647</td>\n",
       "      <td>49</td>\n",
       "      <td>13.028</td>\n",
       "      <td>12.881</td>\n",
       "      <td>12.805</td>\n",
       "      <td>AAA</td>\n",
       "      <td>False</td>\n",
       "      <td>9.396000</td>\n",
       "    </tr>\n",
       "    <tr>\n",
       "      <th>1</th>\n",
       "      <td>C30</td>\n",
       "      <td>galaxy</td>\n",
       "      <td>18.049000</td>\n",
       "      <td>19.500999</td>\n",
       "      <td>1.452000</td>\n",
       "      <td>0.001</td>\n",
       "      <td>0.002</td>\n",
       "      <td>12.105896</td>\n",
       "      <td>29.267633</td>\n",
       "      <td>11</td>\n",
       "      <td>118854</td>\n",
       "      <td>2431</td>\n",
       "      <td>24</td>\n",
       "      <td>15.869</td>\n",
       "      <td>15.216</td>\n",
       "      <td>14.756</td>\n",
       "      <td>AAB</td>\n",
       "      <td>True</td>\n",
       "      <td>2.180000</td>\n",
       "    </tr>\n",
       "    <tr>\n",
       "      <th>2</th>\n",
       "      <td>LAMOST-C22</td>\n",
       "      <td>galaxy</td>\n",
       "      <td>17.628000</td>\n",
       "      <td>19.153000</td>\n",
       "      <td>1.525000</td>\n",
       "      <td>0.001</td>\n",
       "      <td>0.001</td>\n",
       "      <td>11.738621</td>\n",
       "      <td>29.693506</td>\n",
       "      <td>11</td>\n",
       "      <td>24692</td>\n",
       "      <td>2319</td>\n",
       "      <td>17</td>\n",
       "      <td>15.251</td>\n",
       "      <td>14.503</td>\n",
       "      <td>13.918</td>\n",
       "      <td>AAA</td>\n",
       "      <td>True</td>\n",
       "      <td>2.377000</td>\n",
       "    </tr>\n",
       "    <tr>\n",
       "      <th>3</th>\n",
       "      <td>HM33-B</td>\n",
       "      <td>gc</td>\n",
       "      <td>19.538000</td>\n",
       "      <td>20.386000</td>\n",
       "      <td>0.848000</td>\n",
       "      <td>0.003</td>\n",
       "      <td>0.003</td>\n",
       "      <td>24.008787</td>\n",
       "      <td>29.963625</td>\n",
       "      <td>13</td>\n",
       "      <td>43246</td>\n",
       "      <td>2648</td>\n",
       "      <td>45</td>\n",
       "      <td>16.429</td>\n",
       "      <td>15.589</td>\n",
       "      <td>15.154</td>\n",
       "      <td>BBC</td>\n",
       "      <td>False</td>\n",
       "      <td>3.109000</td>\n",
       "    </tr>\n",
       "    <tr>\n",
       "      <th>4</th>\n",
       "      <td>LAMOST-C18</td>\n",
       "      <td>galaxy</td>\n",
       "      <td>17.177999</td>\n",
       "      <td>18.388000</td>\n",
       "      <td>1.210001</td>\n",
       "      <td>0.001</td>\n",
       "      <td>0.001</td>\n",
       "      <td>23.842129</td>\n",
       "      <td>29.552473</td>\n",
       "      <td>14</td>\n",
       "      <td>122860</td>\n",
       "      <td>2644</td>\n",
       "      <td>12</td>\n",
       "      <td>14.838</td>\n",
       "      <td>14.277</td>\n",
       "      <td>13.847</td>\n",
       "      <td>AAA</td>\n",
       "      <td>True</td>\n",
       "      <td>2.339999</td>\n",
       "    </tr>\n",
       "    <tr>\n",
       "      <th>...</th>\n",
       "      <td>...</td>\n",
       "      <td>...</td>\n",
       "      <td>...</td>\n",
       "      <td>...</td>\n",
       "      <td>...</td>\n",
       "      <td>...</td>\n",
       "      <td>...</td>\n",
       "      <td>...</td>\n",
       "      <td>...</td>\n",
       "      <td>...</td>\n",
       "      <td>...</td>\n",
       "      <td>...</td>\n",
       "      <td>...</td>\n",
       "      <td>...</td>\n",
       "      <td>...</td>\n",
       "      <td>...</td>\n",
       "      <td>...</td>\n",
       "      <td>...</td>\n",
       "      <td>...</td>\n",
       "    </tr>\n",
       "    <tr>\n",
       "      <th>1329</th>\n",
       "      <td>PA-N185</td>\n",
       "      <td>gc</td>\n",
       "      <td>20.188000</td>\n",
       "      <td>21.688999</td>\n",
       "      <td>1.500999</td>\n",
       "      <td>0.005</td>\n",
       "      <td>0.007</td>\n",
       "      <td>9.578100</td>\n",
       "      <td>48.367985</td>\n",
       "      <td>398</td>\n",
       "      <td>256376</td>\n",
       "      <td>306</td>\n",
       "      <td>106</td>\n",
       "      <td>11.881</td>\n",
       "      <td>11.436</td>\n",
       "      <td>11.314</td>\n",
       "      <td>AAA</td>\n",
       "      <td>False</td>\n",
       "      <td>8.307000</td>\n",
       "    </tr>\n",
       "    <tr>\n",
       "      <th>1330</th>\n",
       "      <td>FJJ-V</td>\n",
       "      <td>gc</td>\n",
       "      <td>17.434999</td>\n",
       "      <td>18.451000</td>\n",
       "      <td>1.016001</td>\n",
       "      <td>0.001</td>\n",
       "      <td>0.001</td>\n",
       "      <td>9.806167</td>\n",
       "      <td>48.384743</td>\n",
       "      <td>398</td>\n",
       "      <td>168423</td>\n",
       "      <td>372</td>\n",
       "      <td>156</td>\n",
       "      <td>13.321</td>\n",
       "      <td>12.966</td>\n",
       "      <td>12.889</td>\n",
       "      <td>AAA</td>\n",
       "      <td>False</td>\n",
       "      <td>4.113999</td>\n",
       "    </tr>\n",
       "    <tr>\n",
       "      <th>1331</th>\n",
       "      <td>FJJ-VII</td>\n",
       "      <td>gc</td>\n",
       "      <td>19.523001</td>\n",
       "      <td>20.520000</td>\n",
       "      <td>0.997000</td>\n",
       "      <td>0.003</td>\n",
       "      <td>0.004</td>\n",
       "      <td>9.826713</td>\n",
       "      <td>48.384266</td>\n",
       "      <td>398</td>\n",
       "      <td>168594</td>\n",
       "      <td>377</td>\n",
       "      <td>163</td>\n",
       "      <td>14.687</td>\n",
       "      <td>14.317</td>\n",
       "      <td>14.254</td>\n",
       "      <td>AAA</td>\n",
       "      <td>False</td>\n",
       "      <td>4.836001</td>\n",
       "    </tr>\n",
       "    <tr>\n",
       "      <th>1332</th>\n",
       "      <td>PA-N147-3</td>\n",
       "      <td>gc</td>\n",
       "      <td>19.910000</td>\n",
       "      <td>20.820999</td>\n",
       "      <td>0.910999</td>\n",
       "      <td>0.004</td>\n",
       "      <td>0.004</td>\n",
       "      <td>8.542029</td>\n",
       "      <td>49.044243</td>\n",
       "      <td>402</td>\n",
       "      <td>101369</td>\n",
       "      <td>91</td>\n",
       "      <td>36</td>\n",
       "      <td>14.378</td>\n",
       "      <td>13.857</td>\n",
       "      <td>13.694</td>\n",
       "      <td>AAA</td>\n",
       "      <td>False</td>\n",
       "      <td>5.532000</td>\n",
       "    </tr>\n",
       "    <tr>\n",
       "      <th>1333</th>\n",
       "      <td>PA-N147-2</td>\n",
       "      <td>gc</td>\n",
       "      <td>17.752001</td>\n",
       "      <td>18.606001</td>\n",
       "      <td>0.854000</td>\n",
       "      <td>0.001</td>\n",
       "      <td>0.001</td>\n",
       "      <td>8.430446</td>\n",
       "      <td>48.645897</td>\n",
       "      <td>402</td>\n",
       "      <td>163343</td>\n",
       "      <td>84</td>\n",
       "      <td>60</td>\n",
       "      <td>15.908</td>\n",
       "      <td>15.330</td>\n",
       "      <td>15.205</td>\n",
       "      <td>AAB</td>\n",
       "      <td>True</td>\n",
       "      <td>1.844001</td>\n",
       "    </tr>\n",
       "  </tbody>\n",
       "</table>\n",
       "<p>1334 rows × 19 columns</p>\n",
       "</div>"
      ],
      "text/plain": [
       "          obj_id   class          i          g       g-i     di     dg  \\\n",
       "0         HM33-A      gc  22.424000  22.940001  0.516001  0.026  0.017   \n",
       "1            C30  galaxy  18.049000  19.500999  1.452000  0.001  0.002   \n",
       "2     LAMOST-C22  galaxy  17.628000  19.153000  1.525000  0.001  0.001   \n",
       "3         HM33-B      gc  19.538000  20.386000  0.848000  0.003  0.003   \n",
       "4     LAMOST-C18  galaxy  17.177999  18.388000  1.210001  0.001  0.001   \n",
       "...          ...     ...        ...        ...       ...    ...    ...   \n",
       "1329     PA-N185      gc  20.188000  21.688999  1.500999  0.005  0.007   \n",
       "1330       FJJ-V      gc  17.434999  18.451000  1.016001  0.001  0.001   \n",
       "1331     FJJ-VII      gc  19.523001  20.520000  0.997000  0.003  0.004   \n",
       "1332   PA-N147-3      gc  19.910000  20.820999  0.910999  0.004  0.004   \n",
       "1333   PA-N147-2      gc  17.752001  18.606001  0.854000  0.001  0.001   \n",
       "\n",
       "             ra        dec  field   pdidx  rbcidx  nearby       j       h  \\\n",
       "0     23.923733  28.821186      5   39800    2647      49  13.028  12.881   \n",
       "1     12.105896  29.267633     11  118854    2431      24  15.869  15.216   \n",
       "2     11.738621  29.693506     11   24692    2319      17  15.251  14.503   \n",
       "3     24.008787  29.963625     13   43246    2648      45  16.429  15.589   \n",
       "4     23.842129  29.552473     14  122860    2644      12  14.838  14.277   \n",
       "...         ...        ...    ...     ...     ...     ...     ...     ...   \n",
       "1329   9.578100  48.367985    398  256376     306     106  11.881  11.436   \n",
       "1330   9.806167  48.384743    398  168423     372     156  13.321  12.966   \n",
       "1331   9.826713  48.384266    398  168594     377     163  14.687  14.317   \n",
       "1332   8.542029  49.044243    402  101369      91      36  14.378  13.857   \n",
       "1333   8.430446  48.645897    402  163343      84      60  15.908  15.330   \n",
       "\n",
       "           k ph_qual 2mass_acc       i-j  \n",
       "0     12.805     AAA     False  9.396000  \n",
       "1     14.756     AAB      True  2.180000  \n",
       "2     13.918     AAA      True  2.377000  \n",
       "3     15.154     BBC     False  3.109000  \n",
       "4     13.847     AAA      True  2.339999  \n",
       "...      ...     ...       ...       ...  \n",
       "1329  11.314     AAA     False  8.307000  \n",
       "1330  12.889     AAA     False  4.113999  \n",
       "1331  14.254     AAA     False  4.836001  \n",
       "1332  13.694     AAA     False  5.532000  \n",
       "1333  15.205     AAB      True  1.844001  \n",
       "\n",
       "[1334 rows x 19 columns]"
      ]
     },
     "execution_count": 343,
     "metadata": {},
     "output_type": "execute_result"
    }
   ],
   "source": [
    "training_data"
   ]
  },
  {
   "cell_type": "markdown",
   "id": "5b950284",
   "metadata": {},
   "source": [
    "<a id='models_rf'></a>\n",
    "## Random Forest Models\n",
    "Functions defining the random forest model, taking a training set and parameters and returning a classifier and, if chosen, train and test results from model training.  \n",
    "Another functions, rf_pred, also takes a field as a parameter and makes predictions on that field."
   ]
  },
  {
   "cell_type": "code",
   "execution_count": 344,
   "id": "bc3e8f5a",
   "metadata": {},
   "outputs": [],
   "source": [
    "# generate the classifier and return (with optional returning of train and test values)\n",
    "def ranfor(df,train_size=0.8,n_estimators=50,criterion='gini',features=['i','g','g-i'], max_depth=None, \n",
    "           max_leaf_nodes=None, min_samples_leaf=1, min_samples_split=2, max_features=2 ,stats=False):\n",
    "    # select features for training\n",
    "    X = df[features]\n",
    "    y = df['class']\n",
    "    # split the data\n",
    "    X_train, X_test, y_train, y_test = train_test_split(X, y, train_size=train_size) # X\n",
    "    # train the regressor model\n",
    "    ran_for_class = RandomForestClassifier(n_estimators=n_estimators, max_depth=max_depth,\n",
    "                                    criterion=criterion, max_leaf_nodes=max_leaf_nodes, max_features=max_features,\n",
    "                                    min_samples_leaf=min_samples_leaf,min_samples_split=min_samples_split,n_jobs=-1\n",
    "                                   ).fit(X_train,y_train)\n",
    "    \n",
    "    \n",
    "    #acc = ran_for_class.score(X_test,y_test)\n",
    "    \n",
    "    #true = y_test.to_numpy()\n",
    "    if stats:\n",
    "        train_pred = ran_for_class.predict(X_train)\n",
    "        test_pred = ran_for_class.predict(X_test)\n",
    "        return ran_for_class, test_pred, y_test, train_pred, y_train\n",
    "    else: return ran_for_class"
   ]
  },
  {
   "cell_type": "code",
   "execution_count": 345,
   "id": "a6320870",
   "metadata": {},
   "outputs": [],
   "source": [
    "# returns predictions for a given field, allowing a crowding parameter to filter training values\n",
    "def rf_pred(field:int,train:pd.DataFrame,crowding=300,n_estimators=50,max_depth=None,max_leaf_nodes=None,min_samples_leaf=1,features=['i','g','g-i']):\n",
    "    training_data_ = train[train['nearby'] <= crowding]\n",
    "    cat = load_cat(field)\n",
    "    \n",
    "    # drop rows with high delta g/i values\n",
    "    cat_d = cat[cat['dg']+cat['di'] < 0.05]\n",
    "    # drop stars & saturated points\n",
    "    cat_candidate = cat_d[(cat_d['ig'] == 1) & (cat_d['ii'] == 1)]\n",
    "    # add in g-i feature\n",
    "    cat_candidate['g-i'] = cat_candidate['g']-cat_candidate['i']\n",
    "    \n",
    "    X = cat_candidate[features]\n",
    "    X = X.to_pandas()\n",
    "    \n",
    "    res = ranfor(training_data_,train_size=0.8,n_estimators=n_estimators,criterion='gini',\n",
    "                     features=features, max_depth=max_depth, max_leaf_nodes=max_leaf_nodes,\n",
    "                     min_samples_leaf=1).predict(X)\n",
    "    \n",
    "    cat_pred = cat_candidate[['RA','Dec','iccd','xg','yg','g','dg','ig','xi','yi','i','di','ii','field']]\n",
    "    cat_pred['pred'] = res\n",
    "    return cat_pred"
   ]
  },
  {
   "cell_type": "markdown",
   "id": "7ed84b90",
   "metadata": {},
   "source": [
    "<a id='models_mlp'></a>\n",
    "## MLP Models"
   ]
  },
  {
   "cell_type": "code",
   "execution_count": 346,
   "id": "1c959c3c",
   "metadata": {},
   "outputs": [],
   "source": [
    "def mlp_class(df,train_size=0.8,hidden_layer_sizes=(2,),activation='tanh',alpha=0.0001,max_iter=500,\n",
    "              features=['i','g','g-i'],solver='lbfgs', max_fun=15000, stats=False):\n",
    "    # select features for training\n",
    "    X = df[features]\n",
    "    y = df['class']\n",
    "    # split and scale the data\n",
    "    scaler = preprocessing.StandardScaler().fit(X)\n",
    "    X_scaled = scaler.transform(X)\n",
    "    X_train, X_test, y_train, y_test = train_test_split(X_scaled, y, train_size=train_size) # X_scaled\n",
    "    # train the regressor model\n",
    "    mlp_classifier = MLPClassifier(hidden_layer_sizes=hidden_layer_sizes,\n",
    "                                   activation=activation, alpha=alpha, max_iter=max_iter, max_fun=max_fun,\n",
    "                                   learning_rate='constant', solver=solver\n",
    "                                  ).fit(X_train,y_train)\n",
    "    if stats:\n",
    "        # return test results for statistic measurements\n",
    "        train_pred = mlp_classifier.predict(X_train)\n",
    "        test_pred = mlp_classifier.predict(X_test)\n",
    "        return mlp_classifier, test_pred, y_test, train_pred, y_train\n",
    "    else: return mlp_classifier"
   ]
  },
  {
   "cell_type": "code",
   "execution_count": 347,
   "id": "5dc34f7d",
   "metadata": {},
   "outputs": [],
   "source": [
    "def mlp_pred(field:int,clf):\n",
    "    cat = load_cat(field)\n",
    "    # drop rows with high delta g/i values\n",
    "    cat_d = cat[cat['dg']+cat['di'] < 0.05]\n",
    "    # drop stars & saturated points\n",
    "    cat_candidate = cat_d[(cat_d['ig'] == 1) & (cat_d['ii'] == 1)]\n",
    "    # add in g-i feature\n",
    "    cat_candidate['g-i'] = cat_candidate['g']-cat_candidate['i']\n",
    "    \n",
    "    X = cat_candidate['i','g','g-i']\n",
    "    X = X.to_pandas()\n",
    "    \n",
    "    X_scaled = preprocessing.StandardScaler().fit(X).transform(X)\n",
    "    res = clf.predict(X_scaled)\n",
    "    \n",
    "    cat_pred = cat_candidate[['RA','Dec','iccd','xg','yg','g','dg','ig','xi','yi','i','di','ii','field']]\n",
    "    cat_pred['pred'] = res\n",
    "    return cat_pred"
   ]
  },
  {
   "cell_type": "markdown",
   "id": "85eafd20",
   "metadata": {},
   "source": [
    "Make predictions - Random Forest\n",
    "============================"
   ]
  },
  {
   "cell_type": "markdown",
   "id": "afdbe7c4",
   "metadata": {},
   "source": [
    "## Using i,g,i-g\n",
    "Takes a list of fields and makes predictions over them all"
   ]
  },
  {
   "cell_type": "code",
   "execution_count": 348,
   "id": "02679a7c",
   "metadata": {},
   "outputs": [],
   "source": [
    "# select most recent training data\n",
    "train_file = 'training_data_2704.pk' # training data with only gcs and galaxies\n",
    "\n",
    "with open(f'./pickle/training_data/{train_file}','rb') as f:\n",
    "    training_data = pickle.load(f)\n"
   ]
  },
  {
   "cell_type": "code",
   "execution_count": 349,
   "id": "778875ed",
   "metadata": {},
   "outputs": [],
   "source": [
    "#Parameters\n",
    "#exclude fields directly around m31\n",
    "field_exclusions = [248,249,266,265]\n",
    "\n",
    "#fields = [i for i in range(1,407) if i not in field_exclusions]\n",
    "fields = [229]\n",
    "date = 'xxxx'\n",
    "\n",
    "n_trees = 40\n",
    "max_depth_ = 9\n",
    "max_leaf_nodes_ = 12\n",
    "min_samples_leaf_ = 20\n",
    "features_ = ['i','g','g-i']"
   ]
  },
  {
   "cell_type": "code",
   "execution_count": 350,
   "id": "0e0ee575",
   "metadata": {
    "scrolled": true
   },
   "outputs": [
    {
     "name": "stdout",
     "output_type": "stream",
     "text": [
      "Start:\n",
      "Field 229\n",
      "Filtering...\n",
      "Found 1789 candidates\n",
      "\n",
      "\n"
     ]
    }
   ],
   "source": [
    "Path(f'./pickle/predictions/{date}').mkdir(parents=True, exist_ok=True)\n",
    "\n",
    "print('Start:')\n",
    "for field in fields:\n",
    "    gc_filter = []\n",
    "    print(f'Field {field}')\n",
    "    predictions = rf_pred(field,training_data,n_estimators=n_trees,max_depth=max_depth_, max_leaf_nodes=max_leaf_nodes_,min_samples_leaf=min_samples_leaf_, features=features_)\n",
    "    print('Filtering...')\n",
    "    gc_candidates = predictions[predictions['pred']=='gc']\n",
    "    with open(f'pickle/predictions/{date}/predictionsf{field}.pk','wb') as f:\n",
    "        pickle.dump(gc_candidates,f)\n",
    "    print(f'Found {len(gc_candidates)} candidates')\n",
    "    print('\\n')"
   ]
  },
  {
   "cell_type": "code",
   "execution_count": 313,
   "id": "8a825e2d",
   "metadata": {},
   "outputs": [
    {
     "data": {
      "text/html": [
       "<div><i>Table length=1901</i>\n",
       "<table id=\"table2807879427504\" class=\"table-striped table-bordered table-condensed\">\n",
       "<thead><tr><th>RA</th><th>Dec</th><th>iccd</th><th>xg</th><th>yg</th><th>g</th><th>dg</th><th>ig</th><th>xi</th><th>yi</th><th>i</th><th>di</th><th>ii</th><th>field</th><th>pred</th></tr></thead>\n",
       "<thead><tr><th>float64</th><th>float64</th><th>int32</th><th>float64</th><th>float64</th><th>float64</th><th>float64</th><th>int32</th><th>float64</th><th>float64</th><th>float64</th><th>float64</th><th>int32</th><th>int32</th><th>object</th></tr></thead>\n",
       "<tr><td>7.410024999999997</td><td>40.45856666666667</td><td>1</td><td>567.87</td><td>4388.98</td><td>20.595</td><td>0.003</td><td>1</td><td>555.99</td><td>4416.66</td><td>20.0</td><td>0.004</td><td>1</td><td>229</td><td>gc</td></tr>\n",
       "<tr><td>7.441845833333332</td><td>40.54064722222222</td><td>1</td><td>1041.14</td><td>2785.47</td><td>20.624</td><td>0.003</td><td>1</td><td>1028.67</td><td>2813.71</td><td>19.99</td><td>0.004</td><td>1</td><td>229</td><td>gc</td></tr>\n",
       "<tr><td>7.506354166666664</td><td>40.45320277777778</td><td>1</td><td>2001.04</td><td>4475.53</td><td>21.621</td><td>0.006</td><td>1</td><td>1988.84</td><td>4503.41</td><td>22.474</td><td>0.024</td><td>1</td><td>229</td><td>gc</td></tr>\n",
       "<tr><td>7.510824999999997</td><td>40.45275277777778</td><td>1</td><td>2067.7</td><td>4483.46</td><td>21.914</td><td>0.007</td><td>1</td><td>2055.48</td><td>4511.35</td><td>22.818</td><td>0.033</td><td>1</td><td>229</td><td>gc</td></tr>\n",
       "<tr><td>7.511654166666666</td><td>40.455400000000004</td><td>1</td><td>2080.04</td><td>4431.83</td><td>22.247</td><td>0.009</td><td>1</td><td>2067.81</td><td>4459.74</td><td>22.106</td><td>0.018</td><td>1</td><td>229</td><td>gc</td></tr>\n",
       "<tr><td>7.398949999999999</td><td>40.586558333333336</td><td>1</td><td>405.46</td><td>1897.83</td><td>22.326</td><td>0.009</td><td>1</td><td>392.89</td><td>1926.25</td><td>21.406</td><td>0.01</td><td>1</td><td>229</td><td>gc</td></tr>\n",
       "<tr><td>7.5011416666666655</td><td>40.60574166666667</td><td>1</td><td>1926.17</td><td>1499.87</td><td>22.553</td><td>0.011</td><td>1</td><td>1913.09</td><td>1528.65</td><td>22.85</td><td>0.034</td><td>1</td><td>229</td><td>gc</td></tr>\n",
       "<tr><td>7.498729166666667</td><td>40.60543055555556</td><td>1</td><td>1890.18</td><td>1506.53</td><td>22.564</td><td>0.011</td><td>1</td><td>1877.11</td><td>1535.27</td><td>22.763</td><td>0.032</td><td>1</td><td>229</td><td>gc</td></tr>\n",
       "<tr><td>7.489216666666664</td><td>40.50774444444444</td><td>1</td><td>1745.53</td><td>3417.12</td><td>22.81</td><td>0.013</td><td>1</td><td>1733.07</td><td>3445.28</td><td>22.601</td><td>0.027</td><td>1</td><td>229</td><td>gc</td></tr>\n",
       "<tr><td>7.511929166666665</td><td>40.56529166666667</td><td>1</td><td>2085.33</td><td>2288.84</td><td>22.856</td><td>0.014</td><td>1</td><td>2072.45</td><td>2317.41</td><td>22.232</td><td>0.02</td><td>1</td><td>229</td><td>gc</td></tr>\n",
       "<tr><td>...</td><td>...</td><td>...</td><td>...</td><td>...</td><td>...</td><td>...</td><td>...</td><td>...</td><td>...</td><td>...</td><td>...</td><td>...</td><td>...</td><td>...</td></tr>\n",
       "<tr><td>6.238341666666667</td><td>39.91348611111111</td><td>36</td><td>1969.69</td><td>4492.56</td><td>23.315</td><td>0.02</td><td>1</td><td>1982.1</td><td>4462.95</td><td>22.366</td><td>0.023</td><td>1</td><td>229</td><td>gc</td></tr>\n",
       "<tr><td>6.343991666666668</td><td>39.83833333333334</td><td>36</td><td>402.37</td><td>3030.3</td><td>23.328</td><td>0.02</td><td>1</td><td>414.47</td><td>3000.49</td><td>22.539</td><td>0.026</td><td>1</td><td>229</td><td>gc</td></tr>\n",
       "<tr><td>6.27505</td><td>39.90616388888889</td><td>36</td><td>1420.05</td><td>4350.38</td><td>23.354</td><td>0.021</td><td>1</td><td>1432.43</td><td>4320.6</td><td>22.318</td><td>0.022</td><td>1</td><td>229</td><td>gc</td></tr>\n",
       "<tr><td>6.360820833333332</td><td>39.83146666666667</td><td>36</td><td>151.75</td><td>2896.93</td><td>23.354</td><td>0.021</td><td>1</td><td>163.83</td><td>2867.07</td><td>22.371</td><td>0.023</td><td>1</td><td>229</td><td>gc</td></tr>\n",
       "<tr><td>6.3193625</td><td>39.886580555555554</td><td>36</td><td>760.09</td><td>3969.72</td><td>23.369</td><td>0.021</td><td>1</td><td>772.4</td><td>3939.87</td><td>22.626</td><td>0.028</td><td>1</td><td>229</td><td>gc</td></tr>\n",
       "<tr><td>6.3675125</td><td>39.82900555555556</td><td>36</td><td>52.06</td><td>2849.04</td><td>23.405</td><td>0.022</td><td>1</td><td>64.13</td><td>2819.12</td><td>22.489</td><td>0.025</td><td>1</td><td>229</td><td>gc</td></tr>\n",
       "<tr><td>6.255895833333334</td><td>39.724113888888894</td><td>36</td><td>1761.09</td><td>791.12</td><td>23.388</td><td>0.022</td><td>1</td><td>1772.68</td><td>761.69</td><td>22.524</td><td>0.026</td><td>1</td><td>229</td><td>gc</td></tr>\n",
       "<tr><td>6.260133333333332</td><td>39.82191111111111</td><td>36</td><td>1666.87</td><td>2707.13</td><td>23.5</td><td>0.023</td><td>1</td><td>1678.89</td><td>2677.6</td><td>22.411</td><td>0.024</td><td>1</td><td>229</td><td>gc</td></tr>\n",
       "<tr><td>6.354491666666668</td><td>39.771002777777774</td><td>36</td><td>261.84</td><td>1715.74</td><td>23.524</td><td>0.024</td><td>1</td><td>273.65</td><td>1685.98</td><td>22.464</td><td>0.025</td><td>1</td><td>229</td><td>gc</td></tr>\n",
       "<tr><td>6.2770416666666655</td><td>39.734775</td><td>36</td><td>1438.28</td><td>1001.74</td><td>23.527</td><td>0.024</td><td>1</td><td>1449.92</td><td>972.24</td><td>22.487</td><td>0.025</td><td>1</td><td>229</td><td>gc</td></tr>\n",
       "</table></div>"
      ],
      "text/plain": [
       "<Table length=1901>\n",
       "        RA                Dec          iccd    xg   ...   ii  field  pred \n",
       "     float64            float64       int32 float64 ... int32 int32 object\n",
       "------------------ ------------------ ----- ------- ... ----- ----- ------\n",
       " 7.410024999999997  40.45856666666667     1  567.87 ...     1   229     gc\n",
       " 7.441845833333332  40.54064722222222     1 1041.14 ...     1   229     gc\n",
       " 7.506354166666664  40.45320277777778     1 2001.04 ...     1   229     gc\n",
       " 7.510824999999997  40.45275277777778     1  2067.7 ...     1   229     gc\n",
       " 7.511654166666666 40.455400000000004     1 2080.04 ...     1   229     gc\n",
       " 7.398949999999999 40.586558333333336     1  405.46 ...     1   229     gc\n",
       "7.5011416666666655  40.60574166666667     1 1926.17 ...     1   229     gc\n",
       " 7.498729166666667  40.60543055555556     1 1890.18 ...     1   229     gc\n",
       " 7.489216666666664  40.50774444444444     1 1745.53 ...     1   229     gc\n",
       " 7.511929166666665  40.56529166666667     1 2085.33 ...     1   229     gc\n",
       "               ...                ...   ...     ... ...   ...   ...    ...\n",
       " 6.238341666666667  39.91348611111111    36 1969.69 ...     1   229     gc\n",
       " 6.343991666666668  39.83833333333334    36  402.37 ...     1   229     gc\n",
       "           6.27505  39.90616388888889    36 1420.05 ...     1   229     gc\n",
       " 6.360820833333332  39.83146666666667    36  151.75 ...     1   229     gc\n",
       "         6.3193625 39.886580555555554    36  760.09 ...     1   229     gc\n",
       "         6.3675125  39.82900555555556    36   52.06 ...     1   229     gc\n",
       " 6.255895833333334 39.724113888888894    36 1761.09 ...     1   229     gc\n",
       " 6.260133333333332  39.82191111111111    36 1666.87 ...     1   229     gc\n",
       " 6.354491666666668 39.771002777777774    36  261.84 ...     1   229     gc\n",
       "6.2770416666666655          39.734775    36 1438.28 ...     1   229     gc"
      ]
     },
     "execution_count": 313,
     "metadata": {},
     "output_type": "execute_result"
    }
   ],
   "source": [
    "gc_candidates"
   ]
  },
  {
   "cell_type": "markdown",
   "id": "feab16b3",
   "metadata": {},
   "source": [
    "# Making Predictions - MLP"
   ]
  },
  {
   "cell_type": "code",
   "execution_count": 314,
   "id": "477fe0fe",
   "metadata": {},
   "outputs": [],
   "source": [
    "# select most recent training data\n",
    "train_file = 'training_data_2704.pk' # training data with only gcs and galaxies\n",
    "\n",
    "with open(f'./pickle/training_data/{train_file}','rb') as f:\n",
    "    training_data = pickle.load(f)\n"
   ]
  },
  {
   "cell_type": "code",
   "execution_count": 315,
   "id": "9c11a820",
   "metadata": {},
   "outputs": [],
   "source": [
    "#Parameters\n",
    "#exclude fields directly around m31\n",
    "field_exclusions = [248,249,266,265]\n",
    "\n",
    "#fields = [i for i in range(30,407) if i not in field_exclusions]\n",
    "fields = [229]\n",
    "date = 'xxxx'\n",
    "\n",
    "solver = 'lbfgs'\n",
    "activation = 'tanh'\n",
    "alpha = 1.1\n",
    "hls = (2,)\n",
    "features_ = ['i','g','g-i']"
   ]
  },
  {
   "cell_type": "code",
   "execution_count": 351,
   "id": "d3a370ef",
   "metadata": {},
   "outputs": [
    {
     "name": "stdout",
     "output_type": "stream",
     "text": [
      "Training...\n",
      "\n",
      "recall = 0.869281045751634\n",
      "acc =  0.8539325842696629\n",
      "prec =  0.875\n",
      "\n",
      "recall = 0.9154929577464789\n",
      "acc =  0.846441947565543\n",
      "prec =  0.8176100628930818\n",
      "Final classifier recall: 0.915\n"
     ]
    }
   ],
   "source": [
    "Path(f'./pickle/predictions/{date}').mkdir(parents=True, exist_ok=True)\n",
    "\n",
    "print('Training...')\n",
    "# loop until we train a classifier that has a high test recall score\n",
    "recall = 0\n",
    "while recall<0.9:\n",
    "    clf, test_pred, test_true, _, _ =  mlp_class(training_data,train_size=0.8,hidden_layer_sizes=hls,activation=activation,alpha=alpha,\n",
    "                                               max_iter=500, features=['i','g','g-i'],solver=solver, max_fun=15000, stats=True)\n",
    "    tn, fp, fn, tp = confusion_matrix(test_true,test_pred,labels=['galaxy','gc']).ravel()\n",
    "    recall = tp/(tp+fn)\n",
    "    accuracy = (tp+tn)/(tp+tn+fp+fn)\n",
    "    precision = tp/(tp+fp)\n",
    "    print('\\nrecall =',recall)\n",
    "    print('acc = ', accuracy)\n",
    "    print('prec = ', precision)\n",
    "print(f'Final classifier recall: {recall:.3f}')"
   ]
  },
  {
   "cell_type": "code",
   "execution_count": 320,
   "id": "c10c5f7b",
   "metadata": {},
   "outputs": [
    {
     "name": "stdout",
     "output_type": "stream",
     "text": [
      "Predictions:\n",
      "Field 229\n",
      "10382\n",
      "\n",
      "\n"
     ]
    }
   ],
   "source": [
    "print('Predictions:')\n",
    "for field in fields:\n",
    "    print(f'Field {field}')\n",
    "    gc_candidates = mlp_pred(field,clf)\n",
    "    with open(f'pickle/predictions/{date}/predictionsf{field}.pk','wb') as f:\n",
    "        pickle.dump(gc_candidates,f)\n",
    "    print(len(gc_candidates))\n",
    "    print('\\n')"
   ]
  },
  {
   "cell_type": "markdown",
   "id": "daffdb2f",
   "metadata": {},
   "source": [
    "## Testing model performance"
   ]
  },
  {
   "cell_type": "code",
   "execution_count": 252,
   "id": "1734cc41",
   "metadata": {},
   "outputs": [],
   "source": [
    "font = {'family': 'Georgia'}\n",
    "plt.rc('font',**font)"
   ]
  },
  {
   "cell_type": "markdown",
   "id": "324f5ddb",
   "metadata": {},
   "source": [
    "## ROC Curves"
   ]
  },
  {
   "cell_type": "code",
   "execution_count": 253,
   "id": "7583f224",
   "metadata": {},
   "outputs": [],
   "source": [
    "df = training_data\n",
    "features = ['i','g','g-i']\n",
    "hidden_layer_sizes=(2,)\n",
    "activation = 'tanh'\n",
    "max_iter = 500\n",
    "max_fun = 15000\n",
    "solver = 'lbfgs'\n",
    "alpha = 1.1\n",
    "train_size = 0.8\n",
    "\n",
    "n_estimators = 40\n",
    "max_depth = 5\n",
    "criterion = 'gini'\n",
    "max_leaf_nodes = None\n",
    "min_samples_leaf = 2\n",
    "min_samples_split = 0.01\n",
    "max_features = 2"
   ]
  },
  {
   "cell_type": "code",
   "execution_count": 254,
   "id": "495e8d84",
   "metadata": {},
   "outputs": [],
   "source": [
    "X = df[features]\n",
    "y = df['class']\n",
    "# split and scale the data\n",
    "scaler = preprocessing.StandardScaler().fit(X)\n",
    "X_scaled = scaler.transform(X)\n",
    "X_train, X_test, y_train, y_test = train_test_split(X_scaled, y, train_size=train_size) # X_scaled\n",
    "# train the regressor model\n",
    "mlp_classifier = MLPClassifier(hidden_layer_sizes=hidden_layer_sizes,\n",
    "                                   activation=activation, alpha=alpha, max_iter=max_iter, max_fun=max_fun,\n",
    "                                   learning_rate='constant', solver=solver\n",
    "                                  ).fit(X_train,y_train)\n",
    "rf_classifier = RandomForestClassifier(n_estimators=n_estimators, max_depth=max_depth,\n",
    "                                    criterion=criterion, max_leaf_nodes=max_leaf_nodes, max_features=max_features,\n",
    "                                    min_samples_leaf=min_samples_leaf,min_samples_split=min_samples_split,n_jobs=-1\n",
    "                                   ).fit(X_train,y_train)"
   ]
  },
  {
   "cell_type": "code",
   "execution_count": 255,
   "id": "8b3d821f",
   "metadata": {},
   "outputs": [],
   "source": [
    "from sklearn.metrics import roc_curve, roc_auc_score\n",
    "\n",
    "mlpfpr, mlptpr, thresholds = roc_curve(list(y_test.values),mlp_classifier.predict_proba(X_test)[:,1],pos_label='gc')\n",
    "mlpauc = roc_auc_score(list(y_test.values),mlp_classifier.predict_proba(X_test)[:,1])\n",
    "rffpr, rftpr, thresholds = roc_curve(list(y_test.values),rf_classifier.predict_proba(X_test)[:,1],pos_label='gc')\n",
    "rfauc = roc_auc_score(list(y_test.values),rf_classifier.predict_proba(X_test)[:,1])\n"
   ]
  },
  {
   "cell_type": "code",
   "execution_count": 268,
   "id": "f067b43f",
   "metadata": {
    "scrolled": false
   },
   "outputs": [
    {
     "data": {
      "image/png": "[encoded data removed]",
      "text/plain": [
       "<Figure size 720x480 with 1 Axes>"
      ]
     },
     "metadata": {},
     "output_type": "display_data"
    }
   ],
   "source": [
    "plt.figure(dpi=120, figsize=(6,4))\n",
    "plt.plot(mlpfpr,mlptpr,label=f'MLP, auc={mlpauc:.3f}',color='#970742', linewidth=2)\n",
    "plt.plot(rffpr,rftpr,label=f'RF, auc={rfauc:.3f}',color='#074297',linewidth=2)\n",
    "plt.plot([0,1],[0,1],linestyle='--',color='0.6')\n",
    "plt.legend()\n",
    "plt.grid()\n",
    "plt.xlabel('FPR')\n",
    "plt.ylabel('TPR')\n",
    "plt.title('ROC Curve: MLP vs RF')\n",
    "plt.show()"
   ]
  },
  {
   "cell_type": "markdown",
   "id": "7bb3a51e",
   "metadata": {},
   "source": [
    "### MLP"
   ]
  },
  {
   "cell_type": "code",
   "execution_count": 382,
   "id": "9b008c82",
   "metadata": {},
   "outputs": [],
   "source": [
    "mlp_test_recall = []\n",
    "mlp_train_recall = []\n",
    "mlp_test_acc = []\n",
    "for i in range(500):\n",
    "    _, test_pred, test_true, train_pred, train_true =  mlp_class(training_data,train_size=0.8,hidden_layer_sizes=(2,),activation='tanh',alpha=1.1,max_iter=500,\n",
    "                  features=['i','g','g-i'],solver='lbfgs', max_fun=15000, stats=True)\n",
    "    tn, fp, fn, tp = confusion_matrix(test_true,test_pred,labels=['galaxy','gc']).ravel()\n",
    "    mlp_test_recall.append(tp/(tp+fn))\n",
    "    mlp_test_acc.append((tp+tn)/(tp+fp+tn+fn))\n",
    "    tn, fp, fn, tp = confusion_matrix(train_true,train_pred,labels=['galaxy','gc']).ravel()\n",
    "    mlp_train_recall.append(tp/(tp+fn))"
   ]
  },
  {
   "cell_type": "code",
   "execution_count": 383,
   "id": "3502ce41",
   "metadata": {},
   "outputs": [
    {
     "data": {
      "text/plain": [
       "0.8277153558052435"
      ]
     },
     "execution_count": 383,
     "metadata": {},
     "output_type": "execute_result"
    }
   ],
   "source": [
    "np.median(mlp_test_acc)"
   ]
  },
  {
   "cell_type": "code",
   "execution_count": 182,
   "id": "33cd9ca5",
   "metadata": {},
   "outputs": [
    {
     "data": {
      "image/png": "[encoded data removed]",
      "text/plain": [
       "<Figure size 720x360 with 1 Axes>"
      ]
     },
     "metadata": {},
     "output_type": "display_data"
    }
   ],
   "source": [
    "plt.figure(dpi=120, figsize=(6,3))\n",
    "plt.hist(mlp_test_recall,bins=35,color='#074297',alpha=0.6,label='test')\n",
    "plt.hist(mlp_train_recall,bins=80,color='#970742',alpha=0.6,label='train')\n",
    "plt.legend()\n",
    "plt.grid(alpha=0.3)\n",
    "plt.xlabel('Recall')\n",
    "plt.ylabel('Frequency')\n",
    "plt.title('MLP Train/Test Performance')\n",
    "plt.show()"
   ]
  },
  {
   "cell_type": "markdown",
   "id": "5ee301f3",
   "metadata": {},
   "source": [
    "### Random Forest"
   ]
  },
  {
   "cell_type": "code",
   "execution_count": 203,
   "id": "e206b9e0",
   "metadata": {},
   "outputs": [],
   "source": [
    "n_trees = 40\n",
    "max_depth_ = 5\n",
    "max_leaf_nodes_ = None\n",
    "min_samples_leaf_ = 2\n",
    "min_samples_split_ = 0.01\n",
    "max_features = 2"
   ]
  },
  {
   "cell_type": "code",
   "execution_count": 389,
   "id": "347a441c",
   "metadata": {},
   "outputs": [
    {
     "data": {
      "text/plain": [
       "0.06236198432343494"
      ]
     },
     "execution_count": 389,
     "metadata": {},
     "output_type": "execute_result"
    }
   ],
   "source": [
    "2*np.std(rf_test_recall)"
   ]
  },
  {
   "cell_type": "code",
   "execution_count": 384,
   "id": "3b23f85f",
   "metadata": {},
   "outputs": [
    {
     "data": {
      "text/plain": [
       "0.8352059925093633"
      ]
     },
     "execution_count": 384,
     "metadata": {},
     "output_type": "execute_result"
    }
   ],
   "source": [
    "np.median(rf_test_acc)"
   ]
  },
  {
   "cell_type": "code",
   "execution_count": 381,
   "id": "96fb29cd",
   "metadata": {},
   "outputs": [],
   "source": [
    "rf_test_recall = []\n",
    "rf_train_recall = []\n",
    "rf_test_acc = []\n",
    "for i in range(500):\n",
    "    _, test_pred, test_true, train_pred, train_true =  ranfor(training_data,stats=True,n_estimators=n_trees,max_depth=max_depth_, max_leaf_nodes=max_leaf_nodes_,\n",
    "                                                              min_samples_leaf=min_samples_leaf_, features=features_, min_samples_split=min_samples_split_, max_features=2)\n",
    "    tn, fp, fn, tp = confusion_matrix(test_true,test_pred,labels=['galaxy','gc']).ravel()\n",
    "    rf_test_recall.append(tp/(tp+fn))\n",
    "    rf_test_acc.append((tp+tn)/(tp+fp+tn+fn))\n",
    "    tn, fp, fn, tp = confusion_matrix(train_true,train_pred,labels=['galaxy','gc']).ravel()\n",
    "    rf_train_recall.append(tp/(tp+fn))\n",
    "    "
   ]
  },
  {
   "cell_type": "code",
   "execution_count": 205,
   "id": "eabc1b2e",
   "metadata": {
    "scrolled": false
   },
   "outputs": [
    {
     "data": {
      "image/png": "[encoded data removed]",
      "text/plain": [
       "<Figure size 720x360 with 1 Axes>"
      ]
     },
     "metadata": {},
     "output_type": "display_data"
    }
   ],
   "source": [
    "plt.figure(dpi=120, figsize=(6,3))\n",
    "plt.hist(rf_test_recall,bins=40,color='#074297',alpha=0.6,label='test')\n",
    "plt.hist(rf_train_recall,bins=20,color='#970742',alpha=0.6,label='train')\n",
    "plt.legend()\n",
    "plt.grid(alpha=0.3)\n",
    "plt.xlabel('Recall')\n",
    "plt.ylabel('Frequency')\n",
    "plt.title('Random Forest Train/Test Performance')\n",
    "plt.show()"
   ]
  },
  {
   "cell_type": "markdown",
   "id": "31e5e5a4",
   "metadata": {},
   "source": [
    "## Both models compared to each other"
   ]
  },
  {
   "cell_type": "code",
   "execution_count": 391,
   "id": "b764d697",
   "metadata": {},
   "outputs": [
    {
     "data": {
      "text/plain": [
       "0.062052976219448115"
      ]
     },
     "execution_count": 391,
     "metadata": {},
     "output_type": "execute_result"
    }
   ],
   "source": [
    "2*np.std(mlp_test_recall)"
   ]
  },
  {
   "cell_type": "code",
   "execution_count": 380,
   "id": "024b8489",
   "metadata": {},
   "outputs": [
    {
     "data": {
      "text/plain": [
       "0.88"
      ]
     },
     "execution_count": 380,
     "metadata": {},
     "output_type": "execute_result"
    }
   ],
   "source": [
    "np.median(mlp_test_recall)"
   ]
  },
  {
   "cell_type": "code",
   "execution_count": 379,
   "id": "a5b76f01",
   "metadata": {},
   "outputs": [
    {
     "data": {
      "text/plain": [
       "0.835820895522388"
      ]
     },
     "execution_count": 379,
     "metadata": {},
     "output_type": "execute_result"
    }
   ],
   "source": [
    "np.median(rf_test_recall)"
   ]
  },
  {
   "cell_type": "code",
   "execution_count": 206,
   "id": "c7980a7d",
   "metadata": {},
   "outputs": [
    {
     "data": {
      "image/png": "[encoded data removed]",
      "text/plain": [
       "<Figure size 720x360 with 1 Axes>"
      ]
     },
     "metadata": {},
     "output_type": "display_data"
    }
   ],
   "source": [
    "plt.figure(dpi=120, figsize=(6,3))\n",
    "plt.hist(rf_test_recall,bins=40,color='#074297',alpha=0.6,label='RF')\n",
    "plt.hist(mlp_test_recall,bins=45,color='#970742',alpha=0.6,label='MLP')\n",
    "plt.legend()\n",
    "plt.grid(alpha=0.3)\n",
    "plt.xlabel('Recall')\n",
    "plt.ylabel('Frequency')\n",
    "plt.title('Random Forest vs. Multilayer Perceptron')\n",
    "plt.show()"
   ]
  },
  {
   "cell_type": "markdown",
   "id": "c0edcd14",
   "metadata": {},
   "source": [
    "# Generate region files from predictions\n",
    "Takes a field and a date (for sorting into folders) and generates a region file for DS9 using the predictions for that field."
   ]
  },
  {
   "cell_type": "code",
   "execution_count": 352,
   "id": "2089ad41",
   "metadata": {},
   "outputs": [],
   "source": [
    "def make_reg_from_pred(field:int,date:str,filter_gc = True, app=''):\n",
    "    predictions = pickle.load(open(f'pickle/predictions/{date}/predictionsf{field}{app}.pk','rb'))\n",
    "    if filter_gc: gcs = predictions[predictions['pred']=='gc'] # only make regions for the gcs in the predictions\n",
    "    else: gcs = predictions\n",
    "    radius = '3\"'\n",
    "    Path(f'./ds9_regions/predictions/{date}').mkdir(parents=True, exist_ok=True)\n",
    "    with open(f'./ds9_regions/predictions/{date}/{field}_predictions{app}.reg','w') as f:\n",
    "        f.write('global color=green dashlist=8 3 width=1 font=\"helvetica 14 normal roman\" select=1 highlite=1 dash=0 fixed=0 edit=1 move=1 delete=1 include=1 source=1 \\n')\n",
    "        f.write('fk5 \\n')\n",
    "        for row in gcs:\n",
    "            ra = str(row['RA'])\n",
    "            dec = str(row['Dec'])\n",
    "            f.write(f'circle({ra},{dec},{radius}) \\n')"
   ]
  },
  {
   "cell_type": "markdown",
   "id": "7508e195",
   "metadata": {},
   "source": [
    "### Make the region file for field 229:"
   ]
  },
  {
   "cell_type": "code",
   "execution_count": 353,
   "id": "0cc5dddf",
   "metadata": {},
   "outputs": [],
   "source": [
    "make_reg_from_pred(229, date='xxxx')"
   ]
  },
  {
   "cell_type": "markdown",
   "id": "c02671a8",
   "metadata": {},
   "source": [
    "# Add points back into the training set\n",
    "A set of functions to add points from region files back into the training set along with their i and g values, so the model can be retrained with more non-gc objects in."
   ]
  },
  {
   "cell_type": "code",
   "execution_count": 149,
   "id": "0de66006",
   "metadata": {
    "scrolled": true
   },
   "outputs": [],
   "source": [
    "# reads a region file and returns a list of coordinates for every point listed within\n",
    "# note: the path parameter must be the path starting in the root directory (e.g. path='ds9_regions/folder/region.reg')\n",
    "#      otherwise, the field parameter will look for the file 'ds9_regions/predictions/FIELD_predictions.reg'\n",
    "# note: region file must be formatted with the first two lines defining the settings and coordinate system,\n",
    "#       with the third line beginning the list of circle(x,y) or point(x,y)\n",
    "def read_reg(field: int, path=None) -> list:\n",
    "    if path is None:\n",
    "        path = f'ds9_regions/predictions/{field}_predictions.reg'\n",
    "    try:\n",
    "        with open(path,'r') as f:\n",
    "            reg_file_lines = f.readlines()[2:] # skip the first two lines\n",
    "    except FileNotFoundError:\n",
    "        print(\"Please enter a full path to the file from the current directory, or choose a field that has a predictions region file.\")\n",
    "        return 0\n",
    "    \n",
    "    ret = []\n",
    "    for i in range(len(reg_file_lines)):\n",
    "        coords = reg_file_lines[i].split('(')[1].split(',')[0:2] # split at the first open bracket, split along, commas, choose the first two values (the coordinates)\n",
    "        ra = float(coords[0])\n",
    "        dec = float(coords[1])\n",
    "        ret.append((ra,dec))\n",
    "    return ret\n",
    "\n",
    "# takes a list of coordinates and field, and returns a list of values to add to training data\n",
    "def get_data_from_coords(field: int, coords: list) -> list:\n",
    "    cat = load_cat(field)[field]\n",
    "    ret = []\n",
    "    for c in coords:\n",
    "        row = cat[(cat['RA']==c[0]) & (cat['Dec']==c[1])][0]\n",
    "        i, g = row['i'], row['g']\n",
    "        di, dg = row['di'], row['dg']\n",
    "        g_i = g-i\n",
    "        ra, dec = c\n",
    "        # pdidx = # need to find a way of extracting the pandas index\n",
    "        vals = (i,g,di,dg,ra,dec,field,g_i) # values for relevant columns in training\n",
    "        ret.append(vals)\n",
    "    return ret\n",
    "\n",
    "# takes the training dataset and a list of values to add to it and returns a new dataframe with the added values\n",
    "def add_nongc_to_training(train_df: pd.DataFrame, vals: list, nongc_class='galaxy') -> pd.DataFrame:\n",
    "    # make dataframe from values\n",
    "    columns = ['i','g','di','dg','ra','dec','field','g-i']\n",
    "    add_df = pd.DataFrame(vals,columns=columns)\n",
    "    add_df['obj_id'] = 'none'\n",
    "    add_df['class'] = nongc_class\n",
    "    add_df['pdidx'] = 0\n",
    "    add_df['rbcidx'] = 0\n",
    "    add_df['nearby'] = 0\n",
    "    \n",
    "    new_df = pd.concat([train_df, add_df],ignore_index=True, verify_integrity=True,copy=False)\n",
    "    return new_df\n",
    "\n",
    "def update_training_data(field:int, path=None, train_df=training_data, nongc_class='galaxy') -> pd.DataFrame:\n",
    "    coords = read_reg(field, path=path)\n",
    "    vals = get_data_from_coords(field,coords)\n",
    "    new_training_data = add_nongc_to_training(train_df,vals,nongc_class=nongc_class)\n",
    "    return new_training_data"
   ]
  },
  {
   "cell_type": "markdown",
   "id": "c127d88d",
   "metadata": {},
   "source": [
    "# Find clusters of predictions\n",
    "From region files, use DBSCAN to find clusters of predictions which signify relevant objects; a globular will often show up as a tight bunch of points where the ML model has picked up individual stars within. The following code clusters the predictions and saves region file for use in SAOImage DS9"
   ]
  },
  {
   "cell_type": "code",
   "execution_count": 354,
   "id": "d0c88870",
   "metadata": {},
   "outputs": [],
   "source": [
    "from sklearn.cluster import DBSCAN\n",
    "from pathlib import Path\n",
    "\n",
    "date = 'xxxx'\n",
    "# set dbscan parameters\n",
    "eps = 0.003\n",
    "min_samples = 4\n",
    "leaf_size = 30\n",
    "n_jobs = 1\n",
    "\n",
    "#exclude fields directly around m31\n",
    "#field_exclusions = [228, 232, 233, 235, 248, 249, 254, 257, 265, 266, 276, 279, 285, 288]\n",
    "#fields = [i for i in range(1,407) if i not in field_exclusions]\n",
    "\n",
    "fields = [229]\n",
    "\n",
    "clusters_all = {}\n",
    "\n",
    "for field in fields:\n",
    "    # read in region file\n",
    "    points = read_reg(field, path=f'./ds9_regions/predictions/{date}/{field}_predictions.reg')\n",
    "    \n",
    "    # apply dbscan to the set of points\n",
    "    clustering = DBSCAN(eps=eps,min_samples=min_samples, metric='euclidean',\n",
    "            metric_params=None, algorithm='auto', leaf_size=leaf_size, p=None, n_jobs=n_jobs).fit(points)\n",
    "\n",
    "    # seperate points into their individual clusters\n",
    "    cluster_labels = clustering.labels_\n",
    "    clusters_all[field] = {} # initialise a dictionary of clusters \n",
    "    \n",
    "    for i in range(len(points)):\n",
    "        lbl = cluster_labels[i]\n",
    "        if lbl == -1: continue # skip the non clustered points\n",
    "        if lbl in clusters_all[field]:\n",
    "            clusters_all[field][lbl].append(points[i])\n",
    "        else:\n",
    "            clusters_all[field][lbl] = [points[i]]\n",
    "    \n",
    "    coords = [[[clusters_all[field][lbl][i][a] for i in range(len(clusters_all[field][lbl]))] for lbl in clusters_all[field]] for a in [0,1]]\n",
    "    ra = []\n",
    "    dec = []\n",
    "    for l in coords[0]:\n",
    "        ra += l\n",
    "    for l in coords[1]:\n",
    "        dec += l\n",
    "\n",
    "    Path(f'./pickle/predictions/{date}').mkdir(parents=True, exist_ok=True)\n",
    "\n",
    "    coord_table = QTable((ra,dec),names=['RA','Dec'])\n",
    "    with open(f'./pickle/predictions/{date}/predictionsf{field}_clusters.pk','wb') as f:\n",
    "        pickle.dump(coord_table, f)"
   ]
  },
  {
   "cell_type": "code",
   "execution_count": 355,
   "id": "b67003a1",
   "metadata": {},
   "outputs": [],
   "source": [
    "# turn each cluster into a single point for making region files with\n",
    "cluster_centres = {}\n",
    "for field in clusters_all:\n",
    "    cluster_centres[field] = []\n",
    "    field_clusters = clusters_all[field]\n",
    "    for cluster_id in field_clusters:\n",
    "        # take the mean position of the clusters\n",
    "        clst_cen = tuple(np.mean(np.array(field_clusters[cluster_id]),axis=0))\n",
    "        cluster_centres[field].append(clst_cen)"
   ]
  },
  {
   "cell_type": "code",
   "execution_count": 356,
   "id": "41fd6801",
   "metadata": {},
   "outputs": [],
   "source": [
    "# write the clusters to region files\n",
    "for field in cluster_centres:\n",
    "    clusters = cluster_centres[field]\n",
    "    radius = '16\"'\n",
    "    Path(f'./ds9_regions/predictions/{date}').mkdir(parents=True, exist_ok=True)\n",
    "    with open(f'./ds9_regions/predictions/{date}/{field}_predictions_clusters.reg','w') as f:\n",
    "        f.write('global color=green dashlist=8 3 width=1 font=\"helvetica 14 normal roman\" select=1 highlite=1 dash=0 fixed=0 edit=1 move=1 delete=1 include=1 source=1 \\n')\n",
    "        f.write('fk5 \\n')\n",
    "        for c in clusters:\n",
    "            ra = str(c[0])\n",
    "            dec = str(c[1])\n",
    "            f.write(f'circle({ra},{dec},{radius}) \\n')"
   ]
  },
  {
   "cell_type": "code",
   "execution_count": 326,
   "id": "3c58e2be",
   "metadata": {
    "scrolled": true
   },
   "outputs": [
    {
     "data": {
      "text/plain": [
       "{229: [(7.409469791666665, 40.45806319444445),\n",
       "  (7.087278472222221, 40.503308796296295),\n",
       "  (7.146282291666665, 40.52723125),\n",
       "  (6.743805208333332, 40.616056944444445),\n",
       "  (6.747883333333333, 40.605018055555554),\n",
       "  (6.608144791666666, 40.506193749999994),\n",
       "  (6.412726041666667, 40.47321597222223),\n",
       "  (7.399202976190476, 40.3707746031746),\n",
       "  (7.436926041666665, 40.342536805555554),\n",
       "  (7.346875, 40.26486111111112),\n",
       "  (6.864573958333334, 40.28639097222222),\n",
       "  (6.710561805555556, 40.250455092592595),\n",
       "  (6.7261156249999985, 40.19017430555555),\n",
       "  (6.685579861111111, 40.2908412037037),\n",
       "  (6.492726041666667, 40.306083333333326),\n",
       "  (6.2705625000000005, 40.26532986111111),\n",
       "  (7.097441666666666, 40.03891180555555),\n",
       "  (7.178823958333333, 40.17557708333334),\n",
       "  (7.013404761904761, 40.04897499999999),\n",
       "  (6.819382500000001, 40.01939611111111),\n",
       "  (6.666372916666666, 40.0134625),\n",
       "  (6.741590624999999, 40.175853472222215),\n",
       "  (6.621580833333333, 40.000297222222216),\n",
       "  (6.413700757575756, 39.95037323232323),\n",
       "  (6.50609375, 40.16690694444444),\n",
       "  (7.299284166666666, 39.824732222222224),\n",
       "  (7.08828125, 39.90064375),\n",
       "  (7.0861979166666655, 39.74716875),\n",
       "  (7.029067708333332, 39.803093749999995),\n",
       "  (6.911300833333333, 39.74753833333334),\n",
       "  (6.8012718749999985, 39.878647916666665),\n",
       "  (6.87658, 39.85227277777777),\n",
       "  (6.848371875, 39.72024027777778),\n",
       "  (6.660204761904761, 39.83400317460318),\n",
       "  (6.7035124999999995, 39.84025046296296),\n",
       "  (6.7475536458333325, 39.727408680555556),\n",
       "  (6.694052314814815, 39.76003271604939),\n",
       "  (6.730151041666666, 39.74663888888889),\n",
       "  (6.699321944444444, 39.74582407407408),\n",
       "  (6.7559041666666655, 39.72572569444445),\n",
       "  (6.651707575757576, 39.83322853535354),\n",
       "  (6.524302777777777, 39.71471018518519),\n",
       "  (6.372852083333332, 39.830066666666674),\n",
       "  (6.24967261904762, 39.70439642857143),\n",
       "  (6.366555208333333, 39.829769444444445)]}"
      ]
     },
     "execution_count": 326,
     "metadata": {},
     "output_type": "execute_result"
    }
   ],
   "source": [
    "cluster_centres"
   ]
  },
  {
   "cell_type": "code",
   "execution_count": null,
   "id": "94e486d0",
   "metadata": {},
   "outputs": [],
   "source": []
  },
  {
   "cell_type": "code",
   "execution_count": null,
   "id": "5f39a130",
   "metadata": {},
   "outputs": [],
   "source": []
  },
  {
   "cell_type": "code",
   "execution_count": null,
   "id": "24809b91",
   "metadata": {},
   "outputs": [],
   "source": []
  },
  {
   "cell_type": "code",
   "execution_count": null,
   "id": "d3849f04",
   "metadata": {},
   "outputs": [],
   "source": []
  },
  {
   "cell_type": "code",
   "execution_count": null,
   "id": "99ad62d4",
   "metadata": {},
   "outputs": [],
   "source": []
  },
  {
   "cell_type": "code",
   "execution_count": 162,
   "id": "8c7b8451",
   "metadata": {},
   "outputs": [],
   "source": [
    "def match_master_to_cluster(cluster_list: list):\n",
    "    d1 = master_cat\n",
    "    ra_obs, dec_obs = d1['RADEG'], d1['DECDEG']\n",
    "    d2 = cluster_list\n",
    "    ra_qry, dec_qry = [c[0] for c in d2], [c[1] for c in d2]\n",
    "    \n",
    "    c1 = coord.SkyCoord(ra_obs, dec_obs, unit=(u.degree, u.degree))\n",
    "    c2 = coord.SkyCoord(ra_qry, dec_qry, unit=(u.degree, u.degree))\n",
    "    idx, d2d, _ = c1.match_to_catalog_sky(c2)\n",
    "    return idx,d2d"
   ]
  },
  {
   "cell_type": "code",
   "execution_count": 163,
   "id": "a5c1cda8",
   "metadata": {},
   "outputs": [
    {
     "data": {
      "text/plain": [
       "(array([41,  3, 15, ..., 15,  6, 15], dtype=int64),\n",
       " <Angle [ 8.78936634, 11.79948304,  4.06197149, ...,  6.84237188,\n",
       "          6.113014  ,  5.33925976] deg>)"
      ]
     },
     "execution_count": 163,
     "metadata": {},
     "output_type": "execute_result"
    }
   ],
   "source": [
    "match_master_to_cluster(cluster_centres[229])"
   ]
  },
  {
   "cell_type": "code",
   "execution_count": 55,
   "id": "4b33be34",
   "metadata": {},
   "outputs": [],
   "source": [
    "#fields = [135,148,163,178,208,207,229,222,273,274]\n",
    "\n",
    "field = 207\n",
    "clusters = clusters_all[field]\n",
    "cat = load_cat(field)\n",
    "clusters_rows = {}\n",
    "for c in clusters:\n",
    "    cluster_matches = match_objs(field, clusters[c])\n",
    "    clusters_rows[c] = cat[cluster_matches]"
   ]
  },
  {
   "cell_type": "code",
   "execution_count": 58,
   "id": "92143c81",
   "metadata": {},
   "outputs": [
    {
     "data": {
      "text/plain": [
       "{0: <Table length=18>\n",
       "    RA       Dec     iccd    xg      yg   ...    i       di    ii   ia  field \n",
       " float32   float32  uint8 float32 float32 ... float32 float32 int8 int8 uint16\n",
       " -------- --------- ----- ------- ------- ... ------- ------- ---- ---- ------\n",
       " 8.712679 39.545162     3  1577.8 3011.89 ...  19.783   0.003    1    0    207\n",
       " 8.718629 39.544273     3 1666.73 3028.55 ...  20.404   0.005    1    0    207\n",
       " 8.718521 39.542015     3 1665.11 3072.55 ...  20.744   0.007    1    0    207\n",
       " 8.715775  39.54709     3 1624.08 2974.22 ...  20.942   0.008    1    0    207\n",
       " 8.714812 39.545647     3 1609.71 3002.33 ...   21.24    0.01    1    0    207\n",
       " 8.709954 39.544704     3 1537.12 3021.16 ...  21.485   0.012    1    0    207\n",
       " 8.713062 39.541767     3 1583.52 3077.91 ...  22.429   0.026    1    0    207\n",
       " 8.703762  39.54412     3  1444.6  3033.3 ...  22.561   0.029    1    0    207\n",
       " 8.715287  39.54267     3 1616.76 3060.03 ...  22.682   0.032    1    0    207\n",
       " 8.705625  39.54378     3  1472.4 3039.55 ...  22.503   0.027    1    0    207\n",
       " 8.720887 39.545788     3 1700.52  2998.9 ...   22.76   0.034    1    0    207\n",
       " 8.708779  39.54205     3 1519.55 3072.95 ...  22.605    0.03    1    0    207\n",
       " 8.713979 39.542713     3 1597.23 3059.44 ...  22.549   0.029    1    0    207\n",
       " 8.720692  39.54571     3 1697.53 3000.37 ...  22.718   0.033    1    0    207\n",
       " 8.712904 39.547287     3 1581.23 2970.64 ...  22.486   0.027    1    0    207\n",
       " 8.704166  39.54635     3 1450.69 2989.84 ...  22.537   0.028    1    0    207\n",
       " 8.721467   39.5468     3 1709.13 2979.25 ...  22.468   0.027    1    0    207\n",
       " 8.719658  39.54739     3 1682.15 2967.92 ...  22.354   0.024    1    0    207,\n",
       " 1: <Table length=5>\n",
       "    RA       Dec     iccd    xg      yg   ...    i       di    ii   ia  field \n",
       " float32   float32  uint8 float32 float32 ... float32 float32 int8 int8 uint16\n",
       " -------- --------- ----- ------- ------- ... ------- ------- ---- ---- ------\n",
       " 8.633954 39.634518     3  404.11  1280.3 ...  21.093   0.009    1    0    207\n",
       " 8.630484 39.636612     3  352.38 1239.94 ...  21.319    0.01    1    0    207\n",
       " 8.632367  39.63537     3  380.43  1263.9 ...  22.601    0.03    1    0    207\n",
       " 8.635113 39.636295     3  421.41 1245.54 ...  22.799   0.036    1    0    207\n",
       " 8.631687 39.635757     3  370.32 1256.47 ...  22.674   0.032    1    0    207,\n",
       " 2: <Table length=13>\n",
       "    RA       Dec     iccd    xg      yg   ...    i       di    ii   ia  field \n",
       " float32   float32  uint8 float32 float32 ... float32 float32 int8 int8 uint16\n",
       " -------- --------- ----- ------- ------- ... ------- ------- ---- ---- ------\n",
       "  8.59055  39.60146     4 1873.39 1929.57 ...   18.66   0.002    1    0    207\n",
       " 8.588887 39.601654     4 1848.61  1925.8 ...  19.394   0.003    1    0    207\n",
       " 8.590758 39.602478     4 1876.53 1909.67 ...  20.128   0.004    1    0    207\n",
       " 8.594008 39.600857     4 1924.93 1941.09 ...  19.953   0.004    1    0    207\n",
       " 8.593667  39.60145     4 1919.84  1929.5 ...  19.922   0.004    1    0    207\n",
       " 8.590058 39.602657     4 1866.06 1906.26 ...  20.361   0.005    1    0    207\n",
       "  8.58538 39.601883     4 1796.33 1921.59 ...  20.232   0.005    1    0    207\n",
       " 8.586263 39.601776     4  1809.5 1923.65 ...  20.245   0.005    1    0    207\n",
       " 8.594454 39.601315     4 1931.56 1932.03 ...  20.164   0.004    1    0    207\n",
       " 8.595242 39.600517     4 1943.29 1947.63 ...  20.478   0.006    1    0    207\n",
       " 8.584254  39.60341     4 1779.59 1892.03 ...  20.983   0.008    1    0    207\n",
       "  8.58105  39.60276     4 1731.83 1904.85 ...  21.512   0.012    1    0    207\n",
       " 8.581225 39.601257     4  1734.4 1933.97 ...  22.196   0.022    1    0    207,\n",
       " 3: <Table length=4>\n",
       "    RA       Dec     iccd    xg      yg   ...    i       di    ii   ia  field \n",
       " float32   float32  uint8 float32 float32 ... float32 float32 int8 int8 uint16\n",
       " -------- --------- ----- ------- ------- ... ------- ------- ---- ---- ------\n",
       "  8.47075 39.601776     4   89.23 1928.84 ...  20.848   0.007    1    0    207\n",
       " 8.470271 39.601753     4   82.11 1929.28 ...  19.959   0.004    1    0    207\n",
       " 8.467025 39.599747     4   33.76 1968.34 ...  20.512   0.006    1    0    207\n",
       " 8.466988  39.59796     4   33.14 2003.09 ...  22.479   0.028    1    0    207,\n",
       " 4: <Table length=7>\n",
       "    RA       Dec     iccd    xg      yg   ...    i       di    ii   ia  field \n",
       " float32   float32  uint8 float32 float32 ... float32 float32 int8 int8 uint16\n",
       " -------- --------- ----- ------- ------- ... ------- ------- ---- ---- ------\n",
       "  8.38985 39.522167     5  1002.1  3474.7 ...  19.648   0.003    1    0    207\n",
       " 8.388787    39.522     5   986.3 3477.89 ...  22.344   0.024    1    0    207\n",
       " 8.389559 39.520424     5  997.78 3508.37 ...  22.571   0.029    1    0    207\n",
       " 8.388346  39.52041     5  979.73 3508.77 ...  22.398   0.025    1    0    207\n",
       " 8.388212 39.522026     5  977.76 3477.42 ...  22.594   0.029    1    0    207\n",
       " 8.391383 39.523716     5 1024.94 3444.65 ...  22.638    0.03    1    0    207\n",
       " 8.388125 39.520023     5  976.48 3516.25 ...  22.598   0.029    1    0    207,\n",
       " 5: <Table length=19>\n",
       "    RA       Dec     iccd    xg      yg   ...    i       di    ii   ia  field \n",
       " float32   float32  uint8 float32 float32 ... float32 float32 int8 int8 uint16\n",
       " -------- --------- ----- ------- ------- ... ------- ------- ---- ---- ------\n",
       " 8.194266  39.57645     6  206.04 2411.31 ...  19.681   0.003    1    0    207\n",
       " 8.192687 39.579357     6  182.53 2354.67 ...  19.662   0.003    1    0    207\n",
       " 8.196075  39.57811     6  232.97 2379.25 ...  19.669   0.003    1    0    207\n",
       " 8.196067  39.57697     6  232.85 2401.33 ...  20.029   0.004    1    0    207\n",
       " 8.196046  39.57664     6  232.58  2407.8 ...  20.138   0.004    1    0    207\n",
       "  8.19475 39.576077     6  213.22 2418.62 ...  20.296   0.005    1    0    207\n",
       "   8.1969 39.576958     6   245.3 2401.57 ...  20.357   0.005    1    0    207\n",
       " 8.194113 39.575294     6  203.77 2433.78 ...  21.338    0.01    1    0    207\n",
       " 8.193821  39.58042     6  199.41 2334.05 ...  21.288    0.01    1    0    207\n",
       " 8.197317 39.578724     6  251.48  2367.4 ...  21.593   0.013    1    0    207\n",
       " 8.195475 39.579765     6  224.06 2346.99 ...  21.447   0.011    1    0    207\n",
       " 8.194692   39.5803     6   212.4 2336.46 ...  21.483   0.012    1    0    207\n",
       " 8.197196 39.576412     6  249.73 2412.27 ...  21.455   0.011    1    0    207\n",
       " 8.190004 39.575848     6  142.53 2422.69 ...  22.415   0.025    1    0    207\n",
       " 8.189187 39.579044     6  130.32 2360.41 ...  22.443   0.026    1    0    207\n",
       " 8.192741 39.581074     6  183.28  2321.3 ...   22.28   0.022    1    0    207\n",
       " 8.193909 39.581184     6  200.66 2319.11 ...    22.5   0.027    1    0    207\n",
       " 8.188983  39.57856     6  127.29 2369.86 ...  22.645   0.031    1    0    207\n",
       " 8.193717 39.581345     6  197.81 2316.02 ...  22.444   0.026    1    0    207,\n",
       " 6: <Table length=12>\n",
       "     RA       Dec     iccd    xg      yg   ...    i       di    ii   ia  field \n",
       "  float32   float32  uint8 float32 float32 ... float32 float32 int8 int8 uint16\n",
       " --------- --------- ----- ------- ------- ... ------- ------- ---- ---- ------\n",
       "  7.772225 39.492535     9  230.84 3984.41 ...  18.488   0.002    1    0    207\n",
       "  7.773825 39.491623     9  255.08 4002.43 ...  19.569   0.003    1    0    207\n",
       "  7.774229 39.491207     9   261.2 4010.63 ...  19.587   0.003    1    0    207\n",
       " 7.7734084  39.49205     9  248.77 3994.07 ...  19.497   0.003    1    0    207\n",
       " 7.7721457 39.488457     9  229.68 4063.72 ...  19.049   0.002    1    0    207\n",
       " 7.7744794 39.489437     9  264.97 4045.15 ...  20.631   0.006    1    0    207\n",
       " 7.7728415   39.4955     9  240.14 3926.81 ...  20.392   0.005    1    0    207\n",
       "     7.779  39.48912     9  333.33 4052.29 ...  22.298   0.023    1    0    207\n",
       " 7.7772083 39.488495     9  306.23 4064.03 ...  22.425   0.025    1    0    207\n",
       " 7.7771125 39.496597     9  304.77 3906.26 ...  22.565   0.029    1    0    207\n",
       " 7.7736044  39.48403     9  251.74 4150.19 ...  22.601   0.029    1    0    207\n",
       " 7.7743416 39.484867     9  262.89 4134.15 ...  22.522   0.027    1    0    207,\n",
       " 7: <Table length=4>\n",
       "     RA       Dec     iccd    xg      yg   ...    i       di    ii   ia  field \n",
       "  float32   float32  uint8 float32 float32 ... float32 float32 int8 int8 uint16\n",
       " --------- --------- ----- ------- ------- ... ------- ------- ---- ---- ------\n",
       " 7.8555875 39.534595     9 1489.06 3181.69 ...  20.085   0.004    1    0    207\n",
       " 7.8578873 39.533382     9 1523.72 3205.78 ...  22.524   0.028    1    0    207\n",
       "   7.85775 39.535515     9 1521.62 3164.26 ...  22.734   0.033    1    0    207\n",
       "  7.856992 39.535866     9 1510.16 3157.29 ...   22.72   0.033    1    0    207,\n",
       " 8: <Table length=4>\n",
       "     RA       Dec     iccd    xg      yg   ...    i       di    ii   ia  field \n",
       "  float32   float32  uint8 float32 float32 ... float32 float32 int8 int8 uint16\n",
       " --------- --------- ----- ------- ------- ... ------- ------- ---- ---- ------\n",
       "  7.841221  39.57797     9  1271.2 2333.01 ...  22.786   0.034    1    0    207\n",
       "  7.840046  39.58034     9  1253.4 2286.41 ...  22.688   0.032    1    0    207\n",
       "  7.838525 39.585743     9 1230.22 2180.64 ...   22.67   0.031    1    0    207\n",
       " 7.8403125 39.581326     9 1257.38 2267.34 ...  22.608    0.03    1    0    207,\n",
       " 9: <Table length=4>\n",
       "    RA       Dec     iccd    xg      yg   ...    i       di    ii   ia  field \n",
       " float32   float32  uint8 float32 float32 ... float32 float32 int8 int8 uint16\n",
       " -------- --------- ----- ------- ------- ... ------- ------- ---- ---- ------\n",
       " 8.820796  39.29385    11 1087.13 2827.46 ...  18.872   0.002    1    0    207\n",
       " 8.821855 39.294197    11 1102.96 2820.72 ...  20.243   0.005    1    0    207\n",
       " 8.821442 39.294468    11 1096.78 2815.56 ...  20.407   0.005    1    0    207\n",
       " 8.820596 39.294662    11 1084.03 2811.87 ...  20.507   0.005    1    0    207,\n",
       " 10: <Table length=5>\n",
       "    RA       Dec     iccd    xg      yg   ...    i       di    ii   ia  field \n",
       " float32   float32  uint8 float32 float32 ... float32 float32 int8 int8 uint16\n",
       " -------- --------- ----- ------- ------- ... ------- ------- ---- ---- ------\n",
       " 8.310662   39.3971    15 1939.44  854.15 ...  20.267   0.005    1    0    207\n",
       " 8.307742   39.3953    15 1895.96  888.76 ...   21.43   0.011    1    0    207\n",
       " 8.308937 39.394318    15 1913.79  907.78 ...  21.563   0.012    1    0    207\n",
       " 8.307141  39.39585    15 1887.03  878.17 ...  21.464   0.011    1    0    207\n",
       " 8.303613 39.395996    15  1834.5   875.3 ...  22.707   0.033    1    0    207,\n",
       " 11: <Table length=8>\n",
       "     RA       Dec     iccd    xg      yg   ...    i       di    ii   ia  field \n",
       "  float32   float32  uint8 float32 float32 ... float32 float32 int8 int8 uint16\n",
       " --------- --------- ----- ------- ------- ... ------- ------- ---- ---- ------\n",
       " 7.8926835 39.332672    18 2040.53 2066.18 ...   18.35   0.001    1    0    207\n",
       "  7.893154 39.332127    18 2047.58 2076.98 ...  20.642   0.006    1    0    207\n",
       "   7.89095  39.32954    18 2014.25 2126.67 ...  19.535   0.003    1    0    207\n",
       "  7.892775 39.329334    18 2041.75 2130.86 ...  21.018   0.008    1    0    207\n",
       " 7.8928084  39.33047    18 2042.27 2108.93 ...   20.83   0.007    1    0    207\n",
       " 7.8921375  39.32907    18 2032.15 2135.87 ...  21.137   0.009    1    0    207\n",
       "  7.892383 39.328915    18 2035.84 2138.92 ...  21.762   0.014    1    0    207\n",
       " 7.8937626  39.33044    18 2056.67 2109.59 ...  20.103   0.004    1    0    207,\n",
       " 12: <Table length=5>\n",
       "    RA       Dec     iccd    xg      yg   ...    i       di    ii   ia  field \n",
       " float32   float32  uint8 float32 float32 ... float32 float32 int8 int8 uint16\n",
       " -------- --------- ----- ------- ------- ... ------- ------- ---- ---- ------\n",
       " 8.968454 38.979458    19  891.76  461.82 ...  22.311   0.023    1    0    207\n",
       " 8.966912  38.98112    19  915.48  494.04 ...  22.408   0.025    1    0    207\n",
       "   8.9692  38.97966    19  880.49  465.65 ...  22.448   0.026    1    0    207\n",
       " 8.970908   38.9808    19  854.75  487.78 ...  22.536   0.028    1    0    207\n",
       "  8.96755 38.982132    19  906.02  513.61 ...  22.708   0.032    1    0    207,\n",
       " 13: <Table length=5>\n",
       "    RA       Dec     iccd    xg      yg   ...    i       di    ii   ia  field \n",
       " float32   float32  uint8 float32 float32 ... float32 float32 int8 int8 uint16\n",
       " -------- --------- ----- ------- ------- ... ------- ------- ---- ---- ------\n",
       " 8.487087 39.016296    22 1788.43 1166.13 ...   18.68   0.002    1    0    207\n",
       "  8.48625  39.01653    22 1800.98 1170.51 ...  20.099   0.004    1    0    207\n",
       "   8.4878 39.017345    22 1777.86 1186.41 ...  19.913   0.004    1    0    207\n",
       " 8.487842  39.01513    22 1777.11 1143.65 ...  20.273   0.005    1    0    207\n",
       " 8.486617 39.018055    22 1795.58 1200.02 ...  20.477   0.005    1    0    207,\n",
       " 14: <Table length=7>\n",
       "    RA       Dec     iccd    xg      yg   ...    i       di    ii   ia  field \n",
       " float32   float32  uint8 float32 float32 ... float32 float32 int8 int8 uint16\n",
       " -------- --------- ----- ------- ------- ... ------- ------- ---- ---- ------\n",
       " 8.034842 39.170963    26    81.8  4154.8 ...  20.743   0.006    1    0    207\n",
       " 8.032066 39.172794    26  123.27 4190.31 ...  20.322   0.005    1    0    207\n",
       " 8.034312 39.171757    26   89.67 4170.16 ...  22.066   0.019    1    0    207\n",
       " 8.033012 39.172585    26  109.12 4186.12 ...  21.037   0.008    1    0    207\n",
       " 8.034391  39.16832    26   88.84  4103.9 ...  20.774   0.007    1    0    207\n",
       " 8.033742  39.16813    26   98.64 4100.22 ...  20.626   0.006    1    0    207\n",
       " 8.034796 39.168995    26    82.7 4116.84 ...  21.199   0.009    1    0    207,\n",
       " 15: <Table length=6>\n",
       "     RA       Dec     iccd    xg      yg   ...    i       di    ii   ia  field \n",
       "  float32   float32  uint8 float32 float32 ... float32 float32 int8 int8 uint16\n",
       " --------- --------- ----- ------- ------- ... ------- ------- ---- ---- ------\n",
       "  7.841533  39.01166    27   904.4 1087.14 ...   19.97   0.004    1    0    207\n",
       "  7.840192 39.013504    27  924.39 1122.89 ...  20.908   0.007    1    0    207\n",
       " 7.8393793 39.013737    27  936.65 1127.44 ...  20.718   0.007    1    0    207\n",
       " 7.8409667 39.009598    27  913.38 1047.11 ...  20.002   0.004    1    0    207\n",
       " 7.8364873  39.00795    27  981.67 1015.39 ...  18.401   0.002    1    0    207\n",
       " 7.8404794 39.016407    27  919.45 1179.03 ...  22.559   0.029    1    0    207,\n",
       " 16: <Table length=5>\n",
       "     RA       Dec     iccd    xg      yg   ...    i       di    ii   ia  field \n",
       "  float32   float32  uint8 float32 float32 ... float32 float32 int8 int8 uint16\n",
       " --------- --------- ----- ------- ------- ... ------- ------- ---- ---- ------\n",
       "  7.862729  38.97263    27  590.81  329.91 ...  22.448   0.026    1    0    207\n",
       "  7.865646   38.9698    27  547.12  275.07 ...  22.489   0.027    1    0    207\n",
       " 7.8619623  38.97081    27  602.78  294.59 ...   22.83   0.036    1    0    207\n",
       " 7.8615627 38.971333    27  608.76  304.85 ...  22.467   0.027    1    0    207\n",
       " 7.8656583  38.97602    27  545.69  395.67 ...  22.378   0.025    1    0    207,\n",
       " 17: <Table length=5>\n",
       "    RA       Dec     iccd    xg      yg   ...    i       di    ii   ia  field \n",
       " float32   float32  uint8 float32 float32 ... float32 float32 int8 int8 uint16\n",
       " -------- --------- ----- ------- ------- ... ------- ------- ---- ---- ------\n",
       " 8.358875 38.859055    32 1595.08 3158.55 ...  18.783   0.002    1    0    207\n",
       " 8.359304 38.858246    32  1588.7 3142.88 ...  20.387   0.005    1    0    207\n",
       " 8.357583 38.856792    32 1614.54 3114.66 ...  22.587   0.028    1    0    207\n",
       "  8.36157 38.859207    32 1554.59 3161.49 ...  22.544   0.027    1    0    207\n",
       " 8.365404  38.85644    32 1497.03  3107.8 ...  22.515   0.027    1    0    207,\n",
       " 18: <Table length=8>\n",
       "    RA       Dec     iccd    xg      yg   ...    i       di    ii   ia  field \n",
       " float32   float32  uint8 float32 float32 ... float32 float32 int8 int8 uint16\n",
       " -------- --------- ----- ------- ------- ... ------- ------- ---- ---- ------\n",
       " 8.184929 38.841682    33 2096.16 2823.53 ...  19.726   0.003    1    0    207\n",
       " 8.184962 38.840996    33 2095.72 2810.32 ...  20.187   0.004    1    0    207\n",
       " 8.184767 38.840263    33 2098.78 2796.06 ...  20.629   0.006    1    0    207\n",
       " 8.184908  38.84608    33 2096.03 2909.02 ...  20.054   0.004    1    0    207\n",
       " 8.184696  38.84646    33 2099.15 2916.37 ...  20.281   0.005    1    0    207\n",
       " 8.184637 38.847122    33 2099.98 2929.21 ...  20.645   0.006    1    0    207\n",
       " 8.184746  38.84852    33  2098.2 2956.41 ...  22.531   0.028    1    0    207\n",
       " 8.189425  38.84584    33 2028.04 2904.44 ...  22.563   0.028    1    0    207,\n",
       " 19: <Table length=4>\n",
       "     RA       Dec     iccd    xg      yg   ...    i       di    ii   ia  field \n",
       "  float32   float32  uint8 float32 float32 ... float32 float32 int8 int8 uint16\n",
       " --------- --------- ----- ------- ------- ... ------- ------- ---- ---- ------\n",
       "  8.195483 38.842316    33 1937.17 2835.83 ...  21.582   0.012    1    0    207\n",
       "  8.198496  38.84303    33 1891.72 2849.83 ...  22.646    0.03    1    0    207\n",
       " 8.1956415 38.838318    33 1935.18 2758.26 ...  22.817   0.035    1    0    207\n",
       "  8.198658  38.84598    33 1889.01  2907.1 ...   22.69   0.032    1    0    207,\n",
       " 20: <Table length=5>\n",
       "    RA       Dec     iccd    xg      yg   ...    i       di    ii   ia  field \n",
       " float32   float32  uint8 float32 float32 ... float32 float32 int8 int8 uint16\n",
       " -------- --------- ----- ------- ------- ... ------- ------- ---- ---- ------\n",
       "  8.17977  38.83048    34   58.18 2603.48 ...  22.534   0.028    1    0    207\n",
       " 8.179804  38.83084    34   57.61 2610.33 ...  22.718   0.033    1    0    207\n",
       " 8.180308  38.83046    34   50.05 2602.94 ...    22.5   0.027    1    0    207\n",
       " 8.179796 38.829723    34   57.87 2588.64 ...  22.607    0.03    1    0    207\n",
       " 8.180329 38.829685    34   49.87 2587.86 ...  22.611    0.03    1    0    207,\n",
       " 21: <Table length=4>\n",
       "    RA       Dec     iccd    xg      yg   ...    i       di    ii   ia  field \n",
       " float32   float32  uint8 float32 float32 ... float32 float32 int8 int8 uint16\n",
       " -------- --------- ----- ------- ------- ... ------- ------- ---- ---- ------\n",
       " 7.977783  38.85003    35  986.41 2981.03 ...   20.34   0.005    1    0    207\n",
       " 7.977033 38.850307    35  997.72 2986.37 ...  21.335    0.01    1    0    207\n",
       " 7.979804 38.849888    35  955.78 2978.25 ...  22.531   0.028    1    0    207\n",
       " 7.978971  38.85132    35  968.16 3006.13 ...  22.428   0.025    1    0    207}"
      ]
     },
     "execution_count": 58,
     "metadata": {},
     "output_type": "execute_result"
    }
   ],
   "source": [
    "clusters_rows"
   ]
  },
  {
   "cell_type": "code",
   "execution_count": 57,
   "id": "7b1da3e5",
   "metadata": {},
   "outputs": [
    {
     "data": {
      "text/plain": [
       "Text(0, 0.5, 'g-i')"
      ]
     },
     "execution_count": 57,
     "metadata": {},
     "output_type": "execute_result"
    },
    {
     "data": {
      "image/png": "[encoded data removed]",
      "text/plain": [
       "<Figure size 640x480 with 1 Axes>"
      ]
     },
     "metadata": {},
     "output_type": "display_data"
    }
   ],
   "source": [
    "c=0\n",
    "plt.scatter(clusters_rows[c]['g'],clusters_rows[c]['g']-clusters_rows[c]['i'])\n",
    "plt.xlabel('g mag')\n",
    "plt.ylabel('g-i')"
   ]
  },
  {
   "cell_type": "markdown",
   "id": "030aa9c7",
   "metadata": {},
   "source": [
    "### load in training data to plot colour-magnitude of training objects"
   ]
  },
  {
   "cell_type": "code",
   "execution_count": 81,
   "id": "21c29ddd",
   "metadata": {},
   "outputs": [],
   "source": [
    "# select most recent training data\n",
    "train_file = 'training_data_0802.pk' # training data with 3 classes\n",
    "train_file = 'training_data_1702.pk' # training data with only gcs and galaxies\n",
    "#train_file = 'training_data_1902_with_stars.pk' # training data with gcs galaxies and stars, classed as 'gc' and 'non-gc'\n",
    "\n",
    "train_file = 'training_data_2702_j.pk'\n",
    "\n",
    "with open(f'./pickle/training_data/{train_file}','rb') as f:\n",
    "    training_data = pickle.load(f)"
   ]
  },
  {
   "cell_type": "code",
   "execution_count": 118,
   "id": "0de0935c",
   "metadata": {},
   "outputs": [],
   "source": [
    "objs = training_data[training_data['class']=='gc']\n",
    "objs_gal = training_data[training_data['class']=='galaxy']"
   ]
  },
  {
   "cell_type": "code",
   "execution_count": 114,
   "id": "3a6a9b02",
   "metadata": {},
   "outputs": [
    {
     "data": {
      "text/plain": [
       "{0: <Table length=18>\n",
       "    RA       Dec     iccd    xg      yg   ...    i       di    ii   ia  field \n",
       " float32   float32  uint8 float32 float32 ... float32 float32 int8 int8 uint16\n",
       " -------- --------- ----- ------- ------- ... ------- ------- ---- ---- ------\n",
       " 8.712679 39.545162     3  1577.8 3011.89 ...  19.783   0.003    1    0    207\n",
       " 8.718629 39.544273     3 1666.73 3028.55 ...  20.404   0.005    1    0    207\n",
       " 8.718521 39.542015     3 1665.11 3072.55 ...  20.744   0.007    1    0    207\n",
       " 8.715775  39.54709     3 1624.08 2974.22 ...  20.942   0.008    1    0    207\n",
       " 8.714812 39.545647     3 1609.71 3002.33 ...   21.24    0.01    1    0    207\n",
       " 8.709954 39.544704     3 1537.12 3021.16 ...  21.485   0.012    1    0    207\n",
       " 8.713062 39.541767     3 1583.52 3077.91 ...  22.429   0.026    1    0    207\n",
       " 8.703762  39.54412     3  1444.6  3033.3 ...  22.561   0.029    1    0    207\n",
       " 8.715287  39.54267     3 1616.76 3060.03 ...  22.682   0.032    1    0    207\n",
       " 8.705625  39.54378     3  1472.4 3039.55 ...  22.503   0.027    1    0    207\n",
       " 8.720887 39.545788     3 1700.52  2998.9 ...   22.76   0.034    1    0    207\n",
       " 8.708779  39.54205     3 1519.55 3072.95 ...  22.605    0.03    1    0    207\n",
       " 8.713979 39.542713     3 1597.23 3059.44 ...  22.549   0.029    1    0    207\n",
       " 8.720692  39.54571     3 1697.53 3000.37 ...  22.718   0.033    1    0    207\n",
       " 8.712904 39.547287     3 1581.23 2970.64 ...  22.486   0.027    1    0    207\n",
       " 8.704166  39.54635     3 1450.69 2989.84 ...  22.537   0.028    1    0    207\n",
       " 8.721467   39.5468     3 1709.13 2979.25 ...  22.468   0.027    1    0    207\n",
       " 8.719658  39.54739     3 1682.15 2967.92 ...  22.354   0.024    1    0    207,\n",
       " 1: <Table length=5>\n",
       "    RA       Dec     iccd    xg      yg   ...    i       di    ii   ia  field \n",
       " float32   float32  uint8 float32 float32 ... float32 float32 int8 int8 uint16\n",
       " -------- --------- ----- ------- ------- ... ------- ------- ---- ---- ------\n",
       " 8.633954 39.634518     3  404.11  1280.3 ...  21.093   0.009    1    0    207\n",
       " 8.630484 39.636612     3  352.38 1239.94 ...  21.319    0.01    1    0    207\n",
       " 8.632367  39.63537     3  380.43  1263.9 ...  22.601    0.03    1    0    207\n",
       " 8.635113 39.636295     3  421.41 1245.54 ...  22.799   0.036    1    0    207\n",
       " 8.631687 39.635757     3  370.32 1256.47 ...  22.674   0.032    1    0    207,\n",
       " 2: <Table length=13>\n",
       "    RA       Dec     iccd    xg      yg   ...    i       di    ii   ia  field \n",
       " float32   float32  uint8 float32 float32 ... float32 float32 int8 int8 uint16\n",
       " -------- --------- ----- ------- ------- ... ------- ------- ---- ---- ------\n",
       "  8.59055  39.60146     4 1873.39 1929.57 ...   18.66   0.002    1    0    207\n",
       " 8.588887 39.601654     4 1848.61  1925.8 ...  19.394   0.003    1    0    207\n",
       " 8.590758 39.602478     4 1876.53 1909.67 ...  20.128   0.004    1    0    207\n",
       " 8.594008 39.600857     4 1924.93 1941.09 ...  19.953   0.004    1    0    207\n",
       " 8.593667  39.60145     4 1919.84  1929.5 ...  19.922   0.004    1    0    207\n",
       " 8.590058 39.602657     4 1866.06 1906.26 ...  20.361   0.005    1    0    207\n",
       "  8.58538 39.601883     4 1796.33 1921.59 ...  20.232   0.005    1    0    207\n",
       " 8.586263 39.601776     4  1809.5 1923.65 ...  20.245   0.005    1    0    207\n",
       " 8.594454 39.601315     4 1931.56 1932.03 ...  20.164   0.004    1    0    207\n",
       " 8.595242 39.600517     4 1943.29 1947.63 ...  20.478   0.006    1    0    207\n",
       " 8.584254  39.60341     4 1779.59 1892.03 ...  20.983   0.008    1    0    207\n",
       "  8.58105  39.60276     4 1731.83 1904.85 ...  21.512   0.012    1    0    207\n",
       " 8.581225 39.601257     4  1734.4 1933.97 ...  22.196   0.022    1    0    207,\n",
       " 3: <Table length=4>\n",
       "    RA       Dec     iccd    xg      yg   ...    i       di    ii   ia  field \n",
       " float32   float32  uint8 float32 float32 ... float32 float32 int8 int8 uint16\n",
       " -------- --------- ----- ------- ------- ... ------- ------- ---- ---- ------\n",
       "  8.47075 39.601776     4   89.23 1928.84 ...  20.848   0.007    1    0    207\n",
       " 8.470271 39.601753     4   82.11 1929.28 ...  19.959   0.004    1    0    207\n",
       " 8.467025 39.599747     4   33.76 1968.34 ...  20.512   0.006    1    0    207\n",
       " 8.466988  39.59796     4   33.14 2003.09 ...  22.479   0.028    1    0    207,\n",
       " 4: <Table length=7>\n",
       "    RA       Dec     iccd    xg      yg   ...    i       di    ii   ia  field \n",
       " float32   float32  uint8 float32 float32 ... float32 float32 int8 int8 uint16\n",
       " -------- --------- ----- ------- ------- ... ------- ------- ---- ---- ------\n",
       "  8.38985 39.522167     5  1002.1  3474.7 ...  19.648   0.003    1    0    207\n",
       " 8.388787    39.522     5   986.3 3477.89 ...  22.344   0.024    1    0    207\n",
       " 8.389559 39.520424     5  997.78 3508.37 ...  22.571   0.029    1    0    207\n",
       " 8.388346  39.52041     5  979.73 3508.77 ...  22.398   0.025    1    0    207\n",
       " 8.388212 39.522026     5  977.76 3477.42 ...  22.594   0.029    1    0    207\n",
       " 8.391383 39.523716     5 1024.94 3444.65 ...  22.638    0.03    1    0    207\n",
       " 8.388125 39.520023     5  976.48 3516.25 ...  22.598   0.029    1    0    207,\n",
       " 5: <Table length=19>\n",
       "    RA       Dec     iccd    xg      yg   ...    i       di    ii   ia  field \n",
       " float32   float32  uint8 float32 float32 ... float32 float32 int8 int8 uint16\n",
       " -------- --------- ----- ------- ------- ... ------- ------- ---- ---- ------\n",
       " 8.194266  39.57645     6  206.04 2411.31 ...  19.681   0.003    1    0    207\n",
       " 8.192687 39.579357     6  182.53 2354.67 ...  19.662   0.003    1    0    207\n",
       " 8.196075  39.57811     6  232.97 2379.25 ...  19.669   0.003    1    0    207\n",
       " 8.196067  39.57697     6  232.85 2401.33 ...  20.029   0.004    1    0    207\n",
       " 8.196046  39.57664     6  232.58  2407.8 ...  20.138   0.004    1    0    207\n",
       "  8.19475 39.576077     6  213.22 2418.62 ...  20.296   0.005    1    0    207\n",
       "   8.1969 39.576958     6   245.3 2401.57 ...  20.357   0.005    1    0    207\n",
       " 8.194113 39.575294     6  203.77 2433.78 ...  21.338    0.01    1    0    207\n",
       " 8.193821  39.58042     6  199.41 2334.05 ...  21.288    0.01    1    0    207\n",
       " 8.197317 39.578724     6  251.48  2367.4 ...  21.593   0.013    1    0    207\n",
       " 8.195475 39.579765     6  224.06 2346.99 ...  21.447   0.011    1    0    207\n",
       " 8.194692   39.5803     6   212.4 2336.46 ...  21.483   0.012    1    0    207\n",
       " 8.197196 39.576412     6  249.73 2412.27 ...  21.455   0.011    1    0    207\n",
       " 8.190004 39.575848     6  142.53 2422.69 ...  22.415   0.025    1    0    207\n",
       " 8.189187 39.579044     6  130.32 2360.41 ...  22.443   0.026    1    0    207\n",
       " 8.192741 39.581074     6  183.28  2321.3 ...   22.28   0.022    1    0    207\n",
       " 8.193909 39.581184     6  200.66 2319.11 ...    22.5   0.027    1    0    207\n",
       " 8.188983  39.57856     6  127.29 2369.86 ...  22.645   0.031    1    0    207\n",
       " 8.193717 39.581345     6  197.81 2316.02 ...  22.444   0.026    1    0    207,\n",
       " 6: <Table length=12>\n",
       "     RA       Dec     iccd    xg      yg   ...    i       di    ii   ia  field \n",
       "  float32   float32  uint8 float32 float32 ... float32 float32 int8 int8 uint16\n",
       " --------- --------- ----- ------- ------- ... ------- ------- ---- ---- ------\n",
       "  7.772225 39.492535     9  230.84 3984.41 ...  18.488   0.002    1    0    207\n",
       "  7.773825 39.491623     9  255.08 4002.43 ...  19.569   0.003    1    0    207\n",
       "  7.774229 39.491207     9   261.2 4010.63 ...  19.587   0.003    1    0    207\n",
       " 7.7734084  39.49205     9  248.77 3994.07 ...  19.497   0.003    1    0    207\n",
       " 7.7721457 39.488457     9  229.68 4063.72 ...  19.049   0.002    1    0    207\n",
       " 7.7744794 39.489437     9  264.97 4045.15 ...  20.631   0.006    1    0    207\n",
       " 7.7728415   39.4955     9  240.14 3926.81 ...  20.392   0.005    1    0    207\n",
       "     7.779  39.48912     9  333.33 4052.29 ...  22.298   0.023    1    0    207\n",
       " 7.7772083 39.488495     9  306.23 4064.03 ...  22.425   0.025    1    0    207\n",
       " 7.7771125 39.496597     9  304.77 3906.26 ...  22.565   0.029    1    0    207\n",
       " 7.7736044  39.48403     9  251.74 4150.19 ...  22.601   0.029    1    0    207\n",
       " 7.7743416 39.484867     9  262.89 4134.15 ...  22.522   0.027    1    0    207,\n",
       " 7: <Table length=4>\n",
       "     RA       Dec     iccd    xg      yg   ...    i       di    ii   ia  field \n",
       "  float32   float32  uint8 float32 float32 ... float32 float32 int8 int8 uint16\n",
       " --------- --------- ----- ------- ------- ... ------- ------- ---- ---- ------\n",
       " 7.8555875 39.534595     9 1489.06 3181.69 ...  20.085   0.004    1    0    207\n",
       " 7.8578873 39.533382     9 1523.72 3205.78 ...  22.524   0.028    1    0    207\n",
       "   7.85775 39.535515     9 1521.62 3164.26 ...  22.734   0.033    1    0    207\n",
       "  7.856992 39.535866     9 1510.16 3157.29 ...   22.72   0.033    1    0    207,\n",
       " 8: <Table length=4>\n",
       "     RA       Dec     iccd    xg      yg   ...    i       di    ii   ia  field \n",
       "  float32   float32  uint8 float32 float32 ... float32 float32 int8 int8 uint16\n",
       " --------- --------- ----- ------- ------- ... ------- ------- ---- ---- ------\n",
       "  7.841221  39.57797     9  1271.2 2333.01 ...  22.786   0.034    1    0    207\n",
       "  7.840046  39.58034     9  1253.4 2286.41 ...  22.688   0.032    1    0    207\n",
       "  7.838525 39.585743     9 1230.22 2180.64 ...   22.67   0.031    1    0    207\n",
       " 7.8403125 39.581326     9 1257.38 2267.34 ...  22.608    0.03    1    0    207,\n",
       " 9: <Table length=4>\n",
       "    RA       Dec     iccd    xg      yg   ...    i       di    ii   ia  field \n",
       " float32   float32  uint8 float32 float32 ... float32 float32 int8 int8 uint16\n",
       " -------- --------- ----- ------- ------- ... ------- ------- ---- ---- ------\n",
       " 8.820796  39.29385    11 1087.13 2827.46 ...  18.872   0.002    1    0    207\n",
       " 8.821855 39.294197    11 1102.96 2820.72 ...  20.243   0.005    1    0    207\n",
       " 8.821442 39.294468    11 1096.78 2815.56 ...  20.407   0.005    1    0    207\n",
       " 8.820596 39.294662    11 1084.03 2811.87 ...  20.507   0.005    1    0    207,\n",
       " 10: <Table length=5>\n",
       "    RA       Dec     iccd    xg      yg   ...    i       di    ii   ia  field \n",
       " float32   float32  uint8 float32 float32 ... float32 float32 int8 int8 uint16\n",
       " -------- --------- ----- ------- ------- ... ------- ------- ---- ---- ------\n",
       " 8.310662   39.3971    15 1939.44  854.15 ...  20.267   0.005    1    0    207\n",
       " 8.307742   39.3953    15 1895.96  888.76 ...   21.43   0.011    1    0    207\n",
       " 8.308937 39.394318    15 1913.79  907.78 ...  21.563   0.012    1    0    207\n",
       " 8.307141  39.39585    15 1887.03  878.17 ...  21.464   0.011    1    0    207\n",
       " 8.303613 39.395996    15  1834.5   875.3 ...  22.707   0.033    1    0    207,\n",
       " 11: <Table length=8>\n",
       "     RA       Dec     iccd    xg      yg   ...    i       di    ii   ia  field \n",
       "  float32   float32  uint8 float32 float32 ... float32 float32 int8 int8 uint16\n",
       " --------- --------- ----- ------- ------- ... ------- ------- ---- ---- ------\n",
       " 7.8926835 39.332672    18 2040.53 2066.18 ...   18.35   0.001    1    0    207\n",
       "  7.893154 39.332127    18 2047.58 2076.98 ...  20.642   0.006    1    0    207\n",
       "   7.89095  39.32954    18 2014.25 2126.67 ...  19.535   0.003    1    0    207\n",
       "  7.892775 39.329334    18 2041.75 2130.86 ...  21.018   0.008    1    0    207\n",
       " 7.8928084  39.33047    18 2042.27 2108.93 ...   20.83   0.007    1    0    207\n",
       " 7.8921375  39.32907    18 2032.15 2135.87 ...  21.137   0.009    1    0    207\n",
       "  7.892383 39.328915    18 2035.84 2138.92 ...  21.762   0.014    1    0    207\n",
       " 7.8937626  39.33044    18 2056.67 2109.59 ...  20.103   0.004    1    0    207,\n",
       " 12: <Table length=5>\n",
       "    RA       Dec     iccd    xg      yg   ...    i       di    ii   ia  field \n",
       " float32   float32  uint8 float32 float32 ... float32 float32 int8 int8 uint16\n",
       " -------- --------- ----- ------- ------- ... ------- ------- ---- ---- ------\n",
       " 8.968454 38.979458    19  891.76  461.82 ...  22.311   0.023    1    0    207\n",
       " 8.966912  38.98112    19  915.48  494.04 ...  22.408   0.025    1    0    207\n",
       "   8.9692  38.97966    19  880.49  465.65 ...  22.448   0.026    1    0    207\n",
       " 8.970908   38.9808    19  854.75  487.78 ...  22.536   0.028    1    0    207\n",
       "  8.96755 38.982132    19  906.02  513.61 ...  22.708   0.032    1    0    207,\n",
       " 13: <Table length=5>\n",
       "    RA       Dec     iccd    xg      yg   ...    i       di    ii   ia  field \n",
       " float32   float32  uint8 float32 float32 ... float32 float32 int8 int8 uint16\n",
       " -------- --------- ----- ------- ------- ... ------- ------- ---- ---- ------\n",
       " 8.487087 39.016296    22 1788.43 1166.13 ...   18.68   0.002    1    0    207\n",
       "  8.48625  39.01653    22 1800.98 1170.51 ...  20.099   0.004    1    0    207\n",
       "   8.4878 39.017345    22 1777.86 1186.41 ...  19.913   0.004    1    0    207\n",
       " 8.487842  39.01513    22 1777.11 1143.65 ...  20.273   0.005    1    0    207\n",
       " 8.486617 39.018055    22 1795.58 1200.02 ...  20.477   0.005    1    0    207,\n",
       " 14: <Table length=7>\n",
       "    RA       Dec     iccd    xg      yg   ...    i       di    ii   ia  field \n",
       " float32   float32  uint8 float32 float32 ... float32 float32 int8 int8 uint16\n",
       " -------- --------- ----- ------- ------- ... ------- ------- ---- ---- ------\n",
       " 8.034842 39.170963    26    81.8  4154.8 ...  20.743   0.006    1    0    207\n",
       " 8.032066 39.172794    26  123.27 4190.31 ...  20.322   0.005    1    0    207\n",
       " 8.034312 39.171757    26   89.67 4170.16 ...  22.066   0.019    1    0    207\n",
       " 8.033012 39.172585    26  109.12 4186.12 ...  21.037   0.008    1    0    207\n",
       " 8.034391  39.16832    26   88.84  4103.9 ...  20.774   0.007    1    0    207\n",
       " 8.033742  39.16813    26   98.64 4100.22 ...  20.626   0.006    1    0    207\n",
       " 8.034796 39.168995    26    82.7 4116.84 ...  21.199   0.009    1    0    207,\n",
       " 15: <Table length=6>\n",
       "     RA       Dec     iccd    xg      yg   ...    i       di    ii   ia  field \n",
       "  float32   float32  uint8 float32 float32 ... float32 float32 int8 int8 uint16\n",
       " --------- --------- ----- ------- ------- ... ------- ------- ---- ---- ------\n",
       "  7.841533  39.01166    27   904.4 1087.14 ...   19.97   0.004    1    0    207\n",
       "  7.840192 39.013504    27  924.39 1122.89 ...  20.908   0.007    1    0    207\n",
       " 7.8393793 39.013737    27  936.65 1127.44 ...  20.718   0.007    1    0    207\n",
       " 7.8409667 39.009598    27  913.38 1047.11 ...  20.002   0.004    1    0    207\n",
       " 7.8364873  39.00795    27  981.67 1015.39 ...  18.401   0.002    1    0    207\n",
       " 7.8404794 39.016407    27  919.45 1179.03 ...  22.559   0.029    1    0    207,\n",
       " 16: <Table length=5>\n",
       "     RA       Dec     iccd    xg      yg   ...    i       di    ii   ia  field \n",
       "  float32   float32  uint8 float32 float32 ... float32 float32 int8 int8 uint16\n",
       " --------- --------- ----- ------- ------- ... ------- ------- ---- ---- ------\n",
       "  7.862729  38.97263    27  590.81  329.91 ...  22.448   0.026    1    0    207\n",
       "  7.865646   38.9698    27  547.12  275.07 ...  22.489   0.027    1    0    207\n",
       " 7.8619623  38.97081    27  602.78  294.59 ...   22.83   0.036    1    0    207\n",
       " 7.8615627 38.971333    27  608.76  304.85 ...  22.467   0.027    1    0    207\n",
       " 7.8656583  38.97602    27  545.69  395.67 ...  22.378   0.025    1    0    207,\n",
       " 17: <Table length=5>\n",
       "    RA       Dec     iccd    xg      yg   ...    i       di    ii   ia  field \n",
       " float32   float32  uint8 float32 float32 ... float32 float32 int8 int8 uint16\n",
       " -------- --------- ----- ------- ------- ... ------- ------- ---- ---- ------\n",
       " 8.358875 38.859055    32 1595.08 3158.55 ...  18.783   0.002    1    0    207\n",
       " 8.359304 38.858246    32  1588.7 3142.88 ...  20.387   0.005    1    0    207\n",
       " 8.357583 38.856792    32 1614.54 3114.66 ...  22.587   0.028    1    0    207\n",
       "  8.36157 38.859207    32 1554.59 3161.49 ...  22.544   0.027    1    0    207\n",
       " 8.365404  38.85644    32 1497.03  3107.8 ...  22.515   0.027    1    0    207,\n",
       " 18: <Table length=8>\n",
       "    RA       Dec     iccd    xg      yg   ...    i       di    ii   ia  field \n",
       " float32   float32  uint8 float32 float32 ... float32 float32 int8 int8 uint16\n",
       " -------- --------- ----- ------- ------- ... ------- ------- ---- ---- ------\n",
       " 8.184929 38.841682    33 2096.16 2823.53 ...  19.726   0.003    1    0    207\n",
       " 8.184962 38.840996    33 2095.72 2810.32 ...  20.187   0.004    1    0    207\n",
       " 8.184767 38.840263    33 2098.78 2796.06 ...  20.629   0.006    1    0    207\n",
       " 8.184908  38.84608    33 2096.03 2909.02 ...  20.054   0.004    1    0    207\n",
       " 8.184696  38.84646    33 2099.15 2916.37 ...  20.281   0.005    1    0    207\n",
       " 8.184637 38.847122    33 2099.98 2929.21 ...  20.645   0.006    1    0    207\n",
       " 8.184746  38.84852    33  2098.2 2956.41 ...  22.531   0.028    1    0    207\n",
       " 8.189425  38.84584    33 2028.04 2904.44 ...  22.563   0.028    1    0    207,\n",
       " 19: <Table length=4>\n",
       "     RA       Dec     iccd    xg      yg   ...    i       di    ii   ia  field \n",
       "  float32   float32  uint8 float32 float32 ... float32 float32 int8 int8 uint16\n",
       " --------- --------- ----- ------- ------- ... ------- ------- ---- ---- ------\n",
       "  8.195483 38.842316    33 1937.17 2835.83 ...  21.582   0.012    1    0    207\n",
       "  8.198496  38.84303    33 1891.72 2849.83 ...  22.646    0.03    1    0    207\n",
       " 8.1956415 38.838318    33 1935.18 2758.26 ...  22.817   0.035    1    0    207\n",
       "  8.198658  38.84598    33 1889.01  2907.1 ...   22.69   0.032    1    0    207,\n",
       " 20: <Table length=5>\n",
       "    RA       Dec     iccd    xg      yg   ...    i       di    ii   ia  field \n",
       " float32   float32  uint8 float32 float32 ... float32 float32 int8 int8 uint16\n",
       " -------- --------- ----- ------- ------- ... ------- ------- ---- ---- ------\n",
       "  8.17977  38.83048    34   58.18 2603.48 ...  22.534   0.028    1    0    207\n",
       " 8.179804  38.83084    34   57.61 2610.33 ...  22.718   0.033    1    0    207\n",
       " 8.180308  38.83046    34   50.05 2602.94 ...    22.5   0.027    1    0    207\n",
       " 8.179796 38.829723    34   57.87 2588.64 ...  22.607    0.03    1    0    207\n",
       " 8.180329 38.829685    34   49.87 2587.86 ...  22.611    0.03    1    0    207,\n",
       " 21: <Table length=4>\n",
       "    RA       Dec     iccd    xg      yg   ...    i       di    ii   ia  field \n",
       " float32   float32  uint8 float32 float32 ... float32 float32 int8 int8 uint16\n",
       " -------- --------- ----- ------- ------- ... ------- ------- ---- ---- ------\n",
       " 7.977783  38.85003    35  986.41 2981.03 ...   20.34   0.005    1    0    207\n",
       " 7.977033 38.850307    35  997.72 2986.37 ...  21.335    0.01    1    0    207\n",
       " 7.979804 38.849888    35  955.78 2978.25 ...  22.531   0.028    1    0    207\n",
       " 7.978971  38.85132    35  968.16 3006.13 ...  22.428   0.025    1    0    207}"
      ]
     },
     "execution_count": 114,
     "metadata": {},
     "output_type": "execute_result"
    }
   ],
   "source": [
    "clusters_rows"
   ]
  },
  {
   "cell_type": "code",
   "execution_count": 127,
   "id": "3c4b425a",
   "metadata": {
    "scrolled": false
   },
   "outputs": [
    {
     "data": {
      "image/png": "[encoded data removed]",
      "text/plain": [
       "<Figure size 640x480 with 1 Axes>"
      ]
     },
     "metadata": {},
     "output_type": "display_data"
    }
   ],
   "source": [
    "plt.scatter(objs['g'],-objs['g-i'],marker='.')#,c=objs['i'])\n",
    "plt.scatter(objs_gal['g'],-objs_gal['g-i'],marker='.',alpha=0.6)#,c=objs['i'])\n",
    "c=21\n",
    "plt.scatter(clusters_rows[c]['g'],clusters_rows[c]['g']-clusters_rows[c]['i'], c='#E22')\n",
    "plt.xlabel('g mag')\n",
    "plt.ylabel('g-i')\n",
    "plt.title('Colour-magnitude of GCs from training set')\n",
    "plt.ylim([-2,6])\n",
    "#plt.colorbar()\n",
    "plt.show()"
   ]
  },
  {
   "cell_type": "code",
   "execution_count": null,
   "id": "c637affb",
   "metadata": {},
   "outputs": [],
   "source": []
  },
  {
   "cell_type": "code",
   "execution_count": 110,
   "id": "b8c2d88b",
   "metadata": {},
   "outputs": [
    {
     "data": {
      "text/html": [
       "<div><i>Table length=18</i>\n",
       "<table id=\"table2398936975680\" class=\"table-striped table-bordered table-condensed\">\n",
       "<thead><tr><th>RA</th><th>Dec</th><th>iccd</th><th>xg</th><th>yg</th><th>g</th><th>dg</th><th>ig</th><th>xi</th><th>yi</th><th>i</th><th>di</th><th>ii</th><th>ia</th><th>field</th></tr></thead>\n",
       "<thead><tr><th>float32</th><th>float32</th><th>uint8</th><th>float32</th><th>float32</th><th>float32</th><th>float32</th><th>int8</th><th>float32</th><th>float32</th><th>float32</th><th>float32</th><th>int8</th><th>int8</th><th>uint16</th></tr></thead>\n",
       "<tr><td>8.712679</td><td>39.545162</td><td>3</td><td>1577.8</td><td>3011.89</td><td>20.345</td><td>0.003</td><td>1</td><td>1565.62</td><td>3040.74</td><td>19.783</td><td>0.003</td><td>1</td><td>0</td><td>207</td></tr>\n",
       "<tr><td>8.718629</td><td>39.544273</td><td>3</td><td>1666.73</td><td>3028.55</td><td>20.419</td><td>0.003</td><td>1</td><td>1654.53</td><td>3057.34</td><td>20.404</td><td>0.005</td><td>1</td><td>0</td><td>207</td></tr>\n",
       "<tr><td>8.718521</td><td>39.542015</td><td>3</td><td>1665.11</td><td>3072.55</td><td>20.579</td><td>0.003</td><td>1</td><td>1652.92</td><td>3101.34</td><td>20.744</td><td>0.007</td><td>1</td><td>0</td><td>207</td></tr>\n",
       "<tr><td>8.715775</td><td>39.54709</td><td>3</td><td>1624.08</td><td>2974.22</td><td>20.954</td><td>0.004</td><td>1</td><td>1611.88</td><td>3003.05</td><td>20.942</td><td>0.008</td><td>1</td><td>0</td><td>207</td></tr>\n",
       "<tr><td>8.714812</td><td>39.545647</td><td>3</td><td>1609.71</td><td>3002.33</td><td>22.105</td><td>0.008</td><td>1</td><td>1597.52</td><td>3031.16</td><td>21.24</td><td>0.01</td><td>1</td><td>0</td><td>207</td></tr>\n",
       "<tr><td>8.709954</td><td>39.544704</td><td>3</td><td>1537.12</td><td>3021.16</td><td>22.118</td><td>0.008</td><td>1</td><td>1524.94</td><td>3049.96</td><td>21.485</td><td>0.012</td><td>1</td><td>0</td><td>207</td></tr>\n",
       "<tr><td>8.713062</td><td>39.541767</td><td>3</td><td>1583.52</td><td>3077.91</td><td>22.29</td><td>0.009</td><td>1</td><td>1571.35</td><td>3106.72</td><td>22.429</td><td>0.026</td><td>1</td><td>0</td><td>207</td></tr>\n",
       "<tr><td>8.703762</td><td>39.54412</td><td>3</td><td>1444.6</td><td>3033.3</td><td>22.502</td><td>0.011</td><td>1</td><td>1432.45</td><td>3062.03</td><td>22.561</td><td>0.029</td><td>1</td><td>0</td><td>207</td></tr>\n",
       "<tr><td>8.715287</td><td>39.54267</td><td>3</td><td>1616.76</td><td>3060.03</td><td>22.598</td><td>0.012</td><td>1</td><td>1604.58</td><td>3088.81</td><td>22.682</td><td>0.032</td><td>1</td><td>0</td><td>207</td></tr>\n",
       "<tr><td>8.705625</td><td>39.54378</td><td>3</td><td>1472.4</td><td>3039.55</td><td>22.625</td><td>0.012</td><td>1</td><td>1460.25</td><td>3068.33</td><td>22.503</td><td>0.027</td><td>1</td><td>0</td><td>207</td></tr>\n",
       "<tr><td>8.720887</td><td>39.545788</td><td>3</td><td>1700.52</td><td>2998.9</td><td>22.679</td><td>0.012</td><td>1</td><td>1688.3</td><td>3027.71</td><td>22.76</td><td>0.034</td><td>1</td><td>0</td><td>207</td></tr>\n",
       "<tr><td>8.708779</td><td>39.54205</td><td>3</td><td>1519.55</td><td>3072.95</td><td>22.816</td><td>0.014</td><td>1</td><td>1507.39</td><td>3101.7</td><td>22.605</td><td>0.03</td><td>1</td><td>0</td><td>207</td></tr>\n",
       "<tr><td>8.713979</td><td>39.542713</td><td>3</td><td>1597.23</td><td>3059.44</td><td>22.816</td><td>0.014</td><td>1</td><td>1585.05</td><td>3088.21</td><td>22.549</td><td>0.029</td><td>1</td><td>0</td><td>207</td></tr>\n",
       "<tr><td>8.720692</td><td>39.54571</td><td>3</td><td>1697.53</td><td>3000.37</td><td>22.829</td><td>0.014</td><td>1</td><td>1685.32</td><td>3029.26</td><td>22.718</td><td>0.033</td><td>1</td><td>0</td><td>207</td></tr>\n",
       "<tr><td>8.712904</td><td>39.547287</td><td>3</td><td>1581.23</td><td>2970.64</td><td>22.882</td><td>0.014</td><td>1</td><td>1569.04</td><td>2999.42</td><td>22.486</td><td>0.027</td><td>1</td><td>0</td><td>207</td></tr>\n",
       "<tr><td>8.704166</td><td>39.54635</td><td>3</td><td>1450.69</td><td>2989.84</td><td>23.251</td><td>0.019</td><td>1</td><td>1438.54</td><td>3018.58</td><td>22.537</td><td>0.028</td><td>1</td><td>0</td><td>207</td></tr>\n",
       "<tr><td>8.721467</td><td>39.5468</td><td>3</td><td>1709.13</td><td>2979.25</td><td>23.459</td><td>0.022</td><td>1</td><td>1696.91</td><td>3008.07</td><td>22.468</td><td>0.027</td><td>1</td><td>0</td><td>207</td></tr>\n",
       "<tr><td>8.719658</td><td>39.54739</td><td>3</td><td>1682.15</td><td>2967.92</td><td>23.485</td><td>0.023</td><td>1</td><td>1669.93</td><td>2996.73</td><td>22.354</td><td>0.024</td><td>1</td><td>0</td><td>207</td></tr>\n",
       "</table></div>"
      ],
      "text/plain": [
       "<Table length=18>\n",
       "   RA       Dec     iccd    xg      yg   ...    i       di    ii   ia  field \n",
       "float32   float32  uint8 float32 float32 ... float32 float32 int8 int8 uint16\n",
       "-------- --------- ----- ------- ------- ... ------- ------- ---- ---- ------\n",
       "8.712679 39.545162     3  1577.8 3011.89 ...  19.783   0.003    1    0    207\n",
       "8.718629 39.544273     3 1666.73 3028.55 ...  20.404   0.005    1    0    207\n",
       "8.718521 39.542015     3 1665.11 3072.55 ...  20.744   0.007    1    0    207\n",
       "8.715775  39.54709     3 1624.08 2974.22 ...  20.942   0.008    1    0    207\n",
       "8.714812 39.545647     3 1609.71 3002.33 ...   21.24    0.01    1    0    207\n",
       "8.709954 39.544704     3 1537.12 3021.16 ...  21.485   0.012    1    0    207\n",
       "8.713062 39.541767     3 1583.52 3077.91 ...  22.429   0.026    1    0    207\n",
       "8.703762  39.54412     3  1444.6  3033.3 ...  22.561   0.029    1    0    207\n",
       "8.715287  39.54267     3 1616.76 3060.03 ...  22.682   0.032    1    0    207\n",
       "8.705625  39.54378     3  1472.4 3039.55 ...  22.503   0.027    1    0    207\n",
       "8.720887 39.545788     3 1700.52  2998.9 ...   22.76   0.034    1    0    207\n",
       "8.708779  39.54205     3 1519.55 3072.95 ...  22.605    0.03    1    0    207\n",
       "8.713979 39.542713     3 1597.23 3059.44 ...  22.549   0.029    1    0    207\n",
       "8.720692  39.54571     3 1697.53 3000.37 ...  22.718   0.033    1    0    207\n",
       "8.712904 39.547287     3 1581.23 2970.64 ...  22.486   0.027    1    0    207\n",
       "8.704166  39.54635     3 1450.69 2989.84 ...  22.537   0.028    1    0    207\n",
       "8.721467   39.5468     3 1709.13 2979.25 ...  22.468   0.027    1    0    207\n",
       "8.719658  39.54739     3 1682.15 2967.92 ...  22.354   0.024    1    0    207"
      ]
     },
     "execution_count": 110,
     "metadata": {},
     "output_type": "execute_result"
    }
   ],
   "source": [
    "clusters_rows[0]"
   ]
  },
  {
   "cell_type": "code",
   "execution_count": null,
   "id": "e7cfe5dc",
   "metadata": {},
   "outputs": [],
   "source": []
  },
  {
   "cell_type": "code",
   "execution_count": null,
   "id": "04c81868",
   "metadata": {},
   "outputs": [],
   "source": []
  },
  {
   "cell_type": "code",
   "execution_count": null,
   "id": "76bd9d23",
   "metadata": {},
   "outputs": [],
   "source": []
  },
  {
   "cell_type": "code",
   "execution_count": null,
   "id": "755c1e27",
   "metadata": {},
   "outputs": [],
   "source": []
  },
  {
   "cell_type": "code",
   "execution_count": null,
   "id": "818e38de",
   "metadata": {},
   "outputs": [],
   "source": []
  },
  {
   "cell_type": "code",
   "execution_count": null,
   "id": "2cd3d10b",
   "metadata": {},
   "outputs": [],
   "source": []
  }
 ],
 "metadata": {
  "kernelspec": {
   "display_name": "Python 3 (ipykernel)",
   "language": "python",
   "name": "python3"
  },
  "language_info": {
   "codemirror_mode": {
    "name": "ipython",
    "version": 3
   },
   "file_extension": ".py",
   "mimetype": "text/x-python",
   "name": "python",
   "nbconvert_exporter": "python",
   "pygments_lexer": "ipython3",
   "version": "3.9.13"
  }
 },
 "nbformat": 4,
 "nbformat_minor": 5
}
