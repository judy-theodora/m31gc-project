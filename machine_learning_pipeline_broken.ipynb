{
 "cells": [
  {
   "cell_type": "markdown",
   "id": "efd72194",
   "metadata": {},
   "source": [
    "# Import"
   ]
  },
  {
   "cell_type": "code",
   "execution_count": 325,
   "id": "c2379322",
   "metadata": {},
   "outputs": [],
   "source": [
    "import warnings\n",
    "warnings.simplefilter('ignore')"
   ]
  },
  {
   "cell_type": "code",
   "execution_count": 1,
   "id": "a20bba85",
   "metadata": {},
   "outputs": [],
   "source": [
    "import matplotlib.pyplot as plt\n",
    "import pandas as pd\n",
    "import numpy as np\n",
    "import pickle\n",
    "\n",
    "from sklearn.ensemble import RandomForestClassifier\n",
    "from sklearn.linear_model import LogisticRegression\n",
    "from sklearn.svm import LinearSVC #???????????????//\n",
    "from sklearn.neural_network import MLPClassifier\n",
    "\n",
    "from sklearn.metrics import mean_squared_error, r2_score, confusion_matrix\n",
    "from sklearn import preprocessing\n",
    "from sklearn.model_selection import train_test_split\n",
    "from scipy.stats import pearsonr, kendalltau\n",
    "\n",
    "from astropy.table import QTable\n",
    "from time import time"
   ]
  },
  {
   "cell_type": "markdown",
   "id": "71c1e99e",
   "metadata": {},
   "source": [
    "## Load required data"
   ]
  },
  {
   "cell_type": "code",
   "execution_count": 2,
   "id": "80ccdd28",
   "metadata": {},
   "outputs": [],
   "source": [
    "bounds = pickle.load(open('./pickle/bounds.pk','rb'))\n",
    "master_cat = pd.read_csv('./catdata/master_catalog_jan_2023.csv')\n",
    "cat_files = ['cat1_50.pk','cat51_100.pk','cat101_150.pk','cat151_200.pk','cat201_235.pk',\n",
    "             'cat236_257.pk','cat258_279.pk','cat280_320.pk','cat321_360.pk','cat361_406.pk']"
   ]
  },
  {
   "cell_type": "code",
   "execution_count": 3,
   "id": "62cf1e95",
   "metadata": {},
   "outputs": [],
   "source": [
    "object_match_files = ['matches_delta006.pk','matches_delta005.pk','matches_delta004.pk']"
   ]
  },
  {
   "cell_type": "markdown",
   "id": "b6089c5e",
   "metadata": {},
   "source": [
    "# Training Data Generator"
   ]
  },
  {
   "cell_type": "code",
   "execution_count": 4,
   "id": "bbe49907",
   "metadata": {},
   "outputs": [],
   "source": [
    "def load_cat(field): # change to match-case\n",
    "    bounds = [50,100,150,200,235,257,279,320,360,406]\n",
    "    for b in range(len(bounds)):\n",
    "        if field <= bounds[b]:\n",
    "            to_load = cat_files[b]\n",
    "            break\n",
    "    print(f'Loading {to_load} ...')\n",
    "    catalogue = pickle.load(open(f'./pickle/{to_load}','rb'))\n",
    "    return catalogue"
   ]
  },
  {
   "cell_type": "code",
   "execution_count": 5,
   "id": "0f92cb28",
   "metadata": {},
   "outputs": [],
   "source": [
    "# 23.01.26 18:29\n",
    "def generate_training_data(matches, crowding=300) -> pd.DataFrame:\n",
    "    cat = load_cat(1)\n",
    "    \n",
    "    columns = ['obj_id','class','i','g','di','dg','ra','dec','field','pdidx','rbcidx','nearby']\n",
    "    values = []\n",
    "    object_ids = []\n",
    "    \n",
    "    #TEMP\n",
    "    crowded_objects = []\n",
    "    \n",
    "    \n",
    "    for field in matches: # iterate through each field ID\n",
    "        working_field = matches[field] # take the list of matches e.g. working_field = [(166727, 2642), (159637, 2646)]\n",
    "        if field not in cat: # load the correct catalogue\n",
    "            cat = load_cat(field)\n",
    "        for m in working_field: # iterate through each match (a tuple) and grab values from catalogues\n",
    "            \n",
    "            if m[2] > crowding: # testing\n",
    "                crowded_objects.append(m[1:])\n",
    "                continue\n",
    "            \n",
    "            obj_id = master_cat.loc[m[1]].ID\n",
    "            class_ = master_cat.loc[m[1]].CLASS\n",
    "            \n",
    "            if obj_id in object_ids: continue # if we've already added the object then skip\n",
    "            else: object_ids.append(obj_id)   # else add it to the list of ids\n",
    "            \n",
    "            if class_ == 1: class_str = 'gc' # convert class numbers into strings\n",
    "            elif class_ == 4: class_str = 'galaxy'\n",
    "            elif class_ == 6: class_str = 'star'\n",
    "            else: continue # skip non-gc/gal/stars\n",
    "            \n",
    "            # collect required data\n",
    "            row = cat[field][m[0]]\n",
    "            ra = row['RA']\n",
    "            dec = row['Dec']\n",
    "            g = row['g']\n",
    "            i = row['i']\n",
    "            dg = row['dg']\n",
    "            di = row['di']\n",
    "            \n",
    "            values.append([obj_id,class_str,i,g,di,dg,ra,dec,field,m[0],m[1],m[2]])\n",
    "    \n",
    "    training_data_dict = dict(zip(columns,zip(*values))) # zip values and columns together into a dict (columns as keys)\n",
    "    training_data_df = pd.DataFrame(training_data_dict) # put into pd Dataframe\n",
    "    return training_data_df, crowded_objects"
   ]
  },
  {
   "cell_type": "code",
   "execution_count": 108,
   "id": "142625ea",
   "metadata": {},
   "outputs": [],
   "source": [
    "obj_mat = pickle.load(open(f'./pickle/matches/matches_delta005_0802.pk','rb'))"
   ]
  },
  {
   "cell_type": "code",
   "execution_count": 113,
   "id": "d14d29ae",
   "metadata": {},
   "outputs": [
    {
     "data": {
      "text/plain": [
       "[(262, 221),\n",
       " (265, 208),\n",
       " (287, 201),\n",
       " (309, 202),\n",
       " (320, 212),\n",
       " (334, 234),\n",
       " (339, 220),\n",
       " (352, 218),\n",
       " (380, 202),\n",
       " (451, 202),\n",
       " (492, 202),\n",
       " (844, 207),\n",
       " (878, 219),\n",
       " (1037, 230),\n",
       " (1101, 239),\n",
       " (1123, 215),\n",
       " (1124, 211),\n",
       " (1128, 233),\n",
       " (1131, 217),\n",
       " (1132, 208),\n",
       " (1144, 254),\n",
       " (1150, 218),\n",
       " (1202, 207),\n",
       " (1222, 207),\n",
       " (1317, 224),\n",
       " (1323, 230),\n",
       " (1348, 222),\n",
       " (1452, 234),\n",
       " (1456, 252),\n",
       " (1459, 232),\n",
       " (1464, 225),\n",
       " (1465, 208),\n",
       " (1480, 242),\n",
       " (1499, 224),\n",
       " (1513, 218),\n",
       " (1544, 246),\n",
       " (1689, 202),\n",
       " (1823, 210),\n",
       " (1837, 203),\n",
       " (1862, 216),\n",
       " (1864, 201),\n",
       " (1897, 236),\n",
       " (1904, 207),\n",
       " (1984, 203),\n",
       " (1993, 212),\n",
       " (2038, 210),\n",
       " (514, 255),\n",
       " (515, 211),\n",
       " (518, 285),\n",
       " (519, 239),\n",
       " (521, 294),\n",
       " (525, 237),\n",
       " (531, 251),\n",
       " (536, 204),\n",
       " (540, 249),\n",
       " (425, 209),\n",
       " (448, 218),\n",
       " (461, 296),\n",
       " (487, 279),\n",
       " (489, 278),\n",
       " (491, 212),\n",
       " (496, 290),\n",
       " (506, 258),\n",
       " (510, 308),\n",
       " (2099, 204),\n",
       " (918, 203),\n",
       " (940, 205),\n",
       " (1103, 211),\n",
       " (1267, 214),\n",
       " (1402, 204),\n",
       " (1601, 203),\n",
       " (1715, 226),\n",
       " (1722, 204),\n",
       " (1727, 217),\n",
       " (1739, 214),\n",
       " (1787, 213),\n",
       " (1790, 218),\n",
       " (1836, 219),\n",
       " (1897, 224),\n",
       " (1947, 211),\n",
       " (1960, 205),\n",
       " (1987, 208),\n",
       " (1993, 203),\n",
       " (1997, 201),\n",
       " (70, 262),\n",
       " (72, 230),\n",
       " (74, 267),\n",
       " (330, 229),\n",
       " (336, 237)]"
      ]
     },
     "execution_count": 113,
     "metadata": {},
     "output_type": "execute_result"
    }
   ],
   "source": [
    "a"
   ]
  },
  {
   "cell_type": "code",
   "execution_count": 112,
   "id": "84361d52",
   "metadata": {},
   "outputs": [
    {
     "name": "stdout",
     "output_type": "stream",
     "text": [
      "Loading cat1_50.pk ...\n",
      "Loading cat51_100.pk ...\n",
      "Loading cat101_150.pk ...\n",
      "Loading cat151_200.pk ...\n",
      "Loading cat201_235.pk ...\n",
      "Loading cat236_257.pk ...\n",
      "Loading cat258_279.pk ...\n",
      "Loading cat280_320.pk ...\n",
      "Loading cat321_360.pk ...\n",
      "Loading cat361_406.pk ...\n"
     ]
    }
   ],
   "source": [
    "_, a = generate_training_data(obj_mat,crowding=200)"
   ]
  },
  {
   "cell_type": "code",
   "execution_count": 38,
   "id": "84851923",
   "metadata": {},
   "outputs": [
    {
     "name": "stdout",
     "output_type": "stream",
     "text": [
      "300\n"
     ]
    }
   ],
   "source": [
    "#generate training data for a range of crowding, and delta, values\n",
    "object_match_files = ['matches_delta006.pk','matches_delta005.pk','matches_delta004.pk','matches_delta003.pk']\n",
    "#TEMP\n",
    "object_match_files = ['matches_delta005_0502.pk']\n",
    "\n",
    "for m in object_match_files:\n",
    "    obj_mat = pickle.load(open(f'./pickle/matches/{m}','rb'))\n",
    "    #training_data = {}\n",
    "    for c in crowding_test_values[0:1]:\n",
    "        print(c)\n",
    "        training_data, _ = generate_training_data(obj_mat, crowding=c)\n",
    "    with open(f'./pickle/training_data/training_data_0502.pk','wb') as f: #m[-4:-3] = the delta number\n",
    "        pickle.dump(training_data,f)"
   ]
  },
  {
   "cell_type": "markdown",
   "id": "488282cd",
   "metadata": {},
   "source": [
    "To filter the training data for different crowding values, we can simply iterate back through the list of matches and remove the entries that are outside the threshold, instead of having to re-generate the data every time."
   ]
  },
  {
   "cell_type": "markdown",
   "id": "139efd31",
   "metadata": {},
   "source": [
    "# Statistics"
   ]
  },
  {
   "cell_type": "code",
   "execution_count": 6,
   "id": "d01b0a4c",
   "metadata": {},
   "outputs": [],
   "source": [
    "def calc_correlations(pred,true):\n",
    "    correlations = {}\n",
    "    correlations['mse'] = mean_squared_error(pred,true)\n",
    "    correlations['ktau'] = kendalltau(pred,true)[0]\n",
    "    correlations['pval-ktau'] = kendalltau(pred,true)[1]\n",
    "    correlations['pearsonr'] = pearsonr(pred,true)[0]\n",
    "    correlations['pval-pearsonr'] = pearsonr(pred,true)[1]\n",
    "    correlations['r2'] = r2_score(true, pred)\n",
    "    return correlations"
   ]
  },
  {
   "cell_type": "code",
   "execution_count": 7,
   "id": "acec67b0",
   "metadata": {},
   "outputs": [],
   "source": [
    "def pretty_corr(c): # pretty print output from calc_correlations()\n",
    "    print(f\"\"\"\n",
    "    Mean squared error (RMS): \\t{c['mse']:.5f}\\t({(c['mse']**.5):.5})\n",
    "    Kendall Tau: \\t\\t{c['ktau']:.5}\n",
    "    \\tKtau p-value: \\t\\t{c['pval-ktau']:.5}\n",
    "    Pearson's r: \\t\\t{c['pearsonr']:.5}\n",
    "    \\tPearson's r p-value: \\t{c['pval-pearsonr']:.5}\n",
    "    Coef. of determination \\t{c['r2']:.5}\n",
    "    \"\"\")"
   ]
  },
  {
   "cell_type": "markdown",
   "id": "7cff582a",
   "metadata": {},
   "source": [
    "# Random Forest"
   ]
  },
  {
   "cell_type": "code",
   "execution_count": 121,
   "id": "64a567c4",
   "metadata": {},
   "outputs": [],
   "source": [
    "def ranfor(df,train_size=0.75,n_estimators=50,criterion='gini',features=['i','g'], max_depth=None, max_leaf_nodes=None, stats=False, scale=False):\n",
    "    # select features for training\n",
    "    X = df[features]\n",
    "    y = df['class']\n",
    "    # split the data\n",
    "    if scale:\n",
    "        # scale the data\n",
    "        scaler = preprocessing.StandardScaler().fit(X)\n",
    "        X_scaled = scaler.transform(X)\n",
    "        X_train, X_test, y_train, y_test = train_test_split(X_scaled, y, train_size=train_size) # X_scaled\n",
    "    else:\n",
    "        X_train, X_test, y_train, y_test = train_test_split(X, y, train_size=train_size) # X\n",
    "    # train the regressor model\n",
    "    ran_for_class = RandomForestClassifier(n_estimators=n_estimators,\n",
    "                                    criterion=criterion\n",
    "                                   ).fit(X_train,y_train)\n",
    "    pred = ran_for_class.predict(X_test)\n",
    "    \n",
    "    acc = ran_for_class.score(X_test,y_test)\n",
    "    \n",
    "    true = y_test.to_numpy()\n",
    "    if stats:\n",
    "        return ran_for_class, pred, true\n",
    "    else: return ran_for_class"
   ]
  },
  {
   "cell_type": "code",
   "execution_count": 125,
   "id": "7374b62b",
   "metadata": {},
   "outputs": [],
   "source": [
    "def rf_pred(field,train,crowding=250,scale=False):\n",
    "    training_data_ = train[train['nearby'] <= crowding]\n",
    "    cat = load_cat(field)[field]\n",
    "    \n",
    "    # drop rows with high delta g/i values\n",
    "    cat_d = cat[cat['dg']+cat['di'] < 0.05]\n",
    "    # drop stars & saturated points\n",
    "    cat_candidate = cat_d#[~((cat_d['ig'] == -1) | (cat_d['ii'] == -1))]\n",
    "    \n",
    "    X = cat_candidate[['i','g']]\n",
    "    X = X.to_pandas()\n",
    "    if scale:\n",
    "        X_scaled = preprocessing.StandardScaler().fit(X).transform(X)\n",
    "        res = ranfor(training_data_, n_estimators=60,scale=True).predict(X_scaled)\n",
    "    else:\n",
    "        res = ranfor(training_data_, n_estimators=60).predict(X)\n",
    "    \n",
    "    cat_pred = cat_candidate[['RA','Dec','iccd','xg','yg','g','dg','ig','xi','yi','i','di','ii','field']]\n",
    "    cat_pred['pred'] = res\n",
    "    return cat_pred"
   ]
  },
  {
   "cell_type": "markdown",
   "id": "beeee9cd",
   "metadata": {},
   "source": [
    "# SVC"
   ]
  },
  {
   "cell_type": "code",
   "execution_count": 190,
   "id": "b1711dc1",
   "metadata": {},
   "outputs": [],
   "source": [
    "def svc_class(df,train_size=0.75,max_iter=1000,loss='squared_hinge',features=['i','g'], stats=False, scale=False):\n",
    "    # select features for training\n",
    "    X = df[features]\n",
    "    y = df['class']\n",
    "    # split the data\n",
    "    if scale:\n",
    "        # scale the data\n",
    "        scaler = preprocessing.StandardScaler().fit(X)\n",
    "        X_scaled = scaler.transform(X)\n",
    "        X_train, X_test, y_train, y_test = train_test_split(X_scaled, y, train_size=train_size) # X_scaled\n",
    "    else:\n",
    "        X_train, X_test, y_train, y_test = train_test_split(X, y, train_size=train_size) # X\n",
    "    # train the regressor model\n",
    "    svc_classifier = LinearSVC(dual=False,C=0.8,max_iter=max_iter).fit(X_train,y_train)\n",
    "    pred = svc_classifier.predict(X_test)\n",
    "    \n",
    "    true = y_test.to_numpy()\n",
    "    if stats:\n",
    "        return svc_classifier, pred, true\n",
    "    else: return svc_classifier"
   ]
  },
  {
   "cell_type": "markdown",
   "id": "085f06e1",
   "metadata": {},
   "source": [
    "# MLP"
   ]
  },
  {
   "cell_type": "code",
   "execution_count": null,
   "id": "c907b346",
   "metadata": {},
   "outputs": [],
   "source": []
  },
  {
   "cell_type": "code",
   "execution_count": 326,
   "id": "072398d7",
   "metadata": {},
   "outputs": [],
   "source": [
    "def mlp_class(df,train_size=0.75,hidden_layer_sizes=(25,),activation='relu',alpha=0.0001,max_iter=500,features=['i','g'], stats=False, scale=False):\n",
    "    # select features for training\n",
    "    X = df[features]\n",
    "    y = df['class']\n",
    "    # split the data\n",
    "    if scale:\n",
    "        # scale the data\n",
    "        scaler = preprocessing.StandardScaler().fit(X)\n",
    "        X_scaled = scaler.transform(X)\n",
    "        X_train, X_test, y_train, y_test = train_test_split(X_scaled, y, train_size=train_size) # X_scaled\n",
    "    else:\n",
    "        X_train, X_test, y_train, y_test = train_test_split(X, y, train_size=train_size) # X\n",
    "    # train the regressor model\n",
    "    mlp_classifier = MLPClassifier(hidden_layer_sizes=hidden_layer_sizes,\n",
    "                                   activation=activation, alpha=alpha, max_iter=max_iter,\n",
    "                                   learning_rate='adaptive',early_stopping=True,\n",
    "                                  ).fit(X_train,y_train)\n",
    "    pred = mlp_classifier.predict(X_test)\n",
    "    true = y_test.to_numpy()\n",
    "    if stats:\n",
    "        return mlp_classifier, pred, true\n",
    "    else: return mlp_classifier"
   ]
  },
  {
   "cell_type": "markdown",
   "id": "21795817",
   "metadata": {},
   "source": [
    "## Predictions"
   ]
  },
  {
   "cell_type": "markdown",
   "id": "e61aa9d9",
   "metadata": {},
   "source": [
    "#### 08/02/2023"
   ]
  },
  {
   "cell_type": "markdown",
   "id": "b00b9210",
   "metadata": {},
   "source": [
    "Automate training"
   ]
  },
  {
   "cell_type": "code",
   "execution_count": 115,
   "id": "6951027f",
   "metadata": {},
   "outputs": [],
   "source": [
    "train_file = 'training_data_0802.pk'"
   ]
  },
  {
   "cell_type": "code",
   "execution_count": null,
   "id": "5fed1e0a",
   "metadata": {},
   "outputs": [],
   "source": [
    "cat_files = ['cat1_50.pk','cat51_100.pk','cat101_150.pk','cat151_200.pk','cat201_235.pk',\n",
    "             'cat236_257.pk','cat258_279.pk','cat280_320.pk','cat321_360.pk','cat361_406.pk']"
   ]
  },
  {
   "cell_type": "code",
   "execution_count": 117,
   "id": "5b8dd136",
   "metadata": {},
   "outputs": [],
   "source": [
    "training_data = pickle.load(open(f'./pickle/training_data/{train_file}','rb'))\n",
    "training_data_nostar = training_data[training_data['class'] != 'star']\n"
   ]
  },
  {
   "cell_type": "code",
   "execution_count": null,
   "id": "2e4555f0",
   "metadata": {},
   "outputs": [],
   "source": [
    "field = 222\n",
    "#RF\n",
    "predictions_rf = rf_pred(field,training_data_nostar)\n",
    "test_ = predictions_rf[~((predictions_rf['ig'] == -1) | (predictions_rf['ii'] == -1) )]\n",
    "print(len(test_[test_['pred']=='gc']))\n",
    "#with open(f'pickle/temp/predictionsf{field}.pk','wb') as f:\n",
    "    #pickle.dump(predictions,f)\n",
    "len(predictions_rf[predictions_rf['pred'] == 'gc'])"
   ]
  },
  {
   "cell_type": "code",
   "execution_count": 198,
   "id": "0cbe1534",
   "metadata": {},
   "outputs": [
    {
     "data": {
      "text/plain": [
       "0.6946107784431138"
      ]
     },
     "execution_count": 198,
     "metadata": {},
     "output_type": "execute_result"
    }
   ],
   "source": [
    "#SVC\n",
    "\n",
    "svc_classifier, pred, true = svc_class(training_data_nostar, stats=True)\n",
    "\n",
    "tn, fp, fn, tp = confusion_matrix(true,pred,labels=['galaxy','gc']).ravel()\n",
    "\n",
    "recall = tp/(tp+fn)\n",
    "recall"
   ]
  },
  {
   "cell_type": "code",
   "execution_count": 312,
   "id": "0c735782",
   "metadata": {},
   "outputs": [
    {
     "name": "stderr",
     "output_type": "stream",
     "text": [
      "C:\\Users\\jwarn\\anaconda3\\lib\\site-packages\\sklearn\\base.py:450: UserWarning: X does not have valid feature names, but MLPClassifier was fitted with feature names\n",
      "  warnings.warn(\n"
     ]
    },
    {
     "name": "stdout",
     "output_type": "stream",
     "text": [
      "recall:0.6746987951807228\n",
      "precision:0.7088607594936709\n",
      "accuracy:0.7129629629629629\n"
     ]
    },
    {
     "name": "stderr",
     "output_type": "stream",
     "text": [
      "C:\\Users\\jwarn\\anaconda3\\lib\\site-packages\\sklearn\\base.py:450: UserWarning: X does not have valid feature names, but MLPClassifier was fitted with feature names\n",
      "  warnings.warn(\n",
      "C:\\Users\\jwarn\\anaconda3\\lib\\site-packages\\sklearn\\base.py:450: UserWarning: X does not have valid feature names, but MLPClassifier was fitted with feature names\n",
      "  warnings.warn(\n",
      "C:\\Users\\jwarn\\anaconda3\\lib\\site-packages\\sklearn\\base.py:450: UserWarning: X does not have valid feature names, but MLPClassifier was fitted with feature names\n",
      "  warnings.warn(\n",
      "C:\\Users\\jwarn\\anaconda3\\lib\\site-packages\\sklearn\\base.py:450: UserWarning: X does not have valid feature names, but MLPClassifier was fitted with feature names\n",
      "  warnings.warn(\n",
      "C:\\Users\\jwarn\\anaconda3\\lib\\site-packages\\sklearn\\base.py:450: UserWarning: X does not have valid feature names, but MLPClassifier was fitted with feature names\n",
      "  warnings.warn(\n"
     ]
    }
   ],
   "source": [
    "#MLP\n",
    "\n",
    "mlp_classifier, pred, true = mlp_class(training_data_nostar,hidden_layer_sizes=(20,),activation='logistic',alpha=0.0001, stats=True)\n",
    "\n",
    "tn, fp, fn, tp = confusion_matrix(true,pred,labels=['galaxy','gc']).ravel()\n",
    "\n",
    "recall = tp/(tp+fn) # fraction of correctly identified GCs, out of all GCs (1-recall = fraction that were missed)\n",
    "accuracy = (tp+tn)/(tp+fp+fn+tp) # fraction of correctly identified objects\n",
    "precision = tp/(tp+fp) # fraction of correctly identified GCs, out of what were thought to be GCs\n",
    "print(f'recall:{recall}\\nprecision:{precision}\\naccuracy:{accuracy}')"
   ]
  },
  {
   "cell_type": "code",
   "execution_count": 322,
   "id": "77fbb149",
   "metadata": {
    "scrolled": true
   },
   "outputs": [
    {
     "name": "stdout",
     "output_type": "stream",
     "text": [
      "10\n"
     ]
    },
    {
     "name": "stderr",
     "output_type": "stream",
     "text": [],
   "source": [
    "hidden_layer_test_sizes = range(10,40)\n",
    "recall = []\n",
    "for h in hidden_layer_test_sizes:\n",
    "    print(h)\n",
    "    recall_ = []\n",
    "    for n in range(600):\n",
    "        _, pred, true = mlp_class(training_data_nostar,hidden_layer_sizes=(h,),\n",
    "                                  activation='logistic',alpha=0.0001,max_iter=1000, stats=True)\n",
    "        tn, fp, fn, tp = confusion_matrix(true,pred,labels=['galaxy','gc']).ravel()\n",
    "        recall_.append( tp/(tp+fn) )\n",
    "    recall.append(sum(recall_)/len(recall_))\n"
   ]
  },
  {
   "cell_type": "code",
   "execution_count": 319,
   "id": "18f39aa7",
   "metadata": {
    "scrolled": true
   },
   "outputs": [
    {
     "data": {
      "image/png": "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\n",
      "text/plain": [
       "<Figure size 640x480 with 1 Axes>"
      ]
     },
     "metadata": {},
     "output_type": "display_data"
    }
   ],
   "source": [
    "plt.plot(hidden_layer_test_sizes,recall)\n",
    "plt.show()"
   ]
  },
  {
   "cell_type": "code",
   "execution_count": 323,
   "id": "4513556d",
   "metadata": {},
   "outputs": [
    {
     "name": "stderr",
     "output_type": "stream",
     "text": [
      "C:\\Users\\jwarn\\anaconda3\\lib\\site-packages\\sklearn\\base.py:450: UserWarning: X does not have valid feature names, but MLPClassifier was fitted with feature names\n",
      "  warnings.warn(\n",
      "C:\\Users\\jwarn\\anaconda3\\lib\\site-packages\\sklearn\\base.py:450: UserWarning: X does not have valid feature names, but MLPClassifier was fitted with feature names\n",
      "  warnings.warn(\n",
      "C:\\Users\\jwarn\\anaconda3\\lib\\site-packages\\sklearn\\base.py:450: UserWarning: X does not have valid feature names, but MLPClassifier was fitted with feature names\n",
      "  warnings.warn(\n",
      "C:\\Users\\jwarn\\anaconda3\\lib\\site-packages\\sklearn\\base.py:450: UserWarning: X does not have valid feature names, but MLPClassifier was fitted with feature names\n",
      "  warnings.warn(\n",
      "C:\\Users\\jwarn\\anaconda3\\lib\\site-packages\\sklearn\\base.py:450: UserWarning: X does not have valid feature names, but MLPClassifier was fitted with feature names\n",
      "  warnings.warn(\n",
      "C:\\Users\\jwarn\\anaconda3\\lib\\site-packages\\sklearn\\base.py:450: UserWarning: X does not have valid feature names, but MLPClassifier was fitted with feature names\n",
      "  warnings.warn(\n",
      "C:\\Users\\jwarn\\anaconda3\\lib\\site-packages\\sklearn\\base.py:450: UserWarning: X does not have valid feature names, but MLPClassifier was fitted with feature names\n",
      "  warnings.warn(\n",
      "C:\\Users\\jwarn\\anaconda3\\lib\\site-packages\\sklearn\\base.py:450: UserWarning: X does not have valid feature names, but MLPClassifier was fitted with feature names\n",
      "  warnings.warn(\n",
      "C:\\Users\\jwarn\\anaconda3\\lib\\site-packages\\sklearn\\base.py:450: UserWarning: X does not have valid feature names, but MLPClassifier was fitted with feature names\n",
      "  warnings.warn(\n",
      "C:\\Users\\jwarn\\anaconda3\\lib\\site-packages\\sklearn\\base.py:450: UserWarning: X does not have valid feature names, but MLPClassifier was fitted with feature names\n",
      "  warnings.warn(\n",
      "C:\\Users\\jwarn\\anaconda3\\lib\\site-packages\\sklearn\\base.py:450: UserWarning: X does not have valid feature names, but MLPClassifier was fitted with feature names\n",
      "  warnings.warn(\n",
      "C:\\Users\\jwarn\\anaconda3\\lib\\site-packages\\sklearn\\base.py:450: UserWarning: X does not have valid feature names, but MLPClassifier was fitted with feature names\n",
      "  warnings.warn(\n"
     ]
    }
 ]
   "source": [
    "hidden_layer_test_sizes = range(10,40)\n",
    "recall2 = []\n",
    "for h in hidden_layer_test_sizes:\n",
    "    print(h)\n",
    "    recall_ = []\n",
    "    for n in range(600):\n",
    "        _, pred, true = mlp_class(training_data_nostar,hidden_layer_sizes=(h,5),\n",
    "                                  activation='logistic',alpha=0.0001,max_iter=1000, stats=True)\n",
    "        tn, fp, fn, tp = confusion_matrix(true,pred,labels=['galaxy','gc']).ravel()\n",
    "        recall_.append( tp/(tp+fn) )\n",
    "    recall2.append(sum(recall_)/len(recall_))\n"
   ]
  },
  {
   "cell_type": "code",
   "execution_count": 324,
   "id": "f2409884",
   "metadata": {},
   "outputs": [
    {
     "data": {
      "image/png": "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\n",
      "text/plain": [
       "<Figure size 640x480 with 1 Axes>"
      ]
     },
     "metadata": {},
     "output_type": "display_data"
    }
   ],
   "source": [
    "plt.plot(hidden_layer_test_sizes,recall)\n",
    "plt.plot(hidden_layer_test_sizes,recall2)\n",
    "plt.show()"
   ]
  },
  {
   "cell_type": "code",
   "execution_count": null,
   "id": "97c9097c",
   "metadata": {},
   "outputs": [],
   "source": [
    "ml_funcs = [svc_class, mlp_class, ranfor]\n",
    "recall_vals = {}\n",
    "\n",
    "for m in ml_funcs:\n",
    "    recall_vals[m] = []\n",
    "    for n in range(50):\n",
    "        _, pred, true = m(training_data_nostar, stats=True)\n",
    "        tn, fp, fn, tp = confusion_matrix(true,pred,labels=['galaxy','gc']).ravel()\n",
    "        recall_vals[m].append( tp/(tp+fn) )\n",
    "\n",
    "for m in ml_funcs:\n",
    "    plt.boxplot(recall_vals[m])\n",
    "plt.show()\n"
   ]
  },
  {
   "cell_type": "code",
   "execution_count": null,
   "id": "a07b1ab5",
   "metadata": {},
   "outputs": [],
   "source": []
  },
  {
   "cell_type": "code",
   "execution_count": 313,
   "id": "1de7fbc3",
   "metadata": {},
   "outputs": [
    {
     "data": {
      "text/plain": [
       "(0.6746987951807228, 0.7129629629629629, 0.7088607594936709)"
      ]
     },
     "execution_count": 313,
     "metadata": {},
     "output_type": "execute_result"
    }
   ],
   "source": [
    "recall,accuracy,precision"
   ]
  },
  {
   "cell_type": "code",
   "execution_count": 223,
   "id": "b38be564",
   "metadata": {},
   "outputs": [],
   "source": [
    "with open(f'pickle/temp/predictionsf222_0802test.pk','wb') as f:\n",
    "    pickle.dump(predictions,f)"
   ]
  },
  {
   "cell_type": "markdown",
   "id": "c17cf8f5",
   "metadata": {},
   "source": [
    "#### 05/02/2023"
   ]
  },
  {
   "cell_type": "code",
   "execution_count": 140,
   "id": "23ccc289",
   "metadata": {},
   "outputs": [],
   "source": [
    "x = range(1,300,1)"
   ]
  },
  {
   "cell_type": "code",
   "execution_count": 148,
   "id": "70dc6484",
   "metadata": {},
   "outputs": [],
   "source": [
    "y = [ len(training_data[training_data['nearby'] <= i]) for i in x ]"
   ]
  },
  {
   "cell_type": "code",
   "execution_count": 146,
   "id": "f6243ebe",
   "metadata": {},
   "outputs": [],
   "source": [
    "y = [ len(training_data_nostar[training_data_nostar['nearby'] <= i]) for i in x ]"
   ]
  },
  {
   "cell_type": "code",
   "execution_count": 149,
   "id": "c731bdf6",
   "metadata": {},
   "outputs": [
    {
     "data": {
      "image/png": "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\n",
      "text/plain": [
       "<Figure size 640x480 with 1 Axes>"
      ]
     },
     "metadata": {},
     "output_type": "display_data"
    }
   ],
   "source": [
    "plt.plot(x,y)\n",
    "plt.xlabel('Crowding Limit')\n",
    "plt.ylabel('Training data length')\n",
    "plt.title('Training Data Length vs Crowding Threshold')\n",
    "plt.grid()"
   ]
  },
  {
   "cell_type": "code",
   "execution_count": 14,
   "id": "bdaa3ab9",
   "metadata": {},
   "outputs": [],
   "source": [
    "train_file = 'training_data_0502.pk'"
   ]
  },
  {
   "cell_type": "code",
   "execution_count": 11,
   "id": "4986f5da",
   "metadata": {},
   "outputs": [],
   "source": [
    "cat_files = ['cat1_50.pk','cat51_100.pk','cat101_150.pk','cat151_200.pk','cat201_235.pk',\n",
    "             'cat236_257.pk','cat258_279.pk','cat280_320.pk','cat321_360.pk','cat361_406.pk']"
   ]
  },
  {
   "cell_type": "code",
   "execution_count": 15,
   "id": "3535b90a",
   "metadata": {},
   "outputs": [],
   "source": [
    "training_data = pickle.load(open(f'./pickle/training_data/{train_file}','rb'))"
   ]
  },
  {
   "cell_type": "code",
   "execution_count": 16,
   "id": "0e757a03",
   "metadata": {},
   "outputs": [],
   "source": [
    "training_data_nostar = training_data[training_data['class'] != 'star']"
   ]
  },
  {
   "cell_type": "code",
   "execution_count": 17,
   "id": "f0445203",
   "metadata": {},
   "outputs": [
    {
     "data": {
      "text/html": [
       "<div>\n",
       "<style scoped>\n",
       "    .dataframe tbody tr th:only-of-type {\n",
       "        vertical-align: middle;\n",
       "    }\n",
       "\n",
       "    .dataframe tbody tr th {\n",
       "        vertical-align: top;\n",
       "    }\n",
       "\n",
       "    .dataframe thead th {\n",
       "        text-align: right;\n",
       "    }\n",
       "</style>\n",
       "<table border=\"1\" class=\"dataframe\">\n",
       "  <thead>\n",
       "    <tr style=\"text-align: right;\">\n",
       "      <th></th>\n",
       "      <th>obj_id</th>\n",
       "      <th>class</th>\n",
       "      <th>i</th>\n",
       "      <th>g</th>\n",
       "      <th>di</th>\n",
       "      <th>dg</th>\n",
       "      <th>ra</th>\n",
       "      <th>dec</th>\n",
       "      <th>field</th>\n",
       "      <th>pdidx</th>\n",
       "      <th>rbcidx</th>\n",
       "      <th>nearby</th>\n",
       "    </tr>\n",
       "  </thead>\n",
       "  <tbody>\n",
       "    <tr>\n",
       "      <th>0</th>\n",
       "      <td>HM33-A</td>\n",
       "      <td>gc</td>\n",
       "      <td>21.163000</td>\n",
       "      <td>22.052999</td>\n",
       "      <td>0.009</td>\n",
       "      <td>0.009</td>\n",
       "      <td>23.924183</td>\n",
       "      <td>28.820591</td>\n",
       "      <td>5</td>\n",
       "      <td>39696</td>\n",
       "      <td>2647</td>\n",
       "      <td>49</td>\n",
       "    </tr>\n",
       "    <tr>\n",
       "      <th>1</th>\n",
       "      <td>C30</td>\n",
       "      <td>galaxy</td>\n",
       "      <td>18.049000</td>\n",
       "      <td>19.500999</td>\n",
       "      <td>0.001</td>\n",
       "      <td>0.002</td>\n",
       "      <td>12.105896</td>\n",
       "      <td>29.267633</td>\n",
       "      <td>11</td>\n",
       "      <td>118854</td>\n",
       "      <td>2431</td>\n",
       "      <td>24</td>\n",
       "    </tr>\n",
       "    <tr>\n",
       "      <th>2</th>\n",
       "      <td>LAMOST-C22</td>\n",
       "      <td>galaxy</td>\n",
       "      <td>17.628000</td>\n",
       "      <td>19.153000</td>\n",
       "      <td>0.001</td>\n",
       "      <td>0.001</td>\n",
       "      <td>11.738621</td>\n",
       "      <td>29.693506</td>\n",
       "      <td>11</td>\n",
       "      <td>24692</td>\n",
       "      <td>2319</td>\n",
       "      <td>17</td>\n",
       "    </tr>\n",
       "    <tr>\n",
       "      <th>3</th>\n",
       "      <td>HM33-B</td>\n",
       "      <td>gc</td>\n",
       "      <td>19.538000</td>\n",
       "      <td>20.386000</td>\n",
       "      <td>0.003</td>\n",
       "      <td>0.003</td>\n",
       "      <td>24.008787</td>\n",
       "      <td>29.963625</td>\n",
       "      <td>13</td>\n",
       "      <td>43246</td>\n",
       "      <td>2648</td>\n",
       "      <td>45</td>\n",
       "    </tr>\n",
       "    <tr>\n",
       "      <th>4</th>\n",
       "      <td>LAMOST-C18</td>\n",
       "      <td>galaxy</td>\n",
       "      <td>17.177999</td>\n",
       "      <td>18.388000</td>\n",
       "      <td>0.001</td>\n",
       "      <td>0.001</td>\n",
       "      <td>23.842129</td>\n",
       "      <td>29.552473</td>\n",
       "      <td>14</td>\n",
       "      <td>122860</td>\n",
       "      <td>2644</td>\n",
       "      <td>12</td>\n",
       "    </tr>\n",
       "    <tr>\n",
       "      <th>...</th>\n",
       "      <td>...</td>\n",
       "      <td>...</td>\n",
       "      <td>...</td>\n",
       "      <td>...</td>\n",
       "      <td>...</td>\n",
       "      <td>...</td>\n",
       "      <td>...</td>\n",
       "      <td>...</td>\n",
       "      <td>...</td>\n",
       "      <td>...</td>\n",
       "      <td>...</td>\n",
       "      <td>...</td>\n",
       "    </tr>\n",
       "    <tr>\n",
       "      <th>2223</th>\n",
       "      <td>FJJ-IV</td>\n",
       "      <td>gc</td>\n",
       "      <td>18.417999</td>\n",
       "      <td>19.346001</td>\n",
       "      <td>0.002</td>\n",
       "      <td>0.002</td>\n",
       "      <td>9.801158</td>\n",
       "      <td>48.380100</td>\n",
       "      <td>398</td>\n",
       "      <td>168491</td>\n",
       "      <td>369</td>\n",
       "      <td>167</td>\n",
       "    </tr>\n",
       "    <tr>\n",
       "      <th>2224</th>\n",
       "      <td>PA-N185</td>\n",
       "      <td>gc</td>\n",
       "      <td>20.188000</td>\n",
       "      <td>21.688999</td>\n",
       "      <td>0.005</td>\n",
       "      <td>0.007</td>\n",
       "      <td>9.578100</td>\n",
       "      <td>48.367985</td>\n",
       "      <td>398</td>\n",
       "      <td>256376</td>\n",
       "      <td>306</td>\n",
       "      <td>106</td>\n",
       "    </tr>\n",
       "    <tr>\n",
       "      <th>2225</th>\n",
       "      <td>FJJ-V</td>\n",
       "      <td>gc</td>\n",
       "      <td>17.434999</td>\n",
       "      <td>18.451000</td>\n",
       "      <td>0.001</td>\n",
       "      <td>0.001</td>\n",
       "      <td>9.806167</td>\n",
       "      <td>48.384743</td>\n",
       "      <td>398</td>\n",
       "      <td>168423</td>\n",
       "      <td>372</td>\n",
       "      <td>156</td>\n",
       "    </tr>\n",
       "    <tr>\n",
       "      <th>2226</th>\n",
       "      <td>FJJ-VII</td>\n",
       "      <td>gc</td>\n",
       "      <td>19.523001</td>\n",
       "      <td>20.520000</td>\n",
       "      <td>0.003</td>\n",
       "      <td>0.004</td>\n",
       "      <td>9.826713</td>\n",
       "      <td>48.384266</td>\n",
       "      <td>398</td>\n",
       "      <td>168594</td>\n",
       "      <td>377</td>\n",
       "      <td>163</td>\n",
       "    </tr>\n",
       "    <tr>\n",
       "      <th>2227</th>\n",
       "      <td>PA-N147-3</td>\n",
       "      <td>gc</td>\n",
       "      <td>19.910000</td>\n",
       "      <td>20.820999</td>\n",
       "      <td>0.004</td>\n",
       "      <td>0.004</td>\n",
       "      <td>8.542029</td>\n",
       "      <td>49.044243</td>\n",
       "      <td>402</td>\n",
       "      <td>101369</td>\n",
       "      <td>91</td>\n",
       "      <td>36</td>\n",
       "    </tr>\n",
       "  </tbody>\n",
       "</table>\n",
       "<p>1523 rows × 12 columns</p>\n",
       "</div>"
      ],
      "text/plain": [
       "          obj_id   class          i          g     di     dg         ra  \\\n",
       "0         HM33-A      gc  21.163000  22.052999  0.009  0.009  23.924183   \n",
       "1            C30  galaxy  18.049000  19.500999  0.001  0.002  12.105896   \n",
       "2     LAMOST-C22  galaxy  17.628000  19.153000  0.001  0.001  11.738621   \n",
       "3         HM33-B      gc  19.538000  20.386000  0.003  0.003  24.008787   \n",
       "4     LAMOST-C18  galaxy  17.177999  18.388000  0.001  0.001  23.842129   \n",
       "...          ...     ...        ...        ...    ...    ...        ...   \n",
       "2223      FJJ-IV      gc  18.417999  19.346001  0.002  0.002   9.801158   \n",
       "2224     PA-N185      gc  20.188000  21.688999  0.005  0.007   9.578100   \n",
       "2225       FJJ-V      gc  17.434999  18.451000  0.001  0.001   9.806167   \n",
       "2226     FJJ-VII      gc  19.523001  20.520000  0.003  0.004   9.826713   \n",
       "2227   PA-N147-3      gc  19.910000  20.820999  0.004  0.004   8.542029   \n",
       "\n",
       "            dec  field   pdidx  rbcidx  nearby  \n",
       "0     28.820591      5   39696    2647      49  \n",
       "1     29.267633     11  118854    2431      24  \n",
       "2     29.693506     11   24692    2319      17  \n",
       "3     29.963625     13   43246    2648      45  \n",
       "4     29.552473     14  122860    2644      12  \n",
       "...         ...    ...     ...     ...     ...  \n",
       "2223  48.380100    398  168491     369     167  \n",
       "2224  48.367985    398  256376     306     106  \n",
       "2225  48.384743    398  168423     372     156  \n",
       "2226  48.384266    398  168594     377     163  \n",
       "2227  49.044243    402  101369      91      36  \n",
       "\n",
       "[1523 rows x 12 columns]"
      ]
     },
     "execution_count": 17,
     "metadata": {},
     "output_type": "execute_result"
    }
   ],
   "source": [
    "training_data_nostar"
   ]
  },
  {
   "cell_type": "code",
   "execution_count": 105,
   "id": "e3460c5d",
   "metadata": {},
   "outputs": [
    {
     "data": {
      "text/plain": [
       "0.7737704918032787"
      ]
     },
     "execution_count": 105,
     "metadata": {},
     "output_type": "execute_result"
    }
   ],
   "source": [
    "stats = ranfor(training_data_nostar,train_size=0.8, n_estimators=5, stats=True, max_depth=8, max_leaf_nodes=5)\n",
    "stats[2]"
   ]
  },
  {
   "cell_type": "code",
   "execution_count": 107,
   "id": "1957de9d",
   "metadata": {},
   "outputs": [
    {
     "data": {
      "text/plain": [
       "0.75"
      ]
     },
     "execution_count": 107,
     "metadata": {},
     "output_type": "execute_result"
    }
   ],
   "source": [
    "tn, fp, fn, tp = confusion_matrix(stats[1],stats[0],labels=['galaxy','gc']).ravel()\n",
    "\n",
    "recall = tp/(tp+fn)\n",
    "recall"
   ]
  },
  {
   "cell_type": "code",
   "execution_count": 389,
   "id": "5473ece2",
   "metadata": {},
   "outputs": [],
   "source": [
    "rf_model  = ranfor(training_data_star, n_estimators=100)"
   ]
  },
  {
   "cell_type": "markdown",
   "id": "87ce3c4b",
   "metadata": {},
   "source": [
    "#### Testing filtering the catalogues for prediction"
   ]
  },
  {
   "cell_type": "code",
   "execution_count": 205,
   "id": "f697310d",
   "metadata": {},
   "outputs": [],
   "source": [
    "cat = load_cat(26)[26].to_pandas()"
   ]
  },
  {
   "cell_type": "code",
   "execution_count": 213,
   "id": "893cb55a",
   "metadata": {},
   "outputs": [],
   "source": [
    "cat_d = cat[cat['dg']+cat['di'] < 0.05]"
   ]
  },
  {
   "cell_type": "code",
   "execution_count": 231,
   "id": "ee1c147d",
   "metadata": {},
   "outputs": [],
   "source": [
    "cat_candidate = cat_d[~((cat_d['ig'] == -1) | (cat_d['ii'] == -1) | (cat_d['ig'] == -9) | (cat_d['ii'] == -9))] # drop stars & saturated points"
   ]
  },
  {
   "cell_type": "markdown",
   "id": "09644ccd",
   "metadata": {},
   "source": [
    "#### Testing making predictions"
   ]
  },
  {
   "cell_type": "code",
   "execution_count": 83,
   "id": "9768b4e4",
   "metadata": {},
   "outputs": [],
   "source": [
    "test_ = predictions[~((predictions['ig'] == -1) | (predictions['ii'] == -1) )]"
   ]
  },
  {
   "cell_type": "code",
   "execution_count": 85,
   "id": "cb059912",
   "metadata": {},
   "outputs": [
    {
     "data": {
      "text/plain": [
       "2487"
      ]
     },
     "execution_count": 85,
     "metadata": {},
     "output_type": "execute_result"
    }
   ],
   "source": [
    "len(test_[test_['pred']=='gc'])"
   ]
  },
  {
   "cell_type": "code",
   "execution_count": 13,
   "id": "b56ba004",
   "metadata": {},
   "outputs": [
    {
     "ename": "NameError",
     "evalue": "name 'training_data_nostar' is not defined",
     "output_type": "error",
     "traceback": [
      "\u001b[1;31m---------------------------------------------------------------------------\u001b[0m",
      "\u001b[1;31mNameError\u001b[0m                                 Traceback (most recent call last)",
      "\u001b[1;32m~\\AppData\\Local\\Temp\\ipykernel_21868\\2564715519.py\u001b[0m in \u001b[0;36m<module>\u001b[1;34m\u001b[0m\n\u001b[0;32m      1\u001b[0m \u001b[0mfield\u001b[0m \u001b[1;33m=\u001b[0m \u001b[1;36m222\u001b[0m\u001b[1;33m\u001b[0m\u001b[1;33m\u001b[0m\u001b[0m\n\u001b[0;32m      2\u001b[0m \u001b[1;33m\u001b[0m\u001b[0m\n\u001b[1;32m----> 3\u001b[1;33m \u001b[0mpredictions\u001b[0m \u001b[1;33m=\u001b[0m \u001b[0mrf_pred\u001b[0m\u001b[1;33m(\u001b[0m\u001b[0mfield\u001b[0m\u001b[1;33m,\u001b[0m\u001b[0mtraining_data_nostar\u001b[0m\u001b[1;33m,\u001b[0m\u001b[1;36m200\u001b[0m\u001b[1;33m)\u001b[0m\u001b[1;33m\u001b[0m\u001b[1;33m\u001b[0m\u001b[0m\n\u001b[0m\u001b[0;32m      4\u001b[0m \u001b[0mtest_\u001b[0m \u001b[1;33m=\u001b[0m \u001b[0mpredictions\u001b[0m\u001b[1;33m[\u001b[0m\u001b[1;33m~\u001b[0m\u001b[1;33m(\u001b[0m\u001b[1;33m(\u001b[0m\u001b[0mpredictions\u001b[0m\u001b[1;33m[\u001b[0m\u001b[1;34m'ig'\u001b[0m\u001b[1;33m]\u001b[0m \u001b[1;33m==\u001b[0m \u001b[1;33m-\u001b[0m\u001b[1;36m1\u001b[0m\u001b[1;33m)\u001b[0m \u001b[1;33m|\u001b[0m \u001b[1;33m(\u001b[0m\u001b[0mpredictions\u001b[0m\u001b[1;33m[\u001b[0m\u001b[1;34m'ii'\u001b[0m\u001b[1;33m]\u001b[0m \u001b[1;33m==\u001b[0m \u001b[1;33m-\u001b[0m\u001b[1;36m1\u001b[0m\u001b[1;33m)\u001b[0m \u001b[1;33m)\u001b[0m\u001b[1;33m]\u001b[0m\u001b[1;33m\u001b[0m\u001b[1;33m\u001b[0m\u001b[0m\n\u001b[0;32m      5\u001b[0m \u001b[0mprint\u001b[0m\u001b[1;33m(\u001b[0m\u001b[0mlen\u001b[0m\u001b[1;33m(\u001b[0m\u001b[0mtest_\u001b[0m\u001b[1;33m[\u001b[0m\u001b[0mtest_\u001b[0m\u001b[1;33m[\u001b[0m\u001b[1;34m'pred'\u001b[0m\u001b[1;33m]\u001b[0m\u001b[1;33m==\u001b[0m\u001b[1;34m'gc'\u001b[0m\u001b[1;33m]\u001b[0m\u001b[1;33m)\u001b[0m\u001b[1;33m)\u001b[0m\u001b[1;33m\u001b[0m\u001b[1;33m\u001b[0m\u001b[0m\n",
      "\u001b[1;31mNameError\u001b[0m: name 'training_data_nostar' is not defined"
     ]
    }
   ],
   "source": [
    "field = 222\n",
    "\n",
    "predictions = rf_pred(field,training_data_nostar,200)\n",
    "test_ = predictions[~((predictions['ig'] == -1) | (predictions['ii'] == -1) )]\n",
    "print(len(test_[test_['pred']=='gc']))\n",
    "#with open(f'pickle/temp/predictionsf{field}.pk','wb') as f:\n",
    "    #pickle.dump(predictions,f)\n",
    "predictions"
   ]
  },
  {
   "cell_type": "code",
   "execution_count": 117,
   "id": "9ad796e5",
   "metadata": {},
   "outputs": [
    {
     "data": {
      "text/html": [
       "<div><i>Table length=6</i>\n",
       "<table id=\"table1954321156608\" class=\"table-striped table-bordered table-condensed\">\n",
       "<thead><tr><th>RA</th><th>Dec</th><th>iccd</th><th>xg</th><th>yg</th><th>g</th><th>dg</th><th>ig</th><th>xi</th><th>yi</th><th>i</th><th>di</th><th>ii</th><th>field</th><th>pred</th></tr></thead>\n",
       "<thead><tr><th>float32</th><th>float32</th><th>uint8</th><th>float32</th><th>float32</th><th>float32</th><th>float32</th><th>int8</th><th>float32</th><th>float32</th><th>float32</th><th>float32</th><th>int8</th><th>uint16</th><th>object</th></tr></thead>\n",
       "<tr><td>13.236442</td><td>40.71061</td><td>6</td><td>986.49</td><td>284.7</td><td>15.05</td><td>0.001</td><td>-9</td><td>988.71</td><td>284.43</td><td>21.496</td><td>0.013</td><td>1</td><td>234</td><td>gc</td></tr>\n",
       "<tr><td>13.860617</td><td>40.2862</td><td>11</td><td>1661.0</td><td>3494.76</td><td>15.262</td><td>0.001</td><td>-9</td><td>1664.2</td><td>3494.95</td><td>22.05</td><td>0.02</td><td>1</td><td>234</td><td>gc</td></tr>\n",
       "<tr><td>13.214812</td><td>40.227608</td><td>15</td><td>616.73</td><td>4593.2</td><td>15.059</td><td>0.001</td><td>-9</td><td>619.1</td><td>4593.76</td><td>22.885</td><td>0.045</td><td>1</td><td>234</td><td>gc</td></tr>\n",
       "<tr><td>13.214091</td><td>40.328857</td><td>15</td><td>619.0</td><td>2643.69</td><td>15.069</td><td>0.001</td><td>-9</td><td>621.38</td><td>2644.04</td><td>20.116</td><td>0.005</td><td>1</td><td>234</td><td>gc</td></tr>\n",
       "<tr><td>13.540367</td><td>40.028618</td><td>22</td><td>969.78</td><td>902.97</td><td>15.105</td><td>0.001</td><td>-9</td><td>968.34</td><td>903.71</td><td>22.095</td><td>0.022</td><td>1</td><td>234</td><td>gc</td></tr>\n",
       "<tr><td>13.530654</td><td>40.03781</td><td>22</td><td>1112.73</td><td>1081.1</td><td>15.159</td><td>0.001</td><td>-9</td><td>1111.28</td><td>1081.78</td><td>22.085</td><td>0.021</td><td>0</td><td>234</td><td>gc</td></tr>\n",
       "</table></div>"
      ],
      "text/plain": [
       "<Table length=6>\n",
       "    RA       Dec     iccd    xg      yg   ...    i       di    ii  field   pred \n",
       " float32   float32  uint8 float32 float32 ... float32 float32 int8 uint16 object\n",
       "--------- --------- ----- ------- ------- ... ------- ------- ---- ------ ------\n",
       "13.236442  40.71061     6  986.49   284.7 ...  21.496   0.013    1    234     gc\n",
       "13.860617   40.2862    11  1661.0 3494.76 ...   22.05    0.02    1    234     gc\n",
       "13.214812 40.227608    15  616.73  4593.2 ...  22.885   0.045    1    234     gc\n",
       "13.214091 40.328857    15   619.0 2643.69 ...  20.116   0.005    1    234     gc\n",
       "13.540367 40.028618    22  969.78  902.97 ...  22.095   0.022    1    234     gc\n",
       "13.530654  40.03781    22 1112.73  1081.1 ...  22.085   0.021    0    234     gc"
      ]
     },
     "execution_count": 117,
     "metadata": {},
     "output_type": "execute_result"
    }
   ],
   "source": [
    "gcs[abs(gcs['g']-gcs['i'])>5]"
   ]
  },
  {
   "cell_type": "code",
   "execution_count": 138,
   "id": "53e9a975",
   "metadata": {},
   "outputs": [
    {
     "data": {
      "image/png": "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\n",
      "text/plain": [
       "<Figure size 640x480 with 1 Axes>"
      ]
     },
     "metadata": {},
     "output_type": "display_data"
    }
   ],
   "source": [
    "gcs = predictions[predictions['pred']=='gc']\n",
    "gcs_44 = gcs#[(gcs['g']+gcs['i']<44) & (gcs['g']+gcs['i'] > 30)]\n",
    "gcs_filtered = gcs_44[~((gcs_44['ii'] == -9) | (gcs_44['ig'] == -9) | (gcs_44['ii'] == -1) | (gcs_44['ig'] == -1))]\n",
    "\n",
    "\n",
    "plt.hist(gcs['i'],bins=35)\n",
    "#plt.hist(gcs_44['g'],bins=35)\n",
    "\n",
    "plt.hist(gcs_filtered['g'],bins=35)\n",
    "plt.show()\n"
   ]
  },
  {
   "cell_type": "markdown",
   "id": "e4f4f842",
   "metadata": {},
   "source": [
    "### Test"
   ]
  },
  {
   "cell_type": "code",
   "execution_count": 29,
   "id": "1df38565",
   "metadata": {},
   "outputs": [
    {
     "name": "stderr",
     "output_type": "stream",
     "text": [
      "C:\\Users\\jwarn\\AppData\\Local\\Temp\\ipykernel_16988\\1346209107.py:5: UserWarning: Boolean Series key will be reindexed to match DataFrame index.\n",
      "  test_data = training_data[training_data['di']+training_data['dg'] < 0.1][training_data['class'] != 'star']\n"
     ]
    },
    {
     "data": {
      "text/html": [
       "<div>\n",
       "<style scoped>\n",
       "    .dataframe tbody tr th:only-of-type {\n",
       "        vertical-align: middle;\n",
       "    }\n",
       "\n",
       "    .dataframe tbody tr th {\n",
       "        vertical-align: top;\n",
       "    }\n",
       "\n",
       "    .dataframe thead th {\n",
       "        text-align: right;\n",
       "    }\n",
       "</style>\n",
       "<table border=\"1\" class=\"dataframe\">\n",
       "  <thead>\n",
       "    <tr style=\"text-align: right;\">\n",
       "      <th></th>\n",
       "      <th>obj_id</th>\n",
       "      <th>class</th>\n",
       "      <th>i</th>\n",
       "      <th>g</th>\n",
       "      <th>di</th>\n",
       "      <th>dg</th>\n",
       "      <th>ra</th>\n",
       "      <th>dec</th>\n",
       "      <th>field</th>\n",
       "      <th>pdidx</th>\n",
       "    </tr>\n",
       "  </thead>\n",
       "  <tbody>\n",
       "    <tr>\n",
       "      <th>0</th>\n",
       "      <td>HM33-A</td>\n",
       "      <td>gc</td>\n",
       "      <td>22.424000</td>\n",
       "      <td>22.940001</td>\n",
       "      <td>0.026</td>\n",
       "      <td>0.017</td>\n",
       "      <td>23.923733</td>\n",
       "      <td>28.821186</td>\n",
       "      <td>5</td>\n",
       "      <td>39800</td>\n",
       "    </tr>\n",
       "    <tr>\n",
       "      <th>1</th>\n",
       "      <td>C30</td>\n",
       "      <td>galaxy</td>\n",
       "      <td>18.049000</td>\n",
       "      <td>19.500999</td>\n",
       "      <td>0.001</td>\n",
       "      <td>0.002</td>\n",
       "      <td>12.105896</td>\n",
       "      <td>29.267633</td>\n",
       "      <td>11</td>\n",
       "      <td>118854</td>\n",
       "    </tr>\n",
       "    <tr>\n",
       "      <th>2</th>\n",
       "      <td>LAMOST-C22</td>\n",
       "      <td>galaxy</td>\n",
       "      <td>17.628000</td>\n",
       "      <td>19.153000</td>\n",
       "      <td>0.001</td>\n",
       "      <td>0.001</td>\n",
       "      <td>11.738621</td>\n",
       "      <td>29.693506</td>\n",
       "      <td>11</td>\n",
       "      <td>24692</td>\n",
       "    </tr>\n",
       "    <tr>\n",
       "      <th>3</th>\n",
       "      <td>HM33-B</td>\n",
       "      <td>gc</td>\n",
       "      <td>19.538000</td>\n",
       "      <td>20.386000</td>\n",
       "      <td>0.003</td>\n",
       "      <td>0.003</td>\n",
       "      <td>24.008787</td>\n",
       "      <td>29.963625</td>\n",
       "      <td>13</td>\n",
       "      <td>43246</td>\n",
       "    </tr>\n",
       "    <tr>\n",
       "      <th>4</th>\n",
       "      <td>LAMOST-C18</td>\n",
       "      <td>galaxy</td>\n",
       "      <td>17.177999</td>\n",
       "      <td>18.388000</td>\n",
       "      <td>0.001</td>\n",
       "      <td>0.001</td>\n",
       "      <td>23.842129</td>\n",
       "      <td>29.552473</td>\n",
       "      <td>14</td>\n",
       "      <td>122860</td>\n",
       "    </tr>\n",
       "    <tr>\n",
       "      <th>...</th>\n",
       "      <td>...</td>\n",
       "      <td>...</td>\n",
       "      <td>...</td>\n",
       "      <td>...</td>\n",
       "      <td>...</td>\n",
       "      <td>...</td>\n",
       "      <td>...</td>\n",
       "      <td>...</td>\n",
       "      <td>...</td>\n",
       "      <td>...</td>\n",
       "    </tr>\n",
       "    <tr>\n",
       "      <th>2288</th>\n",
       "      <td>FJJ-VIII</td>\n",
       "      <td>gc</td>\n",
       "      <td>17.910999</td>\n",
       "      <td>18.806000</td>\n",
       "      <td>0.001</td>\n",
       "      <td>0.001</td>\n",
       "      <td>9.848991</td>\n",
       "      <td>48.312565</td>\n",
       "      <td>398</td>\n",
       "      <td>168456</td>\n",
       "    </tr>\n",
       "    <tr>\n",
       "      <th>2289</th>\n",
       "      <td>FJJ-IV</td>\n",
       "      <td>gc</td>\n",
       "      <td>18.417999</td>\n",
       "      <td>19.346001</td>\n",
       "      <td>0.002</td>\n",
       "      <td>0.002</td>\n",
       "      <td>9.801158</td>\n",
       "      <td>48.380100</td>\n",
       "      <td>398</td>\n",
       "      <td>168491</td>\n",
       "    </tr>\n",
       "    <tr>\n",
       "      <th>2290</th>\n",
       "      <td>PA-N185</td>\n",
       "      <td>gc</td>\n",
       "      <td>20.188000</td>\n",
       "      <td>21.688999</td>\n",
       "      <td>0.005</td>\n",
       "      <td>0.007</td>\n",
       "      <td>9.578100</td>\n",
       "      <td>48.367985</td>\n",
       "      <td>398</td>\n",
       "      <td>256376</td>\n",
       "    </tr>\n",
       "    <tr>\n",
       "      <th>2291</th>\n",
       "      <td>FJJ-V</td>\n",
       "      <td>gc</td>\n",
       "      <td>17.434999</td>\n",
       "      <td>18.451000</td>\n",
       "      <td>0.001</td>\n",
       "      <td>0.001</td>\n",
       "      <td>9.806167</td>\n",
       "      <td>48.384743</td>\n",
       "      <td>398</td>\n",
       "      <td>168423</td>\n",
       "    </tr>\n",
       "    <tr>\n",
       "      <th>2292</th>\n",
       "      <td>FJJ-VII</td>\n",
       "      <td>gc</td>\n",
       "      <td>19.523001</td>\n",
       "      <td>20.520000</td>\n",
       "      <td>0.003</td>\n",
       "      <td>0.004</td>\n",
       "      <td>9.826713</td>\n",
       "      <td>48.384266</td>\n",
       "      <td>398</td>\n",
       "      <td>168594</td>\n",
       "    </tr>\n",
       "  </tbody>\n",
       "</table>\n",
       "<p>1336 rows × 10 columns</p>\n",
       "</div>"
      ],
      "text/plain": [
       "          obj_id   class          i          g     di     dg         ra  \\\n",
       "0         HM33-A      gc  22.424000  22.940001  0.026  0.017  23.923733   \n",
       "1            C30  galaxy  18.049000  19.500999  0.001  0.002  12.105896   \n",
       "2     LAMOST-C22  galaxy  17.628000  19.153000  0.001  0.001  11.738621   \n",
       "3         HM33-B      gc  19.538000  20.386000  0.003  0.003  24.008787   \n",
       "4     LAMOST-C18  galaxy  17.177999  18.388000  0.001  0.001  23.842129   \n",
       "...          ...     ...        ...        ...    ...    ...        ...   \n",
       "2288    FJJ-VIII      gc  17.910999  18.806000  0.001  0.001   9.848991   \n",
       "2289      FJJ-IV      gc  18.417999  19.346001  0.002  0.002   9.801158   \n",
       "2290     PA-N185      gc  20.188000  21.688999  0.005  0.007   9.578100   \n",
       "2291       FJJ-V      gc  17.434999  18.451000  0.001  0.001   9.806167   \n",
       "2292     FJJ-VII      gc  19.523001  20.520000  0.003  0.004   9.826713   \n",
       "\n",
       "            dec  field   pdidx  \n",
       "0     28.821186      5   39800  \n",
       "1     29.267633     11  118854  \n",
       "2     29.693506     11   24692  \n",
       "3     29.963625     13   43246  \n",
       "4     29.552473     14  122860  \n",
       "...         ...    ...     ...  \n",
       "2288  48.312565    398  168456  \n",
       "2289  48.380100    398  168491  \n",
       "2290  48.367985    398  256376  \n",
       "2291  48.384743    398  168423  \n",
       "2292  48.384266    398  168594  \n",
       "\n",
       "[1336 rows x 10 columns]"
      ]
     },
     "execution_count": 29,
     "metadata": {},
     "output_type": "execute_result"
    }
   ],
   "source": [
    "training_data_MAIN = pickle.load(open(f'./pickle/training_data/{train_files[0]}','rb'))\n",
    "\n",
    "training_data = training_data_MAIN[300]\n",
    "\n",
    "test_data = training_data[training_data['di']+training_data['dg'] < 0.1][training_data['class'] != 'star']\n",
    "\n",
    "test_gcs = test_data[test_data['class'] == 'gc']\n",
    "\n",
    "test_data"
   ]
  },
  {
   "cell_type": "code",
   "execution_count": 32,
   "id": "38c09fab",
   "metadata": {},
   "outputs": [
    {
     "data": {
      "image/png": "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\n",
      "text/plain": [
       "<Figure size 640x480 with 1 Axes>"
      ]
     },
     "metadata": {},
     "output_type": "display_data"
    }
   ],
   "source": [
    "plt.hist(test_gcs['g'],bins=60)\n",
    "plt.show()"
   ]
  },
  {
   "cell_type": "code",
   "execution_count": null,
   "id": "a3b4b998",
   "metadata": {},
   "outputs": [],
   "source": [
    "results = []\n",
    "for "
   ]
  },
  {
   "cell_type": "code",
   "execution_count": null,
   "id": "3541d3f1",
   "metadata": {
    "scrolled": true
   },
   "outputs": [],
   "source": [
    "results = []\n",
    "for file_name in train_files:\n",
    "    training_data = pickle.load(open(f'./pickle/training_data/{file_name}','rb'))\n",
    "    test_data = pickle.load(open(f'./pickle/{cat_files[3]}','rb'))[184] # field 184\n",
    "    results.append(ranfor(training_data[250]).predict(test_data))"
   ]
  },
  {
   "cell_type": "code",
   "execution_count": null,
   "id": "8122c5c1",
   "metadata": {},
   "outputs": [],
   "source": []
  },
  {
   "cell_type": "code",
   "execution_count": 43,
   "id": "87b215b2",
   "metadata": {},
   "outputs": [],
   "source": [
    "CAT = load_cat(188)"
   ]
  },
  {
   "cell_type": "code",
   "execution_count": 68,
   "id": "8fbf5535",
   "metadata": {},
   "outputs": [],
   "source": [
    "cat = CAT[188]"
   ]
  },
  {
   "cell_type": "code",
   "execution_count": 79,
   "id": "c90d6326",
   "metadata": {},
   "outputs": [],
   "source": [
    "cat_smalldelta = cat[cat['dg']+cat['di'] < 0.1]"
   ]
  },
  {
   "cell_type": "code",
   "execution_count": 80,
   "id": "a3ee2069",
   "metadata": {},
   "outputs": [],
   "source": [
    "X = cat_smalldelta[['i','g']]"
   ]
  },
  {
   "cell_type": "code",
   "execution_count": 81,
   "id": "2cf3b0c7",
   "metadata": {},
   "outputs": [],
   "source": [
    "X = X.to_pandas()"
   ]
  },
  {
   "cell_type": "code",
   "execution_count": 82,
   "id": "ae3b7338",
   "metadata": {},
   "outputs": [
    {
     "data": {
      "text/html": [
       "<div>\n",
       "<style scoped>\n",
       "    .dataframe tbody tr th:only-of-type {\n",
       "        vertical-align: middle;\n",
       "    }\n",
       "\n",
       "    .dataframe tbody tr th {\n",
       "        vertical-align: top;\n",
       "    }\n",
       "\n",
       "    .dataframe thead th {\n",
       "        text-align: right;\n",
       "    }\n",
       "</style>\n",
       "<table border=\"1\" class=\"dataframe\">\n",
       "  <thead>\n",
       "    <tr style=\"text-align: right;\">\n",
       "      <th></th>\n",
       "      <th>i</th>\n",
       "      <th>g</th>\n",
       "    </tr>\n",
       "  </thead>\n",
       "  <tbody>\n",
       "    <tr>\n",
       "      <th>0</th>\n",
       "      <td>13.206000</td>\n",
       "      <td>13.678000</td>\n",
       "    </tr>\n",
       "    <tr>\n",
       "      <th>1</th>\n",
       "      <td>13.272000</td>\n",
       "      <td>13.694000</td>\n",
       "    </tr>\n",
       "    <tr>\n",
       "      <th>2</th>\n",
       "      <td>13.528000</td>\n",
       "      <td>13.924000</td>\n",
       "    </tr>\n",
       "    <tr>\n",
       "      <th>3</th>\n",
       "      <td>13.246000</td>\n",
       "      <td>13.950000</td>\n",
       "    </tr>\n",
       "    <tr>\n",
       "      <th>4</th>\n",
       "      <td>13.625000</td>\n",
       "      <td>13.929000</td>\n",
       "    </tr>\n",
       "    <tr>\n",
       "      <th>...</th>\n",
       "      <td>...</td>\n",
       "      <td>...</td>\n",
       "    </tr>\n",
       "    <tr>\n",
       "      <th>53345</th>\n",
       "      <td>21.943001</td>\n",
       "      <td>24.875999</td>\n",
       "    </tr>\n",
       "    <tr>\n",
       "      <th>53346</th>\n",
       "      <td>21.957001</td>\n",
       "      <td>24.913000</td>\n",
       "    </tr>\n",
       "    <tr>\n",
       "      <th>53347</th>\n",
       "      <td>21.662001</td>\n",
       "      <td>24.964001</td>\n",
       "    </tr>\n",
       "    <tr>\n",
       "      <th>53348</th>\n",
       "      <td>21.547001</td>\n",
       "      <td>24.981001</td>\n",
       "    </tr>\n",
       "    <tr>\n",
       "      <th>53349</th>\n",
       "      <td>21.249001</td>\n",
       "      <td>24.985001</td>\n",
       "    </tr>\n",
       "  </tbody>\n",
       "</table>\n",
       "<p>53350 rows × 2 columns</p>\n",
       "</div>"
      ],
      "text/plain": [
       "               i          g\n",
       "0      13.206000  13.678000\n",
       "1      13.272000  13.694000\n",
       "2      13.528000  13.924000\n",
       "3      13.246000  13.950000\n",
       "4      13.625000  13.929000\n",
       "...          ...        ...\n",
       "53345  21.943001  24.875999\n",
       "53346  21.957001  24.913000\n",
       "53347  21.662001  24.964001\n",
       "53348  21.547001  24.981001\n",
       "53349  21.249001  24.985001\n",
       "\n",
       "[53350 rows x 2 columns]"
      ]
     },
     "execution_count": 82,
     "metadata": {},
     "output_type": "execute_result"
    }
   ],
   "source": [
    "X"
   ]
  },
  {
   "cell_type": "code",
   "execution_count": null,
   "id": "8a8c873b",
   "metadata": {},
   "outputs": [],
   "source": []
  },
  {
   "cell_type": "code",
   "execution_count": 125,
   "id": "a5ee080f",
   "metadata": {},
   "outputs": [],
   "source": [
    "f = ['training_data_d006.pk','training_data_d005.pk','training_data_d004.pk','training_data_d003.pk']"
   ]
  },
  {
   "cell_type": "code",
   "execution_count": 126,
   "id": "4eedac48",
   "metadata": {},
   "outputs": [],
   "source": [
    "training_data = pickle.load(open(f'./pickle/training_data/{f[1]}','rb'))"
   ]
  },
  {
   "cell_type": "code",
   "execution_count": null,
   "id": "b3643516",
   "metadata": {},
   "outputs": [],
   "source": []
  },
  {
   "cell_type": "code",
   "execution_count": 93,
   "id": "e2077709",
   "metadata": {},
   "outputs": [],
   "source": [
    "test_results = ranfor(test_, n_estimators=70, stats=True)"
   ]
  },
  {
   "cell_type": "code",
   "execution_count": 95,
   "id": "080d0da4",
   "metadata": {},
   "outputs": [],
   "source": [
    "predictions188 = ranfor(test_, n_estimators=60).predict(X)"
   ]
  },
  {
   "cell_type": "code",
   "execution_count": 94,
   "id": "ea9bf99a",
   "metadata": {},
   "outputs": [
    {
     "data": {
      "text/plain": [
       "0.8382352941176471"
      ]
     },
     "execution_count": 94,
     "metadata": {},
     "output_type": "execute_result"
    }
   ],
   "source": [
    "test_results[2] # yay!"
   ]
  },
  {
   "cell_type": "code",
   "execution_count": 105,
   "id": "78210d60",
   "metadata": {},
   "outputs": [],
   "source": [
    "cat_smalldelta['pred'] = predictions188"
   ]
  },
  {
   "cell_type": "code",
   "execution_count": null,
   "id": "8284f893",
   "metadata": {},
   "outputs": [],
   "source": []
  },
  {
   "cell_type": "code",
   "execution_count": 100,
   "id": "177c55eb",
   "metadata": {},
   "outputs": [],
   "source": [
    "cat395_pred = cat[['RA','Dec','iccd','xg','yg','g','ig','xi','yi','i','ii','field']]"
   ]
  },
  {
   "cell_type": "code",
   "execution_count": 101,
   "id": "052bbaca",
   "metadata": {},
   "outputs": [],
   "source": [
    "cat395_pred['pred'] = res"
   ]
  },
  {
   "cell_type": "code",
   "execution_count": 103,
   "id": "bee2bd30",
   "metadata": {},
   "outputs": [],
   "source": [
    "with open('./pickle/ml_results/field395_predictions.pk','wb') as f:\n",
    "    pickle.dump(cat395_pred,f)"
   ]
  },
  {
   "cell_type": "code",
   "execution_count": 84,
   "id": "8bf690e5",
   "metadata": {},
   "outputs": [],
   "source": [
    "test_ = pickle.load(open('./pickle/ml_results/field273_predictions.pk','rb'))"
   ]
  },
  {
   "cell_type": "code",
   "execution_count": null,
   "id": "f7d51ef5",
   "metadata": {},
   "outputs": [],
   "source": []
  },
  {
   "cell_type": "code",
   "execution_count": null,
   "id": "042355da",
   "metadata": {},
   "outputs": [],
   "source": []
  },
  {
   "cell_type": "code",
   "execution_count": 128,
   "id": "39e32e59",
   "metadata": {},
   "outputs": [],
   "source": [
    "cat188_pred = cat[['RA','Dec','iccd','xg','yg','g','ig','xi','yi','i','ii','field']]"
   ]
  },
  {
   "cell_type": "code",
   "execution_count": 129,
   "id": "e8e96431",
   "metadata": {},
   "outputs": [],
   "source": [
    "cat188_pred['pred'] = res"
   ]
  },
  {
   "cell_type": "code",
   "execution_count": 130,
   "id": "fe1b2bff",
   "metadata": {},
   "outputs": [],
   "source": [
    "with open('./pickle/ml_results/field188_predictions.pk','wb') as f:\n",
    "    pickle.dump(cat188_pred,f)"
   ]
  },
  {
   "cell_type": "code",
   "execution_count": null,
   "id": "ec189e8b",
   "metadata": {},
   "outputs": [],
   "source": []
  },
  {
   "cell_type": "code",
   "execution_count": 115,
   "id": "780af254",
   "metadata": {},
   "outputs": [],
   "source": [
    "cat24_pred = cat24[['RA','Dec','iccd','xg','yg','g','ig','xi','yi','i','ii','field']]"
   ]
  },
  {
   "cell_type": "code",
   "execution_count": 116,
   "id": "b12688d4",
   "metadata": {},
   "outputs": [],
   "source": [
    "cat24_pred['pred'] = res"
   ]
  },
  {
   "cell_type": "code",
   "execution_count": 117,
   "id": "4ca5025d",
   "metadata": {},
   "outputs": [],
   "source": [
    "with open('./pickle/ml_results/field24_predictions.pk','wb') as f:\n",
    "    pickle.dump(cat24_pred,f)"
   ]
  },
  {
   "cell_type": "code",
   "execution_count": null,
   "id": "a86eebea",
   "metadata": {},
   "outputs": [],
   "source": []
  },
  {
   "cell_type": "code",
   "execution_count": null,
   "id": "6db944a0",
   "metadata": {},
   "outputs": [],
   "source": []
  },
  {
   "cell_type": "code",
   "execution_count": null,
   "id": "c61b3238",
   "metadata": {},
   "outputs": [],
   "source": []
  },
  {
   "cell_type": "code",
   "execution_count": null,
   "id": "efae0877",
   "metadata": {},
   "outputs": [],
   "source": []
  },
  {
   "cell_type": "code",
   "execution_count": 53,
   "id": "1142be10",
   "metadata": {},
   "outputs": [
    {
     "name": "stdout",
     "output_type": "stream",
     "text": [
      "59.16055750846863\n",
      "55.01980996131897\n",
      "53.677734375\n",
      "crowding: 300, accuracy: 0.6144170295113692\n",
      "51.2863883972168\n",
      "54.201602935791016\n",
      "66.1094582080841\n",
      "crowding: 275, accuracy: 0.6368604073522107\n",
      "77.24949383735657\n",
      "71.25472140312195\n",
      "73.84445881843567\n",
      "crowding: 250, accuracy: 0.60671834625323\n",
      "67.04550671577454\n",
      "55.90899848937988\n",
      "55.41255736351013\n",
      "crowding: 225, accuracy: 0.6017094017094017\n",
      "52.776262044906616\n",
      "52.33641076087952\n"
     ]
    },
    {
     "ename": "KeyboardInterrupt",
     "evalue": "",
     "output_type": "error",
     "traceback": [
      "\u001b[1;31m---------------------------------------------------------------------------\u001b[0m",
      "\u001b[1;31mKeyboardInterrupt\u001b[0m                         Traceback (most recent call last)",
      "\u001b[1;32m~\\AppData\\Local\\Temp\\ipykernel_7644\\3344800240.py\u001b[0m in \u001b[0;36m<module>\u001b[1;34m\u001b[0m\n\u001b[0;32m     11\u001b[0m         \u001b[1;32mfor\u001b[0m \u001b[0mi\u001b[0m \u001b[1;32min\u001b[0m \u001b[0mrange\u001b[0m\u001b[1;33m(\u001b[0m\u001b[0miterations\u001b[0m\u001b[1;33m)\u001b[0m\u001b[1;33m:\u001b[0m\u001b[1;33m\u001b[0m\u001b[1;33m\u001b[0m\u001b[0m\n\u001b[0;32m     12\u001b[0m             \u001b[0mt1\u001b[0m \u001b[1;33m=\u001b[0m \u001b[0mtime\u001b[0m\u001b[1;33m(\u001b[0m\u001b[1;33m)\u001b[0m\u001b[1;33m\u001b[0m\u001b[1;33m\u001b[0m\u001b[0m\n\u001b[1;32m---> 13\u001b[1;33m             \u001b[0mtraining_data\u001b[0m\u001b[1;33m,\u001b[0m \u001b[0m_\u001b[0m \u001b[1;33m=\u001b[0m \u001b[0mgenerate_training_data\u001b[0m\u001b[1;33m(\u001b[0m\u001b[0mobj_mat\u001b[0m\u001b[1;33m,\u001b[0m \u001b[0mcrowding\u001b[0m\u001b[1;33m=\u001b[0m\u001b[0mc\u001b[0m\u001b[1;33m)\u001b[0m\u001b[1;33m\u001b[0m\u001b[1;33m\u001b[0m\u001b[0m\n\u001b[0m\u001b[0;32m     14\u001b[0m             \u001b[0m_\u001b[0m\u001b[1;33m,\u001b[0m \u001b[0m__\u001b[0m\u001b[1;33m,\u001b[0m \u001b[0macc\u001b[0m \u001b[1;33m=\u001b[0m \u001b[0mranfor\u001b[0m\u001b[1;33m(\u001b[0m\u001b[0mtraining_data\u001b[0m\u001b[1;33m)\u001b[0m\u001b[1;33m\u001b[0m\u001b[1;33m\u001b[0m\u001b[0m\n\u001b[0;32m     15\u001b[0m             \u001b[0macc_t\u001b[0m \u001b[1;33m+=\u001b[0m \u001b[0macc\u001b[0m\u001b[1;33m\u001b[0m\u001b[1;33m\u001b[0m\u001b[0m\n",
      "\u001b[1;32m~\\AppData\\Local\\Temp\\ipykernel_7644\\3807522068.py\u001b[0m in \u001b[0;36mgenerate_training_data\u001b[1;34m(matches, crowding)\u001b[0m\n\u001b[0;32m     14\u001b[0m         \u001b[0mworking_field\u001b[0m \u001b[1;33m=\u001b[0m \u001b[0mmatches\u001b[0m\u001b[1;33m[\u001b[0m\u001b[0mfield\u001b[0m\u001b[1;33m]\u001b[0m \u001b[1;31m# take the list of matches e.g. working_field = [(166727, 2642), (159637, 2646)]\u001b[0m\u001b[1;33m\u001b[0m\u001b[1;33m\u001b[0m\u001b[0m\n\u001b[0;32m     15\u001b[0m         \u001b[1;32mif\u001b[0m \u001b[0mfield\u001b[0m \u001b[1;32mnot\u001b[0m \u001b[1;32min\u001b[0m \u001b[0mcat\u001b[0m\u001b[1;33m:\u001b[0m \u001b[1;31m# load the correct catalogue\u001b[0m\u001b[1;33m\u001b[0m\u001b[1;33m\u001b[0m\u001b[0m\n\u001b[1;32m---> 16\u001b[1;33m             \u001b[0mcat\u001b[0m \u001b[1;33m=\u001b[0m \u001b[0mload_cat\u001b[0m\u001b[1;33m(\u001b[0m\u001b[0mfield\u001b[0m\u001b[1;33m)\u001b[0m\u001b[1;33m\u001b[0m\u001b[1;33m\u001b[0m\u001b[0m\n\u001b[0m\u001b[0;32m     17\u001b[0m         \u001b[1;32mfor\u001b[0m \u001b[0mm\u001b[0m \u001b[1;32min\u001b[0m \u001b[0mworking_field\u001b[0m\u001b[1;33m:\u001b[0m \u001b[1;31m# iterate through each match (a tuple) and grab values from catalogues\u001b[0m\u001b[1;33m\u001b[0m\u001b[1;33m\u001b[0m\u001b[0m\n\u001b[0;32m     18\u001b[0m \u001b[1;33m\u001b[0m\u001b[0m\n",
      "\u001b[1;32m~\\AppData\\Local\\Temp\\ipykernel_7644\\767498788.py\u001b[0m in \u001b[0;36mload_cat\u001b[1;34m(field)\u001b[0m\n\u001b[0;32m     10\u001b[0m     \u001b[1;32melif\u001b[0m \u001b[0mfield\u001b[0m \u001b[1;33m<=\u001b[0m \u001b[1;36m360\u001b[0m\u001b[1;33m:\u001b[0m \u001b[0mto_load\u001b[0m \u001b[1;33m=\u001b[0m \u001b[0mcat_files\u001b[0m\u001b[1;33m[\u001b[0m\u001b[1;36m8\u001b[0m\u001b[1;33m]\u001b[0m\u001b[1;33m\u001b[0m\u001b[1;33m\u001b[0m\u001b[0m\n\u001b[0;32m     11\u001b[0m     \u001b[1;32melif\u001b[0m \u001b[0mfield\u001b[0m \u001b[1;33m<=\u001b[0m \u001b[1;36m406\u001b[0m\u001b[1;33m:\u001b[0m \u001b[0mto_load\u001b[0m \u001b[1;33m=\u001b[0m \u001b[0mcat_files\u001b[0m\u001b[1;33m[\u001b[0m\u001b[1;36m9\u001b[0m\u001b[1;33m]\u001b[0m\u001b[1;33m\u001b[0m\u001b[1;33m\u001b[0m\u001b[0m\n\u001b[1;32m---> 12\u001b[1;33m     \u001b[0mcatalogue\u001b[0m \u001b[1;33m=\u001b[0m \u001b[0mpickle\u001b[0m\u001b[1;33m.\u001b[0m\u001b[0mload\u001b[0m\u001b[1;33m(\u001b[0m\u001b[0mopen\u001b[0m\u001b[1;33m(\u001b[0m\u001b[1;34mf'./pickle/{to_load}'\u001b[0m\u001b[1;33m,\u001b[0m\u001b[1;34m'rb'\u001b[0m\u001b[1;33m)\u001b[0m\u001b[1;33m)\u001b[0m\u001b[1;33m\u001b[0m\u001b[1;33m\u001b[0m\u001b[0m\n\u001b[0m\u001b[0;32m     13\u001b[0m \u001b[1;33m\u001b[0m\u001b[0m\n\u001b[0;32m     14\u001b[0m     \u001b[1;32mreturn\u001b[0m \u001b[0mcatalogue\u001b[0m\u001b[1;33m\u001b[0m\u001b[1;33m\u001b[0m\u001b[0m\n",
      "\u001b[1;32m~\\anaconda3\\lib\\site-packages\\astropy\\table\\column.py\u001b[0m in \u001b[0;36m__array_finalize__\u001b[1;34m(self, obj)\u001b[0m\n\u001b[0;32m    660\u001b[0m         \u001b[1;32mreturn\u001b[0m \u001b[0mreconstruct_func\u001b[0m\u001b[1;33m,\u001b[0m \u001b[0mreconstruct_func_args\u001b[0m\u001b[1;33m,\u001b[0m \u001b[0mstate\u001b[0m\u001b[1;33m\u001b[0m\u001b[1;33m\u001b[0m\u001b[0m\n\u001b[0;32m    661\u001b[0m \u001b[1;33m\u001b[0m\u001b[0m\n\u001b[1;32m--> 662\u001b[1;33m     \u001b[1;32mdef\u001b[0m \u001b[0m__array_finalize__\u001b[0m\u001b[1;33m(\u001b[0m\u001b[0mself\u001b[0m\u001b[1;33m,\u001b[0m \u001b[0mobj\u001b[0m\u001b[1;33m)\u001b[0m\u001b[1;33m:\u001b[0m\u001b[1;33m\u001b[0m\u001b[1;33m\u001b[0m\u001b[0m\n\u001b[0m\u001b[0;32m    663\u001b[0m         \u001b[1;31m# Obj will be none for direct call to Column() creator\u001b[0m\u001b[1;33m\u001b[0m\u001b[1;33m\u001b[0m\u001b[0m\n\u001b[0;32m    664\u001b[0m         \u001b[1;32mif\u001b[0m \u001b[0mobj\u001b[0m \u001b[1;32mis\u001b[0m \u001b[1;32mNone\u001b[0m\u001b[1;33m:\u001b[0m\u001b[1;33m\u001b[0m\u001b[1;33m\u001b[0m\u001b[0m\n",
      "\u001b[1;31mKeyboardInterrupt\u001b[0m: "
     ]
    }
   ],
   "source": [
    "# iterate to find best values\n",
    "crowding_test_values = [300,275,250,225,200,175,150,125,100,75,50]\n",
    "trees = [10,25,50,60,80,120]\n",
    "accuracies = {}\n",
    "iterations = 3\n",
    "\n",
    "for m in object_match_files:\n",
    "    obj_mat = pickle.load(open(f'./pickle/matches/{m}','rb'))\n",
    "    accuracies[m[-4:-3]] = []\n",
    "    for c in trees:#crowding_test_values:\n",
    "        acc_t = 0 # total accuracy sum\n",
    "        for i in range(iterations):\n",
    "            t1 = time()\n",
    "            #training_data, _ = generate_training_data(obj_mat, crowding=250) #stupid!\n",
    "            _, __, acc = ranfor(training_data, n_estimators=c)\n",
    "            acc_t += acc\n",
    "            t2 = time()\n",
    "            print(t2-t1)\n",
    "        acc_t /= iterations\n",
    "        accuracies[m[-4:-3]].append(acc_t)\n",
    "        print(f'crowding: {c}, accuracy: {acc_t}')\n",
    "        "
   ]
  },
  {
   "cell_type": "code",
   "execution_count": null,
   "id": "f4d1face",
   "metadata": {},
   "outputs": [],
   "source": [
    "with open('./pickle/ml_results/accuracies_d00654_300-50--25.pk','wb') as f:\n",
    "    pickle.dump(accuracies,f)"
   ]
  },
  {
   "cell_type": "code",
   "execution_count": null,
   "id": "d3b20382",
   "metadata": {},
   "outputs": [],
   "source": [
    "#d005\n",
    "plt.plot(crowding_test_values, accuracies[4], 'g')\n",
    "plt.plot(crowding_test_values, accuracies[5], 'b')\n",
    "plt.plot(crowding_test_values, accuracies[6], 'r')"
   ]
  },
  {
   "cell_type": "code",
   "execution_count": 39,
   "id": "c8cc371a",
   "metadata": {},
   "outputs": [
    {
     "data": {
      "text/plain": [
       "[<matplotlib.lines.Line2D at 0x19cfd5985b0>]"
      ]
     },
     "execution_count": 39,
     "metadata": {},
     "output_type": "execute_result"
    },
    {
     "data": {
      "image/png": "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\n",
      "text/plain": [
       "<Figure size 640x480 with 1 Axes>"
      ]
     },
     "metadata": {},
     "output_type": "display_data"
    }
   ],
   "source": [
    "#d006\n",
    "plt.plot(crowding_test_values, accuracies)"
   ]
  },
  {
   "cell_type": "code",
   "execution_count": null,
   "id": "3634e349",
   "metadata": {},
   "outputs": [],
   "source": []
  },
  {
   "cell_type": "code",
   "execution_count": null,
   "id": "594ff3db",
   "metadata": {},
   "outputs": [],
   "source": []
  },
  {
   "cell_type": "code",
   "execution_count": null,
   "id": "99459cd7",
   "metadata": {},
   "outputs": [],
   "source": []
  },
  {
   "cell_type": "code",
   "execution_count": null,
   "id": "cc78fec2",
   "metadata": {},
   "outputs": [],
   "source": []
  },
  {
   "cell_type": "code",
   "execution_count": null,
   "id": "f07cc745",
   "metadata": {},
   "outputs": [],
   "source": []
  }
 ],
 "metadata": {
  "kernelspec": {
   "display_name": "Python 3 (ipykernel)",
   "language": "python",
   "name": "python3"
  },
  "language_info": {
   "codemirror_mode": {
    "name": "ipython",
    "version": 3
   },
   "file_extension": ".py",
   "mimetype": "text/x-python",
   "name": "python",
   "nbconvert_exporter": "python",
   "pygments_lexer": "ipython3",
   "version": "3.9.13"
  }
 },
 "nbformat": 4,
 "nbformat_minor": 5
}
