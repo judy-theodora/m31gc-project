{
 "cells": [
  {
   "cell_type": "code",
   "execution_count": 1,
   "id": "25a9b97a",
   "metadata": {},
   "outputs": [],
   "source": [
    "import matplotlib.pyplot as plt\n",
    "import pandas as pd\n",
    "import numpy as np\n",
    "import pickle\n",
    "import astropy.coordinates as coord\n",
    "import astropy.units as u\n",
    "from astropy.io import ascii"
   ]
  },
  {
   "cell_type": "code",
   "execution_count": 2,
   "id": "94d663ea",
   "metadata": {},
   "outputs": [],
   "source": [
    "CAT = pickle.load(open('./pickle/cat236_257.pk','rb'))"
   ]
  },
  {
   "cell_type": "code",
   "execution_count": 3,
   "id": "ee812e7f",
   "metadata": {},
   "outputs": [],
   "source": [
    "master_cat = pd.read_csv('./catdata/master_gc_gals_catalog.csv')"
   ]
  },
  {
   "cell_type": "code",
   "execution_count": 4,
   "id": "35992118",
   "metadata": {},
   "outputs": [
    {
     "data": {
      "text/html": [
       "<div>\n",
       "<style scoped>\n",
       "    .dataframe tbody tr th:only-of-type {\n",
       "        vertical-align: middle;\n",
       "    }\n",
       "\n",
       "    .dataframe tbody tr th {\n",
       "        vertical-align: top;\n",
       "    }\n",
       "\n",
       "    .dataframe thead th {\n",
       "        text-align: right;\n",
       "    }\n",
       "</style>\n",
       "<table border=\"1\" class=\"dataframe\">\n",
       "  <thead>\n",
       "    <tr style=\"text-align: right;\">\n",
       "      <th></th>\n",
       "      <th>ID</th>\n",
       "      <th>RADEG</th>\n",
       "      <th>DECDEG</th>\n",
       "      <th>CLASS</th>\n",
       "    </tr>\n",
       "  </thead>\n",
       "  <tbody>\n",
       "    <tr>\n",
       "      <th>0</th>\n",
       "      <td>B001</td>\n",
       "      <td>9.962537</td>\n",
       "      <td>40.969619</td>\n",
       "      <td>1.0</td>\n",
       "    </tr>\n",
       "    <tr>\n",
       "      <th>1</th>\n",
       "      <td>B002</td>\n",
       "      <td>10.010729</td>\n",
       "      <td>41.198203</td>\n",
       "      <td>1.0</td>\n",
       "    </tr>\n",
       "    <tr>\n",
       "      <th>2</th>\n",
       "      <td>B003</td>\n",
       "      <td>10.039204</td>\n",
       "      <td>41.184903</td>\n",
       "      <td>1.0</td>\n",
       "    </tr>\n",
       "    <tr>\n",
       "      <th>3</th>\n",
       "      <td>B004</td>\n",
       "      <td>10.074675</td>\n",
       "      <td>41.377858</td>\n",
       "      <td>1.0</td>\n",
       "    </tr>\n",
       "    <tr>\n",
       "      <th>4</th>\n",
       "      <td>B005</td>\n",
       "      <td>10.084663</td>\n",
       "      <td>40.732864</td>\n",
       "      <td>1.0</td>\n",
       "    </tr>\n",
       "    <tr>\n",
       "      <th>...</th>\n",
       "      <td>...</td>\n",
       "      <td>...</td>\n",
       "      <td>...</td>\n",
       "      <td>...</td>\n",
       "    </tr>\n",
       "    <tr>\n",
       "      <th>2179</th>\n",
       "      <td>dTZZ-C65</td>\n",
       "      <td>22.822500</td>\n",
       "      <td>45.728611</td>\n",
       "      <td>4.0</td>\n",
       "    </tr>\n",
       "    <tr>\n",
       "      <th>2180</th>\n",
       "      <td>dTZZ-C66</td>\n",
       "      <td>23.190833</td>\n",
       "      <td>42.958889</td>\n",
       "      <td>4.0</td>\n",
       "    </tr>\n",
       "    <tr>\n",
       "      <th>2181</th>\n",
       "      <td>dTZZ-C67</td>\n",
       "      <td>23.496250</td>\n",
       "      <td>42.633889</td>\n",
       "      <td>4.0</td>\n",
       "    </tr>\n",
       "    <tr>\n",
       "      <th>2182</th>\n",
       "      <td>dTZZ-C68</td>\n",
       "      <td>23.525000</td>\n",
       "      <td>45.725556</td>\n",
       "      <td>4.0</td>\n",
       "    </tr>\n",
       "    <tr>\n",
       "      <th>2183</th>\n",
       "      <td>dTZZ-C69</td>\n",
       "      <td>23.664583</td>\n",
       "      <td>44.094722</td>\n",
       "      <td>4.0</td>\n",
       "    </tr>\n",
       "  </tbody>\n",
       "</table>\n",
       "<p>2184 rows × 4 columns</p>\n",
       "</div>"
      ],
      "text/plain": [
       "            ID      RADEG     DECDEG  CLASS\n",
       "0         B001   9.962537  40.969619    1.0\n",
       "1         B002  10.010729  41.198203    1.0\n",
       "2         B003  10.039204  41.184903    1.0\n",
       "3         B004  10.074675  41.377858    1.0\n",
       "4         B005  10.084663  40.732864    1.0\n",
       "...        ...        ...        ...    ...\n",
       "2179  dTZZ-C65  22.822500  45.728611    4.0\n",
       "2180  dTZZ-C66  23.190833  42.958889    4.0\n",
       "2181  dTZZ-C67  23.496250  42.633889    4.0\n",
       "2182  dTZZ-C68  23.525000  45.725556    4.0\n",
       "2183  dTZZ-C69  23.664583  44.094722    4.0\n",
       "\n",
       "[2184 rows x 4 columns]"
      ]
     },
     "execution_count": 4,
     "metadata": {},
     "output_type": "execute_result"
    }
   ],
   "source": [
    "master_cat"
   ]
  },
  {
   "cell_type": "markdown",
   "id": "27fafd7a",
   "metadata": {},
   "source": [
    "Max and min of each field"
   ]
  },
  {
   "cell_type": "code",
   "execution_count": 5,
   "id": "9cab8d6a",
   "metadata": {},
   "outputs": [],
   "source": [
    "bounds = {}"
   ]
  },
  {
   "cell_type": "code",
   "execution_count": 6,
   "id": "fc32f049",
   "metadata": {},
   "outputs": [],
   "source": [
    "# define the bounds of each field\n",
    "# (x0,y0) -> (x1,y1) is the bounding box of the field\n",
    "# note that since RA decreases in the easterly direction, we take x1 to be the minimum value of RA\n",
    "for c in CAT:\n",
    "    x0 = max(CAT[c]['RA'])\n",
    "    x1 = min(CAT[c]['RA'])\n",
    "    y0 = min(CAT[c]['Dec'])\n",
    "    y1 = max(CAT[c]['Dec'])\n",
    "    bounds[c] = (x0,x1,y0,y1)"
   ]
  },
  {
   "cell_type": "code",
   "execution_count": 7,
   "id": "34a17fd0",
   "metadata": {},
   "outputs": [],
   "source": [
    "# match objects in CAT[n] to the ones in master_cat\n",
    "def match_objs(cat_no):\n",
    "    d1 = CAT[cat_no]\n",
    "    ra_obs, dec_obs = d1['RA'], d1['Dec']\n",
    "    d2 = master_cat\n",
    "    ra_qry, dec_qry = d2['RADEG'], d2['DECDEG']\n",
    "\n",
    "    c1 = coord.SkyCoord(ra_obs, dec_obs, unit=(u.degree, u.degree))\n",
    "    c2 = coord.SkyCoord(ra_qry, dec_qry, unit=(u.degree, u.degree))\n",
    "    idx, d2d, _ = c1.match_to_catalog_sky(c2)\n",
    "    return idx,d2d"
   ]
  },
  {
   "cell_type": "code",
   "execution_count": 8,
   "id": "96e93dd1",
   "metadata": {},
   "outputs": [],
   "source": [
    "# find a list of all objects from match_objs that are actually contained within a given field\n",
    "def find_objs_in_field(cat_no,objs):\n",
    "    in_field = []\n",
    "    for o in objs:\n",
    "        ra = master_cat.loc[o]['RADEG']\n",
    "        dec = master_cat.loc[o]['DECDEG']\n",
    "        x0,x1,y0,y1 = bounds[cat_no]\n",
    "        if ( ra<x0 and ra>x1 and dec>y0 and dec<y1 ):\n",
    "            in_field.append(master_cat.loc[o])\n",
    "    return in_field"
   ]
  },
  {
   "cell_type": "code",
   "execution_count": 9,
   "id": "836f1950",
   "metadata": {},
   "outputs": [],
   "source": [
    "# find the closest match(es) for each object in the master_list, that is in a given field\n",
    "def find_closest_match(cat_no, in_field, delta):\n",
    "    ret = []\n",
    "    for obj in in_field:\n",
    "        idx = obj.name #obj.name is the position/index of the object in master_cat\n",
    "        closest_obj_filter = d2d_idx_df[d2d_idx_df['idx']==idx]['d2d'] < delta\n",
    "        closest_obj_idx = d2d_idx_df[d2d_idx_df['idx']==idx]['d2d'].idxmin() #!!!!!!!!!\n",
    "        \n",
    "        d2d_idx_df[d2d_idx_df['idx']==idx][closest_obj_filter] # filter from the true/false table for dist within delta\n",
    "        \n",
    "        out = (closest_obj_idx,idx) # return index of object in CAT[n] and index in master_cat\n",
    "        ret.append(out)\n",
    "    return ret"
   ]
  },
  {
   "cell_type": "code",
   "execution_count": null,
   "id": "d9ec36b8",
   "metadata": {},
   "outputs": [],
   "source": []
  },
  {
   "cell_type": "code",
   "execution_count": 10,
   "id": "fe941bb0",
   "metadata": {},
   "outputs": [],
   "source": [
    "idx, d2d = match_objs(253)"
   ]
  },
  {
   "cell_type": "code",
   "execution_count": 11,
   "id": "08d19588",
   "metadata": {},
   "outputs": [],
   "source": [
    "d2d = d2d.degree"
   ]
  },
  {
   "cell_type": "code",
   "execution_count": 12,
   "id": "abaef845",
   "metadata": {},
   "outputs": [],
   "source": [
    "d2d_idx_tuples = [(d2d[i],idx[i]) for i in range(len(d2d))]"
   ]
  },
  {
   "cell_type": "code",
   "execution_count": 13,
   "id": "a0ac382c",
   "metadata": {},
   "outputs": [],
   "source": [
    "d2d_idx_df = pd.DataFrame(d2d_idx_tuples, columns=['d2d','idx'])"
   ]
  },
  {
   "cell_type": "code",
   "execution_count": 19,
   "id": "e07d7126",
   "metadata": {},
   "outputs": [],
   "source": [
    "objs=set(idx)"
   ]
  },
  {
   "cell_type": "code",
   "execution_count": 21,
   "id": "cd1979b9",
   "metadata": {},
   "outputs": [],
   "source": [
    "in_field = find_objs_in_field(253,objs)"
   ]
  },
  {
   "cell_type": "code",
   "execution_count": null,
   "id": "ad7ff28e",
   "metadata": {},
   "outputs": [],
   "source": []
  },
  {
   "cell_type": "code",
   "execution_count": 44,
   "id": "0efd195e",
   "metadata": {},
   "outputs": [],
   "source": [
    "filter1 = d2d_idx_df[d2d_idx_df['idx']==1220]['d2d'] < 0.005 # what value of delta???????? how much RA/Dec dist is allowed"
   ]
  },
  {
   "cell_type": "code",
   "execution_count": 45,
   "id": "372e1e94",
   "metadata": {},
   "outputs": [
    {
     "data": {
      "text/html": [
       "<div>\n",
       "<style scoped>\n",
       "    .dataframe tbody tr th:only-of-type {\n",
       "        vertical-align: middle;\n",
       "    }\n",
       "\n",
       "    .dataframe tbody tr th {\n",
       "        vertical-align: top;\n",
       "    }\n",
       "\n",
       "    .dataframe thead th {\n",
       "        text-align: right;\n",
       "    }\n",
       "</style>\n",
       "<table border=\"1\" class=\"dataframe\">\n",
       "  <thead>\n",
       "    <tr style=\"text-align: right;\">\n",
       "      <th></th>\n",
       "      <th>d2d</th>\n",
       "      <th>idx</th>\n",
       "    </tr>\n",
       "  </thead>\n",
       "  <tbody>\n",
       "    <tr>\n",
       "      <th>22614</th>\n",
       "      <td>0.000026</td>\n",
       "      <td>1220</td>\n",
       "    </tr>\n",
       "    <tr>\n",
       "      <th>22707</th>\n",
       "      <td>0.001086</td>\n",
       "      <td>1220</td>\n",
       "    </tr>\n",
       "    <tr>\n",
       "      <th>22742</th>\n",
       "      <td>0.001122</td>\n",
       "      <td>1220</td>\n",
       "    </tr>\n",
       "    <tr>\n",
       "      <th>22797</th>\n",
       "      <td>0.001345</td>\n",
       "      <td>1220</td>\n",
       "    </tr>\n",
       "    <tr>\n",
       "      <th>22824</th>\n",
       "      <td>0.001396</td>\n",
       "      <td>1220</td>\n",
       "    </tr>\n",
       "    <tr>\n",
       "      <th>...</th>\n",
       "      <td>...</td>\n",
       "      <td>...</td>\n",
       "    </tr>\n",
       "    <tr>\n",
       "      <th>27003</th>\n",
       "      <td>0.004757</td>\n",
       "      <td>1220</td>\n",
       "    </tr>\n",
       "    <tr>\n",
       "      <th>27142</th>\n",
       "      <td>0.003100</td>\n",
       "      <td>1220</td>\n",
       "    </tr>\n",
       "    <tr>\n",
       "      <th>28085</th>\n",
       "      <td>0.004396</td>\n",
       "      <td>1220</td>\n",
       "    </tr>\n",
       "    <tr>\n",
       "      <th>28291</th>\n",
       "      <td>0.004913</td>\n",
       "      <td>1220</td>\n",
       "    </tr>\n",
       "    <tr>\n",
       "      <th>28610</th>\n",
       "      <td>0.003647</td>\n",
       "      <td>1220</td>\n",
       "    </tr>\n",
       "  </tbody>\n",
       "</table>\n",
       "<p>61 rows × 2 columns</p>\n",
       "</div>"
      ],
      "text/plain": [
       "            d2d   idx\n",
       "22614  0.000026  1220\n",
       "22707  0.001086  1220\n",
       "22742  0.001122  1220\n",
       "22797  0.001345  1220\n",
       "22824  0.001396  1220\n",
       "...         ...   ...\n",
       "27003  0.004757  1220\n",
       "27142  0.003100  1220\n",
       "28085  0.004396  1220\n",
       "28291  0.004913  1220\n",
       "28610  0.003647  1220\n",
       "\n",
       "[61 rows x 2 columns]"
      ]
     },
     "execution_count": 45,
     "metadata": {},
     "output_type": "execute_result"
    }
   ],
   "source": [
    "d2d_idx_df[d2d_idx_df['idx']==1220][filter1]"
   ]
  },
  {
   "cell_type": "code",
   "execution_count": null,
   "id": "cd7340af",
   "metadata": {},
   "outputs": [],
   "source": []
  },
  {
   "cell_type": "code",
   "execution_count": 16,
   "id": "dc327cce",
   "metadata": {},
   "outputs": [
    {
     "data": {
      "text/plain": [
       "[(195123, 1184), (92796, 1219), (22614, 1220), (86008, 1214)]"
      ]
     },
     "execution_count": 16,
     "metadata": {},
     "output_type": "execute_result"
    }
   ],
   "source": [
    "find_closest_match(253, in_field)"
   ]
  },
  {
   "cell_type": "code",
   "execution_count": null,
   "id": "a653ba8b",
   "metadata": {},
   "outputs": [],
   "source": [
    "# main loop\n",
    "\n",
    "for c in CAT:\n",
    "    idx,d2d = match_objs(c)\n",
    "    objs = set(idx)\n",
    "    d2d = d2d.deg\n",
    "    \n",
    "    d2d_idx_tuples = [(d2d[i],idx[i]) for i in range(len(d2d))]\n",
    "    \n",
    "    d2d_idx_df = pd.DataFrame(d2d_idx_tuples, columns=['d2d','idx'])\n",
    "    \n",
    "    # get the list of all obj from master_cat which are in the field CAT[c]\n",
    "    in_field = find_objs_in_field(c,objs)\n",
    "    matches = find_closest_match(c, in_field)"
   ]
  },
  {
   "cell_type": "code",
   "execution_count": 41,
   "id": "2613c3af",
   "metadata": {},
   "outputs": [],
   "source": [
    "objs = set(idx)"
   ]
  },
  {
   "cell_type": "code",
   "execution_count": 54,
   "id": "e4b1d19e",
   "metadata": {},
   "outputs": [
    {
     "data": {
      "text/plain": [
       "ID        dTZZ-SDSS7\n",
       "RADEG       11.92125\n",
       "DECDEG     42.071389\n",
       "CLASS            4.0\n",
       "Name: 2138, dtype: object"
      ]
     },
     "execution_count": 54,
     "metadata": {},
     "output_type": "execute_result"
    }
   ],
   "source": [
    "master_cat.loc[2138]"
   ]
  },
  {
   "cell_type": "code",
   "execution_count": null,
   "id": "7a15b508",
   "metadata": {},
   "outputs": [],
   "source": []
  }
 ],
 "metadata": {
  "kernelspec": {
   "display_name": "Python 3 (ipykernel)",
   "language": "python",
   "name": "python3"
  },
  "language_info": {
   "codemirror_mode": {
    "name": "ipython",
    "version": 3
   },
   "file_extension": ".py",
   "mimetype": "text/x-python",
   "name": "python",
   "nbconvert_exporter": "python",
   "pygments_lexer": "ipython3",
   "version": "3.8.8"
  }
 },
 "nbformat": 4,
 "nbformat_minor": 5
}
