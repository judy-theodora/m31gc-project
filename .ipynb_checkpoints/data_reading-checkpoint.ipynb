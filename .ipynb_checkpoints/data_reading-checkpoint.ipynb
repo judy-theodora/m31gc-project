{
 "cells": [
  {
   "cell_type": "code",
   "execution_count": 100,
   "id": "1074ce34",
   "metadata": {},
   "outputs": [],
   "source": [
    "import matplotlib.pyplot as plt\n",
    "import pandas as pd\n",
    "import numpy as np\n",
    "import pickle\n",
    "import astropy.coordinates as coord\n",
    "import astropy.units as u\n",
    "from astropy.io import ascii\n"
   ]
  },
  {
   "cell_type": "markdown",
   "id": "036356aa",
   "metadata": {},
   "source": [
    "### Useful functions"
   ]
  },
  {
   "cell_type": "markdown",
   "id": "bd01561b",
   "metadata": {},
   "source": [
    "## Table2.txt\n",
    "read table2.txt and calculate a dictionary of positions for each field"
   ]
  },
  {
   "cell_type": "code",
   "execution_count": null,
   "id": "293f1711",
   "metadata": {},
   "outputs": [],
   "source": [
    "tab2col = ['yr','mon','d','h','min','s','mjd','RAh','RAm','RAs','DEd','DEm','DEs','ExpID','FieldID','Other','PID','Filter','Exp']\n",
    "file = './catdata/Table2.txt'\n",
    "tab2df = pd.read_csv(file, header=0, index_col=False, names=tab2col,delim_whitespace=True)\n"
   ]
  },
  {
   "cell_type": "code",
   "execution_count": null,
   "id": "fae6b2ce",
   "metadata": {},
   "outputs": [],
   "source": [
    "tab2df = tab2df[['RAh','RAm','RAs','DEd','DEm','DEs','FieldID']]"
   ]
  },
  {
   "cell_type": "code",
   "execution_count": null,
   "id": "5a5e289b",
   "metadata": {},
   "outputs": [],
   "source": [
    "fields = set(tab2df['FieldID'])"
   ]
  },
  {
   "cell_type": "code",
   "execution_count": null,
   "id": "ff85c44c",
   "metadata": {},
   "outputs": [],
   "source": [
    "field_positions = {}\n",
    "for f in fields:\n",
    "    d = tab2df[tab2df['FieldID']==f].iloc[0] # take a single entry as the RA, Dec values are very similar\n",
    "    RA = 15*(d[0]+d[1]/60+d[2]/3600)\n",
    "    Dec = d[3]+d[4]/60+d[5]/3600\n",
    "    field_positions[f] = (RA,Dec)"
   ]
  },
  {
   "cell_type": "markdown",
   "id": "4f9e4b9a",
   "metadata": {},
   "source": [
    "## Read in data"
   ]
  },
  {
   "cell_type": "markdown",
   "id": "3186d4cf",
   "metadata": {},
   "source": [
    "Import ascd files using astropy"
   ]
  },
  {
   "cell_type": "code",
   "execution_count": null,
   "id": "e99cb806",
   "metadata": {},
   "outputs": [],
   "source": [
    "CAT = {}\n",
    "cats_to_read = range(236,258) # 236->257 spans directly across M31\n",
    "                              # 258->279 spans across M31, one row above\n",
    "                              # 213->235 spans across M31 one row below"
   ]
  },
  {
   "cell_type": "code",
   "execution_count": null,
   "id": "7e98dd17",
   "metadata": {},
   "outputs": [],
   "source": [
    "columns = ['RA', 'Dec','iccd','xg','yg','g','dg','ig','xi','yi','i','di','ii','ia','field']\n",
    "for a in cats_to_read:\n",
    "    CAT[a] = ascii.read(f'./catdata/cats/m{a:03d}p.ascd', guess=False, header_start=0, names=columns, format='commented_header')\n",
    "    CAT[a]['RA'] = coord.Angle(CAT[a]['RA'],u.h).deg\n",
    "    CAT[a]['Dec'] = coord.Angle(CAT[a]['Dec'],u.deg).deg"
   ]
  },
  {
   "cell_type": "code",
   "execution_count": null,
   "id": "cb6e4132",
   "metadata": {},
   "outputs": [],
   "source": []
  },
  {
   "cell_type": "code",
   "execution_count": 101,
   "id": "8a3d713d",
   "metadata": {},
   "outputs": [],
   "source": [
    "def read_cat(c: range) -> dict:\n",
    "    columns = ['RA', 'Dec','iccd','xg','yg','g','dg','ig','xi','yi','i','di','ii','ia','field']\n",
    "    CAT = {}\n",
    "    for a in c:\n",
    "        print(f'\\nReading {a:03d}')\n",
    "        CAT[a] = ascii.read(f'./catdata/cats/m{a:03d}p.ascd', guess=False, header_start=0, names=columns, format='commented_header')\n",
    "        print('Converting RA/Dec')\n",
    "        CAT[a]['RA'] = coord.Angle(CAT[a]['RA'],u.h).deg\n",
    "        CAT[a]['Dec'] = coord.Angle(CAT[a]['Dec'],u.deg).deg\n",
    "        print('Centering RA values')\n",
    "        CAT[a]['RA'] = [(a+20)%360-20 for a in CAT[a]['RA']]\n",
    "        print('Saving...')\n",
    "        with open(f'./pickle/temp/{a:03d}.pk','wb') as f:\n",
    "            pickle.dump(CAT[a],f)\n",
    "    return CAT"
   ]
  },
  {
   "cell_type": "code",
   "execution_count": 102,
   "id": "ee7c44ab",
   "metadata": {},
   "outputs": [
    {
     "name": "stdout",
     "output_type": "stream",
     "text": [
      "\n",
      "Reading 201\n",
      "Converting RA/Dec\n",
      "Centering RA values\n",
      "Saving...\n",
      "\n",
      "Reading 202\n",
      "Converting RA/Dec\n",
      "Centering RA values\n",
      "Saving...\n",
      "\n",
      "Reading 203\n",
      "Converting RA/Dec\n",
      "Centering RA values\n",
      "Saving...\n",
      "\n",
      "Reading 204\n",
      "Converting RA/Dec\n",
      "Centering RA values\n",
      "Saving...\n",
      "\n",
      "Reading 205\n",
      "Converting RA/Dec\n",
      "Centering RA values\n",
      "Saving...\n",
      "\n",
      "Reading 206\n",
      "Converting RA/Dec\n",
      "Centering RA values\n",
      "Saving...\n",
      "\n",
      "Reading 207\n",
      "Converting RA/Dec\n",
      "Centering RA values\n",
      "Saving...\n",
      "\n",
      "Reading 208\n",
      "Converting RA/Dec\n",
      "Centering RA values\n",
      "Saving...\n",
      "\n",
      "Reading 209\n",
      "Converting RA/Dec\n",
      "Centering RA values\n",
      "Saving...\n",
      "\n",
      "Reading 210\n",
      "Converting RA/Dec\n",
      "Centering RA values\n",
      "Saving...\n",
      "\n",
      "Reading 211\n",
      "Converting RA/Dec\n",
      "Centering RA values\n",
      "Saving...\n",
      "\n",
      "Reading 212\n",
      "Converting RA/Dec\n",
      "Centering RA values\n",
      "Saving...\n",
      "\n",
      "Reading 213\n",
      "Converting RA/Dec\n",
      "Centering RA values\n",
      "Saving...\n",
      "\n",
      "Reading 214\n",
      "Converting RA/Dec\n",
      "Centering RA values\n",
      "Saving...\n",
      "\n",
      "Reading 215\n",
      "Converting RA/Dec\n",
      "Centering RA values\n",
      "Saving...\n",
      "\n",
      "Reading 216\n",
      "Converting RA/Dec\n",
      "Centering RA values\n",
      "Saving...\n",
      "\n",
      "Reading 217\n",
      "Converting RA/Dec\n",
      "Centering RA values\n",
      "Saving...\n",
      "\n",
      "Reading 218\n",
      "Converting RA/Dec\n",
      "Centering RA values\n",
      "Saving...\n",
      "\n",
      "Reading 219\n",
      "Converting RA/Dec\n",
      "Centering RA values\n",
      "Saving...\n",
      "\n",
      "Reading 220\n",
      "Converting RA/Dec\n"
     ]
    },
    {
     "name": "stderr",
     "output_type": "stream",
     "text": [
      "WARNING: IllegalHourWarning: 'hour' was found  to be '24.0', which is not in range (-24, 24). Treating as 24 hr [astropy.coordinates.angle_formats]\n"
     ]
    },
    {
     "name": "stdout",
     "output_type": "stream",
     "text": [
      "Centering RA values\n",
      "Saving...\n",
      "\n",
      "Reading 221\n",
      "Converting RA/Dec\n",
      "Centering RA values\n",
      "Saving...\n",
      "\n",
      "Reading 222\n",
      "Converting RA/Dec\n",
      "Centering RA values\n",
      "Saving...\n",
      "\n",
      "Reading 223\n",
      "Converting RA/Dec\n",
      "Centering RA values\n",
      "Saving...\n",
      "\n",
      "Reading 224\n",
      "Converting RA/Dec\n",
      "Centering RA values\n",
      "Saving...\n",
      "\n",
      "Reading 225\n",
      "Converting RA/Dec\n",
      "Centering RA values\n",
      "Saving...\n",
      "\n",
      "Reading 226\n",
      "Converting RA/Dec\n",
      "Centering RA values\n",
      "Saving...\n",
      "\n",
      "Reading 227\n",
      "Converting RA/Dec\n",
      "Centering RA values\n",
      "Saving...\n",
      "\n",
      "Reading 228\n",
      "Converting RA/Dec\n",
      "Centering RA values\n",
      "Saving...\n",
      "\n",
      "Reading 229\n",
      "Converting RA/Dec\n",
      "Centering RA values\n",
      "Saving...\n",
      "\n",
      "Reading 230\n",
      "Converting RA/Dec\n",
      "Centering RA values\n",
      "Saving...\n",
      "\n",
      "Reading 231\n",
      "Converting RA/Dec\n",
      "Centering RA values\n",
      "Saving...\n",
      "\n",
      "Reading 232\n",
      "Converting RA/Dec\n",
      "Centering RA values\n",
      "Saving...\n",
      "\n",
      "Reading 233\n",
      "Converting RA/Dec\n",
      "Centering RA values\n",
      "Saving...\n",
      "\n",
      "Reading 234\n",
      "Converting RA/Dec\n",
      "Centering RA values\n",
      "Saving...\n",
      "\n",
      "Reading 235\n",
      "Converting RA/Dec\n",
      "Centering RA values\n",
      "Saving...\n"
     ]
    }
   ],
   "source": [
    "CAT201_235 = read_cat(range(201,236))\n",
    "with open('./pickle/cat201_235.pk','wb') as f:\n",
    "    pickle.dump(CAT201_235,f)"
   ]
  },
  {
   "cell_type": "code",
   "execution_count": null,
   "id": "a922db3a",
   "metadata": {},
   "outputs": [],
   "source": [
    "CAT280_320 = read_cat(range(280,321))\n",
    "with open('./pickle/cat280_320.pk','wb') as f:\n",
    "    pickle.dump(CAT280_320,f)"
   ]
  },
  {
   "cell_type": "code",
   "execution_count": null,
   "id": "a18d5530",
   "metadata": {},
   "outputs": [],
   "source": [
    "del CAT280_320\n",
    "CAT321_360 = read_cat(range(321,361))\n",
    "with open('./pickle/cat321_360.pk','wb') as f:\n",
    "    pickle.dump(CAT321_360,f)"
   ]
  },
  {
   "cell_type": "code",
   "execution_count": null,
   "id": "7385879c",
   "metadata": {},
   "outputs": [],
   "source": [
    "del CAT321_360\n",
    "CAT361_406 = read_cat(range(361,407))\n",
    "with open('./pickle/cat361_406.pk','wb') as f:\n",
    "    pickle.dump(CAT361_406,f)"
   ]
  },
  {
   "cell_type": "code",
   "execution_count": null,
   "id": "c6263d0e",
   "metadata": {},
   "outputs": [],
   "source": [
    "CAT = pickle.load(open('./pickle/cat213_279.pk','rb'))"
   ]
  },
  {
   "cell_type": "markdown",
   "id": "40081a9b",
   "metadata": {},
   "source": [
    "# Convert data types in PAndAS DFs\n",
    "Convert from float64 to float32 etc."
   ]
  },
  {
   "cell_type": "code",
   "execution_count": 104,
   "id": "eeef3219",
   "metadata": {},
   "outputs": [],
   "source": [
    "cat_files = ['cat1_50.pk','cat51_100.pk','cat101_150.pk','cat151_200.pk','cat201_235.pk',\n",
    "             'cat236_257.pk','cat258_279.pk','cat280_320.pk','cat321_360.pk','cat361_406.pk']"
   ]
  },
  {
   "cell_type": "code",
   "execution_count": 113,
   "id": "54ee0597",
   "metadata": {},
   "outputs": [],
   "source": [
    "# iterate for each column and convert number to different datatype\n",
    "types = {'RA':'float32','Dec':'float32','iccd':'uint8','xg':'float32','yg':'float32','g':'float32','dg':'float32','ig':'int8',\n",
    "        'xi':'float32','yi':'float32','i':'float32','di':'float32','ii':'int8','ia':'int8','field':'uint16'}\n",
    "def convert_data_types(cat):\n",
    "    for c in cat:\n",
    "        for col in types:\n",
    "            cat[c][col] = cat[c][col].astype(types[col])"
   ]
  },
  {
   "cell_type": "code",
   "execution_count": 114,
   "id": "93658eca",
   "metadata": {},
   "outputs": [
    {
     "name": "stdout",
     "output_type": "stream",
     "text": [
      "cat1_50.pk\n",
      "converting...\n",
      "saving...\n",
      "\n",
      "cat51_100.pk\n",
      "converting...\n",
      "saving...\n",
      "\n",
      "cat101_150.pk\n",
      "converting...\n",
      "saving...\n",
      "\n",
      "cat151_200.pk\n",
      "converting...\n",
      "saving...\n",
      "\n",
      "cat201_235.pk\n",
      "converting...\n",
      "saving...\n",
      "\n",
      "cat236_257.pk\n",
      "converting...\n",
      "saving...\n",
      "\n",
      "cat258_279.pk\n",
      "converting...\n",
      "saving...\n",
      "\n",
      "cat280_320.pk\n",
      "converting...\n",
      "saving...\n",
      "\n",
      "cat321_360.pk\n",
      "converting...\n",
      "saving...\n",
      "\n",
      "cat361_406.pk\n",
      "converting...\n",
      "saving...\n",
      "\n"
     ]
    }
   ],
   "source": [
    "for file in cat_files:\n",
    "    print(file)\n",
    "    CAT = pickle.load(open(f'pickle/oldcat/{file}','rb'))\n",
    "    print('converting...')\n",
    "    convert_data_types(CAT)\n",
    "    print('saving...\\n')\n",
    "    with open(f'pickle/temp/{file}','wb') as f:\n",
    "        pickle.dump(CAT, f)"
   ]
  },
  {
   "cell_type": "code",
   "execution_count": null,
   "id": "f169ef1e",
   "metadata": {},
   "outputs": [],
   "source": []
  },
  {
   "cell_type": "markdown",
   "id": "1bae8869",
   "metadata": {},
   "source": [
    "### Calculate mean field positions"
   ]
  },
  {
   "cell_type": "code",
   "execution_count": null,
   "id": "fc0c7a3a",
   "metadata": {
    "scrolled": false
   },
   "outputs": [],
   "source": [
    "field_mean_pos = {}\n",
    "for i in CAT:\n",
    "    length = len(CAT[i]['RA'])\n",
    "    # RA values span from 23h to 2h so we centre the values around 0 (converting 23h into a negative value)\n",
    "    ra_centered = [(a+20)%360-20 for a in CAT[i]['RA']]\n",
    "    mean_ra = sum(ra_centered)/length\n",
    "    mean_dec = sum(CAT[i]['Dec'])/length\n",
    "    field_mean_pos[i] = (mean_ra, mean_dec)"
   ]
  },
  {
   "cell_type": "markdown",
   "id": "a457a1e7",
   "metadata": {},
   "source": [
    "## Object count"
   ]
  },
  {
   "cell_type": "markdown",
   "id": "237f839b",
   "metadata": {},
   "source": [
    "Find an average object count across the range"
   ]
  },
  {
   "cell_type": "markdown",
   "id": "e7b62dea",
   "metadata": {},
   "source": [
    "Count number of each object"
   ]
  },
  {
   "cell_type": "code",
   "execution_count": null,
   "id": "141af3f4",
   "metadata": {},
   "outputs": [],
   "source": [
    "count_sat = [len(CAT[c][CAT[c]['ig']==-9]) for c in CAT]\n",
    "count_star2 = [len(CAT[c][CAT[c]['ig']==-2]) for c in CAT]\n",
    "count_star1 = [len(CAT[c][CAT[c]['ig']==-1]) for c in CAT]\n",
    "count_noise = [len(CAT[c][CAT[c]['ig']==0]) for c in CAT]\n",
    "count_gal1 = [len(CAT[c][CAT[c]['ig']==1]) for c in CAT]\n",
    "count_gal2 = [len(CAT[c][CAT[c]['ig']==2]) for c in CAT]"
   ]
  },
  {
   "cell_type": "code",
   "execution_count": null,
   "id": "28f715cb",
   "metadata": {
    "scrolled": false
   },
   "outputs": [],
   "source": [
    "fig = plt.figure()\n",
    "ax1 = fig.add_subplot(111)\n",
    "fig.set_dpi(120)\n",
    "\n",
    "ax1.set_yscale('log')\n",
    "\n",
    "ax1.scatter([field_mean_pos[f][0] for f in field_mean_pos], count_star2, c='g', label='star 2sig')\n",
    "ax1.scatter([field_mean_pos[f][0] for f in field_mean_pos], count_star1, c='b', label='star 1sig')\n",
    "ax1.scatter([field_mean_pos[f][0] for f in field_mean_pos], count_gal1, c='r', label='galaxy 1sig')\n",
    "plt.legend(loc='upper right')\n",
    "plt.xlabel('RA (deg)')\n",
    "plt.ylabel('Object count')\n",
    "plt.title('Object counts across M31 at Dec +41°')\n",
    "plt.xlim(-5,25)\n",
    "plt.gca().invert_xaxis()"
   ]
  },
  {
   "cell_type": "markdown",
   "id": "3e24d4a4",
   "metadata": {},
   "source": [
    "## Colour\n",
    "Calculate average colour of each class"
   ]
  },
  {
   "cell_type": "markdown",
   "id": "314b8af0",
   "metadata": {},
   "source": [
    "Colours based on ii **and** ig guesses"
   ]
  },
  {
   "cell_type": "code",
   "execution_count": null,
   "id": "3ff355ef",
   "metadata": {},
   "outputs": [],
   "source": [
    "colours = {}\n",
    "#calculate mean g-i colour of each field\n",
    "for n in CAT:\n",
    "    col_sat = np.mean(CAT[n]['g'][(CAT[n]['ig']==-9)&(CAT[n]['ii']==-9)] - CAT[n]['i'][(CAT[n]['ig']==-9)&(CAT[n]['ii']==-9)])\n",
    "    col_2sigstar = np.mean(CAT[n]['g'][(CAT[n]['ig']==-2)&(CAT[n]['ii']==-2)] - CAT[n]['i'][(CAT[n]['ig']==-2)&(CAT[n]['ii']==-2)])\n",
    "    col_1sigstar = np.mean(CAT[n]['g'][(CAT[n]['ig']==-1)&(CAT[n]['ii']==-1)] - CAT[n]['i'][(CAT[n]['ig']==-1)&(CAT[n]['ii']==-1)])\n",
    "    col_1siggal  = np.mean(CAT[n]['g'][(CAT[n]['ig']==1)&(CAT[n]['ii']==1)] - CAT[n]['i'][(CAT[n]['ig']==1)&(CAT[n]['ii']==1)])\n",
    "    col_2siggal = np.mean(CAT[n]['g'][(CAT[n]['ig']==2)&(CAT[n]['ii']==2)] - CAT[n]['i'][(CAT[n]['ig']==2)&(CAT[n]['ii']==2)])\n",
    "    colours[n] = (col_sat,col_2sigstar,col_1sigstar,col_1siggal, col_2siggal)"
   ]
  },
  {
   "cell_type": "markdown",
   "id": "7442b0b9",
   "metadata": {},
   "source": [
    "Colours based **only** on ig guesses"
   ]
  },
  {
   "cell_type": "code",
   "execution_count": null,
   "id": "0621bf05",
   "metadata": {},
   "outputs": [],
   "source": [
    "colours = {}\n",
    "#calculate mean g-i colour of each field\n",
    "for n in CAT:\n",
    "    col_sat = np.mean(CAT[n]['g'][CAT[n]['ig']==-9] - CAT[n]['i'][CAT[n]['ig']==-9])\n",
    "    col_2sigstar = np.mean(CAT[n]['g'][CAT[n]['ig']==-2] - CAT[n]['i'][CAT[n]['ig']==-2])\n",
    "    col_1sigstar = np.mean(CAT[n]['g'][CAT[n]['ig']==-1] - CAT[n]['i'][CAT[n]['ig']==-1]) \n",
    "    col_1siggal  = np.mean(CAT[n]['g'][CAT[n]['ig']==1] - CAT[n]['i'][CAT[n]['ig']==1])\n",
    "    col_2siggal = np.mean(CAT[n]['g'][CAT[n]['ig']==2] - CAT[n]['i'][CAT[n]['ig']==2])\n",
    "    colours[n] = (col_sat,col_2sigstar,col_1sigstar,col_1siggal, col_2siggal)"
   ]
  },
  {
   "cell_type": "code",
   "execution_count": null,
   "id": "9297c6db",
   "metadata": {},
   "outputs": [],
   "source": [
    "fig = plt.figure()\n",
    "ax1 = fig.add_subplot(111)\n",
    "fig.set_dpi(120)\n",
    "\n",
    "ax1.scatter([field_mean_pos[f][0] for f in field_mean_pos], [colours[n][1] for n in colours], c='orange', label='2sig star')\n",
    "ax1.scatter([field_mean_pos[f][0] for f in field_mean_pos], [colours[n][2] for n in colours], c='red', label='1sig star')\n",
    "ax1.scatter([field_mean_pos[f][0] for f in field_mean_pos], [colours[n][3] for n in colours], c='fuchsia', label='1sig galaxy')\n",
    "#ax1.scatter([field_mean_pos[f][0] for f in field_mean_pos], [colours[n][4] for n in colours], c='violet', label='2sig galaxy')\n",
    "#ax1.scatter([field_mean_pos[f][0] for f in field_mean_pos], [colours[n][0] for n in colours], c='lightgrey', label='saturated')\n",
    "\n",
    "plt.legend(loc='upper left')\n",
    "plt.xlabel('RA (deg)')\n",
    "plt.ylabel('Colour index (g-i)')\n",
    "#plt.ylim([-1,2])\n",
    "plt.title('Average object colour across M31 at Dec +41°')\n",
    "plt.ylim(0,2)\n",
    "plt.gca().invert_xaxis()"
   ]
  },
  {
   "cell_type": "code",
   "execution_count": null,
   "id": "168eb30d",
   "metadata": {},
   "outputs": [],
   "source": []
  }
 ],
 "metadata": {
  "kernelspec": {
   "display_name": "Python 3 (ipykernel)",
   "language": "python",
   "name": "python3"
  },
  "language_info": {
   "codemirror_mode": {
    "name": "ipython",
    "version": 3
   },
   "file_extension": ".py",
   "mimetype": "text/x-python",
   "name": "python",
   "nbconvert_exporter": "python",
   "pygments_lexer": "ipython3",
   "version": "3.9.13"
  }
 },
 "nbformat": 4,
 "nbformat_minor": 5
}
