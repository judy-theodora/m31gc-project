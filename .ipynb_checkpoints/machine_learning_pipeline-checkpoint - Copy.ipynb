{
 "cells": [
  {
   "cell_type": "markdown",
   "id": "efd72194",
   "metadata": {},
   "source": [
    "# Import"
   ]
  },
  {
   "cell_type": "code",
   "execution_count": 303,
   "id": "a3242a3e",
   "metadata": {},
   "outputs": [],
   "source": [
    "import warnings\n",
    "warnings.filterwarnings(action='once')"
   ]
  },
  {
   "cell_type": "code",
   "execution_count": 1,
   "id": "a20bba85",
   "metadata": {},
   "outputs": [],
   "source": [
    "import matplotlib.pyplot as plt\n",
    "import pandas as pd\n",
    "import numpy as np\n",
    "import pickle\n",
    "\n",
    "from sklearn.ensemble import RandomForestClassifier\n",
    "from sklearn.linear_model import LogisticRegression\n",
    "from sklearn.svm import LinearSVC #???????????????//\n",
    "from sklearn.neural_network import MLPClassifier\n",
    "\n",
    "from sklearn.metrics import mean_squared_error, r2_score, confusion_matrix\n",
    "from sklearn import preprocessing\n",
    "from sklearn.model_selection import train_test_split\n",
    "from scipy.stats import pearsonr, kendalltau\n",
    "\n",
    "from astropy.table import QTable\n",
    "from time import time"
   ]
  },
  {
   "cell_type": "markdown",
   "id": "71c1e99e",
   "metadata": {},
   "source": [
    "## Load required data"
   ]
  },
  {
   "cell_type": "code",
   "execution_count": 2,
   "id": "80ccdd28",
   "metadata": {},
   "outputs": [],
   "source": [
    "bounds = pickle.load(open('./pickle/bounds.pk','rb'))\n",
    "master_cat = pd.read_csv('./catdata/master_catalog_jan_2023.csv')\n",
    "cat_files = ['cat1_50.pk','cat51_100.pk','cat101_150.pk','cat151_200.pk','cat201_235.pk',\n",
    "             'cat236_257.pk','cat258_279.pk','cat280_320.pk','cat321_360.pk','cat361_406.pk']"
   ]
  },
  {
   "cell_type": "code",
   "execution_count": 3,
   "id": "62cf1e95",
   "metadata": {},
   "outputs": [],
   "source": [
    "object_match_files = ['matches_delta006.pk','matches_delta005.pk','matches_delta004.pk']"
   ]
  },
  {
   "cell_type": "markdown",
   "id": "b6089c5e",
   "metadata": {},
   "source": [
    "# Training Data Generator"
   ]
  },
  {
   "cell_type": "code",
   "execution_count": 4,
   "id": "bbe49907",
   "metadata": {},
   "outputs": [],
   "source": [
    "def load_cat(field): # change to match-case\n",
    "    bounds = [50,100,150,200,235,257,279,320,360,406]\n",
    "    for b in range(len(bounds)):\n",
    "        if field <= bounds[b]:\n",
    "            to_load = cat_files[b]\n",
    "            break\n",
    "    print(f'Loading {to_load} ...')\n",
    "    catalogue = pickle.load(open(f'./pickle/{to_load}','rb'))\n",
    "    return catalogue"
   ]
  },
  {
   "cell_type": "code",
   "execution_count": 5,
   "id": "0f92cb28",
   "metadata": {},
   "outputs": [],
   "source": [
    "# 23.01.26 18:29\n",
    "def generate_training_data(matches, crowding=300) -> pd.DataFrame:\n",
    "    cat = load_cat(1)\n",
    "    \n",
    "    columns = ['obj_id','class','i','g','di','dg','ra','dec','field','pdidx','rbcidx','nearby']\n",
    "    values = []\n",
    "    object_ids = []\n",
    "    \n",
    "    #TEMP\n",
    "    crowded_objects = []\n",
    "    \n",
    "    \n",
    "    for field in matches: # iterate through each field ID\n",
    "        working_field = matches[field] # take the list of matches e.g. working_field = [(166727, 2642), (159637, 2646)]\n",
    "        if field not in cat: # load the correct catalogue\n",
    "            cat = load_cat(field)\n",
    "        for m in working_field: # iterate through each match (a tuple) and grab values from catalogues\n",
    "            \n",
    "            if m[2] > crowding: # testing\n",
    "                crowded_objects.append(m[1:])\n",
    "                continue\n",
    "            \n",
    "            obj_id = master_cat.loc[m[1]].ID\n",
    "            class_ = master_cat.loc[m[1]].CLASS\n",
    "            \n",
    "            if obj_id in object_ids: continue # if we've already added the object then skip\n",
    "            else: object_ids.append(obj_id)   # else add it to the list of ids\n",
    "            \n",
    "            if class_ == 1: class_str = 'gc' # convert class numbers into strings\n",
    "            elif class_ == 4: class_str = 'galaxy'\n",
    "            elif class_ == 6: class_str = 'star'\n",
    "            else: continue # skip non-gc/gal/stars\n",
    "            \n",
    "            # collect required data\n",
    "            row = cat[field][m[0]]\n",
    "            ra = row['RA']\n",
    "            dec = row['Dec']\n",
    "            g = row['g']\n",
    "            i = row['i']\n",
    "            dg = row['dg']\n",
    "            di = row['di']\n",
    "            \n",
    "            values.append([obj_id,class_str,i,g,di,dg,ra,dec,field,m[0],m[1],m[2]])\n",
    "    \n",
    "    training_data_dict = dict(zip(columns,zip(*values))) # zip values and columns together into a dict (columns as keys)\n",
    "    training_data_df = pd.DataFrame(training_data_dict) # put into pd Dataframe\n",
    "    return training_data_df, crowded_objects"
   ]
  },
  {
   "cell_type": "code",
   "execution_count": 108,
   "id": "142625ea",
   "metadata": {},
   "outputs": [],
   "source": [
    "obj_mat = pickle.load(open(f'./pickle/matches/matches_delta005_0802.pk','rb'))"
   ]
  },
  {
   "cell_type": "code",
   "execution_count": 113,
   "id": "2e51dd6f",
   "metadata": {},
   "outputs": [
    {
     "data": {
      "text/plain": [
       "[(262, 221),\n",
       " (265, 208),\n",
       " (287, 201),\n",
       " (309, 202),\n",
       " (320, 212),\n",
       " (334, 234),\n",
       " (339, 220),\n",
       " (352, 218),\n",
       " (380, 202),\n",
       " (451, 202),\n",
       " (492, 202),\n",
       " (844, 207),\n",
       " (878, 219),\n",
       " (1037, 230),\n",
       " (1101, 239),\n",
       " (1123, 215),\n",
       " (1124, 211),\n",
       " (1128, 233),\n",
       " (1131, 217),\n",
       " (1132, 208),\n",
       " (1144, 254),\n",
       " (1150, 218),\n",
       " (1202, 207),\n",
       " (1222, 207),\n",
       " (1317, 224),\n",
       " (1323, 230),\n",
       " (1348, 222),\n",
       " (1452, 234),\n",
       " (1456, 252),\n",
       " (1459, 232),\n",
       " (1464, 225),\n",
       " (1465, 208),\n",
       " (1480, 242),\n",
       " (1499, 224),\n",
       " (1513, 218),\n",
       " (1544, 246),\n",
       " (1689, 202),\n",
       " (1823, 210),\n",
       " (1837, 203),\n",
       " (1862, 216),\n",
       " (1864, 201),\n",
       " (1897, 236),\n",
       " (1904, 207),\n",
       " (1984, 203),\n",
       " (1993, 212),\n",
       " (2038, 210),\n",
       " (514, 255),\n",
       " (515, 211),\n",
       " (518, 285),\n",
       " (519, 239),\n",
       " (521, 294),\n",
       " (525, 237),\n",
       " (531, 251),\n",
       " (536, 204),\n",
       " (540, 249),\n",
       " (425, 209),\n",
       " (448, 218),\n",
       " (461, 296),\n",
       " (487, 279),\n",
       " (489, 278),\n",
       " (491, 212),\n",
       " (496, 290),\n",
       " (506, 258),\n",
       " (510, 308),\n",
       " (2099, 204),\n",
       " (918, 203),\n",
       " (940, 205),\n",
       " (1103, 211),\n",
       " (1267, 214),\n",
       " (1402, 204),\n",
       " (1601, 203),\n",
       " (1715, 226),\n",
       " (1722, 204),\n",
       " (1727, 217),\n",
       " (1739, 214),\n",
       " (1787, 213),\n",
       " (1790, 218),\n",
       " (1836, 219),\n",
       " (1897, 224),\n",
       " (1947, 211),\n",
       " (1960, 205),\n",
       " (1987, 208),\n",
       " (1993, 203),\n",
       " (1997, 201),\n",
       " (70, 262),\n",
       " (72, 230),\n",
       " (74, 267),\n",
       " (330, 229),\n",
       " (336, 237)]"
      ]
     },
     "execution_count": 113,
     "metadata": {},
     "output_type": "execute_result"
    }
   ],
   "source": [
    "a"
   ]
  },
  {
   "cell_type": "code",
   "execution_count": 112,
   "id": "2e3b4eef",
   "metadata": {},
   "outputs": [
    {
     "name": "stdout",
     "output_type": "stream",
     "text": [
      "Loading cat1_50.pk ...\n",
      "Loading cat51_100.pk ...\n",
      "Loading cat101_150.pk ...\n",
      "Loading cat151_200.pk ...\n",
      "Loading cat201_235.pk ...\n",
      "Loading cat236_257.pk ...\n",
      "Loading cat258_279.pk ...\n",
      "Loading cat280_320.pk ...\n",
      "Loading cat321_360.pk ...\n",
      "Loading cat361_406.pk ...\n"
     ]
    }
   ],
   "source": [
    "_, a = generate_training_data(obj_mat,crowding=200)"
   ]
  },
  {
   "cell_type": "code",
   "execution_count": 38,
   "id": "84851923",
   "metadata": {},
   "outputs": [
    {
     "name": "stdout",
     "output_type": "stream",
     "text": [
      "300\n"
     ]
    }
   ],
   "source": [
    "#generate training data for a range of crowding, and delta, values\n",
    "object_match_files = ['matches_delta006.pk','matches_delta005.pk','matches_delta004.pk','matches_delta003.pk']\n",
    "#TEMP\n",
    "object_match_files = ['matches_delta005_0502.pk']\n",
    "\n",
    "for m in object_match_files:\n",
    "    obj_mat = pickle.load(open(f'./pickle/matches/{m}','rb'))\n",
    "    #training_data = {}\n",
    "    for c in crowding_test_values[0:1]:\n",
    "        print(c)\n",
    "        training_data, _ = generate_training_data(obj_mat, crowding=c)\n",
    "    with open(f'./pickle/training_data/training_data_0502.pk','wb') as f: #m[-4:-3] = the delta number\n",
    "        pickle.dump(training_data,f)"
   ]
  },
  {
   "cell_type": "markdown",
   "id": "488282cd",
   "metadata": {},
   "source": [
    "To filter the training data for different crowding values, we can simply iterate back through the list of matches and remove the entries that are outside the threshold, instead of having to re-generate the data every time."
   ]
  },
  {
   "cell_type": "markdown",
   "id": "139efd31",
   "metadata": {},
   "source": [
    "# Statistics"
   ]
  },
  {
   "cell_type": "code",
   "execution_count": 6,
   "id": "d01b0a4c",
   "metadata": {},
   "outputs": [],
   "source": [
    "def calc_correlations(pred,true):\n",
    "    correlations = {}\n",
    "    correlations['mse'] = mean_squared_error(pred,true)\n",
    "    correlations['ktau'] = kendalltau(pred,true)[0]\n",
    "    correlations['pval-ktau'] = kendalltau(pred,true)[1]\n",
    "    correlations['pearsonr'] = pearsonr(pred,true)[0]\n",
    "    correlations['pval-pearsonr'] = pearsonr(pred,true)[1]\n",
    "    correlations['r2'] = r2_score(true, pred)\n",
    "    return correlations"
   ]
  },
  {
   "cell_type": "code",
   "execution_count": 7,
   "id": "acec67b0",
   "metadata": {},
   "outputs": [],
   "source": [
    "def pretty_corr(c): # pretty print output from calc_correlations()\n",
    "    print(f\"\"\"\n",
    "    Mean squared error (RMS): \\t{c['mse']:.5f}\\t({(c['mse']**.5):.5})\n",
    "    Kendall Tau: \\t\\t{c['ktau']:.5}\n",
    "    \\tKtau p-value: \\t\\t{c['pval-ktau']:.5}\n",
    "    Pearson's r: \\t\\t{c['pearsonr']:.5}\n",
    "    \\tPearson's r p-value: \\t{c['pval-pearsonr']:.5}\n",
    "    Coef. of determination \\t{c['r2']:.5}\n",
    "    \"\"\")"
   ]
  },
  {
   "cell_type": "markdown",
   "id": "7cff582a",
   "metadata": {},
   "source": [
    "# Random Forest"
   ]
  },
  {
   "cell_type": "code",
   "execution_count": 121,
   "id": "64a567c4",
   "metadata": {},
   "outputs": [],
   "source": [
    "def ranfor(df,train_size=0.75,n_estimators=50,criterion='gini',features=['i','g'], max_depth=None, max_leaf_nodes=None, stats=False, scale=False):\n",
    "    # select features for training\n",
    "    X = df[features]\n",
    "    y = df['class']\n",
    "    # split the data\n",
    "    if scale:\n",
    "        # scale the data\n",
    "        scaler = preprocessing.StandardScaler().fit(X)\n",
    "        X_scaled = scaler.transform(X)\n",
    "        X_train, X_test, y_train, y_test = train_test_split(X_scaled, y, train_size=train_size) # X_scaled\n",
    "    else:\n",
    "        X_train, X_test, y_train, y_test = train_test_split(X, y, train_size=train_size) # X\n",
    "    # train the regressor model\n",
    "    ran_for_class = RandomForestClassifier(n_estimators=n_estimators,\n",
    "                                    criterion=criterion\n",
    "                                   ).fit(X_train,y_train)\n",
    "    pred = ran_for_class.predict(X_test)\n",
    "    \n",
    "    acc = ran_for_class.score(X_test,y_test)\n",
    "    \n",
    "    true = y_test.to_numpy()\n",
    "    if stats:\n",
    "        return ran_for_class, pred, true\n",
    "    else: return ran_for_class"
   ]
  },
  {
   "cell_type": "code",
   "execution_count": 125,
   "id": "7374b62b",
   "metadata": {},
   "outputs": [],
   "source": [
    "def rf_pred(field,train,crowding=250,scale=False):\n",
    "    training_data_ = train[train['nearby'] <= crowding]\n",
    "    cat = load_cat(field)[field]\n",
    "    \n",
    "    # drop rows with high delta g/i values\n",
    "    cat_d = cat[cat['dg']+cat['di'] < 0.05]\n",
    "    # drop stars & saturated points\n",
    "    cat_candidate = cat_d#[~((cat_d['ig'] == -1) | (cat_d['ii'] == -1))]\n",
    "    \n",
    "    X = cat_candidate[['i','g']]\n",
    "    X = X.to_pandas()\n",
    "    if scale:\n",
    "        X_scaled = preprocessing.StandardScaler().fit(X).transform(X)\n",
    "        res = ranfor(training_data_, n_estimators=60,scale=True).predict(X_scaled)\n",
    "    else:\n",
    "        res = ranfor(training_data_, n_estimators=60).predict(X)\n",
    "    \n",
    "    cat_pred = cat_candidate[['RA','Dec','iccd','xg','yg','g','dg','ig','xi','yi','i','di','ii','field']]\n",
    "    cat_pred['pred'] = res\n",
    "    return cat_pred"
   ]
  },
  {
   "cell_type": "markdown",
   "id": "b2ca609f",
   "metadata": {},
   "source": [
    "# SVC"
   ]
  },
  {
   "cell_type": "code",
   "execution_count": 190,
   "id": "f5f62ce9",
   "metadata": {},
   "outputs": [],
   "source": [
    "def svc_class(df,train_size=0.75,max_iter=1000,loss='squared_hinge',features=['i','g'], stats=False, scale=False):\n",
    "    # select features for training\n",
    "    X = df[features]\n",
    "    y = df['class']\n",
    "    # split the data\n",
    "    if scale:\n",
    "        # scale the data\n",
    "        scaler = preprocessing.StandardScaler().fit(X)\n",
    "        X_scaled = scaler.transform(X)\n",
    "        X_train, X_test, y_train, y_test = train_test_split(X_scaled, y, train_size=train_size) # X_scaled\n",
    "    else:\n",
    "        X_train, X_test, y_train, y_test = train_test_split(X, y, train_size=train_size) # X\n",
    "    # train the regressor model\n",
    "    svc_classifier = LinearSVC(dual=False,C=0.8,max_iter=max_iter).fit(X_train,y_train)\n",
    "    pred = svc_classifier.predict(X_test)\n",
    "    \n",
    "    true = y_test.to_numpy()\n",
    "    if stats:\n",
    "        return svc_classifier, pred, true\n",
    "    else: return svc_classifier"
   ]
  },
  {
   "cell_type": "markdown",
   "id": "71510dc8",
   "metadata": {},
   "source": [
    "# MLP"
   ]
  },
  {
   "cell_type": "code",
   "execution_count": null,
   "id": "2325f2a7",
   "metadata": {},
   "outputs": [],
   "source": []
  },
  {
   "cell_type": "code",
   "execution_count": 302,
   "id": "bf909797",
   "metadata": {},
   "outputs": [],
   "source": [
    "def mlp_class(df,train_size=0.75,hidden_layer_sizes=(10,),activation='relu',alpha=0.0001,max_iter=500,features=['i','g'], stats=False, scale=False):\n",
    "    # select features for training\n",
    "    X = df[features]\n",
    "    y = df['class']\n",
    "    # split the data\n",
    "    if scale:\n",
    "        # scale the data\n",
    "        scaler = preprocessing.StandardScaler().fit(X)\n",
    "        X_scaled = scaler.transform(X)\n",
    "        X_train, X_test, y_train, y_test = train_test_split(X_scaled, y, train_size=train_size) # X_scaled\n",
    "    else:\n",
    "        X_train, X_test, y_train, y_test = train_test_split(X, y, train_size=train_size) # X\n",
    "    # train the regressor model\n",
    "    mlp_classifier = MLPClassifier(hidden_layer_sizes=hidden_layer_sizes,\n",
    "                                   activation=activation, alpha=alpha, max_iter=max_iter,\n",
    "                                   learning_rate='adaptive',early_stopping=True,\n",
    "                                  ).fit(X_train,y_train)\n",
    "    pred = mlp_classifier.predict(X_test)\n",
    "    true = y_test.to_numpy()\n",
    "    if stats:\n",
    "        return mlp_classifier, pred, true\n",
    "    else: return mlp_classifier"
   ]
  },
  {
   "cell_type": "markdown",
   "id": "21795817",
   "metadata": {},
   "source": [
    "## Predictions"
   ]
  },
  {
   "cell_type": "markdown",
   "id": "d3dbce28",
   "metadata": {},
   "source": [
    "#### 08/02/2023"
   ]
  },
  {
   "cell_type": "markdown",
   "id": "5f727570",
   "metadata": {},
   "source": [
    "Automate training"
   ]
  },
  {
   "cell_type": "code",
   "execution_count": 115,
   "id": "42f2a49c",
   "metadata": {},
   "outputs": [],
   "source": [
    "train_file = 'training_data_0802.pk'"
   ]
  },
  {
   "cell_type": "code",
   "execution_count": null,
   "id": "795c99ee",
   "metadata": {},
   "outputs": [],
   "source": [
    "cat_files = ['cat1_50.pk','cat51_100.pk','cat101_150.pk','cat151_200.pk','cat201_235.pk',\n",
    "             'cat236_257.pk','cat258_279.pk','cat280_320.pk','cat321_360.pk','cat361_406.pk']"
   ]
  },
  {
   "cell_type": "code",
   "execution_count": 117,
   "id": "2384c9ed",
   "metadata": {},
   "outputs": [],
   "source": [
    "training_data = pickle.load(open(f'./pickle/training_data/{train_file}','rb'))\n",
    "training_data_nostar = training_data[training_data['class'] != 'star']\n"
   ]
  },
  {
   "cell_type": "code",
   "execution_count": null,
   "id": "49a1aa61",
   "metadata": {},
   "outputs": [],
   "source": [
    "field = 222\n",
    "#RF\n",
    "predictions_rf = rf_pred(field,training_data_nostar)\n",
    "test_ = predictions_rf[~((predictions_rf['ig'] == -1) | (predictions_rf['ii'] == -1) )]\n",
    "print(len(test_[test_['pred']=='gc']))\n",
    "#with open(f'pickle/temp/predictionsf{field}.pk','wb') as f:\n",
    "    #pickle.dump(predictions,f)\n",
    "len(predictions_rf[predictions_rf['pred'] == 'gc'])"
   ]
  },
  {
   "cell_type": "code",
   "execution_count": 198,
   "id": "bf7e3337",
   "metadata": {},
   "outputs": [
    {
     "data": {
      "text/plain": [
       "0.6946107784431138"
      ]
     },
     "execution_count": 198,
     "metadata": {},
     "output_type": "execute_result"
    }
   ],
   "source": [
    "#SVC\n",
    "\n",
    "svc_classifier, pred, true = svc_class(training_data_nostar, stats=True)\n",
    "\n",
    "tn, fp, fn, tp = confusion_matrix(true,pred,labels=['galaxy','gc']).ravel()\n",
    "\n",
    "recall = tp/(tp+fn)\n",
    "recall"
   ]
  },
  {
   "cell_type": "code",
   "execution_count": 312,
   "id": "b6ca3eb6",
   "metadata": {},
   "outputs": [
    {
     "name": "stderr",
     "output_type": "stream",
     "text": [
      "C:\\Users\\jwarn\\anaconda3\\lib\\site-packages\\sklearn\\base.py:450: UserWarning: X does not have valid feature names, but MLPClassifier was fitted with feature names\n",
      "  warnings.warn(\n",
      "C:\\Users\\jwarn\\anaconda3\\lib\\site-packages\\sklearn\\base.py:450: UserWarning: X does not have valid feature names, but MLPClassifier was fitted with feature names\n",
      "  warnings.warn(\n",
      "C:\\Users\\jwarn\\anaconda3\\lib\\site-packages\\sklearn\\base.py:450: UserWarning: X does not have valid feature names, but MLPClassifier was fitted with feature names\n",
      "  warnings.warn(\n",
      "C:\\Users\\jwarn\\anaconda3\\lib\\site-packages\\sklearn\\base.py:450: UserWarning: X does not have valid feature names, but MLPClassifier was fitted with feature names\n",
      "  warnings.warn(\n",
      "C:\\Users\\jwarn\\anaconda3\\lib\\site-packages\\sklearn\\base.py:450: UserWarning: X does not have valid feature names, but MLPClassifier was fitted with feature names\n",
      "  warnings.warn(\n",
      "C:\\Users\\jwarn\\anaconda3\\lib\\site-packages\\sklearn\\base.py:450: UserWarning: X does not have valid feature names, but MLPClassifier was fitted with feature names\n",
      "  warnings.warn(\n",
      "C:\\Users\\jwarn\\anaconda3\\lib\\site-packages\\sklearn\\base.py:450: UserWarning: X does not have valid feature names, but MLPClassifier was fitted with feature names\n",
      "  warnings.warn(\n",
      "C:\\Users\\jwarn\\anaconda3\\lib\\site-packages\\sklearn\\base.py:450: UserWarning: X does not have valid feature names, but MLPClassifier was fitted with feature names\n",
      "  warnings.warn(\n",
      "C:\\Users\\jwarn\\anaconda3\\lib\\site-packages\\sklearn\\base.py:450: UserWarning: X does not have valid feature names, but MLPClassifier was fitted with feature names\n",
      "  warnings.warn(\n",
      "C:\\Users\\jwarn\\anaconda3\\lib\\site-packages\\sklearn\\base.py:450: UserWarning: X does not have valid feature names, but MLPClassifier was fitted with feature names\n",
      "  warnings.warn(\n",
      "C:\\Users\\jwarn\\anaconda3\\lib\\site-packages\\sklearn\\base.py:450: UserWarning: X does not have valid feature names, but MLPClassifier was fitted with feature names\n",
      "  warnings.warn(\n",
      "C:\\Users\\jwarn\\anaconda3\\lib\\site-packages\\sklearn\\base.py:450: UserWarning: X does not have valid feature names, but MLPClassifier was fitted with feature names\n",
      "  warnings.warn(\n",
      "C:\\Users\\jwarn\\anaconda3\\lib\\site-packages\\sklearn\\base.py:450: UserWarning: X does not have valid feature names, but MLPClassifier was fitted with feature names\n",
      "  warnings.warn(\n",
      "C:\\Users\\jwarn\\anaconda3\\lib\\site-packages\\sklearn\\base.py:450: UserWarning: X does not have valid feature names, but MLPClassifier was fitted with feature names\n",
      "  warnings.warn(\n",
      "C:\\Users\\jwarn\\anaconda3\\lib\\site-packages\\sklearn\\base.py:450: UserWarning: X does not have valid feature names, but MLPClassifier was fitted with feature names\n",
      "  warnings.warn(\n",
      "C:\\Users\\jwarn\\anaconda3\\lib\\site-packages\\sklearn\\base.py:450: UserWarning: X does not have valid feature names, but MLPClassifier was fitted with feature names\n",
      "  warnings.warn(\n",
      "C:\\Users\\jwarn\\anaconda3\\lib\\site-packages\\sklearn\\base.py:450: UserWarning: X does not have valid feature names, but MLPClassifier was fitted with feature names\n",
      "  warnings.warn(\n",
      "C:\\Users\\jwarn\\anaconda3\\lib\\site-packages\\sklearn\\base.py:450: UserWarning: X does not have valid feature names, but MLPClassifier was fitted with feature names\n",
      "  warnings.warn(\n",
      "C:\\Users\\jwarn\\anaconda3\\lib\\site-packages\\sklearn\\base.py:450: UserWarning: X does not have valid feature names, but MLPClassifier was fitted with feature names\n",
      "  warnings.warn(\n",
      "C:\\Users\\jwarn\\anaconda3\\lib\\site-packages\\sklearn\\base.py:450: UserWarning: X does not have valid feature names, but MLPClassifier was fitted with feature names\n",
      "  warnings.warn(\n",
      "C:\\Users\\jwarn\\anaconda3\\lib\\site-packages\\sklearn\\base.py:450: UserWarning: X does not have valid feature names, but MLPClassifier was fitted with feature names\n",
      "  warnings.warn(\n",
      "C:\\Users\\jwarn\\anaconda3\\lib\\site-packages\\sklearn\\base.py:450: UserWarning: X does not have valid feature names, but MLPClassifier was fitted with feature names\n",
      "  warnings.warn(\n",
      "C:\\Users\\jwarn\\anaconda3\\lib\\site-packages\\sklearn\\base.py:450: UserWarning: X does not have valid feature names, but MLPClassifier was fitted with feature names\n",
      "  warnings.warn(\n",
      "C:\\Users\\jwarn\\anaconda3\\lib\\site-packages\\sklearn\\base.py:450: UserWarning: X does not have valid feature names, but MLPClassifier was fitted with feature names\n",
      "  warnings.warn(\n",
      "C:\\Users\\jwarn\\anaconda3\\lib\\site-packages\\sklearn\\base.py:450: UserWarning: X does not have valid feature names, but MLPClassifier was fitted with feature names\n",
      "  warnings.warn(\n",
      "C:\\Users\\jwarn\\anaconda3\\lib\\site-packages\\sklearn\\base.py:450: UserWarning: X does not have valid feature names, but MLPClassifier was fitted with feature names\n",
      "  warnings.warn(\n",
      "C:\\Users\\jwarn\\anaconda3\\lib\\site-packages\\sklearn\\base.py:450: UserWarning: X does not have valid feature names, but MLPClassifier was fitted with feature names\n",
      "  warnings.warn(\n",
      "C:\\Users\\jwarn\\anaconda3\\lib\\site-packages\\sklearn\\base.py:450: UserWarning: X does not have valid feature names, but MLPClassifier was fitted with feature names\n",
      "  warnings.warn(\n"
     ]
    },
    {
     "name": "stdout",
     "output_type": "stream",
     "text": [
      "recall:0.6746987951807228\n",
      "precision:0.7088607594936709\n",
      "accuracy:0.7129629629629629\n"
     ]
    },
    {
     "name": "stderr",
     "output_type": "stream",
     "text": [
      "C:\\Users\\jwarn\\anaconda3\\lib\\site-packages\\sklearn\\base.py:450: UserWarning: X does not have valid feature names, but MLPClassifier was fitted with feature names\n",
      "  warnings.warn(\n",
      "C:\\Users\\jwarn\\anaconda3\\lib\\site-packages\\sklearn\\base.py:450: UserWarning: X does not have valid feature names, but MLPClassifier was fitted with feature names\n",
      "  warnings.warn(\n",
      "C:\\Users\\jwarn\\anaconda3\\lib\\site-packages\\sklearn\\base.py:450: UserWarning: X does not have valid feature names, but MLPClassifier was fitted with feature names\n",
      "  warnings.warn(\n",
      "C:\\Users\\jwarn\\anaconda3\\lib\\site-packages\\sklearn\\base.py:450: UserWarning: X does not have valid feature names, but MLPClassifier was fitted with feature names\n",
      "  warnings.warn(\n",
      "C:\\Users\\jwarn\\anaconda3\\lib\\site-packages\\sklearn\\base.py:450: UserWarning: X does not have valid feature names, but MLPClassifier was fitted with feature names\n",
      "  warnings.warn(\n",
      "C:\\Users\\jwarn\\anaconda3\\lib\\site-packages\\sklearn\\base.py:450: UserWarning: X does not have valid feature names, but MLPClassifier was fitted with feature names\n",
      "  warnings.warn(\n",
      "C:\\Users\\jwarn\\anaconda3\\lib\\site-packages\\sklearn\\base.py:450: UserWarning: X does not have valid feature names, but MLPClassifier was fitted with feature names\n",
      "  warnings.warn(\n",
      "C:\\Users\\jwarn\\anaconda3\\lib\\site-packages\\sklearn\\base.py:450: UserWarning: X does not have valid feature names, but MLPClassifier was fitted with feature names\n",
      "  warnings.warn(\n",
      "C:\\Users\\jwarn\\anaconda3\\lib\\site-packages\\sklearn\\base.py:450: UserWarning: X does not have valid feature names, but MLPClassifier was fitted with feature names\n",
      "  warnings.warn(\n",
      "C:\\Users\\jwarn\\anaconda3\\lib\\site-packages\\sklearn\\base.py:450: UserWarning: X does not have valid feature names, but MLPClassifier was fitted with feature names\n",
      "  warnings.warn(\n",
      "C:\\Users\\jwarn\\anaconda3\\lib\\site-packages\\sklearn\\base.py:450: UserWarning: X does not have valid feature names, but MLPClassifier was fitted with feature names\n",
      "  warnings.warn(\n",
      "C:\\Users\\jwarn\\anaconda3\\lib\\site-packages\\sklearn\\base.py:450: UserWarning: X does not have valid feature names, but MLPClassifier was fitted with feature names\n",
      "  warnings.warn(\n",
      "C:\\Users\\jwarn\\anaconda3\\lib\\site-packages\\sklearn\\base.py:450: UserWarning: X does not have valid feature names, but MLPClassifier was fitted with feature names\n",
      "  warnings.warn(\n",
      "C:\\Users\\jwarn\\anaconda3\\lib\\site-packages\\sklearn\\base.py:450: UserWarning: X does not have valid feature names, but MLPClassifier was fitted with feature names\n",
      "  warnings.warn(\n"
     ]
    }
   ],
   "source": [
    "#MLP\n",
    "\n",
    "mlp_classifier, pred, true = mlp_class(training_data_nostar,hidden_layer_sizes=(20,),activation='logistic',alpha=0.0001, stats=True)\n",
    "\n",
    "tn, fp, fn, tp = confusion_matrix(true,pred,labels=['galaxy','gc']).ravel()\n",
    "\n",
    "recall = tp/(tp+fn) # fraction of correctly identified GCs, out of all GCs (1-recall = fraction that were missed)\n",
    "accuracy = (tp+tn)/(tp+fp+fn+tp) # fraction of correctly identified objects\n",
    "precision = tp/(tp+fp) # fraction of correctly identified GCs, out of what were thought to be GCs\n",
    "print(f'recall:{recall}\\nprecision:{precision}\\naccuracy:{accuracy}')"
   ]
  },
  {
   "cell_type": "code",
   "execution_count": 319,
   "id": "01f590de",
   "metadata": {
    "scrolled": true
   },
   "outputs": [
    {
     "data": {
      "image/png": "[encoded data removed]",
      "text/plain": [
       "<Figure size 640x480 with 1 Axes>"
      ]
     },
     "metadata": {},
     "output_type": "display_data"
    }
   ],
   "source": [
    "plt.plot(hidden_layer_test_sizes,recall)\n",
    "plt.show()"
   ]
  },
  {
   "cell_type": "code",
   "execution_count": null,
   "id": "7804f871",
   "metadata": {},
   "outputs": [],
   "source": []
  },
  {
   "cell_type": "code",
   "execution_count": 321,
   "id": "60664890",
   "metadata": {},
   "outputs": [
    {
     "data": {
      "image/png": "[encoded data removed]",
      "text/plain": [
       "<Figure size 640x480 with 1 Axes>"
      ]
     },
     "metadata": {},
     "output_type": "display_data"
    }
   ],
   "source": [
    "plt.plot(hidden_layer_test_sizes,recall)\n",
    "plt.show()"
   ]
  },
  {
   "cell_type": "code",
   "execution_count": 313,
   "id": "3a43681a",
   "metadata": {},
   "outputs": [
    {
     "data": {
      "text/plain": [
       "(0.6746987951807228, 0.7129629629629629, 0.7088607594936709)"
      ]
     },
     "execution_count": 313,
     "metadata": {},
     "output_type": "execute_result"
    }
   ],
   "source": [
    "recall,accuracy,precision"
   ]
  },
  {
   "cell_type": "code",
   "execution_count": 223,
   "id": "1480ff21",
   "metadata": {},
   "outputs": [],
   "source": [
    "with open(f'pickle/temp/predictionsf222_0802test.pk','wb') as f:\n",
    "    pickle.dump(predictions,f)"
   ]
  },
  {
   "cell_type": "markdown",
   "id": "c17cf8f5",
   "metadata": {},
   "source": [
    "#### 05/02/2023"
   ]
  },
  {
   "cell_type": "code",
   "execution_count": 140,
   "id": "23ccc289",
   "metadata": {},
   "outputs": [],
   "source": [
    "x = range(1,300,1)"
   ]
  },
  {
   "cell_type": "code",
   "execution_count": 148,
   "id": "70dc6484",
   "metadata": {},
   "outputs": [],
   "source": [
    "y = [ len(training_data[training_data['nearby'] <= i]) for i in x ]"
   ]
  },
  {
   "cell_type": "code",
   "execution_count": 146,
   "id": "f6243ebe",
   "metadata": {},
   "outputs": [],
   "source": [
    "y = [ len(training_data_nostar[training_data_nostar['nearby'] <= i]) for i in x ]"
   ]
  },
  {
   "cell_type": "code",
   "execution_count": 149,
   "id": "c731bdf6",
   "metadata": {},
   "outputs": [
    {
     "data": {
      "image/png": "[encoded data removed]",
      "text/plain": [
       "<Figure size 640x480 with 1 Axes>"
      ]
     },
     "metadata": {},
     "output_type": "display_data"
    }
   ],
   "source": [
    "plt.plot(x,y)\n",
    "plt.xlabel('Crowding Limit')\n",
    "plt.ylabel('Training data length')\n",
    "plt.title('Training Data Length vs Crowding Threshold')\n",
    "plt.grid()"
   ]
  },
  {
   "cell_type": "code",
   "execution_count": 14,
   "id": "bdaa3ab9",
   "metadata": {},
   "outputs": [],
   "source": [
    "train_file = 'training_data_0502.pk'"
   ]
  },
  {
   "cell_type": "code",
   "execution_count": 11,
   "id": "4986f5da",
   "metadata": {},
   "outputs": [],
   "source": [
    "cat_files = ['cat1_50.pk','cat51_100.pk','cat101_150.pk','cat151_200.pk','cat201_235.pk',\n",
    "             'cat236_257.pk','cat258_279.pk','cat280_320.pk','cat321_360.pk','cat361_406.pk']"
   ]
  },
  {
   "cell_type": "code",
   "execution_count": 15,
   "id": "3535b90a",
   "metadata": {},
   "outputs": [],
   "source": [
    "training_data = pickle.load(open(f'./pickle/training_data/{train_file}','rb'))"
   ]
  },
  {
   "cell_type": "code",
   "execution_count": 16,
   "id": "0e757a03",
   "metadata": {},
   "outputs": [],
   "source": [
    "training_data_nostar = training_data[training_data['class'] != 'star']"
   ]
  },
  {
   "cell_type": "code",
   "execution_count": 17,
   "id": "f0445203",
   "metadata": {},
   "outputs": [
    {
     "data": {
      "text/html": [
       "<div>\n",
       "<style scoped>\n",
       "    .dataframe tbody tr th:only-of-type {\n",
       "        vertical-align: middle;\n",
       "    }\n",
       "\n",
       "    .dataframe tbody tr th {\n",
       "        vertical-align: top;\n",
       "    }\n",
       "\n",
       "    .dataframe thead th {\n",
       "        text-align: right;\n",
       "    }\n",
       "</style>\n",
       "<table border=\"1\" class=\"dataframe\">\n",
       "  <thead>\n",
       "    <tr style=\"text-align: right;\">\n",
       "      <th></th>\n",
       "      <th>obj_id</th>\n",
       "      <th>class</th>\n",
       "      <th>i</th>\n",
       "      <th>g</th>\n",
       "      <th>di</th>\n",
       "      <th>dg</th>\n",
       "      <th>ra</th>\n",
       "      <th>dec</th>\n",
       "      <th>field</th>\n",
       "      <th>pdidx</th>\n",
       "      <th>rbcidx</th>\n",
       "      <th>nearby</th>\n",
       "    </tr>\n",
       "  </thead>\n",
       "  <tbody>\n",
       "    <tr>\n",
       "      <th>0</th>\n",
       "      <td>HM33-A</td>\n",
       "      <td>gc</td>\n",
       "      <td>21.163000</td>\n",
       "      <td>22.052999</td>\n",
       "      <td>0.009</td>\n",
       "      <td>0.009</td>\n",
       "      <td>23.924183</td>\n",
       "      <td>28.820591</td>\n",
       "      <td>5</td>\n",
       "      <td>39696</td>\n",
       "      <td>2647</td>\n",
       "      <td>49</td>\n",
       "    </tr>\n",
       "    <tr>\n",
       "      <th>1</th>\n",
       "      <td>C30</td>\n",
       "      <td>galaxy</td>\n",
       "      <td>18.049000</td>\n",
       "      <td>19.500999</td>\n",
       "      <td>0.001</td>\n",
       "      <td>0.002</td>\n",
       "      <td>12.105896</td>\n",
       "      <td>29.267633</td>\n",
       "      <td>11</td>\n",
       "      <td>118854</td>\n",
       "      <td>2431</td>\n",
       "      <td>24</td>\n",
       "    </tr>\n",
       "    <tr>\n",
       "      <th>2</th>\n",
       "      <td>LAMOST-C22</td>\n",
       "      <td>galaxy</td>\n",
       "      <td>17.628000</td>\n",
       "      <td>19.153000</td>\n",
       "      <td>0.001</td>\n",
       "      <td>0.001</td>\n",
       "      <td>11.738621</td>\n",
       "      <td>29.693506</td>\n",
       "      <td>11</td>\n",
       "      <td>24692</td>\n",
       "      <td>2319</td>\n",
       "      <td>17</td>\n",
       "    </tr>\n",
       "    <tr>\n",
       "      <th>3</th>\n",
       "      <td>HM33-B</td>\n",
       "      <td>gc</td>\n",
       "      <td>19.538000</td>\n",
       "      <td>20.386000</td>\n",
       "      <td>0.003</td>\n",
       "      <td>0.003</td>\n",
       "      <td>24.008787</td>\n",
       "      <td>29.963625</td>\n",
       "      <td>13</td>\n",
       "      <td>43246</td>\n",
       "      <td>2648</td>\n",
       "      <td>45</td>\n",
       "    </tr>\n",
       "    <tr>\n",
       "      <th>4</th>\n",
       "      <td>LAMOST-C18</td>\n",
       "      <td>galaxy</td>\n",
       "      <td>17.177999</td>\n",
       "      <td>18.388000</td>\n",
       "      <td>0.001</td>\n",
       "      <td>0.001</td>\n",
       "      <td>23.842129</td>\n",
       "      <td>29.552473</td>\n",
       "      <td>14</td>\n",
       "      <td>122860</td>\n",
       "      <td>2644</td>\n",
       "      <td>12</td>\n",
       "    </tr>\n",
       "    <tr>\n",
       "      <th>...</th>\n",
       "      <td>...</td>\n",
       "      <td>...</td>\n",
       "      <td>...</td>\n",
       "      <td>...</td>\n",
       "      <td>...</td>\n",
       "      <td>...</td>\n",
       "      <td>...</td>\n",
       "      <td>...</td>\n",
       "      <td>...</td>\n",
       "      <td>...</td>\n",
       "      <td>...</td>\n",
       "      <td>...</td>\n",
       "    </tr>\n",
       "    <tr>\n",
       "      <th>2223</th>\n",
       "      <td>FJJ-IV</td>\n",
       "      <td>gc</td>\n",
       "      <td>18.417999</td>\n",
       "      <td>19.346001</td>\n",
       "      <td>0.002</td>\n",
       "      <td>0.002</td>\n",
       "      <td>9.801158</td>\n",
       "      <td>48.380100</td>\n",
       "      <td>398</td>\n",
       "      <td>168491</td>\n",
       "      <td>369</td>\n",
       "      <td>167</td>\n",
       "    </tr>\n",
       "    <tr>\n",
       "      <th>2224</th>\n",
       "      <td>PA-N185</td>\n",
       "      <td>gc</td>\n",
       "      <td>20.188000</td>\n",
       "      <td>21.688999</td>\n",
       "      <td>0.005</td>\n",
       "      <td>0.007</td>\n",
       "      <td>9.578100</td>\n",
       "      <td>48.367985</td>\n",
       "      <td>398</td>\n",
       "      <td>256376</td>\n",
       "      <td>306</td>\n",
       "      <td>106</td>\n",
       "    </tr>\n",
       "    <tr>\n",
       "      <th>2225</th>\n",
       "      <td>FJJ-V</td>\n",
       "      <td>gc</td>\n",
       "      <td>17.434999</td>\n",
       "      <td>18.451000</td>\n",
       "      <td>0.001</td>\n",
       "      <td>0.001</td>\n",
       "      <td>9.806167</td>\n",
       "      <td>48.384743</td>\n",
       "      <td>398</td>\n",
       "      <td>168423</td>\n",
       "      <td>372</td>\n",
       "      <td>156</td>\n",
       "    </tr>\n",
       "    <tr>\n",
       "      <th>2226</th>\n",
       "      <td>FJJ-VII</td>\n",
       "      <td>gc</td>\n",
       "      <td>19.523001</td>\n",
       "      <td>20.520000</td>\n",
       "      <td>0.003</td>\n",
       "      <td>0.004</td>\n",
       "      <td>9.826713</td>\n",
       "      <td>48.384266</td>\n",
       "      <td>398</td>\n",
       "      <td>168594</td>\n",
       "      <td>377</td>\n",
       "      <td>163</td>\n",
       "    </tr>\n",
       "    <tr>\n",
       "      <th>2227</th>\n",
       "      <td>PA-N147-3</td>\n",
       "      <td>gc</td>\n",
       "      <td>19.910000</td>\n",
       "      <td>20.820999</td>\n",
       "      <td>0.004</td>\n",
       "      <td>0.004</td>\n",
       "      <td>8.542029</td>\n",
       "      <td>49.044243</td>\n",
       "      <td>402</td>\n",
       "      <td>101369</td>\n",
       "      <td>91</td>\n",
       "      <td>36</td>\n",
       "    </tr>\n",
       "  </tbody>\n",
       "</table>\n",
       "<p>1523 rows × 12 columns</p>\n",
       "</div>"
      ],
      "text/plain": [
       "          obj_id   class          i          g     di     dg         ra  \\\n",
       "0         HM33-A      gc  21.163000  22.052999  0.009  0.009  23.924183   \n",
       "1            C30  galaxy  18.049000  19.500999  0.001  0.002  12.105896   \n",
       "2     LAMOST-C22  galaxy  17.628000  19.153000  0.001  0.001  11.738621   \n",
       "3         HM33-B      gc  19.538000  20.386000  0.003  0.003  24.008787   \n",
       "4     LAMOST-C18  galaxy  17.177999  18.388000  0.001  0.001  23.842129   \n",
       "...          ...     ...        ...        ...    ...    ...        ...   \n",
       "2223      FJJ-IV      gc  18.417999  19.346001  0.002  0.002   9.801158   \n",
       "2224     PA-N185      gc  20.188000  21.688999  0.005  0.007   9.578100   \n",
       "2225       FJJ-V      gc  17.434999  18.451000  0.001  0.001   9.806167   \n",
       "2226     FJJ-VII      gc  19.523001  20.520000  0.003  0.004   9.826713   \n",
       "2227   PA-N147-3      gc  19.910000  20.820999  0.004  0.004   8.542029   \n",
       "\n",
       "            dec  field   pdidx  rbcidx  nearby  \n",
       "0     28.820591      5   39696    2647      49  \n",
       "1     29.267633     11  118854    2431      24  \n",
       "2     29.693506     11   24692    2319      17  \n",
       "3     29.963625     13   43246    2648      45  \n",
       "4     29.552473     14  122860    2644      12  \n",
       "...         ...    ...     ...     ...     ...  \n",
       "2223  48.380100    398  168491     369     167  \n",
       "2224  48.367985    398  256376     306     106  \n",
       "2225  48.384743    398  168423     372     156  \n",
       "2226  48.384266    398  168594     377     163  \n",
       "2227  49.044243    402  101369      91      36  \n",
       "\n",
       "[1523 rows x 12 columns]"
      ]
     },
     "execution_count": 17,
     "metadata": {},
     "output_type": "execute_result"
    }
   ],
   "source": [
    "training_data_nostar"
   ]
  },
  {
   "cell_type": "code",
   "execution_count": 105,
   "id": "e3460c5d",
   "metadata": {},
   "outputs": [
    {
     "data": {
      "text/plain": [
       "0.7737704918032787"
      ]
     },
     "execution_count": 105,
     "metadata": {},
     "output_type": "execute_result"
    }
   ],
   "source": [
    "stats = ranfor(training_data_nostar,train_size=0.8, n_estimators=5, stats=True, max_depth=8, max_leaf_nodes=5)\n",
    "stats[2]"
   ]
  },
  {
   "cell_type": "code",
   "execution_count": 107,
   "id": "1957de9d",
   "metadata": {},
   "outputs": [
    {
     "data": {
      "text/plain": [
       "0.75"
      ]
     },
     "execution_count": 107,
     "metadata": {},
     "output_type": "execute_result"
    }
   ],
   "source": [
    "tn, fp, fn, tp = confusion_matrix(stats[1],stats[0],labels=['galaxy','gc']).ravel()\n",
    "\n",
    "recall = tp/(tp+fn)\n",
    "recall"
   ]
  },
  {
   "cell_type": "code",
   "execution_count": 389,
   "id": "5473ece2",
   "metadata": {},
   "outputs": [],
   "source": [
    "rf_model  = ranfor(training_data_star, n_estimators=100)"
   ]
  },
  {
   "cell_type": "markdown",
   "id": "87ce3c4b",
   "metadata": {},
   "source": [
    "#### Testing filtering the catalogues for prediction"
   ]
  },
  {
   "cell_type": "code",
   "execution_count": 205,
   "id": "f697310d",
   "metadata": {},
   "outputs": [],
   "source": [
    "cat = load_cat(26)[26].to_pandas()"
   ]
  },
  {
   "cell_type": "code",
   "execution_count": 213,
   "id": "893cb55a",
   "metadata": {},
   "outputs": [],
   "source": [
    "cat_d = cat[cat['dg']+cat['di'] < 0.05]"
   ]
  },
  {
   "cell_type": "code",
   "execution_count": 231,
   "id": "ee1c147d",
   "metadata": {},
   "outputs": [],
   "source": [
    "cat_candidate = cat_d[~((cat_d['ig'] == -1) | (cat_d['ii'] == -1) | (cat_d['ig'] == -9) | (cat_d['ii'] == -9))] # drop stars & saturated points"
   ]
  },
  {
   "cell_type": "markdown",
   "id": "09644ccd",
   "metadata": {},
   "source": [
    "#### Testing making predictions"
   ]
  },
  {
   "cell_type": "code",
   "execution_count": 83,
   "id": "9768b4e4",
   "metadata": {},
   "outputs": [],
   "source": [
    "test_ = predictions[~((predictions['ig'] == -1) | (predictions['ii'] == -1) )]"
   ]
  },
  {
   "cell_type": "code",
   "execution_count": 85,
   "id": "cb059912",
   "metadata": {},
   "outputs": [
    {
     "data": {
      "text/plain": [
       "2487"
      ]
     },
     "execution_count": 85,
     "metadata": {},
     "output_type": "execute_result"
    }
   ],
   "source": [
    "len(test_[test_['pred']=='gc'])"
   ]
  },
  {
   "cell_type": "code",
   "execution_count": 13,
   "id": "b56ba004",
   "metadata": {},
   "outputs": [
    {
     "ename": "NameError",
     "evalue": "name 'training_data_nostar' is not defined",
     "output_type": "error",
     "traceback": [
      "\u001b[1;31m---------------------------------------------------------------------------\u001b[0m",
      "\u001b[1;31mNameError\u001b[0m                                 Traceback (most recent call last)",
      "\u001b[1;32m~\\AppData\\Local\\Temp\\ipykernel_21868\\2564715519.py\u001b[0m in \u001b[0;36m<module>\u001b[1;34m\u001b[0m\n\u001b[0;32m      1\u001b[0m \u001b[0mfield\u001b[0m \u001b[1;33m=\u001b[0m \u001b[1;36m222\u001b[0m\u001b[1;33m\u001b[0m\u001b[1;33m\u001b[0m\u001b[0m\n\u001b[0;32m      2\u001b[0m \u001b[1;33m\u001b[0m\u001b[0m\n\u001b[1;32m----> 3\u001b[1;33m \u001b[0mpredictions\u001b[0m \u001b[1;33m=\u001b[0m \u001b[0mrf_pred\u001b[0m\u001b[1;33m(\u001b[0m\u001b[0mfield\u001b[0m\u001b[1;33m,\u001b[0m\u001b[0mtraining_data_nostar\u001b[0m\u001b[1;33m,\u001b[0m\u001b[1;36m200\u001b[0m\u001b[1;33m)\u001b[0m\u001b[1;33m\u001b[0m\u001b[1;33m\u001b[0m\u001b[0m\n\u001b[0m\u001b[0;32m      4\u001b[0m \u001b[0mtest_\u001b[0m \u001b[1;33m=\u001b[0m \u001b[0mpredictions\u001b[0m\u001b[1;33m[\u001b[0m\u001b[1;33m~\u001b[0m\u001b[1;33m(\u001b[0m\u001b[1;33m(\u001b[0m\u001b[0mpredictions\u001b[0m\u001b[1;33m[\u001b[0m\u001b[1;34m'ig'\u001b[0m\u001b[1;33m]\u001b[0m \u001b[1;33m==\u001b[0m \u001b[1;33m-\u001b[0m\u001b[1;36m1\u001b[0m\u001b[1;33m)\u001b[0m \u001b[1;33m|\u001b[0m \u001b[1;33m(\u001b[0m\u001b[0mpredictions\u001b[0m\u001b[1;33m[\u001b[0m\u001b[1;34m'ii'\u001b[0m\u001b[1;33m]\u001b[0m \u001b[1;33m==\u001b[0m \u001b[1;33m-\u001b[0m\u001b[1;36m1\u001b[0m\u001b[1;33m)\u001b[0m \u001b[1;33m)\u001b[0m\u001b[1;33m]\u001b[0m\u001b[1;33m\u001b[0m\u001b[1;33m\u001b[0m\u001b[0m\n\u001b[0;32m      5\u001b[0m \u001b[0mprint\u001b[0m\u001b[1;33m(\u001b[0m\u001b[0mlen\u001b[0m\u001b[1;33m(\u001b[0m\u001b[0mtest_\u001b[0m\u001b[1;33m[\u001b[0m\u001b[0mtest_\u001b[0m\u001b[1;33m[\u001b[0m\u001b[1;34m'pred'\u001b[0m\u001b[1;33m]\u001b[0m\u001b[1;33m==\u001b[0m\u001b[1;34m'gc'\u001b[0m\u001b[1;33m]\u001b[0m\u001b[1;33m)\u001b[0m\u001b[1;33m)\u001b[0m\u001b[1;33m\u001b[0m\u001b[1;33m\u001b[0m\u001b[0m\n",
      "\u001b[1;31mNameError\u001b[0m: name 'training_data_nostar' is not defined"
     ]
    }
   ],
   "source": [
    "field = 222\n",
    "\n",
    "predictions = rf_pred(field,training_data_nostar,200)\n",
    "test_ = predictions[~((predictions['ig'] == -1) | (predictions['ii'] == -1) )]\n",
    "print(len(test_[test_['pred']=='gc']))\n",
    "#with open(f'pickle/temp/predictionsf{field}.pk','wb') as f:\n",
    "    #pickle.dump(predictions,f)\n",
    "predictions"
   ]
  },
  {
   "cell_type": "code",
   "execution_count": 117,
   "id": "9ad796e5",
   "metadata": {},
   "outputs": [
    {
     "data": {
      "text/html": [
       "<div><i>Table length=6</i>\n",
       "<table id=\"table1954321156608\" class=\"table-striped table-bordered table-condensed\">\n",
       "<thead><tr><th>RA</th><th>Dec</th><th>iccd</th><th>xg</th><th>yg</th><th>g</th><th>dg</th><th>ig</th><th>xi</th><th>yi</th><th>i</th><th>di</th><th>ii</th><th>field</th><th>pred</th></tr></thead>\n",
       "<thead><tr><th>float32</th><th>float32</th><th>uint8</th><th>float32</th><th>float32</th><th>float32</th><th>float32</th><th>int8</th><th>float32</th><th>float32</th><th>float32</th><th>float32</th><th>int8</th><th>uint16</th><th>object</th></tr></thead>\n",
       "<tr><td>13.236442</td><td>40.71061</td><td>6</td><td>986.49</td><td>284.7</td><td>15.05</td><td>0.001</td><td>-9</td><td>988.71</td><td>284.43</td><td>21.496</td><td>0.013</td><td>1</td><td>234</td><td>gc</td></tr>\n",
       "<tr><td>13.860617</td><td>40.2862</td><td>11</td><td>1661.0</td><td>3494.76</td><td>15.262</td><td>0.001</td><td>-9</td><td>1664.2</td><td>3494.95</td><td>22.05</td><td>0.02</td><td>1</td><td>234</td><td>gc</td></tr>\n",
       "<tr><td>13.214812</td><td>40.227608</td><td>15</td><td>616.73</td><td>4593.2</td><td>15.059</td><td>0.001</td><td>-9</td><td>619.1</td><td>4593.76</td><td>22.885</td><td>0.045</td><td>1</td><td>234</td><td>gc</td></tr>\n",
       "<tr><td>13.214091</td><td>40.328857</td><td>15</td><td>619.0</td><td>2643.69</td><td>15.069</td><td>0.001</td><td>-9</td><td>621.38</td><td>2644.04</td><td>20.116</td><td>0.005</td><td>1</td><td>234</td><td>gc</td></tr>\n",
       "<tr><td>13.540367</td><td>40.028618</td><td>22</td><td>969.78</td><td>902.97</td><td>15.105</td><td>0.001</td><td>-9</td><td>968.34</td><td>903.71</td><td>22.095</td><td>0.022</td><td>1</td><td>234</td><td>gc</td></tr>\n",
       "<tr><td>13.530654</td><td>40.03781</td><td>22</td><td>1112.73</td><td>1081.1</td><td>15.159</td><td>0.001</td><td>-9</td><td>1111.28</td><td>1081.78</td><td>22.085</td><td>0.021</td><td>0</td><td>234</td><td>gc</td></tr>\n",
       "</table></div>"
      ],
      "text/plain": [
       "<Table length=6>\n",
       "    RA       Dec     iccd    xg      yg   ...    i       di    ii  field   pred \n",
       " float32   float32  uint8 float32 float32 ... float32 float32 int8 uint16 object\n",
       "--------- --------- ----- ------- ------- ... ------- ------- ---- ------ ------\n",
       "13.236442  40.71061     6  986.49   284.7 ...  21.496   0.013    1    234     gc\n",
       "13.860617   40.2862    11  1661.0 3494.76 ...   22.05    0.02    1    234     gc\n",
       "13.214812 40.227608    15  616.73  4593.2 ...  22.885   0.045    1    234     gc\n",
       "13.214091 40.328857    15   619.0 2643.69 ...  20.116   0.005    1    234     gc\n",
       "13.540367 40.028618    22  969.78  902.97 ...  22.095   0.022    1    234     gc\n",
       "13.530654  40.03781    22 1112.73  1081.1 ...  22.085   0.021    0    234     gc"
      ]
     },
     "execution_count": 117,
     "metadata": {},
     "output_type": "execute_result"
    }
   ],
   "source": [
    "gcs[abs(gcs['g']-gcs['i'])>5]"
   ]
  },
  {
   "cell_type": "code",
   "execution_count": 138,
   "id": "53e9a975",
   "metadata": {},
   "outputs": [
    {
     "data": {
      "image/png": "[encoded data removed]",
      "text/plain": [
       "<Figure size 640x480 with 1 Axes>"
      ]
     },
     "metadata": {},
     "output_type": "display_data"
    }
   ],
   "source": [
    "gcs = predictions[predictions['pred']=='gc']\n",
    "gcs_44 = gcs#[(gcs['g']+gcs['i']<44) & (gcs['g']+gcs['i'] > 30)]\n",
    "gcs_filtered = gcs_44[~((gcs_44['ii'] == -9) | (gcs_44['ig'] == -9) | (gcs_44['ii'] == -1) | (gcs_44['ig'] == -1))]\n",
    "\n",
    "\n",
    "plt.hist(gcs['i'],bins=35)\n",
    "#plt.hist(gcs_44['g'],bins=35)\n",
    "\n",
    "plt.hist(gcs_filtered['g'],bins=35)\n",
    "plt.show()\n"
   ]
  },
  {
   "cell_type": "markdown",
   "id": "e4f4f842",
   "metadata": {},
   "source": [
    "### Test"
   ]
  },
  {
   "cell_type": "code",
   "execution_count": 29,
   "id": "1df38565",
   "metadata": {},
   "outputs": [
    {
     "name": "stderr",
     "output_type": "stream",
     "text": [
      "C:\\Users\\jwarn\\AppData\\Local\\Temp\\ipykernel_16988\\1346209107.py:5: UserWarning: Boolean Series key will be reindexed to match DataFrame index.\n",
      "  test_data = training_data[training_data['di']+training_data['dg'] < 0.1][training_data['class'] != 'star']\n"
     ]
    },
    {
     "data": {
      "text/html": [
       "<div>\n",
       "<style scoped>\n",
       "    .dataframe tbody tr th:only-of-type {\n",
       "        vertical-align: middle;\n",
       "    }\n",
       "\n",
       "    .dataframe tbody tr th {\n",
       "        vertical-align: top;\n",
       "    }\n",
       "\n",
       "    .dataframe thead th {\n",
       "        text-align: right;\n",
       "    }\n",
       "</style>\n",
       "<table border=\"1\" class=\"dataframe\">\n",
       "  <thead>\n",
       "    <tr style=\"text-align: right;\">\n",
       "      <th></th>\n",
       "      <th>obj_id</th>\n",
       "      <th>class</th>\n",
       "      <th>i</th>\n",
       "      <th>g</th>\n",
       "      <th>di</th>\n",
       "      <th>dg</th>\n",
       "      <th>ra</th>\n",
       "      <th>dec</th>\n",
       "      <th>field</th>\n",
       "      <th>pdidx</th>\n",
       "    </tr>\n",
       "  </thead>\n",
       "  <tbody>\n",
       "    <tr>\n",
       "      <th>0</th>\n",
       "      <td>HM33-A</td>\n",
       "      <td>gc</td>\n",
       "      <td>22.424000</td>\n",
       "      <td>22.940001</td>\n",
       "      <td>0.026</td>\n",
       "      <td>0.017</td>\n",
       "      <td>23.923733</td>\n",
       "      <td>28.821186</td>\n",
       "      <td>5</td>\n",
       "      <td>39800</td>\n",
       "    </tr>\n",
       "    <tr>\n",
       "      <th>1</th>\n",
       "      <td>C30</td>\n",
       "      <td>galaxy</td>\n",
       "      <td>18.049000</td>\n",
       "      <td>19.500999</td>\n",
       "      <td>0.001</td>\n",
       "      <td>0.002</td>\n",
       "      <td>12.105896</td>\n",
       "      <td>29.267633</td>\n",
       "      <td>11</td>\n",
       "      <td>118854</td>\n",
       "    </tr>\n",
       "    <tr>\n",
       "      <th>2</th>\n",
       "      <td>LAMOST-C22</td>\n",
       "      <td>galaxy</td>\n",
       "      <td>17.628000</td>\n",
       "      <td>19.153000</td>\n",
       "      <td>0.001</td>\n",
       "      <td>0.001</td>\n",
       "      <td>11.738621</td>\n",
       "      <td>29.693506</td>\n",
       "      <td>11</td>\n",
       "      <td>24692</td>\n",
       "    </tr>\n",
       "    <tr>\n",
       "      <th>3</th>\n",
       "      <td>HM33-B</td>\n",
       "      <td>gc</td>\n",
       "      <td>19.538000</td>\n",
       "      <td>20.386000</td>\n",
       "      <td>0.003</td>\n",
       "      <td>0.003</td>\n",
       "      <td>24.008787</td>\n",
       "      <td>29.963625</td>\n",
       "      <td>13</td>\n",
       "      <td>43246</td>\n",
       "    </tr>\n",
       "    <tr>\n",
       "      <th>4</th>\n",
       "      <td>LAMOST-C18</td>\n",
       "      <td>galaxy</td>\n",
       "      <td>17.177999</td>\n",
       "      <td>18.388000</td>\n",
       "      <td>0.001</td>\n",
       "      <td>0.001</td>\n",
       "      <td>23.842129</td>\n",
       "      <td>29.552473</td>\n",
       "      <td>14</td>\n",
       "      <td>122860</td>\n",
       "    </tr>\n",
       "    <tr>\n",
       "      <th>...</th>\n",
       "      <td>...</td>\n",
       "      <td>...</td>\n",
       "      <td>...</td>\n",
       "      <td>...</td>\n",
       "      <td>...</td>\n",
       "      <td>...</td>\n",
       "      <td>...</td>\n",
       "      <td>...</td>\n",
       "      <td>...</td>\n",
       "      <td>...</td>\n",
       "    </tr>\n",
       "    <tr>\n",
       "      <th>2288</th>\n",
       "      <td>FJJ-VIII</td>\n",
       "      <td>gc</td>\n",
       "      <td>17.910999</td>\n",
       "      <td>18.806000</td>\n",
       "      <td>0.001</td>\n",
       "      <td>0.001</td>\n",
       "      <td>9.848991</td>\n",
       "      <td>48.312565</td>\n",
       "      <td>398</td>\n",
       "      <td>168456</td>\n",
       "    </tr>\n",
       "    <tr>\n",
       "      <th>2289</th>\n",
       "      <td>FJJ-IV</td>\n",
       "      <td>gc</td>\n",
       "      <td>18.417999</td>\n",
       "      <td>19.346001</td>\n",
       "      <td>0.002</td>\n",
       "      <td>0.002</td>\n",
       "      <td>9.801158</td>\n",
       "      <td>48.380100</td>\n",
       "      <td>398</td>\n",
       "      <td>168491</td>\n",
       "    </tr>\n",
       "    <tr>\n",
       "      <th>2290</th>\n",
       "      <td>PA-N185</td>\n",
       "      <td>gc</td>\n",
       "      <td>20.188000</td>\n",
       "      <td>21.688999</td>\n",
       "      <td>0.005</td>\n",
       "      <td>0.007</td>\n",
       "      <td>9.578100</td>\n",
       "      <td>48.367985</td>\n",
       "      <td>398</td>\n",
       "      <td>256376</td>\n",
       "    </tr>\n",
       "    <tr>\n",
       "      <th>2291</th>\n",
       "      <td>FJJ-V</td>\n",
       "      <td>gc</td>\n",
       "      <td>17.434999</td>\n",
       "      <td>18.451000</td>\n",
       "      <td>0.001</td>\n",
       "      <td>0.001</td>\n",
       "      <td>9.806167</td>\n",
       "      <td>48.384743</td>\n",
       "      <td>398</td>\n",
       "      <td>168423</td>\n",
       "    </tr>\n",
       "    <tr>\n",
       "      <th>2292</th>\n",
       "      <td>FJJ-VII</td>\n",
       "      <td>gc</td>\n",
       "      <td>19.523001</td>\n",
       "      <td>20.520000</td>\n",
       "      <td>0.003</td>\n",
       "      <td>0.004</td>\n",
       "      <td>9.826713</td>\n",
       "      <td>48.384266</td>\n",
       "      <td>398</td>\n",
       "      <td>168594</td>\n",
       "    </tr>\n",
       "  </tbody>\n",
       "</table>\n",
       "<p>1336 rows × 10 columns</p>\n",
       "</div>"
      ],
      "text/plain": [
       "          obj_id   class          i          g     di     dg         ra  \\\n",
       "0         HM33-A      gc  22.424000  22.940001  0.026  0.017  23.923733   \n",
       "1            C30  galaxy  18.049000  19.500999  0.001  0.002  12.105896   \n",
       "2     LAMOST-C22  galaxy  17.628000  19.153000  0.001  0.001  11.738621   \n",
       "3         HM33-B      gc  19.538000  20.386000  0.003  0.003  24.008787   \n",
       "4     LAMOST-C18  galaxy  17.177999  18.388000  0.001  0.001  23.842129   \n",
       "...          ...     ...        ...        ...    ...    ...        ...   \n",
       "2288    FJJ-VIII      gc  17.910999  18.806000  0.001  0.001   9.848991   \n",
       "2289      FJJ-IV      gc  18.417999  19.346001  0.002  0.002   9.801158   \n",
       "2290     PA-N185      gc  20.188000  21.688999  0.005  0.007   9.578100   \n",
       "2291       FJJ-V      gc  17.434999  18.451000  0.001  0.001   9.806167   \n",
       "2292     FJJ-VII      gc  19.523001  20.520000  0.003  0.004   9.826713   \n",
       "\n",
       "            dec  field   pdidx  \n",
       "0     28.821186      5   39800  \n",
       "1     29.267633     11  118854  \n",
       "2     29.693506     11   24692  \n",
       "3     29.963625     13   43246  \n",
       "4     29.552473     14  122860  \n",
       "...         ...    ...     ...  \n",
       "2288  48.312565    398  168456  \n",
       "2289  48.380100    398  168491  \n",
       "2290  48.367985    398  256376  \n",
       "2291  48.384743    398  168423  \n",
       "2292  48.384266    398  168594  \n",
       "\n",
       "[1336 rows x 10 columns]"
      ]
     },
     "execution_count": 29,
     "metadata": {},
     "output_type": "execute_result"
    }
   ],
   "source": [
    "training_data_MAIN = pickle.load(open(f'./pickle/training_data/{train_files[0]}','rb'))\n",
    "\n",
    "training_data = training_data_MAIN[300]\n",
    "\n",
    "test_data = training_data[training_data['di']+training_data['dg'] < 0.1][training_data['class'] != 'star']\n",
    "\n",
    "test_gcs = test_data[test_data['class'] == 'gc']\n",
    "\n",
    "test_data"
   ]
  },
  {
   "cell_type": "code",
   "execution_count": 32,
   "id": "38c09fab",
   "metadata": {},
   "outputs": [
    {
     "data": {
      "image/png": "[encoded data removed]",
      "text/plain": [
       "<Figure size 640x480 with 1 Axes>"
      ]
     },
     "metadata": {},
     "output_type": "display_data"
    }
   ],
   "source": [
    "plt.hist(test_gcs['g'],bins=60)\n",
    "plt.show()"
   ]
  },
  {
   "cell_type": "code",
   "execution_count": null,
   "id": "a3b4b998",
   "metadata": {},
   "outputs": [],
   "source": [
    "results = []\n",
    "for "
   ]
  },
  {
   "cell_type": "code",
   "execution_count": null,
   "id": "3541d3f1",
   "metadata": {
    "scrolled": true
   },
   "outputs": [],
   "source": [
    "results = []\n",
    "for file_name in train_files:\n",
    "    training_data = pickle.load(open(f'./pickle/training_data/{file_name}','rb'))\n",
    "    test_data = pickle.load(open(f'./pickle/{cat_files[3]}','rb'))[184] # field 184\n",
    "    results.append(ranfor(training_data[250]).predict(test_data))"
   ]
  },
  {
   "cell_type": "code",
   "execution_count": null,
   "id": "8122c5c1",
   "metadata": {},
   "outputs": [],
   "source": []
  },
  {
   "cell_type": "code",
   "execution_count": 43,
   "id": "87b215b2",
   "metadata": {},
   "outputs": [],
   "source": [
    "CAT = load_cat(188)"
   ]
  },
  {
   "cell_type": "code",
   "execution_count": 68,
   "id": "8fbf5535",
   "metadata": {},
   "outputs": [],
   "source": [
    "cat = CAT[188]"
   ]
  },
  {
   "cell_type": "code",
   "execution_count": 79,
   "id": "c90d6326",
   "metadata": {},
   "outputs": [],
   "source": [
    "cat_smalldelta = cat[cat['dg']+cat['di'] < 0.1]"
   ]
  },
  {
   "cell_type": "code",
   "execution_count": 80,
   "id": "a3ee2069",
   "metadata": {},
   "outputs": [],
   "source": [
    "X = cat_smalldelta[['i','g']]"
   ]
  },
  {
   "cell_type": "code",
   "execution_count": 81,
   "id": "2cf3b0c7",
   "metadata": {},
   "outputs": [],
   "source": [
    "X = X.to_pandas()"
   ]
  },
  {
   "cell_type": "code",
   "execution_count": 82,
   "id": "ae3b7338",
   "metadata": {},
   "outputs": [
    {
     "data": {
      "text/html": [
       "<div>\n",
       "<style scoped>\n",
       "    .dataframe tbody tr th:only-of-type {\n",
       "        vertical-align: middle;\n",
       "    }\n",
       "\n",
       "    .dataframe tbody tr th {\n",
       "        vertical-align: top;\n",
       "    }\n",
       "\n",
       "    .dataframe thead th {\n",
       "        text-align: right;\n",
       "    }\n",
       "</style>\n",
       "<table border=\"1\" class=\"dataframe\">\n",
       "  <thead>\n",
       "    <tr style=\"text-align: right;\">\n",
       "      <th></th>\n",
       "      <th>i</th>\n",
       "      <th>g</th>\n",
       "    </tr>\n",
       "  </thead>\n",
       "  <tbody>\n",
       "    <tr>\n",
       "      <th>0</th>\n",
       "      <td>13.206000</td>\n",
       "      <td>13.678000</td>\n",
       "    </tr>\n",
       "    <tr>\n",
       "      <th>1</th>\n",
       "      <td>13.272000</td>\n",
       "      <td>13.694000</td>\n",
       "    </tr>\n",
       "    <tr>\n",
       "      <th>2</th>\n",
       "      <td>13.528000</td>\n",
       "      <td>13.924000</td>\n",
       "    </tr>\n",
       "    <tr>\n",
       "      <th>3</th>\n",
       "      <td>13.246000</td>\n",
       "      <td>13.950000</td>\n",
       "    </tr>\n",
       "    <tr>\n",
       "      <th>4</th>\n",
       "      <td>13.625000</td>\n",
       "      <td>13.929000</td>\n",
       "    </tr>\n",
       "    <tr>\n",
       "      <th>...</th>\n",
       "      <td>...</td>\n",
       "      <td>...</td>\n",
       "    </tr>\n",
       "    <tr>\n",
       "      <th>53345</th>\n",
       "      <td>21.943001</td>\n",
       "      <td>24.875999</td>\n",
       "    </tr>\n",
       "    <tr>\n",
       "      <th>53346</th>\n",
       "      <td>21.957001</td>\n",
       "      <td>24.913000</td>\n",
       "    </tr>\n",
       "    <tr>\n",
       "      <th>53347</th>\n",
       "      <td>21.662001</td>\n",
       "      <td>24.964001</td>\n",
       "    </tr>\n",
       "    <tr>\n",
       "      <th>53348</th>\n",
       "      <td>21.547001</td>\n",
       "      <td>24.981001</td>\n",
       "    </tr>\n",
       "    <tr>\n",
       "      <th>53349</th>\n",
       "      <td>21.249001</td>\n",
       "      <td>24.985001</td>\n",
       "    </tr>\n",
       "  </tbody>\n",
       "</table>\n",
       "<p>53350 rows × 2 columns</p>\n",
       "</div>"
      ],
      "text/plain": [
       "               i          g\n",
       "0      13.206000  13.678000\n",
       "1      13.272000  13.694000\n",
       "2      13.528000  13.924000\n",
       "3      13.246000  13.950000\n",
       "4      13.625000  13.929000\n",
       "...          ...        ...\n",
       "53345  21.943001  24.875999\n",
       "53346  21.957001  24.913000\n",
       "53347  21.662001  24.964001\n",
       "53348  21.547001  24.981001\n",
       "53349  21.249001  24.985001\n",
       "\n",
       "[53350 rows x 2 columns]"
      ]
     },
     "execution_count": 82,
     "metadata": {},
     "output_type": "execute_result"
    }
   ],
   "source": [
    "X"
   ]
  },
  {
   "cell_type": "code",
   "execution_count": null,
   "id": "8a8c873b",
   "metadata": {},
   "outputs": [],
   "source": []
  },
  {
   "cell_type": "code",
   "execution_count": 125,
   "id": "a5ee080f",
   "metadata": {},
   "outputs": [],
   "source": [
    "f = ['training_data_d006.pk','training_data_d005.pk','training_data_d004.pk','training_data_d003.pk']"
   ]
  },
  {
   "cell_type": "code",
   "execution_count": 126,
   "id": "4eedac48",
   "metadata": {},
   "outputs": [],
   "source": [
    "training_data = pickle.load(open(f'./pickle/training_data/{f[1]}','rb'))"
   ]
  },
  {
   "cell_type": "code",
   "execution_count": null,
   "id": "b3643516",
   "metadata": {},
   "outputs": [],
   "source": []
  },
  {
   "cell_type": "code",
   "execution_count": 93,
   "id": "e2077709",
   "metadata": {},
   "outputs": [],
   "source": [
    "test_results = ranfor(test_, n_estimators=70, stats=True)"
   ]
  },
  {
   "cell_type": "code",
   "execution_count": 95,
   "id": "080d0da4",
   "metadata": {},
   "outputs": [],
   "source": [
    "predictions188 = ranfor(test_, n_estimators=60).predict(X)"
   ]
  },
  {
   "cell_type": "code",
   "execution_count": 94,
   "id": "ea9bf99a",
   "metadata": {},
   "outputs": [
    {
     "data": {
      "text/plain": [
       "0.8382352941176471"
      ]
     },
     "execution_count": 94,
     "metadata": {},
     "output_type": "execute_result"
    }
   ],
   "source": [
    "test_results[2] # yay!"
   ]
  },
  {
   "cell_type": "code",
   "execution_count": 105,
   "id": "78210d60",
   "metadata": {},
   "outputs": [],
   "source": [
    "cat_smalldelta['pred'] = predictions188"
   ]
  },
  {
   "cell_type": "code",
   "execution_count": null,
   "id": "8284f893",
   "metadata": {},
   "outputs": [],
   "source": []
  },
  {
   "cell_type": "code",
   "execution_count": 100,
   "id": "177c55eb",
   "metadata": {},
   "outputs": [],
   "source": [
    "cat395_pred = cat[['RA','Dec','iccd','xg','yg','g','ig','xi','yi','i','ii','field']]"
   ]
  },
  {
   "cell_type": "code",
   "execution_count": 101,
   "id": "052bbaca",
   "metadata": {},
   "outputs": [],
   "source": [
    "cat395_pred['pred'] = res"
   ]
  },
  {
   "cell_type": "code",
   "execution_count": 103,
   "id": "bee2bd30",
   "metadata": {},
   "outputs": [],
   "source": [
    "with open('./pickle/ml_results/field395_predictions.pk','wb') as f:\n",
    "    pickle.dump(cat395_pred,f)"
   ]
  },
  {
   "cell_type": "code",
   "execution_count": 84,
   "id": "8bf690e5",
   "metadata": {},
   "outputs": [],
   "source": [
    "test_ = pickle.load(open('./pickle/ml_results/field273_predictions.pk','rb'))"
   ]
  },
  {
   "cell_type": "code",
   "execution_count": null,
   "id": "f7d51ef5",
   "metadata": {},
   "outputs": [],
   "source": []
  },
  {
   "cell_type": "code",
   "execution_count": null,
   "id": "042355da",
   "metadata": {},
   "outputs": [],
   "source": []
  },
  {
   "cell_type": "code",
   "execution_count": 128,
   "id": "39e32e59",
   "metadata": {},
   "outputs": [],
   "source": [
    "cat188_pred = cat[['RA','Dec','iccd','xg','yg','g','ig','xi','yi','i','ii','field']]"
   ]
  },
  {
   "cell_type": "code",
   "execution_count": 129,
   "id": "e8e96431",
   "metadata": {},
   "outputs": [],
   "source": [
    "cat188_pred['pred'] = res"
   ]
  },
  {
   "cell_type": "code",
   "execution_count": 130,
   "id": "fe1b2bff",
   "metadata": {},
   "outputs": [],
   "source": [
    "with open('./pickle/ml_results/field188_predictions.pk','wb') as f:\n",
    "    pickle.dump(cat188_pred,f)"
   ]
  },
  {
   "cell_type": "code",
   "execution_count": null,
   "id": "ec189e8b",
   "metadata": {},
   "outputs": [],
   "source": []
  },
  {
   "cell_type": "code",
   "execution_count": 115,
   "id": "780af254",
   "metadata": {},
   "outputs": [],
   "source": [
    "cat24_pred = cat24[['RA','Dec','iccd','xg','yg','g','ig','xi','yi','i','ii','field']]"
   ]
  },
  {
   "cell_type": "code",
   "execution_count": 116,
   "id": "b12688d4",
   "metadata": {},
   "outputs": [],
   "source": [
    "cat24_pred['pred'] = res"
   ]
  },
  {
   "cell_type": "code",
   "execution_count": 117,
   "id": "4ca5025d",
   "metadata": {},
   "outputs": [],
   "source": [
    "with open('./pickle/ml_results/field24_predictions.pk','wb') as f:\n",
    "    pickle.dump(cat24_pred,f)"
   ]
  },
  {
   "cell_type": "code",
   "execution_count": null,
   "id": "a86eebea",
   "metadata": {},
   "outputs": [],
   "source": []
  },
  {
   "cell_type": "code",
   "execution_count": null,
   "id": "6db944a0",
   "metadata": {},
   "outputs": [],
   "source": []
  },
  {
   "cell_type": "code",
   "execution_count": null,
   "id": "c61b3238",
   "metadata": {},
   "outputs": [],
   "source": []
  },
  {
   "cell_type": "code",
   "execution_count": null,
   "id": "efae0877",
   "metadata": {},
   "outputs": [],
   "source": []
  },
  {
   "cell_type": "code",
   "execution_count": 53,
   "id": "1142be10",
   "metadata": {},
   "outputs": [
    {
     "name": "stdout",
     "output_type": "stream",
     "text": [
      "59.16055750846863\n",
      "55.01980996131897\n",
      "53.677734375\n",
      "crowding: 300, accuracy: 0.6144170295113692\n",
      "51.2863883972168\n",
      "54.201602935791016\n",
      "66.1094582080841\n",
      "crowding: 275, accuracy: 0.6368604073522107\n",
      "77.24949383735657\n",
      "71.25472140312195\n",
      "73.84445881843567\n",
      "crowding: 250, accuracy: 0.60671834625323\n",
      "67.04550671577454\n",
      "55.90899848937988\n",
      "55.41255736351013\n",
      "crowding: 225, accuracy: 0.6017094017094017\n",
      "52.776262044906616\n",
      "52.33641076087952\n"
     ]
    },
    {
     "ename": "KeyboardInterrupt",
     "evalue": "",
     "output_type": "error",
     "traceback": [
      "\u001b[1;31m---------------------------------------------------------------------------\u001b[0m",
      "\u001b[1;31mKeyboardInterrupt\u001b[0m                         Traceback (most recent call last)",
      "\u001b[1;32m~\\AppData\\Local\\Temp\\ipykernel_7644\\3344800240.py\u001b[0m in \u001b[0;36m<module>\u001b[1;34m\u001b[0m\n\u001b[0;32m     11\u001b[0m         \u001b[1;32mfor\u001b[0m \u001b[0mi\u001b[0m \u001b[1;32min\u001b[0m \u001b[0mrange\u001b[0m\u001b[1;33m(\u001b[0m\u001b[0miterations\u001b[0m\u001b[1;33m)\u001b[0m\u001b[1;33m:\u001b[0m\u001b[1;33m\u001b[0m\u001b[1;33m\u001b[0m\u001b[0m\n\u001b[0;32m     12\u001b[0m             \u001b[0mt1\u001b[0m \u001b[1;33m=\u001b[0m \u001b[0mtime\u001b[0m\u001b[1;33m(\u001b[0m\u001b[1;33m)\u001b[0m\u001b[1;33m\u001b[0m\u001b[1;33m\u001b[0m\u001b[0m\n\u001b[1;32m---> 13\u001b[1;33m             \u001b[0mtraining_data\u001b[0m\u001b[1;33m,\u001b[0m \u001b[0m_\u001b[0m \u001b[1;33m=\u001b[0m \u001b[0mgenerate_training_data\u001b[0m\u001b[1;33m(\u001b[0m\u001b[0mobj_mat\u001b[0m\u001b[1;33m,\u001b[0m \u001b[0mcrowding\u001b[0m\u001b[1;33m=\u001b[0m\u001b[0mc\u001b[0m\u001b[1;33m)\u001b[0m\u001b[1;33m\u001b[0m\u001b[1;33m\u001b[0m\u001b[0m\n\u001b[0m\u001b[0;32m     14\u001b[0m             \u001b[0m_\u001b[0m\u001b[1;33m,\u001b[0m \u001b[0m__\u001b[0m\u001b[1;33m,\u001b[0m \u001b[0macc\u001b[0m \u001b[1;33m=\u001b[0m \u001b[0mranfor\u001b[0m\u001b[1;33m(\u001b[0m\u001b[0mtraining_data\u001b[0m\u001b[1;33m)\u001b[0m\u001b[1;33m\u001b[0m\u001b[1;33m\u001b[0m\u001b[0m\n\u001b[0;32m     15\u001b[0m             \u001b[0macc_t\u001b[0m \u001b[1;33m+=\u001b[0m \u001b[0macc\u001b[0m\u001b[1;33m\u001b[0m\u001b[1;33m\u001b[0m\u001b[0m\n",
      "\u001b[1;32m~\\AppData\\Local\\Temp\\ipykernel_7644\\3807522068.py\u001b[0m in \u001b[0;36mgenerate_training_data\u001b[1;34m(matches, crowding)\u001b[0m\n\u001b[0;32m     14\u001b[0m         \u001b[0mworking_field\u001b[0m \u001b[1;33m=\u001b[0m \u001b[0mmatches\u001b[0m\u001b[1;33m[\u001b[0m\u001b[0mfield\u001b[0m\u001b[1;33m]\u001b[0m \u001b[1;31m# take the list of matches e.g. working_field = [(166727, 2642), (159637, 2646)]\u001b[0m\u001b[1;33m\u001b[0m\u001b[1;33m\u001b[0m\u001b[0m\n\u001b[0;32m     15\u001b[0m         \u001b[1;32mif\u001b[0m \u001b[0mfield\u001b[0m \u001b[1;32mnot\u001b[0m \u001b[1;32min\u001b[0m \u001b[0mcat\u001b[0m\u001b[1;33m:\u001b[0m \u001b[1;31m# load the correct catalogue\u001b[0m\u001b[1;33m\u001b[0m\u001b[1;33m\u001b[0m\u001b[0m\n\u001b[1;32m---> 16\u001b[1;33m             \u001b[0mcat\u001b[0m \u001b[1;33m=\u001b[0m \u001b[0mload_cat\u001b[0m\u001b[1;33m(\u001b[0m\u001b[0mfield\u001b[0m\u001b[1;33m)\u001b[0m\u001b[1;33m\u001b[0m\u001b[1;33m\u001b[0m\u001b[0m\n\u001b[0m\u001b[0;32m     17\u001b[0m         \u001b[1;32mfor\u001b[0m \u001b[0mm\u001b[0m \u001b[1;32min\u001b[0m \u001b[0mworking_field\u001b[0m\u001b[1;33m:\u001b[0m \u001b[1;31m# iterate through each match (a tuple) and grab values from catalogues\u001b[0m\u001b[1;33m\u001b[0m\u001b[1;33m\u001b[0m\u001b[0m\n\u001b[0;32m     18\u001b[0m \u001b[1;33m\u001b[0m\u001b[0m\n",
      "\u001b[1;32m~\\AppData\\Local\\Temp\\ipykernel_7644\\767498788.py\u001b[0m in \u001b[0;36mload_cat\u001b[1;34m(field)\u001b[0m\n\u001b[0;32m     10\u001b[0m     \u001b[1;32melif\u001b[0m \u001b[0mfield\u001b[0m \u001b[1;33m<=\u001b[0m \u001b[1;36m360\u001b[0m\u001b[1;33m:\u001b[0m \u001b[0mto_load\u001b[0m \u001b[1;33m=\u001b[0m \u001b[0mcat_files\u001b[0m\u001b[1;33m[\u001b[0m\u001b[1;36m8\u001b[0m\u001b[1;33m]\u001b[0m\u001b[1;33m\u001b[0m\u001b[1;33m\u001b[0m\u001b[0m\n\u001b[0;32m     11\u001b[0m     \u001b[1;32melif\u001b[0m \u001b[0mfield\u001b[0m \u001b[1;33m<=\u001b[0m \u001b[1;36m406\u001b[0m\u001b[1;33m:\u001b[0m \u001b[0mto_load\u001b[0m \u001b[1;33m=\u001b[0m \u001b[0mcat_files\u001b[0m\u001b[1;33m[\u001b[0m\u001b[1;36m9\u001b[0m\u001b[1;33m]\u001b[0m\u001b[1;33m\u001b[0m\u001b[1;33m\u001b[0m\u001b[0m\n\u001b[1;32m---> 12\u001b[1;33m     \u001b[0mcatalogue\u001b[0m \u001b[1;33m=\u001b[0m \u001b[0mpickle\u001b[0m\u001b[1;33m.\u001b[0m\u001b[0mload\u001b[0m\u001b[1;33m(\u001b[0m\u001b[0mopen\u001b[0m\u001b[1;33m(\u001b[0m\u001b[1;34mf'./pickle/{to_load}'\u001b[0m\u001b[1;33m,\u001b[0m\u001b[1;34m'rb'\u001b[0m\u001b[1;33m)\u001b[0m\u001b[1;33m)\u001b[0m\u001b[1;33m\u001b[0m\u001b[1;33m\u001b[0m\u001b[0m\n\u001b[0m\u001b[0;32m     13\u001b[0m \u001b[1;33m\u001b[0m\u001b[0m\n\u001b[0;32m     14\u001b[0m     \u001b[1;32mreturn\u001b[0m \u001b[0mcatalogue\u001b[0m\u001b[1;33m\u001b[0m\u001b[1;33m\u001b[0m\u001b[0m\n",
      "\u001b[1;32m~\\anaconda3\\lib\\site-packages\\astropy\\table\\column.py\u001b[0m in \u001b[0;36m__array_finalize__\u001b[1;34m(self, obj)\u001b[0m\n\u001b[0;32m    660\u001b[0m         \u001b[1;32mreturn\u001b[0m \u001b[0mreconstruct_func\u001b[0m\u001b[1;33m,\u001b[0m \u001b[0mreconstruct_func_args\u001b[0m\u001b[1;33m,\u001b[0m \u001b[0mstate\u001b[0m\u001b[1;33m\u001b[0m\u001b[1;33m\u001b[0m\u001b[0m\n\u001b[0;32m    661\u001b[0m \u001b[1;33m\u001b[0m\u001b[0m\n\u001b[1;32m--> 662\u001b[1;33m     \u001b[1;32mdef\u001b[0m \u001b[0m__array_finalize__\u001b[0m\u001b[1;33m(\u001b[0m\u001b[0mself\u001b[0m\u001b[1;33m,\u001b[0m \u001b[0mobj\u001b[0m\u001b[1;33m)\u001b[0m\u001b[1;33m:\u001b[0m\u001b[1;33m\u001b[0m\u001b[1;33m\u001b[0m\u001b[0m\n\u001b[0m\u001b[0;32m    663\u001b[0m         \u001b[1;31m# Obj will be none for direct call to Column() creator\u001b[0m\u001b[1;33m\u001b[0m\u001b[1;33m\u001b[0m\u001b[0m\n\u001b[0;32m    664\u001b[0m         \u001b[1;32mif\u001b[0m \u001b[0mobj\u001b[0m \u001b[1;32mis\u001b[0m \u001b[1;32mNone\u001b[0m\u001b[1;33m:\u001b[0m\u001b[1;33m\u001b[0m\u001b[1;33m\u001b[0m\u001b[0m\n",
      "\u001b[1;31mKeyboardInterrupt\u001b[0m: "
     ]
    }
   ],
   "source": [
    "# iterate to find best values\n",
    "crowding_test_values = [300,275,250,225,200,175,150,125,100,75,50]\n",
    "trees = [10,25,50,60,80,120]\n",
    "accuracies = {}\n",
    "iterations = 3\n",
    "\n",
    "for m in object_match_files:\n",
    "    obj_mat = pickle.load(open(f'./pickle/matches/{m}','rb'))\n",
    "    accuracies[m[-4:-3]] = []\n",
    "    for c in trees:#crowding_test_values:\n",
    "        acc_t = 0 # total accuracy sum\n",
    "        for i in range(iterations):\n",
    "            t1 = time()\n",
    "            #training_data, _ = generate_training_data(obj_mat, crowding=250) #stupid!\n",
    "            _, __, acc = ranfor(training_data, n_estimators=c)\n",
    "            acc_t += acc\n",
    "            t2 = time()\n",
    "            print(t2-t1)\n",
    "        acc_t /= iterations\n",
    "        accuracies[m[-4:-3]].append(acc_t)\n",
    "        print(f'crowding: {c}, accuracy: {acc_t}')\n",
    "        "
   ]
  },
  {
   "cell_type": "code",
   "execution_count": null,
   "id": "f4d1face",
   "metadata": {},
   "outputs": [],
   "source": [
    "with open('./pickle/ml_results/accuracies_d00654_300-50--25.pk','wb') as f:\n",
    "    pickle.dump(accuracies,f)"
   ]
  },
  {
   "cell_type": "code",
   "execution_count": null,
   "id": "d3b20382",
   "metadata": {},
   "outputs": [],
   "source": [
    "#d005\n",
    "plt.plot(crowding_test_values, accuracies[4], 'g')\n",
    "plt.plot(crowding_test_values, accuracies[5], 'b')\n",
    "plt.plot(crowding_test_values, accuracies[6], 'r')"
   ]
  },
  {
   "cell_type": "code",
   "execution_count": 39,
   "id": "c8cc371a",
   "metadata": {},
   "outputs": [
    {
     "data": {
      "text/plain": [
       "[<matplotlib.lines.Line2D at 0x19cfd5985b0>]"
      ]
     },
     "execution_count": 39,
     "metadata": {},
     "output_type": "execute_result"
    },
    {
     "data": {
      "image/png": "[encoded data removed]",
      "text/plain": [
       "<Figure size 640x480 with 1 Axes>"
      ]
     },
     "metadata": {},
     "output_type": "display_data"
    }
   ],
   "source": [
    "#d006\n",
    "plt.plot(crowding_test_values, accuracies)"
   ]
  },
  {
   "cell_type": "code",
   "execution_count": null,
   "id": "3634e349",
   "metadata": {},
   "outputs": [],
   "source": []
  },
  {
   "cell_type": "code",
   "execution_count": null,
   "id": "594ff3db",
   "metadata": {},
   "outputs": [],
   "source": []
  },
  {
   "cell_type": "code",
   "execution_count": null,
   "id": "99459cd7",
   "metadata": {},
   "outputs": [],
   "source": []
  },
  {
   "cell_type": "code",
   "execution_count": null,
   "id": "cc78fec2",
   "metadata": {},
   "outputs": [],
   "source": []
  },
  {
   "cell_type": "code",
   "execution_count": null,
   "id": "f07cc745",
   "metadata": {},
   "outputs": [],
   "source": []
  }
 ],
 "metadata": {
  "kernelspec": {
   "display_name": "Python 3 (ipykernel)",
   "language": "python",
   "name": "python3"
  },
  "language_info": {
   "codemirror_mode": {
    "name": "ipython",
    "version": 3
   },
   "file_extension": ".py",
   "mimetype": "text/x-python",
   "name": "python",
   "nbconvert_exporter": "python",
   "pygments_lexer": "ipython3",
   "version": "3.9.13"
  }
 },
 "nbformat": 4,
 "nbformat_minor": 5
}
