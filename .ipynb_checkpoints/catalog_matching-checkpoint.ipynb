{
 "cells": [
  {
   "cell_type": "markdown",
   "id": "aadfb64b",
   "metadata": {},
   "source": [
    "# Catalog matching\n",
    "Here we match objects from the RBC to objects in the PAndAS catalogues. We iterate over the entire field.\n",
    "\n",
    "[Skip to the main loop](#1)  \n",
    "[Skip to the results](#2)"
   ]
  },
  {
   "cell_type": "code",
   "execution_count": 1,
   "id": "25a9b97a",
   "metadata": {},
   "outputs": [],
   "source": [
    "import matplotlib.pyplot as plt\n",
    "import pandas as pd\n",
    "import numpy as np\n",
    "import pickle\n",
    "import astropy.coordinates as coord\n",
    "import astropy.units as u\n",
    "from astropy.io import ascii"
   ]
  },
  {
   "cell_type": "code",
   "execution_count": 2,
   "id": "94d663ea",
   "metadata": {},
   "outputs": [],
   "source": [
    "CAT = pickle.load(open('./pickle/cat236_257.pk','rb'))"
   ]
  },
  {
   "cell_type": "code",
   "execution_count": 3,
   "id": "ee812e7f",
   "metadata": {},
   "outputs": [],
   "source": [
    "master_cat = pd.read_csv('./catdata/master_gc_gals_catalog.csv') #2184 objects long"
   ]
  },
  {
   "cell_type": "code",
   "execution_count": 4,
   "id": "35992118",
   "metadata": {},
   "outputs": [
    {
     "data": {
      "text/html": [
       "<div>\n",
       "<style scoped>\n",
       "    .dataframe tbody tr th:only-of-type {\n",
       "        vertical-align: middle;\n",
       "    }\n",
       "\n",
       "    .dataframe tbody tr th {\n",
       "        vertical-align: top;\n",
       "    }\n",
       "\n",
       "    .dataframe thead th {\n",
       "        text-align: right;\n",
       "    }\n",
       "</style>\n",
       "<table border=\"1\" class=\"dataframe\">\n",
       "  <thead>\n",
       "    <tr style=\"text-align: right;\">\n",
       "      <th></th>\n",
       "      <th>ID</th>\n",
       "      <th>RADEG</th>\n",
       "      <th>DECDEG</th>\n",
       "      <th>CLASS</th>\n",
       "    </tr>\n",
       "  </thead>\n",
       "  <tbody>\n",
       "    <tr>\n",
       "      <th>0</th>\n",
       "      <td>B001</td>\n",
       "      <td>9.962537</td>\n",
       "      <td>40.969619</td>\n",
       "      <td>1.0</td>\n",
       "    </tr>\n",
       "    <tr>\n",
       "      <th>1</th>\n",
       "      <td>B002</td>\n",
       "      <td>10.010729</td>\n",
       "      <td>41.198203</td>\n",
       "      <td>1.0</td>\n",
       "    </tr>\n",
       "    <tr>\n",
       "      <th>2</th>\n",
       "      <td>B003</td>\n",
       "      <td>10.039204</td>\n",
       "      <td>41.184903</td>\n",
       "      <td>1.0</td>\n",
       "    </tr>\n",
       "    <tr>\n",
       "      <th>3</th>\n",
       "      <td>B004</td>\n",
       "      <td>10.074675</td>\n",
       "      <td>41.377858</td>\n",
       "      <td>1.0</td>\n",
       "    </tr>\n",
       "    <tr>\n",
       "      <th>4</th>\n",
       "      <td>B005</td>\n",
       "      <td>10.084663</td>\n",
       "      <td>40.732864</td>\n",
       "      <td>1.0</td>\n",
       "    </tr>\n",
       "  </tbody>\n",
       "</table>\n",
       "</div>"
      ],
      "text/plain": [
       "     ID      RADEG     DECDEG  CLASS\n",
       "0  B001   9.962537  40.969619    1.0\n",
       "1  B002  10.010729  41.198203    1.0\n",
       "2  B003  10.039204  41.184903    1.0\n",
       "3  B004  10.074675  41.377858    1.0\n",
       "4  B005  10.084663  40.732864    1.0"
      ]
     },
     "execution_count": 4,
     "metadata": {},
     "output_type": "execute_result"
    }
   ],
   "source": [
    "master_cat.head()"
   ]
  },
  {
   "cell_type": "markdown",
   "id": "27fafd7a",
   "metadata": {},
   "source": [
    "Max and min of each field"
   ]
  },
  {
   "cell_type": "code",
   "execution_count": 10,
   "id": "9cab8d6a",
   "metadata": {},
   "outputs": [],
   "source": [
    "bounds = {}"
   ]
  },
  {
   "cell_type": "code",
   "execution_count": 11,
   "id": "fc32f049",
   "metadata": {},
   "outputs": [],
   "source": [
    "# define the bounds of each field\n",
    "# (x0,y0) <-> (x1,y1) is the bounding box of the field\n",
    "# note that since RA *decreases* in the easterly direction, we take x1 to be the minimum value of RA\n",
    "for c in CAT:\n",
    "    #lower left corner\n",
    "    x0 = max(CAT[c]['RA'])\n",
    "    y0 = min(CAT[c]['Dec'])\n",
    "    #upper right corner\n",
    "    x1 = min(CAT[c]['RA'])\n",
    "    y1 = max(CAT[c]['Dec'])\n",
    "    bounds[c] = (x0,x1,y0,y1)"
   ]
  },
  {
   "cell_type": "code",
   "execution_count": 7,
   "id": "34a17fd0",
   "metadata": {},
   "outputs": [],
   "source": [
    "# match objects in CAT[n] to the ones in master_cat\n",
    "# matches every object from CAT[n] so the resulting arrays are len(CAT[n]) long\n",
    "def match_objs(cat_no: int) -> (np.ndarray, np.ndarray):\n",
    "    d1 = CAT[cat_no]\n",
    "    ra_obs, dec_obs = d1['RA'], d1['Dec']\n",
    "    d2 = master_cat\n",
    "    ra_qry, dec_qry = d2['RADEG'], d2['DECDEG']\n",
    "\n",
    "    c1 = coord.SkyCoord(ra_obs, dec_obs, unit=(u.degree, u.degree))\n",
    "    c2 = coord.SkyCoord(ra_qry, dec_qry, unit=(u.degree, u.degree))\n",
    "    idx, d2d, _ = c1.match_to_catalog_sky(c2)\n",
    "    return idx,d2d #idx: the index of the object in RBC, d2d: distance to that object from CAT"
   ]
  },
  {
   "cell_type": "code",
   "execution_count": 12,
   "id": "96e93dd1",
   "metadata": {},
   "outputs": [],
   "source": [
    "# find a list of all objects from match_objs that are actually contained within a given field\n",
    "# as the returned objects of match_objs contains ones from master_cat which are outside of the given field\n",
    "#   __________\n",
    "#  |   *     |   * <- remove points like this\n",
    "#  |      *  |\n",
    "#  |  *    * |\n",
    "#  |_____*___|\n",
    "#\n",
    "def find_objs_in_field(cat_no: int, objs: list) -> list:\n",
    "    in_field = []\n",
    "    for o in objs:\n",
    "        ra = master_cat.loc[o]['RADEG']\n",
    "        dec = master_cat.loc[o]['DECDEG']\n",
    "        x0,x1,y0,y1 = bounds[cat_no]\n",
    "        if ( ra<x0 and ra>x1 and dec>y0 and dec<y1 ):\n",
    "            in_field.append(master_cat.loc[o])\n",
    "    return in_field"
   ]
  },
  {
   "cell_type": "code",
   "execution_count": 13,
   "id": "836f1950",
   "metadata": {},
   "outputs": [],
   "source": [
    "# find the closest match(es) for each object in the master_list, that is in a given field\n",
    "def find_closest_match(cat_no: int, in_field: list) -> list:\n",
    "    ret = []\n",
    "    for obj in in_field:\n",
    "        idx = obj.name #obj.name is the position/index of the object in master_cat\n",
    "        closest_obj_idx = d2d_idx_df[d2d_idx_df['idx']==idx]['d2d'].idxmin() #find only the closest object\n",
    "        out = (closest_obj_idx,idx) # return index of object in CAT[n] and index in master_cat\n",
    "        ret.append(out)\n",
    "    return ret"
   ]
  },
  {
   "cell_type": "code",
   "execution_count": null,
   "id": "8cf57149",
   "metadata": {},
   "outputs": [],
   "source": [
    "#work out if an object is crowded? / how crowded the object is?\n",
    "# closest_obj_filter = d2d_idx_df[d2d_idx_df['idx']==idx]['d2d'] < delta\n",
    "# d2d_idx_df[d2d_idx_df['idx']==idx][closest_obj_filter]\n",
    "def crowding():\n",
    "    return 0"
   ]
  },
  {
   "cell_type": "markdown",
   "id": "d612cd3d",
   "metadata": {},
   "source": [
    "## Test for specific field\n",
    "[(Skip)](#1)"
   ]
  },
  {
   "cell_type": "code",
   "execution_count": 204,
   "id": "25e278ed",
   "metadata": {},
   "outputs": [],
   "source": [
    "field = 253\n",
    "\n",
    "# get indexes and distances for the field\n",
    "idx, d2d = match_objs(field)\n",
    "\n",
    "# convert to degrees\n",
    "d2d = d2d.degree\n",
    "\n",
    "# zip both lists into a single list of tuples\n",
    "d2d_idx_tuples = [(d2d[i],idx[i]) for i in range(len(d2d))]\n",
    "\n",
    "# arrange into a pd.DF\n",
    "d2d_idx_df = pd.DataFrame(d2d_idx_tuples, columns=['d2d','idx'])\n",
    "\n",
    "# create a list of individual objects present in the field\n",
    "objs=set(idx)\n",
    "\n",
    "# get all objects which are actually within the field\n",
    "in_field = find_objs_in_field(field,objs)\n",
    "\n",
    "# Work out effective values of delta:\n",
    "# find the shortest distances for each master_cat object\n",
    "min_distances = []\n",
    "for obj in in_field:\n",
    "    min_distances.append(d2d_idx_df[d2d_idx_df['idx']==obj.name].min()['d2d'])"
   ]
  },
  {
   "cell_type": "code",
   "execution_count": 216,
   "id": "fe38bee7",
   "metadata": {
    "scrolled": true
   },
   "outputs": [
    {
     "data": {
      "text/plain": [
       "ID             G314\n",
       "RADEG     11.526708\n",
       "DECDEG    41.347317\n",
       "CLASS           6.0\n",
       "Name: 539, dtype: object"
      ]
     },
     "execution_count": 216,
     "metadata": {},
     "output_type": "execute_result"
    }
   ],
   "source": [
    "test_obj_id = in_field[0].name\n",
    "in_field[0]"
   ]
  },
  {
   "cell_type": "code",
   "execution_count": 206,
   "id": "0efd195e",
   "metadata": {},
   "outputs": [
    {
     "data": {
      "text/html": [
       "<div>\n",
       "<style scoped>\n",
       "    .dataframe tbody tr th:only-of-type {\n",
       "        vertical-align: middle;\n",
       "    }\n",
       "\n",
       "    .dataframe tbody tr th {\n",
       "        vertical-align: top;\n",
       "    }\n",
       "\n",
       "    .dataframe thead th {\n",
       "        text-align: right;\n",
       "    }\n",
       "</style>\n",
       "<table border=\"1\" class=\"dataframe\">\n",
       "  <thead>\n",
       "    <tr style=\"text-align: right;\">\n",
       "      <th></th>\n",
       "      <th>d2d</th>\n",
       "      <th>idx</th>\n",
       "    </tr>\n",
       "  </thead>\n",
       "  <tbody>\n",
       "    <tr>\n",
       "      <th>195123</th>\n",
       "      <td>0.000106</td>\n",
       "      <td>1184</td>\n",
       "    </tr>\n",
       "    <tr>\n",
       "      <th>195155</th>\n",
       "      <td>0.009546</td>\n",
       "      <td>1184</td>\n",
       "    </tr>\n",
       "    <tr>\n",
       "      <th>195221</th>\n",
       "      <td>0.009370</td>\n",
       "      <td>1184</td>\n",
       "    </tr>\n",
       "    <tr>\n",
       "      <th>195250</th>\n",
       "      <td>0.009083</td>\n",
       "      <td>1184</td>\n",
       "    </tr>\n",
       "    <tr>\n",
       "      <th>195287</th>\n",
       "      <td>0.005904</td>\n",
       "      <td>1184</td>\n",
       "    </tr>\n",
       "  </tbody>\n",
       "</table>\n",
       "</div>"
      ],
      "text/plain": [
       "             d2d   idx\n",
       "195123  0.000106  1184\n",
       "195155  0.009546  1184\n",
       "195221  0.009370  1184\n",
       "195250  0.009083  1184\n",
       "195287  0.005904  1184"
      ]
     },
     "execution_count": 206,
     "metadata": {},
     "output_type": "execute_result"
    }
   ],
   "source": [
    "# create a filter for objects which are closer than delta to their corresponding master_cat object\n",
    "filter1 = d2d_idx_df[d2d_idx_df['idx']==test_obj_id]['d2d'] < 0.01 # what value of delta???????? how much RA/Dec dist is allowed\n",
    "\n",
    "# apply the filter\n",
    "obj_del = d2d_idx_df[d2d_idx_df['idx']==test_obj_id][filter1]\n",
    "obj_del.head()"
   ]
  },
  {
   "cell_type": "markdown",
   "id": "89c22b74",
   "metadata": {},
   "source": [
    "## Plot objects around master_cat[test_obj_id]"
   ]
  },
  {
   "cell_type": "code",
   "execution_count": 207,
   "id": "dd63a325",
   "metadata": {},
   "outputs": [
    {
     "data": {
      "text/plain": [
       "ID            2M009\n",
       "RADEG      7.871208\n",
       "DECDEG    40.898694\n",
       "CLASS           4.0\n",
       "Name: 1184, dtype: object"
      ]
     },
     "execution_count": 207,
     "metadata": {},
     "output_type": "execute_result"
    }
   ],
   "source": [
    "test_object = master_cat.loc[test_obj_id]\n",
    "test_object"
   ]
  },
  {
   "cell_type": "code",
   "execution_count": 208,
   "id": "b4a7766a",
   "metadata": {},
   "outputs": [],
   "source": [
    "points_ra = [CAT[field][n]['RA'] for n in obj_del.index]"
   ]
  },
  {
   "cell_type": "code",
   "execution_count": 209,
   "id": "2ab1c3a1",
   "metadata": {},
   "outputs": [],
   "source": [
    "points_dec = [CAT[field][n]['Dec'] for n in obj_del.index]"
   ]
  },
  {
   "cell_type": "code",
   "execution_count": 210,
   "id": "abca13de",
   "metadata": {},
   "outputs": [
    {
     "data": {
      "text/plain": [
       "<matplotlib.collections.PathCollection at 0x1717ea876a0>"
      ]
     },
     "execution_count": 210,
     "metadata": {},
     "output_type": "execute_result"
    },
    {
     "data": {
      "image/png": "[encoded data removed]",
      "text/plain": [
       "<Figure size 432x288 with 1 Axes>"
      ]
     },
     "metadata": {
      "needs_background": "light"
     },
     "output_type": "display_data"
    }
   ],
   "source": [
    "plt.scatter(test_object.RADEG, test_object.DECDEG, marker=\"*\", c='red')\n",
    "plt.scatter(points_ra,points_dec, s=5)"
   ]
  },
  {
   "cell_type": "code",
   "execution_count": 193,
   "id": "dc327cce",
   "metadata": {},
   "outputs": [
    {
     "data": {
      "text/plain": [
       "[(101715, 1176), (146343, 1248), (59583, 1198)]"
      ]
     },
     "execution_count": 193,
     "metadata": {},
     "output_type": "execute_result"
    }
   ],
   "source": [
    "find_closest_match(field, in_field, 1)"
   ]
  },
  {
   "cell_type": "markdown",
   "id": "98b5f6c7",
   "metadata": {},
   "source": [
    "<a id=\"1\"></a>\n",
    "# Main Loop\n"
   ]
  },
  {
   "cell_type": "code",
   "execution_count": 212,
   "id": "a653ba8b",
   "metadata": {},
   "outputs": [
    {
     "name": "stdout",
     "output_type": "stream",
     "text": [
      "Field 236\n",
      "Field 237\n",
      "Field 238\n",
      "Field 239\n",
      "Field 240\n",
      "Field 241\n",
      "Field 242\n",
      "Field 243\n",
      "Field 244\n",
      "Field 245\n",
      "Field 246\n",
      "Field 247\n",
      "Field 250\n",
      "Field 251\n",
      "Field 252\n",
      "Field 253\n",
      "Field 254\n",
      "Field 255\n",
      "Field 256\n",
      "Field 257\n"
     ]
    }
   ],
   "source": [
    "# main loop\n",
    "matches = {}\n",
    "ignore_fields = [248,249,266]\n",
    "for c in CAT:\n",
    "    if c in ignore_fields: continue #ignore fields on the galactic centre\n",
    "    print(f'Field {c}')\n",
    "    idx,d2d = match_objs(c)\n",
    "    objs = set(idx)\n",
    "    d2d = d2d.degree\n",
    "    \n",
    "    d2d_idx_tuples = [(d2d[i],idx[i]) for i in range(len(d2d))]\n",
    "    \n",
    "    d2d_idx_df = pd.DataFrame(d2d_idx_tuples, columns=['d2d','idx'])\n",
    "    \n",
    "    # get the list of all obj from master_cat which are in the field CAT[c]\n",
    "    in_field = find_objs_in_field(c,objs)\n",
    "    \n",
    "    delta = 0.01\n",
    "    matches[c] = find_closest_match(c, in_field, delta)\n",
    "print('Done!')"
   ]
  },
  {
   "cell_type": "code",
   "execution_count": 202,
   "id": "4083227f",
   "metadata": {},
   "outputs": [
    {
     "data": {
      "text/plain": [
       "{236: [],\n",
       " 237: [],\n",
       " 238: [(119930, 2142)],\n",
       " 239: [],\n",
       " 240: [(117641, 2116), (65721, 2117)],\n",
       " 241: [(185857, 2142), (55172, 2062)],\n",
       " 242: [],\n",
       " 243: [(63287, 2062)],\n",
       " 244: [],\n",
       " 245: [],\n",
       " 246: [],\n",
       " 247: [],\n",
       " 250: [],\n",
       " 251: [],\n",
       " 252: [],\n",
       " 253: [(195123, 1184), (92796, 1219), (22614, 1220), (86008, 1214)],\n",
       " 254: [(153, 1665),\n",
       "  (679711, 774),\n",
       "  (247235, 775),\n",
       "  (47819, 777),\n",
       "  (423726, 776),\n",
       "  (194018, 779),\n",
       "  (25460, 780),\n",
       "  (387081, 781),\n",
       "  (25434, 783),\n",
       "  (25490, 784),\n",
       "  (387062, 785),\n",
       "  (104850, 402),\n",
       "  (86453, 403),\n",
       "  (197871, 788),\n",
       "  (86493, 404),\n",
       "  (387016, 786),\n",
       "  (422680, 1175),\n",
       "  (160844, 793),\n",
       "  (118, 411),\n",
       "  (104837, 283),\n",
       "  (346938, 412),\n",
       "  (346957, 794),\n",
       "  (422517, 285),\n",
       "  (641834, 286),\n",
       "  (642239, 2087),\n",
       "  (268161, 1851),\n",
       "  (247190, 1852),\n",
       "  (422474, 1858),\n",
       "  (386926, 1862),\n",
       "  (386954, 1865),\n",
       "  (193912, 1867),\n",
       "  (346893, 1872),\n",
       "  (346869, 1874),\n",
       "  (61, 1880),\n",
       "  (346868, 1883),\n",
       "  (247343, 1373),\n",
       "  (422620, 1376),\n",
       "  (222646, 1378),\n",
       "  (655957, 1379),\n",
       "  (194052, 1380),\n",
       "  (553732, 1383),\n",
       "  (387031, 1258),\n",
       "  (679733, 1642),\n",
       "  (641919, 1647),\n",
       "  (224134, 1648),\n",
       "  (48121, 1650),\n",
       "  (25585, 1652),\n",
       "  (25598, 1655),\n",
       "  (25690, 1660)],\n",
       " 255: [(101715, 1176), (146343, 1248), (59583, 1198)],\n",
       " 256: [(190359, 400),\n",
       "  (265309, 401),\n",
       "  (39189, 1060),\n",
       "  (19687, 552),\n",
       "  (326920, 980),\n",
       "  (264475, 981),\n",
       "  (95469, 1253),\n",
       "  (54477, 2162),\n",
       "  (190462, 504)],\n",
       " 257: [(913547, 539),\n",
       "  (245912, 540),\n",
       "  (521130, 542),\n",
       "  (617764, 1578),\n",
       "  (913579, 1579),\n",
       "  (617808, 1581),\n",
       "  (617962, 1582),\n",
       "  (617815, 1584),\n",
       "  (245914, 1586),\n",
       "  (245956, 1587),\n",
       "  (246145, 1588),\n",
       "  (245972, 1589),\n",
       "  (1118993, 1592),\n",
       "  (793331, 1597),\n",
       "  (482240, 1598),\n",
       "  (793373, 1599),\n",
       "  (151981, 1600),\n",
       "  (503658, 1601),\n",
       "  (113810, 1603),\n",
       "  (762857, 1604),\n",
       "  (113801, 1605),\n",
       "  (1025442, 1606),\n",
       "  (113683, 1607),\n",
       "  (113820, 1608),\n",
       "  (448173, 1609),\n",
       "  (448139, 1610),\n",
       "  (113843, 1611),\n",
       "  (448140, 1612),\n",
       "  (113779, 1613),\n",
       "  (762692, 1614),\n",
       "  (448111, 1615),\n",
       "  (113765, 1616),\n",
       "  (80764, 1617),\n",
       "  (80817, 1618),\n",
       "  (24019, 2159),\n",
       "  (295462, 1156),\n",
       "  (1025402, 1244),\n",
       "  (344744, 1253),\n",
       "  (617795, 1814),\n",
       "  (617986, 1816),\n",
       "  (617896, 1817),\n",
       "  (1157456, 1822),\n",
       "  (246065, 1824),\n",
       "  (566941, 1825),\n",
       "  (566966, 1826),\n",
       "  (868878, 1827),\n",
       "  (567046, 1831),\n",
       "  (567102, 1832),\n",
       "  (196413, 1835),\n",
       "  (482400, 1836),\n",
       "  (152028, 1837),\n",
       "  (170599, 1839),\n",
       "  (113815, 1840),\n",
       "  (113769, 1841),\n",
       "  (448316, 1843),\n",
       "  (80896, 1844),\n",
       "  (1004329, 1846),\n",
       "  (567002, 1361),\n",
       "  (793400, 1364),\n",
       "  (793389, 1365),\n",
       "  (793304, 1366),\n",
       "  (113783, 1367),\n",
       "  (294951, 371),\n",
       "  (913472, 372),\n",
       "  (617733, 373),\n",
       "  (913471, 374),\n",
       "  (617769, 376),\n",
       "  (294850, 377),\n",
       "  (567085, 379),\n",
       "  (283568, 380),\n",
       "  (566955, 382),\n",
       "  (245941, 383),\n",
       "  (868820, 384),\n",
       "  (1118931, 385),\n",
       "  (1118925, 386),\n",
       "  (1083529, 388),\n",
       "  (482671, 389),\n",
       "  (482246, 390),\n",
       "  (482230, 392),\n",
       "  (113786, 393),\n",
       "  (418801, 394),\n",
       "  (391360, 396),\n",
       "  (617742, 908),\n",
       "  (366887, 398),\n",
       "  (972884, 400),\n",
       "  (294893, 916),\n",
       "  (294926, 921),\n",
       "  (497177, 1951),\n",
       "  (151940, 1952),\n",
       "  (793300, 1953),\n",
       "  (151976, 1954),\n",
       "  (482183, 1955),\n",
       "  (793301, 1956),\n",
       "  (762651, 1957),\n",
       "  (762629, 1958),\n",
       "  (734722, 1959),\n",
       "  (1118945, 928),\n",
       "  (567008, 937),\n",
       "  (521090, 941),\n",
       "  (828803, 1970),\n",
       "  (521198, 1971),\n",
       "  (196490, 1972),\n",
       "  (521128, 1973),\n",
       "  (448229, 1974),\n",
       "  (1083659, 953),\n",
       "  (482259, 956),\n",
       "  (793422, 959),\n",
       "  (448203, 962),\n",
       "  (448187, 963),\n",
       "  (448199, 964),\n",
       "  (762718, 965),\n",
       "  (1004324, 968),\n",
       "  (1004344, 969),\n",
       "  (1004363, 972),\n",
       "  (391465, 973),\n",
       "  (50669, 975),\n",
       "  (391417, 976),\n",
       "  (972962, 981),\n",
       "  (1119028, 2013),\n",
       "  (868869, 481),\n",
       "  (1118947, 482),\n",
       "  (1118966, 483),\n",
       "  (196453, 485),\n",
       "  (196471, 486),\n",
       "  (482248, 489),\n",
       "  (151992, 491),\n",
       "  (709599, 499),\n",
       "  (24157, 501),\n",
       "  (669347, 504)]}"
      ]
     },
     "execution_count": 202,
     "metadata": {},
     "output_type": "execute_result"
    }
   ],
   "source": [
    "matches"
   ]
  },
  {
   "cell_type": "markdown",
   "id": "1a4ebaa7",
   "metadata": {},
   "source": [
    "<a id=\"2\"></a>\n",
    "# Results"
   ]
  },
  {
   "cell_type": "code",
   "execution_count": null,
   "id": "b5527886",
   "metadata": {},
   "outputs": [],
   "source": []
  }
 ],
 "metadata": {
  "kernelspec": {
   "display_name": "Python 3 (ipykernel)",
   "language": "python",
   "name": "python3"
  },
  "language_info": {
   "codemirror_mode": {
    "name": "ipython",
    "version": 3
   },
   "file_extension": ".py",
   "mimetype": "text/x-python",
   "name": "python",
   "nbconvert_exporter": "python",
   "pygments_lexer": "ipython3",
   "version": "3.8.8"
  }
 },
 "nbformat": 4,
 "nbformat_minor": 5
}
