{
 "cells": [
  {
   "cell_type": "code",
   "execution_count": 1,
   "id": "1830df06",
   "metadata": {},
   "outputs": [],
   "source": [
    "import matplotlib.pyplot as plt\n",
    "import pandas as pd\n",
    "import numpy as np\n",
    "import pickle\n",
    "import astropy.coordinates as coord\n",
    "import astropy.units as u\n",
    "from astropy.io import ascii\n"
   ]
  },
  {
   "cell_type": "code",
   "execution_count": 2,
   "id": "c6486d58",
   "metadata": {},
   "outputs": [],
   "source": [
    "bounds = pickle.load(open('./pickle/bounds.pk','rb'))\n",
    "master_cat = pd.read_csv('./catdata/master_catalog_jan_2023.csv') #2184 objects long"
   ]
  },
  {
   "cell_type": "code",
   "execution_count": 3,
   "id": "893fa566",
   "metadata": {},
   "outputs": [],
   "source": [
    "object_matches = pickle.load(open('./pickle/matches/matches_delta005_0802.pk','rb'))"
   ]
  },
  {
   "cell_type": "code",
   "execution_count": 4,
   "id": "8f4723ec",
   "metadata": {},
   "outputs": [],
   "source": [
    "cat_files = ['cat1_50.pk','cat51_100.pk','cat101_150.pk','cat151_200.pk','cat201_235.pk',\n",
    "             'cat236_257.pk','cat258_279.pk','cat280_320.pk','cat321_360.pk','cat361_406.pk']"
   ]
  },
  {
   "cell_type": "code",
   "execution_count": 5,
   "id": "e5ed9b15",
   "metadata": {},
   "outputs": [],
   "source": [
    "def load_cat(field):\n",
    "    bounds = [50,100,150,200,235,257,279,320,360,406]\n",
    "    for b in range(len(bounds)):\n",
    "        if field <= bounds[b]:\n",
    "            to_load = cat_files[b]\n",
    "            break\n",
    "    print(f'Loading {to_load} ...')\n",
    "    catalogue = pickle.load(open(f'./pickle/{to_load}','rb'))\n",
    "    return catalogue"
   ]
  },
  {
   "cell_type": "markdown",
   "id": "3bcc8cc5",
   "metadata": {},
   "source": [
    "### Make regions test"
   ]
  },
  {
   "cell_type": "markdown",
   "id": "7e194200",
   "metadata": {},
   "source": [
    "#### Example field 43, HM33-C"
   ]
  },
  {
   "cell_type": "code",
   "execution_count": 17,
   "id": "1e025eb6",
   "metadata": {},
   "outputs": [
    {
     "data": {
      "text/plain": [
       "[(222746, 2652)]"
      ]
     },
     "execution_count": 17,
     "metadata": {},
     "output_type": "execute_result"
    }
   ],
   "source": [
    "object_matches[43]"
   ]
  },
  {
   "cell_type": "code",
   "execution_count": 22,
   "id": "90b52141",
   "metadata": {},
   "outputs": [
    {
     "data": {
      "text/plain": [
       "ID                   HM33-D\n",
       "RADEG             23.759167\n",
       "DECDEG             31.23925\n",
       "CLASS                   1.0\n",
       "DATATABLE    huxor09_table1\n",
       "Name: 2643, dtype: object"
      ]
     },
     "execution_count": 22,
     "metadata": {},
     "output_type": "execute_result"
    }
   ],
   "source": [
    "master_cat.loc[2652]"
   ]
  },
  {
   "cell_type": "code",
   "execution_count": 16,
   "id": "5d4ce2e0",
   "metadata": {},
   "outputs": [
    {
     "name": "stdout",
     "output_type": "stream",
     "text": [
      "Loading cat1_50.pk ...\n"
     ]
    }
   ],
   "source": [
    "f43 = load_cat(43)"
   ]
  },
  {
   "cell_type": "code",
   "execution_count": 21,
   "id": "b6aad8a6",
   "metadata": {},
   "outputs": [
    {
     "data": {
      "text/html": [
       "<i>Row index=222746</i>\n",
       "<table id=\"table1854522871088\">\n",
       "<thead><tr><th>RA</th><th>Dec</th><th>iccd</th><th>xg</th><th>yg</th><th>g</th><th>dg</th><th>ig</th><th>xi</th><th>yi</th><th>i</th><th>di</th><th>ii</th><th>ia</th><th>field</th></tr></thead>\n",
       "<thead><tr><th>float32</th><th>float32</th><th>uint8</th><th>float32</th><th>float32</th><th>float32</th><th>float32</th><th>int8</th><th>float32</th><th>float32</th><th>float32</th><th>float32</th><th>int8</th><th>int8</th><th>uint16</th></tr></thead>\n",
       "<tr><td>24.310274</td><td>31.074358</td><td>29</td><td>737.37</td><td>4151.59</td><td>20.897</td><td>0.004</td><td>1</td><td>736.76</td><td>4149.76</td><td>19.664</td><td>0.004</td><td>1</td><td>0</td><td>43</td></tr>\n",
       "</table>"
      ],
      "text/plain": [
       "<Row index=222746>\n",
       "    RA       Dec     iccd    xg      yg      g       dg    ig     xi      yi      i       di    ii   ia  field \n",
       " float32   float32  uint8 float32 float32 float32 float32 int8 float32 float32 float32 float32 int8 int8 uint16\n",
       "--------- --------- ----- ------- ------- ------- ------- ---- ------- ------- ------- ------- ---- ---- ------\n",
       "24.310274 31.074358    29  737.37 4151.59  20.897   0.004    1  736.76 4149.76  19.664   0.004    1    0     43"
      ]
     },
     "execution_count": 21,
     "metadata": {},
     "output_type": "execute_result"
    }
   ],
   "source": [
    "f43[43][222746]"
   ]
  },
  {
   "cell_type": "code",
   "execution_count": 24,
   "id": "43f1030f",
   "metadata": {},
   "outputs": [],
   "source": [
    "## create DS9 regions to try and identify RBC objects\n",
    "radius = '20.0\"'\n",
    "hm33d = master_cat.loc[2643]\n",
    "\n",
    "with open('./ds9_regions/hm33-d.reg', 'w') as f:\n",
    "    f.write('global color=red dashlist=8 3 width=1 font=\"helvetica 10 normal roman\" select=1 highlite=1 dash=0 fixed=0 edit=1 move=1 delete=1 include=1 source=1 \\n')\n",
    "    f.write('fk5 \\n')\n",
    "    ra = str(hm33d.RADEG)\n",
    "    dec = str(hm33d.DECDEG)\n",
    "    f.write('circle('+ra+','+dec+','+radius+') \\n')"
   ]
  },
  {
   "cell_type": "markdown",
   "id": "d76812f6",
   "metadata": {},
   "source": [
    "# Make regions from predictions"
   ]
  },
  {
   "cell_type": "code",
   "execution_count": 9,
   "id": "7d447cbe",
   "metadata": {},
   "outputs": [],
   "source": []
  },
  {
   "cell_type": "code",
   "execution_count": 28,
   "id": "d5b2bd6c",
   "metadata": {},
   "outputs": [
    {
     "data": {
      "image/png": "[encoded data removed]",
      "text/plain": [
       "<Figure size 640x480 with 1 Axes>"
      ]
     },
     "metadata": {},
     "output_type": "display_data"
    },
    {
     "name": "stdout",
     "output_type": "stream",
     "text": [
      "3420\n"
     ]
    }
   ],
   "source": [
    "field=148\n",
    "predictions = pickle.load(open(f'pickle/predictions/predictionsf{field}.pk','rb'))\n",
    "\n",
    "gcs = predictions[predictions['pred']=='gc']\n",
    "gcs_44 = gcs[(gcs['g']+gcs['i']<44)]# & (gcs['g']+gcs['i'] > 25)]\n",
    "\n",
    "plt.hist(gcs['g'],bins=35)\n",
    "\n",
    "#plt.hist(gcs[gcs['g']+gcs['i']<44]['g'],bins=35)\n",
    "plt.hist(gcs_44['g'],bins=35)\n",
    "\n",
    "plt.xlabel('g magnitude')\n",
    "plt.show()\n",
    "gcs_reg = gcs\n",
    "\n",
    "radius = '15\"' # 0.006 degrees\n",
    "    \n",
    "with open(f'./ds9_regions/predictions/{field}_predictions.reg','w') as f:\n",
    "    f.write('global color=green dashlist=8 3 width=1 font=\"helvetica 14 normal roman\" select=1 highlite=1 dash=0 fixed=0 edit=1 move=1 delete=1 include=1 source=1 \\n')\n",
    "    f.write('fk5 \\n')\n",
    "    for row in gcs_reg[::]:\n",
    "        ra = str(row['RA'])\n",
    "        dec = str(row['Dec'])\n",
    "        \n",
    "        f.write(f'circle({ra},{dec},{radius}) \\n')\n",
    "print(len(gcs))"
   ]
  },
  {
   "cell_type": "markdown",
   "id": "eb21ba92",
   "metadata": {},
   "source": [
    "# Make regions from region_data\n",
    "Using output from catalog_matching.ipynb, build region files."
   ]
  },
  {
   "cell_type": "code",
   "execution_count": 7,
   "id": "a5dd09ab",
   "metadata": {},
   "outputs": [
    {
     "data": {
      "text/plain": [
       "'./pickle/region_data/cat1_50_region_data.pk'"
      ]
     },
     "execution_count": 7,
     "metadata": {},
     "output_type": "execute_result"
    }
   ],
   "source": [
    "f'./pickle/region_data/{cat_files[0][:-3]}_region_data.pk'"
   ]
  },
  {
   "cell_type": "code",
   "execution_count": 9,
   "id": "55a9b79e",
   "metadata": {},
   "outputs": [],
   "source": [
    "region_data = pickle.load(open(f'./pickle/region_data/{cat_files[0][:-3]}_region_data.pk','rb'))"
   ]
  },
  {
   "cell_type": "code",
   "execution_count": 65,
   "id": "9fb85354",
   "metadata": {},
   "outputs": [
    {
     "data": {
      "text/html": [
       "<div>\n",
       "<style scoped>\n",
       "    .dataframe tbody tr th:only-of-type {\n",
       "        vertical-align: middle;\n",
       "    }\n",
       "\n",
       "    .dataframe tbody tr th {\n",
       "        vertical-align: top;\n",
       "    }\n",
       "\n",
       "    .dataframe thead th {\n",
       "        text-align: right;\n",
       "    }\n",
       "</style>\n",
       "<table border=\"1\" class=\"dataframe\">\n",
       "  <thead>\n",
       "    <tr style=\"text-align: right;\">\n",
       "      <th></th>\n",
       "      <th>ID</th>\n",
       "      <th>RADEG</th>\n",
       "      <th>DECDEG</th>\n",
       "      <th>CLASS</th>\n",
       "      <th>DATATABLE</th>\n",
       "    </tr>\n",
       "  </thead>\n",
       "  <tbody>\n",
       "    <tr>\n",
       "      <th>2319</th>\n",
       "      <td>LAMOST-C22</td>\n",
       "      <td>11.738630</td>\n",
       "      <td>29.693500</td>\n",
       "      <td>4.0</td>\n",
       "      <td>NaN</td>\n",
       "    </tr>\n",
       "    <tr>\n",
       "      <th>2320</th>\n",
       "      <td>LAMOST-C22</td>\n",
       "      <td>11.738630</td>\n",
       "      <td>29.693500</td>\n",
       "      <td>4.0</td>\n",
       "      <td>NaN</td>\n",
       "    </tr>\n",
       "    <tr>\n",
       "      <th>2321</th>\n",
       "      <td>B391</td>\n",
       "      <td>11.742112</td>\n",
       "      <td>41.565697</td>\n",
       "      <td>1.0</td>\n",
       "      <td>m31rbcV5</td>\n",
       "    </tr>\n",
       "  </tbody>\n",
       "</table>\n",
       "</div>"
      ],
      "text/plain": [
       "              ID      RADEG     DECDEG  CLASS DATATABLE\n",
       "2319  LAMOST-C22  11.738630  29.693500    4.0       NaN\n",
       "2320  LAMOST-C22  11.738630  29.693500    4.0       NaN\n",
       "2321        B391  11.742112  41.565697    1.0  m31rbcV5"
      ]
     },
     "execution_count": 65,
     "metadata": {},
     "output_type": "execute_result"
    }
   ],
   "source": [
    "master_cat.loc[2319:2321]"
   ]
  },
  {
   "cell_type": "code",
   "execution_count": 73,
   "id": "c90bc1f4",
   "metadata": {
    "scrolled": true
   },
   "outputs": [
    {
     "data": {
      "text/plain": [
       "4.0"
      ]
     },
     "execution_count": 73,
     "metadata": {},
     "output_type": "execute_result"
    }
   ],
   "source": [
    "master_cat[master_cat.ID == obj[0]].reset_index().loc[0].CLASS"
   ]
  },
  {
   "cell_type": "code",
   "execution_count": 74,
   "id": "68dcdb05",
   "metadata": {},
   "outputs": [
    {
     "name": "stdout",
     "output_type": "stream",
     "text": [
      "5\n",
      "11\n",
      "13\n",
      "14\n",
      "20\n",
      "22\n",
      "24\n",
      "25\n",
      "26\n",
      "30\n",
      "33\n",
      "35\n",
      "37\n",
      "43\n",
      "52\n",
      "58\n",
      "62\n",
      "70\n",
      "80\n",
      "81\n",
      "82\n",
      "84\n",
      "85\n",
      "91\n",
      "92\n",
      "94\n",
      "95\n",
      "97\n",
      "102\n",
      "111\n",
      "114\n",
      "124\n",
      "125\n",
      "126\n",
      "128\n",
      "138\n",
      "139\n",
      "142\n",
      "146\n",
      "148\n",
      "153\n",
      "162\n",
      "165\n",
      "167\n",
      "169\n",
      "173\n",
      "180\n",
      "183\n",
      "184\n",
      "185\n",
      "186\n",
      "187\n",
      "188\n",
      "189\n",
      "196\n",
      "201\n",
      "204\n",
      "205\n",
      "207\n",
      "208\n",
      "209\n",
      "210\n",
      "211\n",
      "212\n",
      "214\n",
      "220\n",
      "223\n",
      "224\n",
      "225\n",
      "227\n",
      "228\n",
      "229\n",
      "231\n",
      "232\n",
      "233\n",
      "234\n",
      "235\n",
      "238\n",
      "240\n",
      "241\n",
      "243\n",
      "248\n",
      "249\n",
      "253\n",
      "254\n",
      "255\n",
      "256\n",
      "257\n",
      "261\n",
      "263\n",
      "265\n",
      "266\n",
      "268\n",
      "269\n",
      "274\n",
      "275\n",
      "276\n",
      "277\n",
      "278\n",
      "279\n",
      "280\n",
      "282\n",
      "285\n",
      "286\n",
      "287\n",
      "293\n",
      "294\n",
      "295\n",
      "296\n",
      "297\n",
      "301\n",
      "303\n",
      "304\n",
      "306\n",
      "307\n",
      "310\n",
      "316\n",
      "317\n",
      "319\n",
      "321\n",
      "327\n",
      "328\n",
      "333\n",
      "334\n",
      "335\n",
      "336\n",
      "338\n",
      "339\n",
      "340\n",
      "341\n",
      "342\n",
      "347\n",
      "348\n",
      "351\n",
      "362\n",
      "368\n",
      "375\n",
      "379\n",
      "390\n",
      "391\n",
      "392\n",
      "395\n",
      "398\n",
      "402\n"
     ]
    }
   ],
   "source": [
    "radius = '21.6\"' # 0.006 degrees\n",
    "for cat_f in cat_files:\n",
    "    region_data = pickle.load(open(f'./pickle/region_data/{cat_f[:-3]}_region_data.pk','rb'))\n",
    "    \n",
    "    for c in region_data:\n",
    "        reg = region_data[c]\n",
    "        if reg == []: continue # if there are no objects in the field, continue\n",
    "        print(c)\n",
    "        with open(f'./ds9_regions/{c}.reg','w') as f:\n",
    "            f.write('global color=red dashlist=8 3 width=1 font=\"helvetica 14 normal roman\" select=1 highlite=1 dash=0 fixed=0 edit=1 move=1 delete=1 include=1 source=1 \\n')\n",
    "            f.write('fk5 \\n')\n",
    "            for obj in reg:\n",
    "                ra = str(obj[1])\n",
    "                dec = str(obj[2])\n",
    "                pts = obj[3]\n",
    "                class_ = master_cat[master_cat.ID == obj[0]].reset_index().loc[0].CLASS\n",
    "                f.write(f'circle({ra},{dec},{radius}) # text={{{obj[0]}, {len(pts)} pts, class {class_}}} \\n')\n",
    "                \n",
    "                for p in pts[::2]:\n",
    "                    f.write(f'point{str(p)} # color=green \\n')"
   ]
  },
  {
   "cell_type": "markdown",
   "id": "2c1c7406",
   "metadata": {},
   "source": [
    "\n",
    "## Make all regions"
   ]
  },
  {
   "cell_type": "markdown",
   "id": "1e000395",
   "metadata": {},
   "source": [
    "Make one region file for field 43"
   ]
  },
  {
   "cell_type": "code",
   "execution_count": null,
   "id": "91ae79f5",
   "metadata": {},
   "outputs": [],
   "source": [
    "## create DS9 regions to try and identify RBC objects\n",
    "radius = '21.6\"'\n",
    "\n",
    "\n",
    "with open('./ds9_regions/43.reg', 'w') as f:\n",
    "    f.write('global color=red dashlist=8 3 width=1 font=\"helvetica 14 normal roman\" select=1 highlite=1 dash=0 fixed=0 edit=1 move=1 delete=1 include=1 source=1 \\n')\n",
    "    f.write('fk5 \\n')\n",
    "    for o in in_field:\n",
    "        ra = str(o.RADEG)\n",
    "        dec = str(o.DECDEG)\n",
    "        f.write('circle('+ra+','+dec+','+radius+') # text={hm33d} \\n')\n",
    "    for o in obj_del.index:\n",
    "        \n",
    "        ra = str(CAT[43][o]['RA'])\n",
    "        dec = str(CAT[43][o]['Dec'])\n",
    "        f.write('point('+ra+','+dec+') # color=green \\n')"
   ]
  },
  {
   "cell_type": "code",
   "execution_count": null,
   "id": "47fe8b63",
   "metadata": {},
   "outputs": [],
   "source": []
  },
  {
   "cell_type": "code",
   "execution_count": null,
   "id": "6a4d85b2",
   "metadata": {},
   "outputs": [],
   "source": []
  },
  {
   "cell_type": "code",
   "execution_count": null,
   "id": "c2dc70d2",
   "metadata": {},
   "outputs": [],
   "source": [
    "for f in cat_files:\n",
    "    print(f'\\n{f}')\n",
    "    CAT = pickle.load(open(f'./pickle/{f}','rb'))\n",
    "    \n",
    "    for c in CAT:\n",
    "        print(f'Field {c}')\n",
    "        idx,d2d = match_objs(c)\n",
    "        objs = set(idx)\n",
    "        d2d = d2d.degree\n",
    "        \n",
    "        d2d_idx_tuples = [(d2d[i],idx[i]) for i in range(len(d2d))]\n",
    "        \n",
    "        d2d_idx_df = pd.DataFrame(d2d_idx_tuples, columns=['d2d','idx'])\n",
    "        \n",
    "        # get the list of all obj from master_cat which are in the field CAT[c]\n",
    "        in_field = find_objs_in_field(c,objs)\n",
    "        delta = 0.006 # the size of the region in which to determine crowding ~22 arc\n",
    "        matches[c] = find_closest_match(c, in_field, crowding_limit=100, delta=delta)\n",
    "print('Done!')"
   ]
  }
 ],
 "metadata": {
  "kernelspec": {
   "display_name": "Python 3 (ipykernel)",
   "language": "python",
   "name": "python3"
  },
  "language_info": {
   "codemirror_mode": {
    "name": "ipython",
    "version": 3
   },
   "file_extension": ".py",
   "mimetype": "text/x-python",
   "name": "python",
   "nbconvert_exporter": "python",
   "pygments_lexer": "ipython3",
   "version": "3.9.13"
  }
 },
 "nbformat": 4,
 "nbformat_minor": 5
}
