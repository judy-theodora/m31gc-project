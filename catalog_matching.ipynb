{
 "cells": [
  {
   "cell_type": "markdown",
   "id": "6124414e",
   "metadata": {},
   "source": [
    "# Catalog matching\n",
    "Here we match objects from the RBC to objects in the PAndAS catalogues. We iterate over the entire field.\n"
   ]
  },
  {
   "cell_type": "markdown",
   "id": "11d2f500",
   "metadata": {},
   "source": [
    "## Initial startup requirements"
   ]
  },
  {
   "cell_type": "code",
   "execution_count": 10,
   "id": "25a9b97a",
   "metadata": {},
   "outputs": [],
   "source": [
    "import matplotlib.pyplot as plt\n",
    "import pandas as pd\n",
    "import numpy as np\n",
    "import pickle\n",
    "import astropy.coordinates as coord\n",
    "import astropy.units as u\n",
    "from astropy.io import ascii"
   ]
  },
  {
   "cell_type": "code",
   "execution_count": 11,
   "id": "94d663ea",
   "metadata": {},
   "outputs": [],
   "source": [
    "# import CATs for testing, will use the entire field when ready\n",
    "CAT = pickle.load(open('./pickle/cat236_257.pk','rb'))"
   ]
  },
  {
   "cell_type": "code",
   "execution_count": 12,
   "id": "1234b1c5",
   "metadata": {},
   "outputs": [],
   "source": [
    "bounds = pickle.load(open('./pickle/bounds.pk','rb'))"
   ]
  },
  {
   "cell_type": "code",
   "execution_count": 13,
   "id": "ee812e7f",
   "metadata": {},
   "outputs": [],
   "source": [
    "master_cat = pd.read_csv('./catdata/master_catalog_jan_2023.csv') #2184 objects long"
   ]
  },
  {
   "cell_type": "code",
   "execution_count": 14,
   "id": "5d8cccf3",
   "metadata": {},
   "outputs": [],
   "source": [
    "cat_files = ['cat1_50.pk','cat51_100.pk','cat101_150.pk','cat151_200.pk','cat201_235.pk',\n",
    "             'cat236_257.pk','cat258_279.pk','cat280_320.pk','cat321_360.pk','cat361_406.pk']"
   ]
  },
  {
   "cell_type": "markdown",
   "id": "88554984",
   "metadata": {},
   "source": [
    "# Define Functions"
   ]
  },
  {
   "cell_type": "code",
   "execution_count": 15,
   "id": "34a17fd0",
   "metadata": {},
   "outputs": [],
   "source": [
    "# match objects in CAT[n] to the ones in master_cat\n",
    "# matches every object from CAT[n] so the resulting arrays are len(CAT[n]) long\n",
    "def match_objs(cat_no: int) -> (np.ndarray, np.ndarray):\n",
    "    d1 = CAT[cat_no]\n",
    "    ra_obs, dec_obs = d1['RA'], d1['Dec']\n",
    "    d2 = master_cat\n",
    "    ra_qry, dec_qry = d2['RADEG'], d2['DECDEG']\n",
    "\n",
    "    c1 = coord.SkyCoord(ra_obs, dec_obs, unit=(u.degree, u.degree))\n",
    "    c2 = coord.SkyCoord(ra_qry, dec_qry, unit=(u.degree, u.degree))\n",
    "    idx, d2d, _ = c1.match_to_catalog_sky(c2)\n",
    "    return idx,d2d #idx: the index of the object in RBC, d2d: distance to that object from CAT"
   ]
  },
  {
   "cell_type": "code",
   "execution_count": 16,
   "id": "96e93dd1",
   "metadata": {},
   "outputs": [],
   "source": [
    "# find a list of all objects from match_objs that are actually contained within a given field\n",
    "# as the returned objects of match_objs contains ones from master_cat which are outside of the given field\n",
    "#   __________\n",
    "#  |   *     |   * <-- remove points like this\n",
    "#  |      *  |\n",
    "#  |  *    * |\n",
    "#  |_____*___|\n",
    "#\n",
    "def find_objs_in_field(cat_no: int, objs: list) -> list:\n",
    "    in_field = []\n",
    "    for o in objs:\n",
    "        ra = master_cat.loc[o]['RADEG']\n",
    "        dec = master_cat.loc[o]['DECDEG']\n",
    "        x0,x1,y0,y1 = bounds[cat_no]\n",
    "        if ( ra<x0 and ra>x1 and dec>y0 and dec<y1 ):\n",
    "            in_field.append(master_cat.loc[o])\n",
    "    return in_field"
   ]
  },
  {
   "cell_type": "code",
   "execution_count": 17,
   "id": "836f1950",
   "metadata": {},
   "outputs": [],
   "source": [
    "# find the closest match(es) for each object in the master_list, that is in a given field\n",
    "def find_closest_match(cat_no: int, in_field: list, crowding_limit: int, delta: float) -> list:\n",
    "    ret = []\n",
    "    \n",
    "    for obj in in_field:\n",
    "        idx = obj.name #obj.name is the position/index of the object in master_cat\n",
    "        delta_filter = d2d_idx_df[d2d_idx_df['idx']==idx]['d2d'] < delta\n",
    "        obj_delta = d2d_idx_df[d2d_idx_df['idx']==idx][delta_filter] # returns list of objects within delta of the position from master_cat\n",
    "        if len(obj_delta) > crowding_limit:\n",
    "            continue\n",
    "        else:\n",
    "            closest_obj_idx = d2d_idx_df[d2d_idx_df['idx']==idx]['d2d'].idxmin() #find only the closest object\n",
    "            out = (closest_obj_idx,idx) # return index of object in CAT[n] and index in master_cat \n",
    "        ret.append(out)\n",
    "    return ret"
   ]
  },
  {
   "cell_type": "code",
   "execution_count": null,
   "id": "f431b149",
   "metadata": {},
   "outputs": [],
   "source": [
    "# find the closest match(es) for each object in the master_list, that is in a given field\n",
    "def find_closest_match(cat_no: int, in_field: list, crowding_limit: int, delta: float) -> list:\n",
    "    ret = []\n",
    "    \n",
    "    for obj in in_field:\n",
    "        idx = obj.name #obj.name is the position/index of the object in master_cat\n",
    "        delta_filter = d2d_idx_df[d2d_idx_df['idx']==idx]['d2d'] < delta\n",
    "        obj_delta = d2d_idx_df[d2d_idx_df['idx']==idx][delta_filter] # returns list of objects within delta of the position from master_cat\n",
    "        if len(obj_delta) > crowding_limit:\n",
    "            continue\n",
    "        else:\n",
    "            closest_obj_idx = d2d_idx_df[d2d_idx_df['idx']==idx]['d2d'].idxmin() #find only the closest object\n",
    "            out = (closest_obj_idx,idx) # return index of object in CAT[n] and index in master_cat \n",
    "        ret.append(out)\n",
    "    return ret"
   ]
  },
  {
   "cell_type": "markdown",
   "id": "90823fb5",
   "metadata": {},
   "source": [
    "# SKIP\n",
    "\n",
    "\n",
    "[Skip to the main loop](#1)  \n",
    "[Skip to the results](#2)"
   ]
  },
  {
   "cell_type": "markdown",
   "id": "8419e886",
   "metadata": {},
   "source": [
    "## Set Field Bounds & Save"
   ]
  },
  {
   "cell_type": "code",
   "execution_count": null,
   "id": "fc32f049",
   "metadata": {},
   "outputs": [],
   "source": [
    "# define the bounds of each field\n",
    "# (x0,y0) <-> (x1,y1) is the bounding box of the field\n",
    "# note that since RA *decreases* in the easterly direction, we take x1 to be the minimum value of RA\n",
    "bounds = {}\n",
    "\n",
    "def find_bounds():\n",
    "    for c in CAT:\n",
    "        #lower left corner\n",
    "        x0 = max(CAT[c]['RA'])\n",
    "        y0 = min(CAT[c]['Dec'])\n",
    "        #upper right corner\n",
    "        x1 = min(CAT[c]['RA'])\n",
    "        y1 = max(CAT[c]['Dec'])\n",
    "        bounds[c] = (x0,x1,y0,y1)"
   ]
  },
  {
   "cell_type": "code",
   "execution_count": null,
   "id": "420599dc",
   "metadata": {},
   "outputs": [],
   "source": [
    "for f_ in cat_files:\n",
    "    print(f_)\n",
    "    CAT = pickle.load(open(f'./pickle/{f_}','rb'))\n",
    "    find_bounds()\n",
    "    del CAT\n",
    "\n",
    "with open('./pickle/bounds.pk','wb') as f:\n",
    "    pickle.dump(bounds,f)\n",
    "print('done')"
   ]
  },
  {
   "cell_type": "markdown",
   "id": "d612cd3d",
   "metadata": {},
   "source": [
    "## Test for specific field\n",
    "[(Skip)](#1)"
   ]
  },
  {
   "cell_type": "code",
   "execution_count": 18,
   "id": "024eba34",
   "metadata": {},
   "outputs": [],
   "source": [
    "def load_cat(field):\n",
    "    if field <= 50: to_load = cat_files[0]\n",
    "    elif field <= 100: to_load = cat_files[1]\n",
    "    elif field <= 150: to_load = cat_files[2]\n",
    "    elif field <= 200: to_load = cat_files[3]\n",
    "    elif field <= 235: to_load = cat_files[4]\n",
    "    elif field <= 257: to_load = cat_files[5]\n",
    "    elif field <= 279: to_load = cat_files[6]\n",
    "    elif field <= 320: to_load = cat_files[7]\n",
    "    elif field <= 360: to_load = cat_files[8]\n",
    "    elif field <= 406: to_load = cat_files[9]\n",
    "    print(f'Loading {to_load} ...')\n",
    "    catalogue = pickle.load(open(f'./pickle/{to_load}','rb'))\n",
    "    \n",
    "    return catalogue"
   ]
  },
  {
   "cell_type": "code",
   "execution_count": 19,
   "id": "43fc8edf",
   "metadata": {},
   "outputs": [
    {
     "name": "stdout",
     "output_type": "stream",
     "text": [
      "Loading cat236_257.pk ...\n"
     ]
    }
   ],
   "source": [
    "field = 248\n",
    "CAT = load_cat(field)\n",
    "# get indexes and distances for the field\n",
    "idx, d2d = match_objs(field)\n",
    "\n",
    "# convert to degrees\n",
    "d2d = d2d.degree\n",
    "\n",
    "# zip both lists into a single list of tuples\n",
    "d2d_idx_tuples = [(d2d[i],idx[i]) for i in range(len(d2d))]\n",
    "\n",
    "# arrange into a pd.DF\n",
    "d2d_idx_df = pd.DataFrame(d2d_idx_tuples, columns=['d2d','idx'])\n",
    "\n",
    "# create a list of individual objects present in the field\n",
    "objs=set(idx)\n",
    "\n",
    "# get all objects which are actually within the field\n",
    "in_field = find_objs_in_field(field,objs)\n",
    "\n",
    "# Work out effective values of delta:\n",
    "# find the shortest distances for each master_cat object\n",
    "min_distances = []\n",
    "for obj in in_field:\n",
    "    min_distances.append(d2d_idx_df[d2d_idx_df['idx']==obj.name].min()['d2d'])"
   ]
  },
  {
   "cell_type": "code",
   "execution_count": 26,
   "id": "f189e78c",
   "metadata": {
    "scrolled": true
   },
   "outputs": [
    {
     "data": {
      "text/plain": [
       "ID                G314\n",
       "RADEG        11.526708\n",
       "DECDEG       41.347317\n",
       "CLASS              6.0\n",
       "DATATABLE     m31rbcV5\n",
       "Name: 2057, dtype: object"
      ]
     },
     "execution_count": 26,
     "metadata": {},
     "output_type": "execute_result"
    }
   ],
   "source": [
    "test_obj_id = in_field[0].name\n",
    "in_field[0]"
   ]
  },
  {
   "cell_type": "code",
   "execution_count": 51,
   "id": "3c5aed8e",
   "metadata": {},
   "outputs": [],
   "source": [
    "# create a filter for objects in CAT which are closer than delta to their corresponding master_cat object\n",
    "filter1 = d2d_idx_df[d2d_idx_df['idx']==test_obj_id]['d2d'] < 0.006 # what value of delta???????? how much RA/Dec dist is allowed\n",
    "\n",
    "# apply the filter\n",
    "obj_del = d2d_idx_df[d2d_idx_df['idx']==test_obj_id][filter1]"
   ]
  },
  {
   "cell_type": "markdown",
   "id": "1c0983bc",
   "metadata": {},
   "source": [
    "## Plot objects around master_cat[test_obj_id]"
   ]
  },
  {
   "cell_type": "code",
   "execution_count": 53,
   "id": "69aff6db",
   "metadata": {},
   "outputs": [
    {
     "data": {
      "text/plain": [
       "ID                       NB57\n",
       "RADEG                10.65075\n",
       "DECDEG              41.220578\n",
       "CLASS                     9.0\n",
       "DATATABLE    johnson12_table8\n",
       "Name: 1050, dtype: object"
      ]
     },
     "execution_count": 53,
     "metadata": {},
     "output_type": "execute_result"
    }
   ],
   "source": [
    "test_object = master_cat.loc[test_obj_id]\n",
    "test_object"
   ]
  },
  {
   "cell_type": "code",
   "execution_count": 54,
   "id": "c74b1ca5",
   "metadata": {},
   "outputs": [],
   "source": [
    "points_ra = [CAT[field][n]['RA'] for n in obj_del.index]"
   ]
  },
  {
   "cell_type": "code",
   "execution_count": 55,
   "id": "f42aefb3",
   "metadata": {},
   "outputs": [],
   "source": [
    "points_dec = [CAT[field][n]['Dec'] for n in obj_del.index]"
   ]
  },
  {
   "cell_type": "code",
   "execution_count": 56,
   "id": "bc7bb943",
   "metadata": {
    "scrolled": false
   },
   "outputs": [
    {
     "data": {
      "image/png": "[encoded data removed]",
      "text/plain": [
       "<Figure size 640x480 with 1 Axes>"
      ]
     },
     "metadata": {},
     "output_type": "display_data"
    }
   ],
   "source": [
    "plt.figure(dpi=100)\n",
    "plt.scatter(test_object.RADEG, test_object.DECDEG, marker=\"*\", c='red')\n",
    "plt.scatter(points_ra,points_dec, s=5)\n",
    "\n",
    "plt.gca().invert_xaxis()\n",
    "#plt.savefig('hm33-d.png', transparent=True)"
   ]
  },
  {
   "cell_type": "markdown",
   "id": "40469eed",
   "metadata": {},
   "source": [
    "## Gather values to create DS9 Regions"
   ]
  },
  {
   "cell_type": "code",
   "execution_count": null,
   "id": "b26442b2",
   "metadata": {},
   "outputs": [],
   "source": [
    "regions = {}"
   ]
  },
  {
   "cell_type": "code",
   "execution_count": null,
   "id": "2cd714de",
   "metadata": {
    "scrolled": true
   },
   "outputs": [],
   "source": [
    "for cat_f in cat_files:\n",
    "    print(f'\\n{cat_f}')\n",
    "    CAT = pickle.load(open(f'./pickle/{cat_f}','rb'))\n",
    "    regions = {} # start with a fresh dictionary\n",
    "    \n",
    "    for c in CAT:\n",
    "        #if c!=382: continue\n",
    "        \n",
    "        #print(f'Field {c}')\n",
    "        regions[c] = []\n",
    "        \n",
    "        idx,d2d = match_objs(c)\n",
    "        objs = set(idx)\n",
    "        d2d = d2d.degree\n",
    "        \n",
    "        d2d_idx_tuples = [(d2d[i],idx[i]) for i in range(len(d2d))]\n",
    "        d2d_idx_df = pd.DataFrame(d2d_idx_tuples, columns=['d2d','idx'])\n",
    "        \n",
    "        # get the list of all obj from master_cat which are in the field CAT[c]\n",
    "        in_field = find_objs_in_field(c,objs)\n",
    "        #print(in_field)\n",
    "        #input()\n",
    "        for obj in in_field:\n",
    "            obj_ID = obj.ID # extract known object values\n",
    "            print(f'{obj_ID}...')\n",
    "            obj_RA = obj.RADEG\n",
    "            obj_DEC = obj.DECDEG\n",
    "            \n",
    "            pts_list = []\n",
    "            # create a filter for objects in CAT which are closer than delta to their corresponding master_cat object\n",
    "            filter1 = d2d_idx_df[d2d_idx_df['idx']==obj.name]['d2d'] < 0.006\n",
    "            # apply the filter\n",
    "            obj_del = d2d_idx_df[d2d_idx_df['idx']==obj.name][filter1]\n",
    "\n",
    "            for i in obj_del.index: # iterate through indexes of each nearby point, add to list\n",
    "                cat_RA = CAT[c][i]['RA']\n",
    "                cat_DEC = CAT[c][i]['Dec']\n",
    "                pts_list.append( (cat_RA,cat_DEC) )\n",
    "            \n",
    "            # add the data for the object from master_cat\n",
    "            regions[c].append( (obj_ID,obj_RA,obj_DEC,pts_list) )\n",
    "    print('Writing...\\n')\n",
    "    # dump data for the current CAT range\n",
    "    with open(f'./pickle/region_data/{cat_f[:-3]}_region_data.pk','wb') as f_:\n",
    "        pickle.dump(regions,f_)\n",
    "        \n",
    "print('Done!')"
   ]
  },
  {
   "cell_type": "markdown",
   "id": "df740a51",
   "metadata": {},
   "source": [
    "<a id=\"1\"></a>\n",
    "# Main Loop\n"
   ]
  },
  {
   "cell_type": "code",
   "execution_count": null,
   "id": "4300d88a",
   "metadata": {},
   "outputs": [],
   "source": [
    "matches100 = pickle.load(open('./pickle/matches_delta006_crowding100.pk','rb'))"
   ]
  },
  {
   "cell_type": "code",
   "execution_count": 64,
   "id": "2ce9478a",
   "metadata": {},
   "outputs": [],
   "source": [
    "cat_files = ['cat1_50.pk','cat51_100.pk','cat101_150.pk','cat151_200.pk','cat201_235.pk',\n",
    "             'cat236_257.pk','cat258_279.pk','cat280_320.pk','cat321_360.pk','cat361_406.pk']"
   ]
  },
  {
   "cell_type": "code",
   "execution_count": 65,
   "id": "724ed5a7",
   "metadata": {},
   "outputs": [],
   "source": [
    "matches = {}"
   ]
  },
  {
   "cell_type": "code",
   "execution_count": null,
   "id": "a653ba8b",
   "metadata": {
    "scrolled": true
   },
   "outputs": [],
   "source": [
    "for f in cat_files:\n",
    "    print(f'\\n{f}')\n",
    "    CAT = pickle.load(open(f'./pickle/{f}','rb'))\n",
    "    \n",
    "    for c in CAT:\n",
    "        print(f'Field {c}')\n",
    "        idx,d2d = match_objs(c)\n",
    "        objs = set(idx)\n",
    "        d2d = d2d.degree\n",
    "        \n",
    "        d2d_idx_tuples = [(d2d[i],idx[i]) for i in range(len(d2d))]\n",
    "        \n",
    "        d2d_idx_df = pd.DataFrame(d2d_idx_tuples, columns=['d2d','idx'])\n",
    "        \n",
    "        # get the list of all obj from master_cat which are in the field CAT[c]\n",
    "        in_field = find_objs_in_field(c,objs)\n",
    "        delta = 0.006 # the size of the region in which to determine crowding ~21.6 arcsec\n",
    "        matches[c] = find_closest_match(c, in_field, crowding_limit=250, delta=delta)\n",
    "        ## add the length of the object list so easy reduction in dataset !!!!!!\n",
    "        print(in_field)\n",
    "print('Done!')"
   ]
  },
  {
   "cell_type": "code",
   "execution_count": null,
   "id": "95737630",
   "metadata": {},
   "outputs": [],
   "source": [
    "# remove crowded objects and empty fields\n",
    "empty_fields = []\n",
    "for c in range(1,407):\n",
    "    if matches[c] == []:\n",
    "        empty_fields.append(c)\n",
    "        matches.pop(c,None)"
   ]
  },
  {
   "cell_type": "code",
   "execution_count": null,
   "id": "e7454fbb",
   "metadata": {},
   "outputs": [],
   "source": [
    "with open('./pickle/matches_delta006_crowding250.pk','wb') as f:\n",
    "    pickle.dump(matches,f)"
   ]
  },
  {
   "cell_type": "code",
   "execution_count": null,
   "id": "bfb38a86",
   "metadata": {},
   "outputs": [],
   "source": [
    "with open('./pickle/emptyfields_delta006_crowding250.pk','wb') as f:\n",
    "    pickle.dump(empty_fields,f)"
   ]
  },
  {
   "cell_type": "markdown",
   "id": "8d25ff27",
   "metadata": {},
   "source": [
    "<a id=\"2\"></a>\n",
    "# Results"
   ]
  }
 ],
 "metadata": {
  "kernelspec": {
   "display_name": "Python 3 (ipykernel)",
   "language": "python",
   "name": "python3"
  },
  "language_info": {
   "codemirror_mode": {
    "name": "ipython",
    "version": 3
   },
   "file_extension": ".py",
   "mimetype": "text/x-python",
   "name": "python",
   "nbconvert_exporter": "python",
   "pygments_lexer": "ipython3",
   "version": "3.9.13"
  }
 },
 "nbformat": 4,
 "nbformat_minor": 5
}
