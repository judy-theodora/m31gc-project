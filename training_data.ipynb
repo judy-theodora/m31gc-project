{
 "cells": [
  {
   "cell_type": "code",
   "execution_count": 9,
   "id": "13c0ce62",
   "metadata": {},
   "outputs": [],
   "source": [
    "import matplotlib.pyplot as plt\n",
    "import pandas as pd\n",
    "import numpy as np\n",
    "import pickle\n",
    "import astropy.coordinates as coord\n",
    "import astropy.units as u\n",
    "from astropy.io import ascii\n"
   ]
  },
  {
   "cell_type": "code",
   "execution_count": 10,
   "id": "2bb1f627",
   "metadata": {},
   "outputs": [],
   "source": [
    "bounds = pickle.load(open('./pickle/bounds.pk','rb'))"
   ]
  },
  {
   "cell_type": "code",
   "execution_count": 11,
   "id": "9250ced1",
   "metadata": {},
   "outputs": [],
   "source": [
    "master_cat = pd.read_csv('./catdata/master_catalog_jan_2023.csv')"
   ]
  },
  {
   "cell_type": "code",
   "execution_count": 12,
   "id": "f1b631d4",
   "metadata": {},
   "outputs": [],
   "source": [
    "cat_files = ['cat1_50.pk','cat51_100.pk','cat101_150.pk','cat151_200.pk','cat201_235.pk',\n",
    "             'cat236_257.pk','cat258_279.pk','cat280_320.pk','cat321_360.pk','cat361_406.pk']"
   ]
  },
  {
   "cell_type": "code",
   "execution_count": 13,
   "id": "58d260ce",
   "metadata": {},
   "outputs": [],
   "source": [
    "object_matches = pickle.load(open('./pickle/matches_delta006_crowding300.pk','rb'))"
   ]
  },
  {
   "cell_type": "markdown",
   "id": "c80c58e8",
   "metadata": {},
   "source": [
    "\n"
   ]
  },
  {
   "cell_type": "code",
   "execution_count": 14,
   "id": "0bce00fe",
   "metadata": {},
   "outputs": [],
   "source": [
    "train = pickle.load(open('./pickle/training_data_d006_c300.pk','rb'))"
   ]
  },
  {
   "cell_type": "code",
   "execution_count": 15,
   "id": "b12bed75",
   "metadata": {},
   "outputs": [],
   "source": [
    "def load_cat(field): # change to match-case\n",
    "    if field <= 50: to_load = cat_files[0]\n",
    "    elif field <= 100: to_load = cat_files[1]\n",
    "    elif field <= 150: to_load = cat_files[2]\n",
    "    elif field <= 200: to_load = cat_files[3]\n",
    "    elif field <= 235: to_load = cat_files[4]\n",
    "    elif field <= 257: to_load = cat_files[5]\n",
    "    elif field <= 279: to_load = cat_files[6]\n",
    "    elif field <= 320: to_load = cat_files[7]\n",
    "    elif field <= 360: to_load = cat_files[8]\n",
    "    elif field <= 406: to_load = cat_files[9]\n",
    "    print(f'Loading {to_load} ...')\n",
    "    catalogue = pickle.load(open(f'./pickle/{to_load}','rb'))\n",
    "    \n",
    "    return catalogue"
   ]
  },
  {
   "cell_type": "markdown",
   "id": "742bb234",
   "metadata": {},
   "source": [
    "## Generate Training Data"
   ]
  },
  {
   "cell_type": "code",
   "execution_count": 16,
   "id": "e1167494",
   "metadata": {},
   "outputs": [],
   "source": [
    "def generate_training_data(matches):\n",
    "    cat = load_cat(1)\n",
    "    \n",
    "    columns = ['obj_id','class','i','g','di','dg','ra','dec','field','pdidx']\n",
    "    values = []\n",
    "    object_ids = []\n",
    "    \n",
    "    for field in matches: # iterate through each field ID\n",
    "        print(f'Working on {field}')\n",
    "        working_field = matches[field] # take the list of matches\n",
    "        if field not in cat: # load the correct catalogue\n",
    "            cat = load_cat(field)\n",
    "        for m in working_field: # iterate through each match and grab values from catalogues\n",
    "            obj_id = master_cat.loc[m[1]].ID\n",
    "            class_ = master_cat.loc[m[1]].CLASS #STR?\n",
    "            \n",
    "            if obj_id in object_ids: continue # if we've already added the object then skip\n",
    "            else: object_ids.append(obj_id)   # (due to duplicated)\n",
    "            \n",
    "            if class_ == 1: class_str = 'gc'\n",
    "            elif class_ == 4: class_str = 'galaxy'\n",
    "            elif class_ == 6: class_str = 'star'\n",
    "            else: continue # skip non-gc/gal/stars\n",
    "            \n",
    "            row = cat[field][m[0]]\n",
    "            ra = row['RA']\n",
    "            dec = row['Dec']\n",
    "            g = row['g']\n",
    "            i = row['i']\n",
    "            dg = row['dg']\n",
    "            di = row['di']\n",
    "            \n",
    "            values.append([obj_id,class_str,i,g,di,dg,ra,dec,field,m[0]])\n",
    "    \n",
    "    training_data_dict = dict(zip(columns,zip(*values)))\n",
    "    training_data_df = pd.DataFrame(training_data_dict)\n",
    "    return training_data_df"
   ]
  },
  {
   "cell_type": "code",
   "execution_count": null,
   "id": "e22bb9f9",
   "metadata": {
    "scrolled": true
   },
   "outputs": [],
   "source": [
    "training_data = generate_training_data(object_matches)"
   ]
  },
  {
   "cell_type": "code",
   "execution_count": null,
   "id": "c69024eb",
   "metadata": {},
   "outputs": [],
   "source": [
    "with open('./pickle/training_data_d006_c300.pk','wb') as f:\n",
    "    pickle.dump(training_data,f)"
   ]
  },
  {
   "cell_type": "markdown",
   "id": "652f0d37",
   "metadata": {},
   "source": [
    "### Analyse Matches"
   ]
  },
  {
   "cell_type": "code",
   "execution_count": null,
   "id": "cb30e224",
   "metadata": {},
   "outputs": [],
   "source": [
    "#subset_matches = {k: object_matches[k] for k in (5,11,13,14)}"
   ]
  },
  {
   "cell_type": "code",
   "execution_count": null,
   "id": "26604d5c",
   "metadata": {},
   "outputs": [],
   "source": [
    "set(training_data['class'])"
   ]
  },
  {
   "cell_type": "code",
   "execution_count": null,
   "id": "55a5f729",
   "metadata": {},
   "outputs": [],
   "source": [
    "a = [ [1,10], [2,20], [3,30] ]\n",
    "c = ['dig','ten']"
   ]
  },
  {
   "cell_type": "code",
   "execution_count": null,
   "id": "8cd0fa64",
   "metadata": {},
   "outputs": [],
   "source": [
    "d = dict(zip(c,a))"
   ]
  },
  {
   "cell_type": "code",
   "execution_count": null,
   "id": "04b40d23",
   "metadata": {},
   "outputs": [],
   "source": [
    "dict(zip(c,zip(*a)))"
   ]
  },
  {
   "cell_type": "code",
   "execution_count": null,
   "id": "c695f6ae",
   "metadata": {},
   "outputs": [],
   "source": []
  }
 ],
 "metadata": {
  "kernelspec": {
   "display_name": "Python 3 (ipykernel)",
   "language": "python",
   "name": "python3"
  },
  "language_info": {
   "codemirror_mode": {
    "name": "ipython",
    "version": 3
   },
   "file_extension": ".py",
   "mimetype": "text/x-python",
   "name": "python",
   "nbconvert_exporter": "python",
   "pygments_lexer": "ipython3",
   "version": "3.9.13"
  }
 },
 "nbformat": 4,
 "nbformat_minor": 5
}
